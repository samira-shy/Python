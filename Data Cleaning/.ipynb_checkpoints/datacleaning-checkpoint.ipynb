{
 "cells": [
  {
   "cell_type": "code",
   "execution_count": 2,
   "id": "cd1c4cc8-4e85-43ca-87d8-7a6725127a97",
   "metadata": {},
   "outputs": [],
   "source": [
    "import pandas as pd\n",
    "import numpy as np"
   ]
  },
  {
   "cell_type": "code",
   "execution_count": 8,
   "id": "0d35e61d-a35e-464c-bebc-9df2cfe9671e",
   "metadata": {},
   "outputs": [],
   "source": [
    "df = pd.read_csv('cart.csv', parse_dates=['date'])"
   ]
  },
  {
   "cell_type": "code",
   "execution_count": 10,
   "id": "0eafaea0-6359-48df-8cad-6819aa718144",
   "metadata": {},
   "outputs": [
    {
     "data": {
      "text/html": [
       "<div>\n",
       "<style scoped>\n",
       "    .dataframe tbody tr th:only-of-type {\n",
       "        vertical-align: middle;\n",
       "    }\n",
       "\n",
       "    .dataframe tbody tr th {\n",
       "        vertical-align: top;\n",
       "    }\n",
       "\n",
       "    .dataframe thead th {\n",
       "        text-align: right;\n",
       "    }\n",
       "</style>\n",
       "<table border=\"1\" class=\"dataframe\">\n",
       "  <thead>\n",
       "    <tr style=\"text-align: right;\">\n",
       "      <th></th>\n",
       "      <th>date</th>\n",
       "      <th>name</th>\n",
       "      <th>amount</th>\n",
       "      <th>price</th>\n",
       "    </tr>\n",
       "  </thead>\n",
       "  <tbody>\n",
       "    <tr>\n",
       "      <th>0</th>\n",
       "      <td>2021-03-01</td>\n",
       "      <td>carrot</td>\n",
       "      <td>7.0</td>\n",
       "      <td>5.73</td>\n",
       "    </tr>\n",
       "    <tr>\n",
       "      <th>1</th>\n",
       "      <td>2021-03-01</td>\n",
       "      <td>egg</td>\n",
       "      <td>12.0</td>\n",
       "      <td>1.70</td>\n",
       "    </tr>\n",
       "    <tr>\n",
       "      <th>2</th>\n",
       "      <td>2021-03-01</td>\n",
       "      <td>milk</td>\n",
       "      <td>NaN</td>\n",
       "      <td>3.57</td>\n",
       "    </tr>\n",
       "    <tr>\n",
       "      <th>3</th>\n",
       "      <td>2021-03-01</td>\n",
       "      <td>potato</td>\n",
       "      <td>2.0</td>\n",
       "      <td>NaN</td>\n",
       "    </tr>\n",
       "    <tr>\n",
       "      <th>4</th>\n",
       "      <td>NaT</td>\n",
       "      <td>tomato</td>\n",
       "      <td>6.0</td>\n",
       "      <td>1.52</td>\n",
       "    </tr>\n",
       "    <tr>\n",
       "      <th>5</th>\n",
       "      <td>2021-03-02</td>\n",
       "      <td>potato</td>\n",
       "      <td>3.0</td>\n",
       "      <td>2.17</td>\n",
       "    </tr>\n",
       "    <tr>\n",
       "      <th>6</th>\n",
       "      <td>2021-03-03</td>\n",
       "      <td>NaN</td>\n",
       "      <td>5.0</td>\n",
       "      <td>3.68</td>\n",
       "    </tr>\n",
       "  </tbody>\n",
       "</table>\n",
       "</div>"
      ],
      "text/plain": [
       "        date    name  amount  price\n",
       "0 2021-03-01  carrot     7.0   5.73\n",
       "1 2021-03-01     egg    12.0   1.70\n",
       "2 2021-03-01    milk     NaN   3.57\n",
       "3 2021-03-01  potato     2.0    NaN\n",
       "4        NaT  tomato     6.0   1.52\n",
       "5 2021-03-02  potato     3.0   2.17\n",
       "6 2021-03-03     NaN     5.0   3.68"
      ]
     },
     "execution_count": 10,
     "metadata": {},
     "output_type": "execute_result"
    }
   ],
   "source": [
    "df"
   ]
  },
  {
   "cell_type": "code",
   "execution_count": 12,
   "id": "f71633b2-5b2d-4634-8329-992be70b408f",
   "metadata": {},
   "outputs": [
    {
     "data": {
      "text/plain": [
       "0       7\n",
       "1      12\n",
       "2    <NA>\n",
       "3       2\n",
       "4       6\n",
       "5       3\n",
       "6       5\n",
       "Name: amount, dtype: Int32"
      ]
     },
     "execution_count": 12,
     "metadata": {},
     "output_type": "execute_result"
    }
   ],
   "source": [
    "df['amount'].astype('Int32')"
   ]
  },
  {
   "cell_type": "code",
   "execution_count": 14,
   "id": "9a67b089-d03d-4cb9-96da-6dd1e0d2de78",
   "metadata": {},
   "outputs": [
    {
     "data": {
      "text/html": [
       "<div>\n",
       "<style scoped>\n",
       "    .dataframe tbody tr th:only-of-type {\n",
       "        vertical-align: middle;\n",
       "    }\n",
       "\n",
       "    .dataframe tbody tr th {\n",
       "        vertical-align: top;\n",
       "    }\n",
       "\n",
       "    .dataframe thead th {\n",
       "        text-align: right;\n",
       "    }\n",
       "</style>\n",
       "<table border=\"1\" class=\"dataframe\">\n",
       "  <thead>\n",
       "    <tr style=\"text-align: right;\">\n",
       "      <th></th>\n",
       "      <th>date</th>\n",
       "      <th>name</th>\n",
       "      <th>amount</th>\n",
       "      <th>price</th>\n",
       "    </tr>\n",
       "  </thead>\n",
       "  <tbody>\n",
       "    <tr>\n",
       "      <th>0</th>\n",
       "      <td>False</td>\n",
       "      <td>False</td>\n",
       "      <td>False</td>\n",
       "      <td>False</td>\n",
       "    </tr>\n",
       "    <tr>\n",
       "      <th>1</th>\n",
       "      <td>False</td>\n",
       "      <td>False</td>\n",
       "      <td>False</td>\n",
       "      <td>False</td>\n",
       "    </tr>\n",
       "    <tr>\n",
       "      <th>2</th>\n",
       "      <td>False</td>\n",
       "      <td>False</td>\n",
       "      <td>True</td>\n",
       "      <td>False</td>\n",
       "    </tr>\n",
       "    <tr>\n",
       "      <th>3</th>\n",
       "      <td>False</td>\n",
       "      <td>False</td>\n",
       "      <td>False</td>\n",
       "      <td>True</td>\n",
       "    </tr>\n",
       "    <tr>\n",
       "      <th>4</th>\n",
       "      <td>True</td>\n",
       "      <td>False</td>\n",
       "      <td>False</td>\n",
       "      <td>False</td>\n",
       "    </tr>\n",
       "    <tr>\n",
       "      <th>5</th>\n",
       "      <td>False</td>\n",
       "      <td>False</td>\n",
       "      <td>False</td>\n",
       "      <td>False</td>\n",
       "    </tr>\n",
       "    <tr>\n",
       "      <th>6</th>\n",
       "      <td>False</td>\n",
       "      <td>True</td>\n",
       "      <td>False</td>\n",
       "      <td>False</td>\n",
       "    </tr>\n",
       "  </tbody>\n",
       "</table>\n",
       "</div>"
      ],
      "text/plain": [
       "    date   name  amount  price\n",
       "0  False  False   False  False\n",
       "1  False  False   False  False\n",
       "2  False  False    True  False\n",
       "3  False  False   False   True\n",
       "4   True  False   False  False\n",
       "5  False  False   False  False\n",
       "6  False   True   False  False"
      ]
     },
     "execution_count": 14,
     "metadata": {},
     "output_type": "execute_result"
    }
   ],
   "source": [
    "df.isnull()"
   ]
  },
  {
   "cell_type": "code",
   "execution_count": 18,
   "id": "2ef7c805-3f01-4d53-bb92-9c9f2d95fa90",
   "metadata": {},
   "outputs": [
    {
     "data": {
      "text/plain": [
       "date      True\n",
       "name      True\n",
       "amount    True\n",
       "price     True\n",
       "dtype: bool"
      ]
     },
     "execution_count": 18,
     "metadata": {},
     "output_type": "execute_result"
    }
   ],
   "source": [
    "df.isnull().any(axis=0)"
   ]
  },
  {
   "cell_type": "code",
   "execution_count": 20,
   "id": "68c19e04-3ac3-4ac0-aebb-d4084ecd8db6",
   "metadata": {},
   "outputs": [
    {
     "data": {
      "text/plain": [
       "0    False\n",
       "1    False\n",
       "2     True\n",
       "3     True\n",
       "4     True\n",
       "5    False\n",
       "6     True\n",
       "dtype: bool"
      ]
     },
     "execution_count": 20,
     "metadata": {},
     "output_type": "execute_result"
    }
   ],
   "source": [
    "df.isnull().any(axis=1)"
   ]
  },
  {
   "cell_type": "code",
   "execution_count": 24,
   "id": "cf972f13-dc26-4df4-b395-7bd70a2a59e1",
   "metadata": {},
   "outputs": [],
   "source": [
    "df = pd.read_csv('metrics.csv', parse_dates=['time'])"
   ]
  },
  {
   "cell_type": "code",
   "execution_count": 28,
   "id": "42146b90-83f9-47f2-95da-d04489ddac45",
   "metadata": {},
   "outputs": [
    {
     "data": {
      "text/html": [
       "<div>\n",
       "<style scoped>\n",
       "    .dataframe tbody tr th:only-of-type {\n",
       "        vertical-align: middle;\n",
       "    }\n",
       "\n",
       "    .dataframe tbody tr th {\n",
       "        vertical-align: top;\n",
       "    }\n",
       "\n",
       "    .dataframe thead th {\n",
       "        text-align: right;\n",
       "    }\n",
       "</style>\n",
       "<table border=\"1\" class=\"dataframe\">\n",
       "  <thead>\n",
       "    <tr style=\"text-align: right;\">\n",
       "      <th></th>\n",
       "      <th>time</th>\n",
       "      <th>name</th>\n",
       "      <th>value</th>\n",
       "    </tr>\n",
       "  </thead>\n",
       "  <tbody>\n",
       "    <tr>\n",
       "      <th>79</th>\n",
       "      <td>2021-07-13 14:37:29.703</td>\n",
       "      <td>mem</td>\n",
       "      <td>2.275184e+08</td>\n",
       "    </tr>\n",
       "    <tr>\n",
       "      <th>14</th>\n",
       "      <td>2021-07-13 14:36:59.079</td>\n",
       "      <td>CPU</td>\n",
       "      <td>3.040000e+01</td>\n",
       "    </tr>\n",
       "    <tr>\n",
       "      <th>48</th>\n",
       "      <td>2021-07-13 14:37:15.348</td>\n",
       "      <td>cpu</td>\n",
       "      <td>2.863000e+01</td>\n",
       "    </tr>\n",
       "    <tr>\n",
       "      <th>87</th>\n",
       "      <td>2021-07-13 14:37:33.531</td>\n",
       "      <td>mem</td>\n",
       "      <td>2.274962e+08</td>\n",
       "    </tr>\n",
       "    <tr>\n",
       "      <th>15</th>\n",
       "      <td>2021-07-13 14:36:59.079</td>\n",
       "      <td>mem</td>\n",
       "      <td>2.275251e+08</td>\n",
       "    </tr>\n",
       "    <tr>\n",
       "      <th>21</th>\n",
       "      <td>2021-07-13 14:37:01.950</td>\n",
       "      <td>mem</td>\n",
       "      <td>2.275199e+08</td>\n",
       "    </tr>\n",
       "    <tr>\n",
       "      <th>88</th>\n",
       "      <td>2021-07-13 14:37:34.488</td>\n",
       "      <td>mem</td>\n",
       "      <td>2.275099e+08</td>\n",
       "    </tr>\n",
       "    <tr>\n",
       "      <th>40</th>\n",
       "      <td>2021-07-13 14:37:11.520</td>\n",
       "      <td>mem</td>\n",
       "      <td>2.275560e+08</td>\n",
       "    </tr>\n",
       "    <tr>\n",
       "      <th>82</th>\n",
       "      <td>2021-07-13 14:37:31.617</td>\n",
       "      <td>cpu</td>\n",
       "      <td>3.719000e+01</td>\n",
       "    </tr>\n",
       "    <tr>\n",
       "      <th>32</th>\n",
       "      <td>2021-07-13 14:37:07.692</td>\n",
       "      <td>mem</td>\n",
       "      <td>2.275167e+08</td>\n",
       "    </tr>\n",
       "  </tbody>\n",
       "</table>\n",
       "</div>"
      ],
      "text/plain": [
       "                      time name         value\n",
       "79 2021-07-13 14:37:29.703  mem  2.275184e+08\n",
       "14 2021-07-13 14:36:59.079  CPU  3.040000e+01\n",
       "48 2021-07-13 14:37:15.348  cpu  2.863000e+01\n",
       "87 2021-07-13 14:37:33.531  mem  2.274962e+08\n",
       "15 2021-07-13 14:36:59.079  mem  2.275251e+08\n",
       "21 2021-07-13 14:37:01.950  mem  2.275199e+08\n",
       "88 2021-07-13 14:37:34.488  mem  2.275099e+08\n",
       "40 2021-07-13 14:37:11.520  mem  2.275560e+08\n",
       "82 2021-07-13 14:37:31.617  cpu  3.719000e+01\n",
       "32 2021-07-13 14:37:07.692  mem  2.275167e+08"
      ]
     },
     "execution_count": 28,
     "metadata": {},
     "output_type": "execute_result"
    }
   ],
   "source": [
    "df.sample(10)"
   ]
  },
  {
   "cell_type": "code",
   "execution_count": 32,
   "id": "532e04b1-12c4-49e5-9cc2-84b8f09c3384",
   "metadata": {},
   "outputs": [
    {
     "data": {
      "text/html": [
       "<div>\n",
       "<style scoped>\n",
       "    .dataframe tbody tr th:only-of-type {\n",
       "        vertical-align: middle;\n",
       "    }\n",
       "\n",
       "    .dataframe tbody tr th {\n",
       "        vertical-align: top;\n",
       "    }\n",
       "\n",
       "    .dataframe thead tr th {\n",
       "        text-align: left;\n",
       "    }\n",
       "\n",
       "    .dataframe thead tr:last-of-type th {\n",
       "        text-align: right;\n",
       "    }\n",
       "</style>\n",
       "<table border=\"1\" class=\"dataframe\">\n",
       "  <thead>\n",
       "    <tr>\n",
       "      <th></th>\n",
       "      <th colspan=\"8\" halign=\"left\">time</th>\n",
       "      <th colspan=\"8\" halign=\"left\">value</th>\n",
       "    </tr>\n",
       "    <tr>\n",
       "      <th></th>\n",
       "      <th>count</th>\n",
       "      <th>mean</th>\n",
       "      <th>min</th>\n",
       "      <th>25%</th>\n",
       "      <th>50%</th>\n",
       "      <th>75%</th>\n",
       "      <th>max</th>\n",
       "      <th>std</th>\n",
       "      <th>count</th>\n",
       "      <th>mean</th>\n",
       "      <th>min</th>\n",
       "      <th>25%</th>\n",
       "      <th>50%</th>\n",
       "      <th>75%</th>\n",
       "      <th>max</th>\n",
       "      <th>std</th>\n",
       "    </tr>\n",
       "    <tr>\n",
       "      <th>name</th>\n",
       "      <th></th>\n",
       "      <th></th>\n",
       "      <th></th>\n",
       "      <th></th>\n",
       "      <th></th>\n",
       "      <th></th>\n",
       "      <th></th>\n",
       "      <th></th>\n",
       "      <th></th>\n",
       "      <th></th>\n",
       "      <th></th>\n",
       "      <th></th>\n",
       "      <th></th>\n",
       "      <th></th>\n",
       "      <th></th>\n",
       "      <th></th>\n",
       "    </tr>\n",
       "  </thead>\n",
       "  <tbody>\n",
       "    <tr>\n",
       "      <th>CPU</th>\n",
       "      <td>1</td>\n",
       "      <td>2021-07-13 14:36:59.079000064</td>\n",
       "      <td>2021-07-13 14:36:59.079000</td>\n",
       "      <td>2021-07-13 14:36:59.079000064</td>\n",
       "      <td>2021-07-13 14:36:59.079000064</td>\n",
       "      <td>2021-07-13 14:36:59.079000064</td>\n",
       "      <td>2021-07-13 14:36:59.079000</td>\n",
       "      <td>NaN</td>\n",
       "      <td>1.0</td>\n",
       "      <td>3.040000e+01</td>\n",
       "      <td>30.40</td>\n",
       "      <td>3.040000e+01</td>\n",
       "      <td>3.040000e+01</td>\n",
       "      <td>3.040000e+01</td>\n",
       "      <td>30.4</td>\n",
       "      <td>NaN</td>\n",
       "    </tr>\n",
       "    <tr>\n",
       "      <th>cpu</th>\n",
       "      <td>49</td>\n",
       "      <td>2021-07-13 14:37:16.168285696</td>\n",
       "      <td>2021-07-13 14:36:52.380000</td>\n",
       "      <td>2021-07-13 14:37:04.820999936</td>\n",
       "      <td>2021-07-13 14:37:16.304999936</td>\n",
       "      <td>2021-07-13 14:37:27.788999936</td>\n",
       "      <td>2021-07-13 14:37:39.273000</td>\n",
       "      <td>NaN</td>\n",
       "      <td>49.0</td>\n",
       "      <td>3.645633e+01</td>\n",
       "      <td>-32.14</td>\n",
       "      <td>2.956000e+01</td>\n",
       "      <td>3.157000e+01</td>\n",
       "      <td>3.507000e+01</td>\n",
       "      <td>300.9</td>\n",
       "      <td>3.977927e+01</td>\n",
       "    </tr>\n",
       "    <tr>\n",
       "      <th>mem</th>\n",
       "      <td>50</td>\n",
       "      <td>2021-07-13 14:37:15.826500096</td>\n",
       "      <td>2021-07-13 14:36:52.380000</td>\n",
       "      <td>2021-07-13 14:37:04.103249920</td>\n",
       "      <td>2021-07-13 14:37:15.826499840</td>\n",
       "      <td>2021-07-13 14:37:27.549750016</td>\n",
       "      <td>2021-07-13 14:37:39.273000</td>\n",
       "      <td>NaN</td>\n",
       "      <td>50.0</td>\n",
       "      <td>2.229711e+08</td>\n",
       "      <td>295.00</td>\n",
       "      <td>2.275070e+08</td>\n",
       "      <td>2.275188e+08</td>\n",
       "      <td>2.275342e+08</td>\n",
       "      <td>227556054.0</td>\n",
       "      <td>3.217637e+07</td>\n",
       "    </tr>\n",
       "  </tbody>\n",
       "</table>\n",
       "</div>"
      ],
      "text/plain": [
       "      time                                                             \\\n",
       "     count                           mean                         min   \n",
       "name                                                                    \n",
       "CPU      1  2021-07-13 14:36:59.079000064  2021-07-13 14:36:59.079000   \n",
       "cpu     49  2021-07-13 14:37:16.168285696  2021-07-13 14:36:52.380000   \n",
       "mem     50  2021-07-13 14:37:15.826500096  2021-07-13 14:36:52.380000   \n",
       "\n",
       "                                                                    \\\n",
       "                                25%                            50%   \n",
       "name                                                                 \n",
       "CPU   2021-07-13 14:36:59.079000064  2021-07-13 14:36:59.079000064   \n",
       "cpu   2021-07-13 14:37:04.820999936  2021-07-13 14:37:16.304999936   \n",
       "mem   2021-07-13 14:37:04.103249920  2021-07-13 14:37:15.826499840   \n",
       "\n",
       "                                                                     value  \\\n",
       "                                75%                         max  std count   \n",
       "name                                                                         \n",
       "CPU   2021-07-13 14:36:59.079000064  2021-07-13 14:36:59.079000  NaN   1.0   \n",
       "cpu   2021-07-13 14:37:27.788999936  2021-07-13 14:37:39.273000  NaN  49.0   \n",
       "mem   2021-07-13 14:37:27.549750016  2021-07-13 14:37:39.273000  NaN  50.0   \n",
       "\n",
       "                                                                      \\\n",
       "              mean     min           25%           50%           75%   \n",
       "name                                                                   \n",
       "CPU   3.040000e+01   30.40  3.040000e+01  3.040000e+01  3.040000e+01   \n",
       "cpu   3.645633e+01  -32.14  2.956000e+01  3.157000e+01  3.507000e+01   \n",
       "mem   2.229711e+08  295.00  2.275070e+08  2.275188e+08  2.275342e+08   \n",
       "\n",
       "                                 \n",
       "              max           std  \n",
       "name                             \n",
       "CPU          30.4           NaN  \n",
       "cpu         300.9  3.977927e+01  \n",
       "mem   227556054.0  3.217637e+07  "
      ]
     },
     "execution_count": 32,
     "metadata": {},
     "output_type": "execute_result"
    }
   ],
   "source": [
    "df.groupby('name').describe()"
   ]
  },
  {
   "cell_type": "code",
   "execution_count": 34,
   "id": "4c069328-b991-4f08-83fe-367fb66a1ffc",
   "metadata": {},
   "outputs": [
    {
     "data": {
      "text/plain": [
       "name\n",
       "mem    50\n",
       "cpu    49\n",
       "CPU     1\n",
       "Name: count, dtype: int64"
      ]
     },
     "execution_count": 34,
     "metadata": {},
     "output_type": "execute_result"
    }
   ],
   "source": [
    "df['name'].value_counts()"
   ]
  },
  {
   "cell_type": "code",
   "execution_count": 38,
   "id": "ca12ab21-b118-4263-ab1d-1f181ccfa446",
   "metadata": {},
   "outputs": [
    {
     "data": {
      "text/plain": [
       "array([<Axes: xlabel='time'>, <Axes: xlabel='time'>,\n",
       "       <Axes: xlabel='time'>], dtype=object)"
      ]
     },
     "execution_count": 38,
     "metadata": {},
     "output_type": "execute_result"
    },
    {
     "data": {
      "image/png": "[encoded data removed]",
      "text/plain": [
       "<Figure size 640x480 with 3 Axes>"
      ]
     },
     "metadata": {},
     "output_type": "display_data"
    }
   ],
   "source": [
    "# cpu is going below the zero which is going to be a problem\n",
    "df.pivot(index='time', columns='name').plot(subplots=True)\n"
   ]
  },
  {
   "cell_type": "code",
   "execution_count": 40,
   "id": "ca7f220c-e743-4cdc-a6fd-e75ee223f83c",
   "metadata": {},
   "outputs": [
    {
     "data": {
      "text/html": [
       "<div>\n",
       "<style scoped>\n",
       "    .dataframe tbody tr th:only-of-type {\n",
       "        vertical-align: middle;\n",
       "    }\n",
       "\n",
       "    .dataframe tbody tr th {\n",
       "        vertical-align: top;\n",
       "    }\n",
       "\n",
       "    .dataframe thead th {\n",
       "        text-align: right;\n",
       "    }\n",
       "</style>\n",
       "<table border=\"1\" class=\"dataframe\">\n",
       "  <thead>\n",
       "    <tr style=\"text-align: right;\">\n",
       "      <th></th>\n",
       "      <th>time</th>\n",
       "      <th>name</th>\n",
       "      <th>value</th>\n",
       "    </tr>\n",
       "  </thead>\n",
       "  <tbody>\n",
       "    <tr>\n",
       "      <th>3</th>\n",
       "      <td>2021-07-13 14:36:53.337</td>\n",
       "      <td>cpu</td>\n",
       "      <td>300.90</td>\n",
       "    </tr>\n",
       "    <tr>\n",
       "      <th>9</th>\n",
       "      <td>2021-07-13 14:36:56.208</td>\n",
       "      <td>cpu</td>\n",
       "      <td>-32.14</td>\n",
       "    </tr>\n",
       "  </tbody>\n",
       "</table>\n",
       "</div>"
      ],
      "text/plain": [
       "                     time name   value\n",
       "3 2021-07-13 14:36:53.337  cpu  300.90\n",
       "9 2021-07-13 14:36:56.208  cpu  -32.14"
      ]
     },
     "execution_count": 40,
     "metadata": {},
     "output_type": "execute_result"
    }
   ],
   "source": [
    "df.query('name == \"cpu\" & (value < 0 | value > 100)')"
   ]
  },
  {
   "cell_type": "markdown",
   "id": "fb9af2d3-778f-4d55-9922-73cc47307f5b",
   "metadata": {},
   "source": [
    "## utlier detection using z-score\n",
    "\n",
    "The z-score tells us how many standard deviations a data point is from the mean.\n",
    "\n",
    "A z-score of 0 means the value is at the mean.\n",
    "\n",
    "The standard score, or z-score, measures the distance of a data point from the mean in units of standard deviation, useful for identifying outliers in normally distributed data.\n",
    "\n",
    "Positive z-scores = above the mean\n",
    "\n",
    "Negative z-scores = below the mean\n",
    "$$ z = \\frac{x - \\text{mean}}{\\text{std}} $$\n",
    "\n",
    "In a normal distribution (bell curve), about:\n",
    "\n",
    "* 68% of data falls within ±1 standard deviation\n",
    "\n",
    "* 95% falls within ±2 standard deviations\n",
    "\n",
    "* 99.7% falls within ±3 standard deviations\n",
    "\n",
    "So, if a value’s z-score is greater than 2 or less than -2, it's in the outer 5% of the distribution — statistically unusual.\n",
    "\n",
    "ou can also use other thresholds:\n",
    "\n",
    "$$ >3$$ \n",
    "→ Very strict (only extreme outliers)\n",
    "\n",
    "$$> 1.5$$ → More lenient\n"
   ]
  },
  {
   "cell_type": "code",
   "execution_count": 45,
   "id": "fef8f25f-db81-4c87-a28b-f7a46dc8997b",
   "metadata": {},
   "outputs": [],
   "source": [
    "mem = df[df['name'] == 'mem']['value']\n",
    "\n",
    "# Calculates the z-score for each value in the mem Series.\n",
    "z_score = (mem - mem.mean())/mem.std()\n",
    "bad_mem = mem[z_score.abs() > 2]"
   ]
  },
  {
   "cell_type": "code",
   "execution_count": 47,
   "id": "212403d4-2d83-4ee1-83aa-e4101f6d0294",
   "metadata": {},
   "outputs": [
    {
     "data": {
      "text/html": [
       "<div>\n",
       "<style scoped>\n",
       "    .dataframe tbody tr th:only-of-type {\n",
       "        vertical-align: middle;\n",
       "    }\n",
       "\n",
       "    .dataframe tbody tr th {\n",
       "        vertical-align: top;\n",
       "    }\n",
       "\n",
       "    .dataframe thead th {\n",
       "        text-align: right;\n",
       "    }\n",
       "</style>\n",
       "<table border=\"1\" class=\"dataframe\">\n",
       "  <thead>\n",
       "    <tr style=\"text-align: right;\">\n",
       "      <th></th>\n",
       "      <th>time</th>\n",
       "      <th>name</th>\n",
       "      <th>value</th>\n",
       "    </tr>\n",
       "  </thead>\n",
       "  <tbody>\n",
       "    <tr>\n",
       "      <th>6</th>\n",
       "      <td>2021-07-13 14:36:55.251</td>\n",
       "      <td>mem</td>\n",
       "      <td>295.0</td>\n",
       "    </tr>\n",
       "  </tbody>\n",
       "</table>\n",
       "</div>"
      ],
      "text/plain": [
       "                     time name  value\n",
       "6 2021-07-13 14:36:55.251  mem  295.0"
      ]
     },
     "execution_count": 47,
     "metadata": {},
     "output_type": "execute_result"
    }
   ],
   "source": [
    "# bad_mem\n",
    "df.loc[bad_mem.index]"
   ]
  },
  {
   "cell_type": "code",
   "execution_count": 50,
   "id": "c99f5a13-7811-4ddc-bb5a-f0567cf7b3dd",
   "metadata": {},
   "outputs": [
    {
     "data": {
      "image/png": "[encoded data removed]",
      "text/plain": [
       "<Figure size 640x480 with 1 Axes>"
      ]
     },
     "metadata": {},
     "output_type": "display_data"
    }
   ],
   "source": [
    "import matplotlib.pyplot as plt\n",
    "\n",
    "plt.hist(mem, bins=30, alpha=0.7, label='All')\n",
    "plt.scatter(bad_mem, [0]*len(bad_mem), color='red', label='Outliers')\n",
    "plt.legend()\n",
    "plt.show()\n"
   ]
  },
  {
   "cell_type": "markdown",
   "id": "73ac45ec-a805-4f81-a6b9-087b962820e2",
   "metadata": {},
   "source": [
    "## Duplicated Values\n",
    "Duplicate data will make your calculations go wrong. Even worse, if you process the same transaction twice, you're going to lose a customer.\n"
   ]
  },
  {
   "cell_type": "code",
   "execution_count": 64,
   "id": "fcb207e9-4c72-495c-b2d1-fb84136fc3bc",
   "metadata": {},
   "outputs": [
    {
     "data": {
      "text/html": [
       "<div>\n",
       "<style scoped>\n",
       "    .dataframe tbody tr th:only-of-type {\n",
       "        vertical-align: middle;\n",
       "    }\n",
       "\n",
       "    .dataframe tbody tr th {\n",
       "        vertical-align: top;\n",
       "    }\n",
       "\n",
       "    .dataframe thead th {\n",
       "        text-align: right;\n",
       "    }\n",
       "</style>\n",
       "<table border=\"1\" class=\"dataframe\">\n",
       "  <thead>\n",
       "    <tr style=\"text-align: right;\">\n",
       "      <th></th>\n",
       "      <th>date</th>\n",
       "      <th>name</th>\n",
       "      <th>amount</th>\n",
       "      <th>price</th>\n",
       "    </tr>\n",
       "  </thead>\n",
       "  <tbody>\n",
       "    <tr>\n",
       "      <th>0</th>\n",
       "      <td>2021-03-01</td>\n",
       "      <td>carrot</td>\n",
       "      <td>7</td>\n",
       "      <td>5.73</td>\n",
       "    </tr>\n",
       "    <tr>\n",
       "      <th>1</th>\n",
       "      <td>2021-03-01</td>\n",
       "      <td>egg</td>\n",
       "      <td>12</td>\n",
       "      <td>1.70</td>\n",
       "    </tr>\n",
       "    <tr>\n",
       "      <th>2</th>\n",
       "      <td>2021-03-01</td>\n",
       "      <td>egg</td>\n",
       "      <td>12</td>\n",
       "      <td>1.20</td>\n",
       "    </tr>\n",
       "    <tr>\n",
       "      <th>3</th>\n",
       "      <td>2021-03-01</td>\n",
       "      <td>milk</td>\n",
       "      <td>1</td>\n",
       "      <td>3.57</td>\n",
       "    </tr>\n",
       "    <tr>\n",
       "      <th>4</th>\n",
       "      <td>2021-03-02</td>\n",
       "      <td>potato</td>\n",
       "      <td>3</td>\n",
       "      <td>2.17</td>\n",
       "    </tr>\n",
       "    <tr>\n",
       "      <th>5</th>\n",
       "      <td>2021-03-02</td>\n",
       "      <td>potato</td>\n",
       "      <td>3</td>\n",
       "      <td>2.17</td>\n",
       "    </tr>\n",
       "  </tbody>\n",
       "</table>\n",
       "</div>"
      ],
      "text/plain": [
       "        date    name  amount  price\n",
       "0 2021-03-01  carrot       7   5.73\n",
       "1 2021-03-01     egg      12   1.70\n",
       "2 2021-03-01     egg      12   1.20\n",
       "3 2021-03-01    milk       1   3.57\n",
       "4 2021-03-02  potato       3   2.17\n",
       "5 2021-03-02  potato       3   2.17"
      ]
     },
     "execution_count": 64,
     "metadata": {},
     "output_type": "execute_result"
    }
   ],
   "source": [
    "df = pd.read_csv('cart2.csv', parse_dates=['date'])\n",
    "df"
   ]
  },
  {
   "cell_type": "code",
   "execution_count": 66,
   "id": "9ce3ab9c-2d1e-4e30-bb89-b08ccab22d33",
   "metadata": {},
   "outputs": [
    {
     "data": {
      "text/plain": [
       "0    False\n",
       "1    False\n",
       "2    False\n",
       "3    False\n",
       "4    False\n",
       "5     True\n",
       "dtype: bool"
      ]
     },
     "execution_count": 66,
     "metadata": {},
     "output_type": "execute_result"
    }
   ],
   "source": [
    "df.duplicated()"
   ]
  },
  {
   "cell_type": "code",
   "execution_count": 68,
   "id": "4b90f495-4d29-4802-943e-40ca10af57ae",
   "metadata": {},
   "outputs": [
    {
     "data": {
      "text/plain": [
       "0    False\n",
       "1    False\n",
       "2     True\n",
       "3    False\n",
       "4    False\n",
       "5     True\n",
       "dtype: bool"
      ]
     },
     "execution_count": 68,
     "metadata": {},
     "output_type": "execute_result"
    }
   ],
   "source": [
    "df.duplicated(['date', 'name'])"
   ]
  },
  {
   "cell_type": "code",
   "execution_count": 72,
   "id": "d4356a5f-b37a-44f1-b7e8-2cbd7a61e783",
   "metadata": {},
   "outputs": [
    {
     "data": {
      "text/plain": [
       "date      datetime64[ns]\n",
       "name              object\n",
       "amount             int64\n",
       "price            float64\n",
       "dtype: object"
      ]
     },
     "execution_count": 72,
     "metadata": {},
     "output_type": "execute_result"
    }
   ],
   "source": [
    "df.dtypes"
   ]
  },
  {
   "cell_type": "markdown",
   "id": "0a25e2f9-6db3-41ab-8643-9a21e57fc427",
   "metadata": {},
   "source": [
    "## Bad Values\n",
    "Using Schema\n",
    "### What is Pandera?\n",
    "pandera is a Python library that lets you define a schema for your DataFrame and validate whether the data matches your expectations — like types, ranges, null values, and more. It's super useful for data quality checks, especially in data pipelines and machine learning workflows.\n",
    "\n",
    "**Supported Data Types** \n",
    ">pa.String\n",
    "\n",
    "> pa.Int, pa.Int32, pa.Int64\n",
    "\n",
    "> pa.Float, pa.Float32, pa.Float64\n",
    "\n",
    "> pa.Bool\n",
    "\n",
    ">pa.DateTime\n",
    "\n",
    "Pandera lets you define what “good data” looks like. Then, you automatically validate your DataFrame to detect issues like:\n",
    "\n",
    "* Wrong data types (e.g., string instead of float)\n",
    "\n",
    "* Unexpected missing values\n",
    "\n",
    "* Out-of-range values\n",
    "\n",
    "* Invalid formats"
   ]
  },
  {
   "cell_type": "code",
   "execution_count": 77,
   "id": "224c60fa-8075-44a1-802f-c1a7056cb79a",
   "metadata": {},
   "outputs": [
    {
     "name": "stdout",
     "output_type": "stream",
     "text": [
      "Collecting pandera\n",
      "  Downloading pandera-0.23.1-py3-none-any.whl.metadata (18 kB)\n",
      "Requirement already satisfied: numpy>=1.24.4 in /opt/anaconda3/lib/python3.12/site-packages (from pandera) (1.26.4)\n",
      "Requirement already satisfied: packaging>=20.0 in /opt/anaconda3/lib/python3.12/site-packages (from pandera) (24.1)\n",
      "Requirement already satisfied: pandas>=2.1.1 in /opt/anaconda3/lib/python3.12/site-packages (from pandera) (2.2.2)\n",
      "Requirement already satisfied: pydantic in /opt/anaconda3/lib/python3.12/site-packages (from pandera) (2.8.2)\n",
      "Collecting typeguard (from pandera)\n",
      "  Downloading typeguard-4.4.2-py3-none-any.whl.metadata (3.8 kB)\n",
      "Collecting typing_inspect>=0.6.0 (from pandera)\n",
      "  Downloading typing_inspect-0.9.0-py3-none-any.whl.metadata (1.5 kB)\n",
      "Requirement already satisfied: python-dateutil>=2.8.2 in /opt/anaconda3/lib/python3.12/site-packages (from pandas>=2.1.1->pandera) (2.9.0.post0)\n",
      "Requirement already satisfied: pytz>=2020.1 in /opt/anaconda3/lib/python3.12/site-packages (from pandas>=2.1.1->pandera) (2024.1)\n",
      "Requirement already satisfied: tzdata>=2022.7 in /opt/anaconda3/lib/python3.12/site-packages (from pandas>=2.1.1->pandera) (2023.3)\n",
      "Requirement already satisfied: mypy-extensions>=0.3.0 in /opt/anaconda3/lib/python3.12/site-packages (from typing_inspect>=0.6.0->pandera) (1.0.0)\n",
      "Requirement already satisfied: typing-extensions>=3.7.4 in /opt/anaconda3/lib/python3.12/site-packages (from typing_inspect>=0.6.0->pandera) (4.11.0)\n",
      "Requirement already satisfied: annotated-types>=0.4.0 in /opt/anaconda3/lib/python3.12/site-packages (from pydantic->pandera) (0.6.0)\n",
      "Requirement already satisfied: pydantic-core==2.20.1 in /opt/anaconda3/lib/python3.12/site-packages (from pydantic->pandera) (2.20.1)\n",
      "Requirement already satisfied: six>=1.5 in /opt/anaconda3/lib/python3.12/site-packages (from python-dateutil>=2.8.2->pandas>=2.1.1->pandera) (1.16.0)\n",
      "Downloading pandera-0.23.1-py3-none-any.whl (264 kB)\n",
      "Downloading typing_inspect-0.9.0-py3-none-any.whl (8.8 kB)\n",
      "Downloading typeguard-4.4.2-py3-none-any.whl (35 kB)\n",
      "Installing collected packages: typing_inspect, typeguard, pandera\n",
      "Successfully installed pandera-0.23.1 typeguard-4.4.2 typing_inspect-0.9.0\n"
     ]
    }
   ],
   "source": [
    "!pip install pandera"
   ]
  },
  {
   "cell_type": "code",
   "execution_count": 79,
   "id": "56cd768c-96d5-4587-b5c3-1451383630d7",
   "metadata": {},
   "outputs": [],
   "source": [
    "import pandera as pa"
   ]
  },
  {
   "cell_type": "code",
   "execution_count": 81,
   "id": "9b8ea6c0-885b-4db4-8aa7-1f779296d874",
   "metadata": {},
   "outputs": [
    {
     "data": {
      "text/html": [
       "<div>\n",
       "<style scoped>\n",
       "    .dataframe tbody tr th:only-of-type {\n",
       "        vertical-align: middle;\n",
       "    }\n",
       "\n",
       "    .dataframe tbody tr th {\n",
       "        vertical-align: top;\n",
       "    }\n",
       "\n",
       "    .dataframe thead th {\n",
       "        text-align: right;\n",
       "    }\n",
       "</style>\n",
       "<table border=\"1\" class=\"dataframe\">\n",
       "  <thead>\n",
       "    <tr style=\"text-align: right;\">\n",
       "      <th></th>\n",
       "      <th>name</th>\n",
       "      <th>lat</th>\n",
       "      <th>lng</th>\n",
       "    </tr>\n",
       "  </thead>\n",
       "  <tbody>\n",
       "    <tr>\n",
       "      <th>0</th>\n",
       "      <td>Black Pearl</td>\n",
       "      <td>20.664865</td>\n",
       "      <td>-80.709747</td>\n",
       "    </tr>\n",
       "    <tr>\n",
       "      <th>1</th>\n",
       "      <td>Cobra</td>\n",
       "      <td>20.664868</td>\n",
       "      <td>-80.709740</td>\n",
       "    </tr>\n",
       "    <tr>\n",
       "      <th>2</th>\n",
       "      <td>Flying Dutchman</td>\n",
       "      <td>20.664878</td>\n",
       "      <td>-80.709941</td>\n",
       "    </tr>\n",
       "    <tr>\n",
       "      <th>3</th>\n",
       "      <td>Empress</td>\n",
       "      <td>NaN</td>\n",
       "      <td>NaN</td>\n",
       "    </tr>\n",
       "  </tbody>\n",
       "</table>\n",
       "</div>"
      ],
      "text/plain": [
       "              name        lat        lng\n",
       "0      Black Pearl  20.664865 -80.709747\n",
       "1            Cobra  20.664868 -80.709740\n",
       "2  Flying Dutchman  20.664878 -80.709941\n",
       "3          Empress        NaN        NaN"
      ]
     },
     "execution_count": 81,
     "metadata": {},
     "output_type": "execute_result"
    }
   ],
   "source": [
    "df = pd.read_csv('ships.csv')\n",
    "df"
   ]
  },
  {
   "cell_type": "code",
   "execution_count": 86,
   "id": "df3cb7e5-ba99-49ed-8345-5f30a1d31743",
   "metadata": {},
   "outputs": [
    {
     "data": {
      "text/plain": [
       "name     object\n",
       "lat     float64\n",
       "lng     float64\n",
       "dtype: object"
      ]
     },
     "execution_count": 86,
     "metadata": {},
     "output_type": "execute_result"
    }
   ],
   "source": [
    "df.dtypes"
   ]
  },
  {
   "cell_type": "code",
   "execution_count": 88,
   "id": "eb161900-c45e-433c-a107-65cd280cd85f",
   "metadata": {},
   "outputs": [
    {
     "data": {
      "text/plain": [
       "name    False\n",
       "lat      True\n",
       "lng      True\n",
       "dtype: bool"
      ]
     },
     "execution_count": 88,
     "metadata": {},
     "output_type": "execute_result"
    }
   ],
   "source": [
    "df.isnull().any(axis=0)"
   ]
  },
  {
   "cell_type": "code",
   "execution_count": 90,
   "id": "d71bd6ea-1370-4e79-bdcb-52364b28c8b2",
   "metadata": {},
   "outputs": [],
   "source": [
    "schema = pa.DataFrameSchema({\n",
    "    'name': pa.Column(pa.String),\n",
    "    'lat': pa.Column(pa.Float),\n",
    "    'lng': pa.Column(pa.Float),\n",
    "})"
   ]
  },
  {
   "cell_type": "code",
   "execution_count": null,
   "id": "474c0430-b2d7-474d-9672-fb13848bf909",
   "metadata": {},
   "outputs": [],
   "source": []
  },
  {
   "cell_type": "code",
   "execution_count": 92,
   "id": "ad06b807-46a4-4200-ae93-fdd86441f81a",
   "metadata": {},
   "outputs": [
    {
     "ename": "SchemaError",
     "evalue": "non-nullable series 'lat' contains null values:\n3   NaN\nName: lat, dtype: float64",
     "output_type": "error",
     "traceback": [
      "\u001b[0;31m---------------------------------------------------------------------------\u001b[0m",
      "\u001b[0;31mSchemaError\u001b[0m                               Traceback (most recent call last)",
      "Cell \u001b[0;32mIn[92], line 2\u001b[0m\n\u001b[1;32m      1\u001b[0m \u001b[38;5;66;03m# This checks that the DataFrame df follows the specified schema. If not, it raises a SchemaError.\u001b[39;00m\n\u001b[0;32m----> 2\u001b[0m schema\u001b[38;5;241m.\u001b[39mvalidate(df)\n",
      "File \u001b[0;32m/opt/anaconda3/lib/python3.12/site-packages/pandera/api/pandas/container.py:126\u001b[0m, in \u001b[0;36mDataFrameSchema.validate\u001b[0;34m(self, check_obj, head, tail, sample, random_state, lazy, inplace)\u001b[0m\n\u001b[1;32m    114\u001b[0m     check_obj \u001b[38;5;241m=\u001b[39m check_obj\u001b[38;5;241m.\u001b[39mmap_partitions(  \u001b[38;5;66;03m# type: ignore [operator]\u001b[39;00m\n\u001b[1;32m    115\u001b[0m         \u001b[38;5;28mself\u001b[39m\u001b[38;5;241m.\u001b[39m_validate,\n\u001b[1;32m    116\u001b[0m         head\u001b[38;5;241m=\u001b[39mhead,\n\u001b[0;32m   (...)\u001b[0m\n\u001b[1;32m    122\u001b[0m         meta\u001b[38;5;241m=\u001b[39mcheck_obj,\n\u001b[1;32m    123\u001b[0m     )\n\u001b[1;32m    124\u001b[0m     \u001b[38;5;28;01mreturn\u001b[39;00m check_obj\u001b[38;5;241m.\u001b[39mpandera\u001b[38;5;241m.\u001b[39madd_schema(\u001b[38;5;28mself\u001b[39m)\n\u001b[0;32m--> 126\u001b[0m \u001b[38;5;28;01mreturn\u001b[39;00m \u001b[38;5;28mself\u001b[39m\u001b[38;5;241m.\u001b[39m_validate(\n\u001b[1;32m    127\u001b[0m     check_obj\u001b[38;5;241m=\u001b[39mcheck_obj,\n\u001b[1;32m    128\u001b[0m     head\u001b[38;5;241m=\u001b[39mhead,\n\u001b[1;32m    129\u001b[0m     tail\u001b[38;5;241m=\u001b[39mtail,\n\u001b[1;32m    130\u001b[0m     sample\u001b[38;5;241m=\u001b[39msample,\n\u001b[1;32m    131\u001b[0m     random_state\u001b[38;5;241m=\u001b[39mrandom_state,\n\u001b[1;32m    132\u001b[0m     lazy\u001b[38;5;241m=\u001b[39mlazy,\n\u001b[1;32m    133\u001b[0m     inplace\u001b[38;5;241m=\u001b[39minplace,\n\u001b[1;32m    134\u001b[0m )\n",
      "File \u001b[0;32m/opt/anaconda3/lib/python3.12/site-packages/pandera/api/pandas/container.py:147\u001b[0m, in \u001b[0;36mDataFrameSchema._validate\u001b[0;34m(self, check_obj, head, tail, sample, random_state, lazy, inplace)\u001b[0m\n\u001b[1;32m    136\u001b[0m \u001b[38;5;28;01mdef\u001b[39;00m \u001b[38;5;21m_validate\u001b[39m(\n\u001b[1;32m    137\u001b[0m     \u001b[38;5;28mself\u001b[39m,\n\u001b[1;32m    138\u001b[0m     check_obj: pd\u001b[38;5;241m.\u001b[39mDataFrame,\n\u001b[0;32m   (...)\u001b[0m\n\u001b[1;32m    144\u001b[0m     inplace: \u001b[38;5;28mbool\u001b[39m \u001b[38;5;241m=\u001b[39m \u001b[38;5;28;01mFalse\u001b[39;00m,\n\u001b[1;32m    145\u001b[0m ) \u001b[38;5;241m-\u001b[39m\u001b[38;5;241m>\u001b[39m pd\u001b[38;5;241m.\u001b[39mDataFrame:\n\u001b[0;32m--> 147\u001b[0m     \u001b[38;5;28;01mreturn\u001b[39;00m \u001b[38;5;28mself\u001b[39m\u001b[38;5;241m.\u001b[39mget_backend(check_obj)\u001b[38;5;241m.\u001b[39mvalidate(\n\u001b[1;32m    148\u001b[0m         check_obj,\n\u001b[1;32m    149\u001b[0m         schema\u001b[38;5;241m=\u001b[39m\u001b[38;5;28mself\u001b[39m,\n\u001b[1;32m    150\u001b[0m         head\u001b[38;5;241m=\u001b[39mhead,\n\u001b[1;32m    151\u001b[0m         tail\u001b[38;5;241m=\u001b[39mtail,\n\u001b[1;32m    152\u001b[0m         sample\u001b[38;5;241m=\u001b[39msample,\n\u001b[1;32m    153\u001b[0m         random_state\u001b[38;5;241m=\u001b[39mrandom_state,\n\u001b[1;32m    154\u001b[0m         lazy\u001b[38;5;241m=\u001b[39mlazy,\n\u001b[1;32m    155\u001b[0m         inplace\u001b[38;5;241m=\u001b[39minplace,\n\u001b[1;32m    156\u001b[0m     )\n",
      "File \u001b[0;32m/opt/anaconda3/lib/python3.12/site-packages/pandera/backends/pandas/container.py:104\u001b[0m, in \u001b[0;36mDataFrameSchemaBackend.validate\u001b[0;34m(self, check_obj, schema, head, tail, sample, random_state, lazy, inplace)\u001b[0m\n\u001b[1;32m     99\u001b[0m components \u001b[38;5;241m=\u001b[39m \u001b[38;5;28mself\u001b[39m\u001b[38;5;241m.\u001b[39mcollect_schema_components(\n\u001b[1;32m    100\u001b[0m     check_obj, schema, column_info\n\u001b[1;32m    101\u001b[0m )\n\u001b[1;32m    103\u001b[0m \u001b[38;5;66;03m# run the checks\u001b[39;00m\n\u001b[0;32m--> 104\u001b[0m error_handler \u001b[38;5;241m=\u001b[39m \u001b[38;5;28mself\u001b[39m\u001b[38;5;241m.\u001b[39mrun_checks_and_handle_errors(\n\u001b[1;32m    105\u001b[0m     error_handler,\n\u001b[1;32m    106\u001b[0m     schema,\n\u001b[1;32m    107\u001b[0m     check_obj,\n\u001b[1;32m    108\u001b[0m     column_info,\n\u001b[1;32m    109\u001b[0m     sample,\n\u001b[1;32m    110\u001b[0m     components,\n\u001b[1;32m    111\u001b[0m     lazy,\n\u001b[1;32m    112\u001b[0m     head,\n\u001b[1;32m    113\u001b[0m     tail,\n\u001b[1;32m    114\u001b[0m     random_state,\n\u001b[1;32m    115\u001b[0m )\n\u001b[1;32m    117\u001b[0m \u001b[38;5;28;01mif\u001b[39;00m error_handler\u001b[38;5;241m.\u001b[39mcollected_errors:\n\u001b[1;32m    118\u001b[0m     \u001b[38;5;28;01mif\u001b[39;00m \u001b[38;5;28mgetattr\u001b[39m(schema, \u001b[38;5;124m\"\u001b[39m\u001b[38;5;124mdrop_invalid_rows\u001b[39m\u001b[38;5;124m\"\u001b[39m, \u001b[38;5;28;01mFalse\u001b[39;00m):\n",
      "File \u001b[0;32m/opt/anaconda3/lib/python3.12/site-packages/pandera/backends/pandas/container.py:182\u001b[0m, in \u001b[0;36mDataFrameSchemaBackend.run_checks_and_handle_errors\u001b[0;34m(self, error_handler, schema, check_obj, column_info, sample, components, lazy, head, tail, random_state)\u001b[0m\n\u001b[1;32m    171\u001b[0m         \u001b[38;5;28;01melse\u001b[39;00m:\n\u001b[1;32m    172\u001b[0m             error \u001b[38;5;241m=\u001b[39m SchemaError(\n\u001b[1;32m    173\u001b[0m                 schema,\n\u001b[1;32m    174\u001b[0m                 data\u001b[38;5;241m=\u001b[39mcheck_obj,\n\u001b[0;32m   (...)\u001b[0m\n\u001b[1;32m    180\u001b[0m                 reason_code\u001b[38;5;241m=\u001b[39mresult\u001b[38;5;241m.\u001b[39mreason_code,\n\u001b[1;32m    181\u001b[0m             )\n\u001b[0;32m--> 182\u001b[0m         error_handler\u001b[38;5;241m.\u001b[39mcollect_error(\n\u001b[1;32m    183\u001b[0m             validation_type(result\u001b[38;5;241m.\u001b[39mreason_code),\n\u001b[1;32m    184\u001b[0m             result\u001b[38;5;241m.\u001b[39mreason_code,\n\u001b[1;32m    185\u001b[0m             error,\n\u001b[1;32m    186\u001b[0m             result\u001b[38;5;241m.\u001b[39moriginal_exc,\n\u001b[1;32m    187\u001b[0m         )\n\u001b[1;32m    189\u001b[0m \u001b[38;5;28;01mreturn\u001b[39;00m error_handler\n",
      "File \u001b[0;32m/opt/anaconda3/lib/python3.12/site-packages/pandera/api/base/error_handler.py:54\u001b[0m, in \u001b[0;36mErrorHandler.collect_error\u001b[0;34m(self, error_type, reason_code, schema_error, original_exc)\u001b[0m\n\u001b[1;32m     47\u001b[0m \u001b[38;5;250m\u001b[39m\u001b[38;5;124;03m\"\"\"Collect schema error, raising exception if lazy is False.\u001b[39;00m\n\u001b[1;32m     48\u001b[0m \n\u001b[1;32m     49\u001b[0m \u001b[38;5;124;03m:param error_type: type of error\u001b[39;00m\n\u001b[1;32m     50\u001b[0m \u001b[38;5;124;03m:param reason_code: string representing reason for error\u001b[39;00m\n\u001b[1;32m     51\u001b[0m \u001b[38;5;124;03m:param schema_error: ``SchemaError`` object.\u001b[39;00m\n\u001b[1;32m     52\u001b[0m \u001b[38;5;124;03m\"\"\"\u001b[39;00m\n\u001b[1;32m     53\u001b[0m \u001b[38;5;28;01mif\u001b[39;00m \u001b[38;5;129;01mnot\u001b[39;00m \u001b[38;5;28mself\u001b[39m\u001b[38;5;241m.\u001b[39m_lazy:\n\u001b[0;32m---> 54\u001b[0m     \u001b[38;5;28;01mraise\u001b[39;00m schema_error \u001b[38;5;28;01mfrom\u001b[39;00m \u001b[38;5;21;01moriginal_exc\u001b[39;00m\n\u001b[1;32m     56\u001b[0m \u001b[38;5;66;03m# delete data of validated object from SchemaError object to prevent\u001b[39;00m\n\u001b[1;32m     57\u001b[0m \u001b[38;5;66;03m# storing copies of the validated DataFrame/Series for every\u001b[39;00m\n\u001b[1;32m     58\u001b[0m \u001b[38;5;66;03m# SchemaError collected.\u001b[39;00m\n\u001b[1;32m     59\u001b[0m \u001b[38;5;28;01mif\u001b[39;00m \u001b[38;5;28mhasattr\u001b[39m(schema_error, \u001b[38;5;124m\"\u001b[39m\u001b[38;5;124mdata\u001b[39m\u001b[38;5;124m\"\u001b[39m):\n",
      "File \u001b[0;32m/opt/anaconda3/lib/python3.12/site-packages/pandera/backends/pandas/container.py:217\u001b[0m, in \u001b[0;36mDataFrameSchemaBackend.run_schema_component_checks\u001b[0;34m(self, check_obj, schema, schema_components, lazy)\u001b[0m\n\u001b[1;32m    213\u001b[0m     \u001b[38;5;66;03m# disable coercion at the schema component level since the\u001b[39;00m\n\u001b[1;32m    214\u001b[0m     \u001b[38;5;66;03m# dataframe-level schema already coerced it.\u001b[39;00m\n\u001b[1;32m    215\u001b[0m     schema_component\u001b[38;5;241m.\u001b[39mcoerce \u001b[38;5;241m=\u001b[39m \u001b[38;5;28;01mFalse\u001b[39;00m  \u001b[38;5;66;03m# type: ignore\u001b[39;00m\n\u001b[0;32m--> 217\u001b[0m     result \u001b[38;5;241m=\u001b[39m schema_component\u001b[38;5;241m.\u001b[39mvalidate(\n\u001b[1;32m    218\u001b[0m         check_obj, lazy\u001b[38;5;241m=\u001b[39mlazy, inplace\u001b[38;5;241m=\u001b[39m\u001b[38;5;28;01mTrue\u001b[39;00m\n\u001b[1;32m    219\u001b[0m     )\n\u001b[1;32m    221\u001b[0m     check_passed\u001b[38;5;241m.\u001b[39mappend(is_table(result))\n\u001b[1;32m    222\u001b[0m \u001b[38;5;28;01mexcept\u001b[39;00m SchemaError \u001b[38;5;28;01mas\u001b[39;00m err:\n",
      "File \u001b[0;32m/opt/anaconda3/lib/python3.12/site-packages/pandera/api/dataframe/components.py:149\u001b[0m, in \u001b[0;36mComponentSchema.validate\u001b[0;34m(self, check_obj, head, tail, sample, random_state, lazy, inplace)\u001b[0m\n\u001b[1;32m    120\u001b[0m \u001b[38;5;28;01mdef\u001b[39;00m \u001b[38;5;21mvalidate\u001b[39m(\n\u001b[1;32m    121\u001b[0m     \u001b[38;5;28mself\u001b[39m,\n\u001b[1;32m    122\u001b[0m     check_obj,\n\u001b[0;32m   (...)\u001b[0m\n\u001b[1;32m    129\u001b[0m ):\n\u001b[1;32m    130\u001b[0m     \u001b[38;5;66;03m# pylint: disable=too-many-locals,too-many-branches,too-many-statements\u001b[39;00m\n\u001b[1;32m    131\u001b[0m \u001b[38;5;250m    \u001b[39m\u001b[38;5;124;03m\"\"\"Validate a series or specific column in dataframe.\u001b[39;00m\n\u001b[1;32m    132\u001b[0m \n\u001b[1;32m    133\u001b[0m \u001b[38;5;124;03m    :check_obj: data object to validate.\u001b[39;00m\n\u001b[0;32m   (...)\u001b[0m\n\u001b[1;32m    147\u001b[0m \n\u001b[1;32m    148\u001b[0m \u001b[38;5;124;03m    \"\"\"\u001b[39;00m\n\u001b[0;32m--> 149\u001b[0m     \u001b[38;5;28;01mreturn\u001b[39;00m \u001b[38;5;28mself\u001b[39m\u001b[38;5;241m.\u001b[39mget_backend(check_obj)\u001b[38;5;241m.\u001b[39mvalidate(\n\u001b[1;32m    150\u001b[0m         check_obj,\n\u001b[1;32m    151\u001b[0m         schema\u001b[38;5;241m=\u001b[39m\u001b[38;5;28mself\u001b[39m,\n\u001b[1;32m    152\u001b[0m         head\u001b[38;5;241m=\u001b[39mhead,\n\u001b[1;32m    153\u001b[0m         tail\u001b[38;5;241m=\u001b[39mtail,\n\u001b[1;32m    154\u001b[0m         sample\u001b[38;5;241m=\u001b[39msample,\n\u001b[1;32m    155\u001b[0m         random_state\u001b[38;5;241m=\u001b[39mrandom_state,\n\u001b[1;32m    156\u001b[0m         lazy\u001b[38;5;241m=\u001b[39mlazy,\n\u001b[1;32m    157\u001b[0m         inplace\u001b[38;5;241m=\u001b[39minplace,\n\u001b[1;32m    158\u001b[0m     )\n",
      "File \u001b[0;32m/opt/anaconda3/lib/python3.12/site-packages/pandera/backends/pandas/components.py:138\u001b[0m, in \u001b[0;36mColumnBackend.validate\u001b[0;34m(self, check_obj, schema, head, tail, sample, random_state, lazy, inplace)\u001b[0m\n\u001b[1;32m    132\u001b[0m \u001b[38;5;28;01mif\u001b[39;00m \u001b[38;5;28mgetattr\u001b[39m(schema, \u001b[38;5;124m\"\u001b[39m\u001b[38;5;124mdrop_invalid_rows\u001b[39m\u001b[38;5;124m\"\u001b[39m, \u001b[38;5;28;01mFalse\u001b[39;00m):\n\u001b[1;32m    133\u001b[0m     \u001b[38;5;66;03m# replace the check_obj with the validated\u001b[39;00m\n\u001b[1;32m    134\u001b[0m     check_obj \u001b[38;5;241m=\u001b[39m validate_column(\n\u001b[1;32m    135\u001b[0m         check_obj, column_name, return_check_obj\u001b[38;5;241m=\u001b[39m\u001b[38;5;28;01mTrue\u001b[39;00m\n\u001b[1;32m    136\u001b[0m     )\n\u001b[0;32m--> 138\u001b[0m validated_column \u001b[38;5;241m=\u001b[39m validate_column(\n\u001b[1;32m    139\u001b[0m     check_obj,\n\u001b[1;32m    140\u001b[0m     column_name,\n\u001b[1;32m    141\u001b[0m     return_check_obj\u001b[38;5;241m=\u001b[39m\u001b[38;5;28;01mTrue\u001b[39;00m,\n\u001b[1;32m    142\u001b[0m )\n\u001b[1;32m    143\u001b[0m \u001b[38;5;28;01mif\u001b[39;00m schema\u001b[38;5;241m.\u001b[39mparsers:\n\u001b[1;32m    144\u001b[0m     check_obj[column_name] \u001b[38;5;241m=\u001b[39m validated_column\n",
      "File \u001b[0;32m/opt/anaconda3/lib/python3.12/site-packages/pandera/backends/pandas/components.py:98\u001b[0m, in \u001b[0;36mColumnBackend.validate.<locals>.validate_column\u001b[0;34m(check_obj, column_name, return_check_obj)\u001b[0m\n\u001b[1;32m     96\u001b[0m \u001b[38;5;28;01mexcept\u001b[39;00m SchemaError \u001b[38;5;28;01mas\u001b[39;00m err:\n\u001b[1;32m     97\u001b[0m     err\u001b[38;5;241m.\u001b[39mcolumn_name \u001b[38;5;241m=\u001b[39m column_name\n\u001b[0;32m---> 98\u001b[0m     error_handler\u001b[38;5;241m.\u001b[39mcollect_error(\n\u001b[1;32m     99\u001b[0m         validation_type(err\u001b[38;5;241m.\u001b[39mreason_code), err\u001b[38;5;241m.\u001b[39mreason_code, err\n\u001b[1;32m    100\u001b[0m     )\n",
      "File \u001b[0;32m/opt/anaconda3/lib/python3.12/site-packages/pandera/api/base/error_handler.py:54\u001b[0m, in \u001b[0;36mErrorHandler.collect_error\u001b[0;34m(self, error_type, reason_code, schema_error, original_exc)\u001b[0m\n\u001b[1;32m     47\u001b[0m \u001b[38;5;250m\u001b[39m\u001b[38;5;124;03m\"\"\"Collect schema error, raising exception if lazy is False.\u001b[39;00m\n\u001b[1;32m     48\u001b[0m \n\u001b[1;32m     49\u001b[0m \u001b[38;5;124;03m:param error_type: type of error\u001b[39;00m\n\u001b[1;32m     50\u001b[0m \u001b[38;5;124;03m:param reason_code: string representing reason for error\u001b[39;00m\n\u001b[1;32m     51\u001b[0m \u001b[38;5;124;03m:param schema_error: ``SchemaError`` object.\u001b[39;00m\n\u001b[1;32m     52\u001b[0m \u001b[38;5;124;03m\"\"\"\u001b[39;00m\n\u001b[1;32m     53\u001b[0m \u001b[38;5;28;01mif\u001b[39;00m \u001b[38;5;129;01mnot\u001b[39;00m \u001b[38;5;28mself\u001b[39m\u001b[38;5;241m.\u001b[39m_lazy:\n\u001b[0;32m---> 54\u001b[0m     \u001b[38;5;28;01mraise\u001b[39;00m schema_error \u001b[38;5;28;01mfrom\u001b[39;00m \u001b[38;5;21;01moriginal_exc\u001b[39;00m\n\u001b[1;32m     56\u001b[0m \u001b[38;5;66;03m# delete data of validated object from SchemaError object to prevent\u001b[39;00m\n\u001b[1;32m     57\u001b[0m \u001b[38;5;66;03m# storing copies of the validated DataFrame/Series for every\u001b[39;00m\n\u001b[1;32m     58\u001b[0m \u001b[38;5;66;03m# SchemaError collected.\u001b[39;00m\n\u001b[1;32m     59\u001b[0m \u001b[38;5;28;01mif\u001b[39;00m \u001b[38;5;28mhasattr\u001b[39m(schema_error, \u001b[38;5;124m\"\u001b[39m\u001b[38;5;124mdata\u001b[39m\u001b[38;5;124m\"\u001b[39m):\n",
      "File \u001b[0;32m/opt/anaconda3/lib/python3.12/site-packages/pandera/backends/pandas/components.py:74\u001b[0m, in \u001b[0;36mColumnBackend.validate.<locals>.validate_column\u001b[0;34m(check_obj, column_name, return_check_obj)\u001b[0m\n\u001b[1;32m     69\u001b[0m \u001b[38;5;28;01mtry\u001b[39;00m:\n\u001b[1;32m     70\u001b[0m     \u001b[38;5;66;03m# pylint: disable=super-with-arguments\u001b[39;00m\n\u001b[1;32m     71\u001b[0m     \u001b[38;5;66;03m# make sure the schema component mutations are reverted after\u001b[39;00m\n\u001b[1;32m     72\u001b[0m     \u001b[38;5;66;03m# validation\u001b[39;00m\n\u001b[1;32m     73\u001b[0m     _orig_name \u001b[38;5;241m=\u001b[39m schema\u001b[38;5;241m.\u001b[39mname\n\u001b[0;32m---> 74\u001b[0m     validated_check_obj \u001b[38;5;241m=\u001b[39m \u001b[38;5;28msuper\u001b[39m(ColumnBackend, \u001b[38;5;28mself\u001b[39m)\u001b[38;5;241m.\u001b[39mvalidate(\n\u001b[1;32m     75\u001b[0m         check_obj,\n\u001b[1;32m     76\u001b[0m         schema\u001b[38;5;241m.\u001b[39mset_name(column_name),\n\u001b[1;32m     77\u001b[0m         head\u001b[38;5;241m=\u001b[39mhead,\n\u001b[1;32m     78\u001b[0m         tail\u001b[38;5;241m=\u001b[39mtail,\n\u001b[1;32m     79\u001b[0m         sample\u001b[38;5;241m=\u001b[39msample,\n\u001b[1;32m     80\u001b[0m         random_state\u001b[38;5;241m=\u001b[39mrandom_state,\n\u001b[1;32m     81\u001b[0m         lazy\u001b[38;5;241m=\u001b[39mlazy,\n\u001b[1;32m     82\u001b[0m         inplace\u001b[38;5;241m=\u001b[39minplace,\n\u001b[1;32m     83\u001b[0m     )\n\u001b[1;32m     84\u001b[0m     \u001b[38;5;66;03m# revert the schema component mutations\u001b[39;00m\n\u001b[1;32m     85\u001b[0m     schema\u001b[38;5;241m.\u001b[39mname \u001b[38;5;241m=\u001b[39m _orig_name\n",
      "File \u001b[0;32m/opt/anaconda3/lib/python3.12/site-packages/pandera/backends/pandas/array.py:77\u001b[0m, in \u001b[0;36mArraySchemaBackend.validate\u001b[0;34m(self, check_obj, schema, head, tail, sample, random_state, lazy, inplace)\u001b[0m\n\u001b[1;32m     71\u001b[0m check_obj \u001b[38;5;241m=\u001b[39m \u001b[38;5;28mself\u001b[39m\u001b[38;5;241m.\u001b[39mrun_parsers(\n\u001b[1;32m     72\u001b[0m     schema,\n\u001b[1;32m     73\u001b[0m     check_obj,\n\u001b[1;32m     74\u001b[0m )\n\u001b[1;32m     76\u001b[0m \u001b[38;5;66;03m# run the core checks\u001b[39;00m\n\u001b[0;32m---> 77\u001b[0m error_handler \u001b[38;5;241m=\u001b[39m \u001b[38;5;28mself\u001b[39m\u001b[38;5;241m.\u001b[39mrun_checks_and_handle_errors(\n\u001b[1;32m     78\u001b[0m     error_handler,\n\u001b[1;32m     79\u001b[0m     schema,\n\u001b[1;32m     80\u001b[0m     check_obj,\n\u001b[1;32m     81\u001b[0m     head\u001b[38;5;241m=\u001b[39mhead,\n\u001b[1;32m     82\u001b[0m     tail\u001b[38;5;241m=\u001b[39mtail,\n\u001b[1;32m     83\u001b[0m     sample\u001b[38;5;241m=\u001b[39msample,\n\u001b[1;32m     84\u001b[0m     random_state\u001b[38;5;241m=\u001b[39mrandom_state,\n\u001b[1;32m     85\u001b[0m )\n\u001b[1;32m     87\u001b[0m \u001b[38;5;28;01mif\u001b[39;00m lazy \u001b[38;5;129;01mand\u001b[39;00m error_handler\u001b[38;5;241m.\u001b[39mcollected_errors:\n\u001b[1;32m     88\u001b[0m     \u001b[38;5;28;01mif\u001b[39;00m \u001b[38;5;28mgetattr\u001b[39m(schema, \u001b[38;5;124m\"\u001b[39m\u001b[38;5;124mdrop_invalid_rows\u001b[39m\u001b[38;5;124m\"\u001b[39m, \u001b[38;5;28;01mFalse\u001b[39;00m):\n",
      "File \u001b[0;32m/opt/anaconda3/lib/python3.12/site-packages/pandera/backends/pandas/array.py:141\u001b[0m, in \u001b[0;36mArraySchemaBackend.run_checks_and_handle_errors\u001b[0;34m(self, error_handler, schema, check_obj, **subsample_kwargs)\u001b[0m\n\u001b[1;32m    130\u001b[0m         \u001b[38;5;28;01melse\u001b[39;00m:\n\u001b[1;32m    131\u001b[0m             error \u001b[38;5;241m=\u001b[39m SchemaError(\n\u001b[1;32m    132\u001b[0m                 schema\u001b[38;5;241m=\u001b[39mschema,\n\u001b[1;32m    133\u001b[0m                 data\u001b[38;5;241m=\u001b[39mcheck_obj,\n\u001b[0;32m   (...)\u001b[0m\n\u001b[1;32m    139\u001b[0m                 reason_code\u001b[38;5;241m=\u001b[39mresult\u001b[38;5;241m.\u001b[39mreason_code,\n\u001b[1;32m    140\u001b[0m             )\n\u001b[0;32m--> 141\u001b[0m             error_handler\u001b[38;5;241m.\u001b[39mcollect_error(\n\u001b[1;32m    142\u001b[0m                 validation_type(result\u001b[38;5;241m.\u001b[39mreason_code),\n\u001b[1;32m    143\u001b[0m                 result\u001b[38;5;241m.\u001b[39mreason_code,\n\u001b[1;32m    144\u001b[0m                 error,\n\u001b[1;32m    145\u001b[0m                 original_exc\u001b[38;5;241m=\u001b[39mresult\u001b[38;5;241m.\u001b[39moriginal_exc,\n\u001b[1;32m    146\u001b[0m             )\n\u001b[1;32m    148\u001b[0m \u001b[38;5;28;01mreturn\u001b[39;00m error_handler\n",
      "File \u001b[0;32m/opt/anaconda3/lib/python3.12/site-packages/pandera/api/base/error_handler.py:54\u001b[0m, in \u001b[0;36mErrorHandler.collect_error\u001b[0;34m(self, error_type, reason_code, schema_error, original_exc)\u001b[0m\n\u001b[1;32m     47\u001b[0m \u001b[38;5;250m\u001b[39m\u001b[38;5;124;03m\"\"\"Collect schema error, raising exception if lazy is False.\u001b[39;00m\n\u001b[1;32m     48\u001b[0m \n\u001b[1;32m     49\u001b[0m \u001b[38;5;124;03m:param error_type: type of error\u001b[39;00m\n\u001b[1;32m     50\u001b[0m \u001b[38;5;124;03m:param reason_code: string representing reason for error\u001b[39;00m\n\u001b[1;32m     51\u001b[0m \u001b[38;5;124;03m:param schema_error: ``SchemaError`` object.\u001b[39;00m\n\u001b[1;32m     52\u001b[0m \u001b[38;5;124;03m\"\"\"\u001b[39;00m\n\u001b[1;32m     53\u001b[0m \u001b[38;5;28;01mif\u001b[39;00m \u001b[38;5;129;01mnot\u001b[39;00m \u001b[38;5;28mself\u001b[39m\u001b[38;5;241m.\u001b[39m_lazy:\n\u001b[0;32m---> 54\u001b[0m     \u001b[38;5;28;01mraise\u001b[39;00m schema_error \u001b[38;5;28;01mfrom\u001b[39;00m \u001b[38;5;21;01moriginal_exc\u001b[39;00m\n\u001b[1;32m     56\u001b[0m \u001b[38;5;66;03m# delete data of validated object from SchemaError object to prevent\u001b[39;00m\n\u001b[1;32m     57\u001b[0m \u001b[38;5;66;03m# storing copies of the validated DataFrame/Series for every\u001b[39;00m\n\u001b[1;32m     58\u001b[0m \u001b[38;5;66;03m# SchemaError collected.\u001b[39;00m\n\u001b[1;32m     59\u001b[0m \u001b[38;5;28;01mif\u001b[39;00m \u001b[38;5;28mhasattr\u001b[39m(schema_error, \u001b[38;5;124m\"\u001b[39m\u001b[38;5;124mdata\u001b[39m\u001b[38;5;124m\"\u001b[39m):\n",
      "\u001b[0;31mSchemaError\u001b[0m: non-nullable series 'lat' contains null values:\n3   NaN\nName: lat, dtype: float64"
     ]
    }
   ],
   "source": [
    "# This checks that the DataFrame df follows the specified schema. If not, it raises a SchemaError.\n",
    "schema.validate(df)"
   ]
  },
  {
   "cell_type": "code",
   "execution_count": 94,
   "id": "4119ea2d-7187-4ab2-a4ef-4a95c7a0314a",
   "metadata": {},
   "outputs": [],
   "source": [
    "# Fixing Schema error\n",
    "schema=pa.DataFrameSchema({\n",
    "    'name':pa.Column(pa.String),\n",
    "      'lat': pa.Column(pa.Float,nullable=True),\n",
    "    'lng': pa.Column(pa.Float,nullable=True),\n",
    "    \n",
    "})"
   ]
  },
  {
   "cell_type": "code",
   "execution_count": 96,
   "id": "75d4fb9e-0b32-4254-abb9-e4fe1be550a3",
   "metadata": {},
   "outputs": [
    {
     "data": {
      "text/html": [
       "<div>\n",
       "<style scoped>\n",
       "    .dataframe tbody tr th:only-of-type {\n",
       "        vertical-align: middle;\n",
       "    }\n",
       "\n",
       "    .dataframe tbody tr th {\n",
       "        vertical-align: top;\n",
       "    }\n",
       "\n",
       "    .dataframe thead th {\n",
       "        text-align: right;\n",
       "    }\n",
       "</style>\n",
       "<table border=\"1\" class=\"dataframe\">\n",
       "  <thead>\n",
       "    <tr style=\"text-align: right;\">\n",
       "      <th></th>\n",
       "      <th>name</th>\n",
       "      <th>lat</th>\n",
       "      <th>lng</th>\n",
       "    </tr>\n",
       "  </thead>\n",
       "  <tbody>\n",
       "    <tr>\n",
       "      <th>0</th>\n",
       "      <td>Black Pearl</td>\n",
       "      <td>20.664865</td>\n",
       "      <td>-80.709747</td>\n",
       "    </tr>\n",
       "    <tr>\n",
       "      <th>1</th>\n",
       "      <td>Cobra</td>\n",
       "      <td>20.664868</td>\n",
       "      <td>-80.709740</td>\n",
       "    </tr>\n",
       "    <tr>\n",
       "      <th>2</th>\n",
       "      <td>Flying Dutchman</td>\n",
       "      <td>20.664878</td>\n",
       "      <td>-80.709941</td>\n",
       "    </tr>\n",
       "    <tr>\n",
       "      <th>3</th>\n",
       "      <td>Empress</td>\n",
       "      <td>NaN</td>\n",
       "      <td>NaN</td>\n",
       "    </tr>\n",
       "  </tbody>\n",
       "</table>\n",
       "</div>"
      ],
      "text/plain": [
       "              name        lat        lng\n",
       "0      Black Pearl  20.664865 -80.709747\n",
       "1            Cobra  20.664868 -80.709740\n",
       "2  Flying Dutchman  20.664878 -80.709941\n",
       "3          Empress        NaN        NaN"
      ]
     },
     "execution_count": 96,
     "metadata": {},
     "output_type": "execute_result"
    }
   ],
   "source": [
    "schema.validate(df)"
   ]
  },
  {
   "cell_type": "markdown",
   "id": "7c07a04d-4363-4134-973d-b1bc24dc7639",
   "metadata": {},
   "source": [
    "“We expect lat and lng to be floats… but sometimes, it's okay if they're missing.”\n",
    "\n",
    "That is a consistent rule, because you're telling Pandera:\n",
    "\n",
    "These fields should be floats ✅\n",
    "\n",
    "But missing values (nulls) are allowed 🔓\n",
    "\n",
    "As long as every row follows this rule, the schema is consistent and your pipeline can behave reliably.\n",
    "\n",
    "### Why nullable=True is Not Inconsistent\n",
    "If you didn’t allow nulls and they snuck into your dataset:\n",
    "\n",
    "* You’d get random bugs in analysis\n",
    "\n",
    "* Maps wouldn’t plot properly\n",
    "\n",
    "* You might make decisions on incomplete info\n",
    "\n",
    "### So by saying nullable=True, you are:\n",
    "\n",
    "* Acknowledging real-world messiness\n",
    "\n",
    "* Defining a consistent exception for validation\n",
    "\n",
    "* Controlling when missing data is acceptable\n",
    "\n"
   ]
  },
  {
   "cell_type": "markdown",
   "id": "96f347c0-e876-4857-9601-0e780a166d5a",
   "metadata": {},
   "source": [
    "## Finding Missing"
   ]
  },
  {
   "cell_type": "code",
   "execution_count": 134,
   "id": "c0bc37b8-7c38-4a2e-b398-9163a72b791b",
   "metadata": {},
   "outputs": [
    {
     "data": {
      "text/html": [
       "<div>\n",
       "<style scoped>\n",
       "    .dataframe tbody tr th:only-of-type {\n",
       "        vertical-align: middle;\n",
       "    }\n",
       "\n",
       "    .dataframe tbody tr th {\n",
       "        vertical-align: top;\n",
       "    }\n",
       "\n",
       "    .dataframe thead th {\n",
       "        text-align: right;\n",
       "    }\n",
       "</style>\n",
       "<table border=\"1\" class=\"dataframe\">\n",
       "  <thead>\n",
       "    <tr style=\"text-align: right;\">\n",
       "      <th></th>\n",
       "      <th>name</th>\n",
       "      <th>lat</th>\n",
       "      <th>lng</th>\n",
       "    </tr>\n",
       "  </thead>\n",
       "  <tbody>\n",
       "    <tr>\n",
       "      <th>0</th>\n",
       "      <td>Black Pearl</td>\n",
       "      <td>20.664865</td>\n",
       "      <td>-80.709747</td>\n",
       "    </tr>\n",
       "    <tr>\n",
       "      <th>1</th>\n",
       "      <td>Cobra</td>\n",
       "      <td>20.664868</td>\n",
       "      <td>-80.709740</td>\n",
       "    </tr>\n",
       "    <tr>\n",
       "      <th>2</th>\n",
       "      <td>Flying Dutchman</td>\n",
       "      <td>20.664878</td>\n",
       "      <td>-80.709941</td>\n",
       "    </tr>\n",
       "    <tr>\n",
       "      <th>3</th>\n",
       "      <td>Empress</td>\n",
       "      <td>NaN</td>\n",
       "      <td>NaN</td>\n",
       "    </tr>\n",
       "    <tr>\n",
       "      <th>4</th>\n",
       "      <td></td>\n",
       "      <td>20.664875</td>\n",
       "      <td>-80.709777</td>\n",
       "    </tr>\n",
       "  </tbody>\n",
       "</table>\n",
       "</div>"
      ],
      "text/plain": [
       "              name        lat        lng\n",
       "0      Black Pearl  20.664865 -80.709747\n",
       "1            Cobra  20.664868 -80.709740\n",
       "2  Flying Dutchman  20.664878 -80.709941\n",
       "3          Empress        NaN        NaN\n",
       "4                   20.664875 -80.709777"
      ]
     },
     "execution_count": 134,
     "metadata": {},
     "output_type": "execute_result"
    }
   ],
   "source": [
    "df = pd.read_csv('ships2.csv')\n",
    "df"
   ]
  },
  {
   "cell_type": "code",
   "execution_count": 136,
   "id": "ed8bb18d-87be-4dc3-97f5-6bba60a94787",
   "metadata": {},
   "outputs": [
    {
     "data": {
      "text/html": [
       "<div>\n",
       "<style scoped>\n",
       "    .dataframe tbody tr th:only-of-type {\n",
       "        vertical-align: middle;\n",
       "    }\n",
       "\n",
       "    .dataframe tbody tr th {\n",
       "        vertical-align: top;\n",
       "    }\n",
       "\n",
       "    .dataframe thead th {\n",
       "        text-align: right;\n",
       "    }\n",
       "</style>\n",
       "<table border=\"1\" class=\"dataframe\">\n",
       "  <thead>\n",
       "    <tr style=\"text-align: right;\">\n",
       "      <th></th>\n",
       "      <th>name</th>\n",
       "      <th>lat</th>\n",
       "      <th>lng</th>\n",
       "    </tr>\n",
       "  </thead>\n",
       "  <tbody>\n",
       "    <tr>\n",
       "      <th>3</th>\n",
       "      <td>Empress</td>\n",
       "      <td>NaN</td>\n",
       "      <td>NaN</td>\n",
       "    </tr>\n",
       "  </tbody>\n",
       "</table>\n",
       "</div>"
      ],
      "text/plain": [
       "      name  lat  lng\n",
       "3  Empress  NaN  NaN"
      ]
     },
     "execution_count": 136,
     "metadata": {},
     "output_type": "execute_result"
    }
   ],
   "source": [
    "# This shows all rows with at least one NaN.\n",
    "df[df.isnull().any(axis=1)]\n",
    "# It doesn't consider empty string as nan "
   ]
  },
  {
   "cell_type": "code",
   "execution_count": 138,
   "id": "f0a1d0c3-f124-449e-802f-0933579e9a14",
   "metadata": {},
   "outputs": [
    {
     "data": {
      "text/plain": [
       "' '"
      ]
     },
     "execution_count": 138,
     "metadata": {},
     "output_type": "execute_result"
    }
   ],
   "source": [
    "# Returns the last entry under the name column\n",
    "df.iloc[-1]['name']\n",
    "# We will remove leading and trailing whitespace from every value in the name column"
   ]
  },
  {
   "cell_type": "code",
   "execution_count": 140,
   "id": "95aabfd3-9e1f-4dd3-a10c-a0ce3f1c619a",
   "metadata": {},
   "outputs": [],
   "source": [
    "df['name'] = df['name'].str.strip()"
   ]
  },
  {
   "cell_type": "code",
   "execution_count": 142,
   "id": "1e0a5cdc-887c-45fc-884f-ddfb43994292",
   "metadata": {},
   "outputs": [
    {
     "data": {
      "text/plain": [
       "0        Black Pearl\n",
       "1              Cobra\n",
       "2    Flying Dutchman\n",
       "3            Empress\n",
       "4                   \n",
       "Name: name, dtype: object"
      ]
     },
     "execution_count": 142,
     "metadata": {},
     "output_type": "execute_result"
    }
   ],
   "source": [
    "df['name']"
   ]
  },
  {
   "cell_type": "code",
   "execution_count": 130,
   "id": "8100e4af-325a-455c-a1ee-c5b451f42161",
   "metadata": {},
   "outputs": [
    {
     "data": {
      "text/html": [
       "<div>\n",
       "<style scoped>\n",
       "    .dataframe tbody tr th:only-of-type {\n",
       "        vertical-align: middle;\n",
       "    }\n",
       "\n",
       "    .dataframe tbody tr th {\n",
       "        vertical-align: top;\n",
       "    }\n",
       "\n",
       "    .dataframe thead th {\n",
       "        text-align: right;\n",
       "    }\n",
       "</style>\n",
       "<table border=\"1\" class=\"dataframe\">\n",
       "  <thead>\n",
       "    <tr style=\"text-align: right;\">\n",
       "      <th></th>\n",
       "      <th>name</th>\n",
       "      <th>lat</th>\n",
       "      <th>lng</th>\n",
       "    </tr>\n",
       "  </thead>\n",
       "  <tbody>\n",
       "    <tr>\n",
       "      <th>3</th>\n",
       "      <td>Empress</td>\n",
       "      <td>NaN</td>\n",
       "      <td>NaN</td>\n",
       "    </tr>\n",
       "  </tbody>\n",
       "</table>\n",
       "</div>"
      ],
      "text/plain": [
       "      name  lat  lng\n",
       "3  Empress  NaN  NaN"
      ]
     },
     "execution_count": 130,
     "metadata": {},
     "output_type": "execute_result"
    }
   ],
   "source": [
    "# The name column has been cleaned, but as we can see, it still does not appear in the result set.\n",
    "df[df.isnull().any(axis=1)]"
   ]
  },
  {
   "cell_type": "code",
   "execution_count": 144,
   "id": "a7602567-e307-4811-a2fe-2da0b98120f1",
   "metadata": {},
   "outputs": [],
   "source": [
    "mask = df['name'].str.strip() == ''"
   ]
  },
  {
   "cell_type": "code",
   "execution_count": 148,
   "id": "c6d6bd63-5a50-4308-a2e1-1e2034a1a007",
   "metadata": {},
   "outputs": [],
   "source": [
    "# Standardizes blank names as proper nulls.\n",
    "df.loc[mask, 'name'] = np.nan\n"
   ]
  },
  {
   "cell_type": "code",
   "execution_count": 152,
   "id": "9cefc692-cdfb-445f-b122-e828dd8f04a7",
   "metadata": {},
   "outputs": [
    {
     "data": {
      "text/html": [
       "<div>\n",
       "<style scoped>\n",
       "    .dataframe tbody tr th:only-of-type {\n",
       "        vertical-align: middle;\n",
       "    }\n",
       "\n",
       "    .dataframe tbody tr th {\n",
       "        vertical-align: top;\n",
       "    }\n",
       "\n",
       "    .dataframe thead th {\n",
       "        text-align: right;\n",
       "    }\n",
       "</style>\n",
       "<table border=\"1\" class=\"dataframe\">\n",
       "  <thead>\n",
       "    <tr style=\"text-align: right;\">\n",
       "      <th></th>\n",
       "      <th>name</th>\n",
       "      <th>lat</th>\n",
       "      <th>lng</th>\n",
       "    </tr>\n",
       "  </thead>\n",
       "  <tbody>\n",
       "    <tr>\n",
       "      <th>3</th>\n",
       "      <td>Empress</td>\n",
       "      <td>NaN</td>\n",
       "      <td>NaN</td>\n",
       "    </tr>\n",
       "    <tr>\n",
       "      <th>4</th>\n",
       "      <td>NaN</td>\n",
       "      <td>20.664875</td>\n",
       "      <td>-80.709777</td>\n",
       "    </tr>\n",
       "  </tbody>\n",
       "</table>\n",
       "</div>"
      ],
      "text/plain": [
       "      name        lat        lng\n",
       "3  Empress        NaN        NaN\n",
       "4      NaN  20.664875 -80.709777"
      ]
     },
     "execution_count": 152,
     "metadata": {},
     "output_type": "execute_result"
    }
   ],
   "source": [
    "df[df.isnull().any(axis=1)]\n"
   ]
  },
  {
   "cell_type": "code",
   "execution_count": 105,
   "id": "147a90cf-902b-4e80-98fd-9e49f5095946",
   "metadata": {},
   "outputs": [
    {
     "data": {
      "text/plain": [
       "0.0"
      ]
     },
     "execution_count": 105,
     "metadata": {},
     "output_type": "execute_result"
    }
   ],
   "source": [
    "# When summing data, NA values or empty data will be treated as zero.\n",
    "\n",
    "pd.Series([np.nan]).sum()"
   ]
  },
  {
   "cell_type": "code",
   "execution_count": 107,
   "id": "42c0f4da-be69-441d-b07a-635a6b678207",
   "metadata": {},
   "outputs": [
    {
     "data": {
      "text/plain": [
       "1.0"
      ]
     },
     "execution_count": 107,
     "metadata": {},
     "output_type": "execute_result"
    }
   ],
   "source": [
    "# When taking the product, NA values or empty data will be treated as 1.\n",
    "\n",
    "pd.Series([np.nan]).prod()"
   ]
  },
  {
   "cell_type": "markdown",
   "id": "70f41bc7-b99b-46d8-ad3f-60f2e320ed49",
   "metadata": {},
   "source": [
    "## Reference:\n",
    "[1] https://pandas.pydata.org/docs/user_guide/missing_data.html"
   ]
  },
  {
   "cell_type": "code",
   "execution_count": null,
   "id": "d7a96807-bed0-4d4b-93fd-65e2c6218167",
   "metadata": {},
   "outputs": [],
   "source": []
  }
 ],
 "metadata": {
  "kernelspec": {
   "display_name": "Python 3 (ipykernel)",
   "language": "python",
   "name": "python3"
  },
  "language_info": {
   "codemirror_mode": {
    "name": "ipython",
    "version": 3
   },
   "file_extension": ".py",
   "mimetype": "text/x-python",
   "name": "python",
   "nbconvert_exporter": "python",
   "pygments_lexer": "ipython3",
   "version": "3.12.7"
  }
 },
 "nbformat": 4,
 "nbformat_minor": 5
}
