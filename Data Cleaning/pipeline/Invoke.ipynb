{
 "cells": [
  {
   "cell_type": "code",
   "execution_count": 3,
   "id": "e2c7121b-0206-48e4-a49e-cda4a7fc8d3d",
   "metadata": {},
   "outputs": [],
   "source": [
    "import sqlite3\n",
    "\n",
    "import pandas as pd\n",
    "from invoke import task\n",
    "\n",
    "\n",
    "def load_csv(csv_file):\n",
    "    df = pd.read_csv(csv_file, parse_dates=['start', 'end'])\n",
    "    return df\n",
    "\n",
    "\n",
    "def validate(df):\n",
    "    bad_time = df.query('start >= end')\n",
    "    if len(bad_time) > 0:\n",
    "        raise ValueError(bad_time)\n",
    "\n",
    "\n",
    "@task\n",
    "def etl(ctx, csv_file):\n",
    "    df = load_csv(csv_file)\n",
    "    validate(df)\n",
    "\n",
    "    db_file = f'rides.db'\n",
    "    conn = sqlite3.connect(db_file)\n",
    "    df.to_sql('rides', conn, index=False, if_exists='append')"
   ]
  },
  {
   "cell_type": "code",
   "execution_count": null,
   "id": "94d03aba-1e62-4914-94a1-07ca2c0ab259",
   "metadata": {},
   "outputs": [],
   "source": []
  }
 ],
 "metadata": {
  "kernelspec": {
   "display_name": "Python 3 (ipykernel)",
   "language": "python",
   "name": "python3"
  },
  "language_info": {
   "codemirror_mode": {
    "name": "ipython",
    "version": 3
   },
   "file_extension": ".py",
   "mimetype": "text/x-python",
   "name": "python",
   "nbconvert_exporter": "python",
   "pygments_lexer": "ipython3",
   "version": "3.12.7"
  }
 },
 "nbformat": 4,
 "nbformat_minor": 5
}
