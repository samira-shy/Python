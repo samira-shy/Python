{
 "cells": [
  {
   "cell_type": "markdown",
   "id": "1568a231-b0b3-40c5-ae16-ba5296a972b1",
   "metadata": {},
   "source": [
    "# Lambda Expressions\n"
   ]
  },
  {
   "cell_type": "code",
   "execution_count": 21,
   "id": "4170ef22-c104-4cb8-a9a2-4e7f1b09ea4f",
   "metadata": {},
   "outputs": [],
   "source": [
    "def square(a):\n",
    "    a = a**2\n",
    "    return a"
   ]
  },
  {
   "cell_type": "code",
   "execution_count": 23,
   "id": "bd7f76a7-8de0-4eb2-bc6a-b6b46647455b",
   "metadata": {},
   "outputs": [],
   "source": [
    "x = 10\n",
    "x = square(10)"
   ]
  },
  {
   "cell_type": "code",
   "execution_count": 25,
   "id": "917f8d99-5431-4b74-af5a-c06fc61e1a16",
   "metadata": {},
   "outputs": [
    {
     "name": "stdout",
     "output_type": "stream",
     "text": [
      "100\n"
     ]
    }
   ],
   "source": [
    "print(x)"
   ]
  },
  {
   "cell_type": "code",
   "execution_count": 27,
   "id": "43e547e2-c8b9-4977-ba74-b53fa7771e3c",
   "metadata": {},
   "outputs": [
    {
     "data": {
      "text/plain": [
       "100"
      ]
     },
     "execution_count": 27,
     "metadata": {},
     "output_type": "execute_result"
    }
   ],
   "source": [
    "x"
   ]
  }
 ],
 "metadata": {
  "kernelspec": {
   "display_name": "Python 3 (ipykernel)",
   "language": "python",
   "name": "python3"
  },
  "language_info": {
   "codemirror_mode": {
    "name": "ipython",
    "version": 3
   },
   "file_extension": ".py",
   "mimetype": "text/x-python",
   "name": "python",
   "nbconvert_exporter": "python",
   "pygments_lexer": "ipython3",
   "version": "3.12.7"
  }
 },
 "nbformat": 4,
 "nbformat_minor": 5
}
