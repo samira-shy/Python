{
 "cells": [
  {
   "cell_type": "markdown",
   "id": "1568a231-b0b3-40c5-ae16-ba5296a972b1",
   "metadata": {},
   "source": [
    "# Lambda Expressions\n"
   ]
  },
  {
   "cell_type": "code",
   "execution_count": 21,
   "id": "4170ef22-c104-4cb8-a9a2-4e7f1b09ea4f",
   "metadata": {},
   "outputs": [],
   "source": [
    "def square(a):\n",
    "    a = a**2\n",
    "    return a"
   ]
  },
  {
   "cell_type": "code",
   "execution_count": 23,
   "id": "bd7f76a7-8de0-4eb2-bc6a-b6b46647455b",
   "metadata": {},
   "outputs": [],
   "source": [
    "x = 10\n",
    "x = square(10)"
   ]
  },
  {
   "cell_type": "code",
   "execution_count": 25,
   "id": "917f8d99-5431-4b74-af5a-c06fc61e1a16",
   "metadata": {},
   "outputs": [
    {
     "name": "stdout",
     "output_type": "stream",
     "text": [
      "100\n"
     ]
    }
   ],
   "source": [
    "print(x)"
   ]
  },
  {
   "cell_type": "code",
   "execution_count": 42,
   "id": "43e547e2-c8b9-4977-ba74-b53fa7771e3c",
   "metadata": {},
   "outputs": [],
   "source": [
    "def square_(a):return a**2"
   ]
  },
  {
   "cell_type": "code",
   "execution_count": 46,
   "id": "6c49917c-0ff9-43f7-bf60-0ade95825878",
   "metadata": {},
   "outputs": [
    {
     "data": {
      "text/plain": [
       "9"
      ]
     },
     "execution_count": 46,
     "metadata": {},
     "output_type": "execute_result"
    }
   ],
   "source": [
    "square_(3)"
   ]
  },
  {
   "cell_type": "code",
   "execution_count": 66,
   "id": "febd0bc2-667f-49f1-b589-9506fc0a3af5",
   "metadata": {},
   "outputs": [],
   "source": [
    "# a=1\n",
    "rst = lambda a:a**2"
   ]
  },
  {
   "cell_type": "code",
   "execution_count": 68,
   "id": "df734ca2-f5cb-46f7-b081-cf3322ae878f",
   "metadata": {},
   "outputs": [
    {
     "data": {
      "text/plain": [
       "9"
      ]
     },
     "execution_count": 68,
     "metadata": {},
     "output_type": "execute_result"
    }
   ],
   "source": [
    "rst(3)"
   ]
  },
  {
   "cell_type": "code",
   "execution_count": 70,
   "id": "0cc2a2a4-6cd2-4fb8-8532-7c69a4bd79b5",
   "metadata": {},
   "outputs": [],
   "source": [
    "sum = lambda a,b: a+b"
   ]
  },
  {
   "cell_type": "code",
   "execution_count": 72,
   "id": "fb453aeb-72f5-48c7-b64f-457111959070",
   "metadata": {},
   "outputs": [
    {
     "data": {
      "text/plain": [
       "3"
      ]
     },
     "execution_count": 72,
     "metadata": {},
     "output_type": "execute_result"
    }
   ],
   "source": [
    "sum(1,2)"
   ]
  },
  {
   "cell_type": "markdown",
   "id": "f1dfa3b6-beb9-4309-8bea-6e5b2e3a1ea9",
   "metadata": {},
   "source": [
    "## multiple operations in a single line\n",
    "\n",
    "### A lambda function that takes a list of numbers, filters even numbers, squares them, and sums the result.\n"
   ]
  },
  {
   "cell_type": "code",
   "execution_count": 75,
   "id": "a3a433c6-e168-46a9-b178-7443f1410d40",
   "metadata": {},
   "outputs": [],
   "source": [
    "sum_of_squares = lambda nums: sum(map(lambda x: x**2, filter(lambda x: x % 2 == 0, nums)))"
   ]
  },
  {
   "cell_type": "code",
   "execution_count": 77,
   "id": "41444cc5-76cc-451a-aa27-cd426b30f9f2",
   "metadata": {},
   "outputs": [
    {
     "ename": "TypeError",
     "evalue": "<lambda>() missing 1 required positional argument: 'b'",
     "output_type": "error",
     "traceback": [
      "\u001b[0;31m---------------------------------------------------------------------------\u001b[0m",
      "\u001b[0;31mTypeError\u001b[0m                                 Traceback (most recent call last)",
      "Cell \u001b[0;32mIn[77], line 2\u001b[0m\n\u001b[1;32m      1\u001b[0m nums \u001b[38;5;241m=\u001b[39m [\u001b[38;5;241m1\u001b[39m, \u001b[38;5;241m2\u001b[39m, \u001b[38;5;241m3\u001b[39m, \u001b[38;5;241m4\u001b[39m, \u001b[38;5;241m5\u001b[39m, \u001b[38;5;241m6\u001b[39m]\n\u001b[0;32m----> 2\u001b[0m \u001b[38;5;28mprint\u001b[39m(sum_of_squares(nums))\n",
      "Cell \u001b[0;32mIn[75], line 1\u001b[0m, in \u001b[0;36m<lambda>\u001b[0;34m(nums)\u001b[0m\n\u001b[0;32m----> 1\u001b[0m sum_of_squares \u001b[38;5;241m=\u001b[39m \u001b[38;5;28;01mlambda\u001b[39;00m nums: \u001b[38;5;28msum\u001b[39m(\u001b[38;5;28mmap\u001b[39m(\u001b[38;5;28;01mlambda\u001b[39;00m x: x\u001b[38;5;241m*\u001b[39m\u001b[38;5;241m*\u001b[39m\u001b[38;5;241m2\u001b[39m, \u001b[38;5;28mfilter\u001b[39m(\u001b[38;5;28;01mlambda\u001b[39;00m x: x \u001b[38;5;241m%\u001b[39m \u001b[38;5;241m2\u001b[39m \u001b[38;5;241m==\u001b[39m \u001b[38;5;241m0\u001b[39m, nums)))\n",
      "\u001b[0;31mTypeError\u001b[0m: <lambda>() missing 1 required positional argument: 'b'"
     ]
    }
   ],
   "source": [
    "nums = [1, 2, 3, 4, 5, 6]\n",
    "print(sum_of_squares(nums))"
   ]
  },
  {
   "cell_type": "code",
   "execution_count": null,
   "id": "331cb2d2-b177-4158-bd95-b08e227d8846",
   "metadata": {},
   "outputs": [],
   "source": []
  }
 ],
 "metadata": {
  "kernelspec": {
   "display_name": "Python 3 (ipykernel)",
   "language": "python",
   "name": "python3"
  },
  "language_info": {
   "codemirror_mode": {
    "name": "ipython",
    "version": 3
   },
   "file_extension": ".py",
   "mimetype": "text/x-python",
   "name": "python",
   "nbconvert_exporter": "python",
   "pygments_lexer": "ipython3",
   "version": "3.12.7"
  }
 },
 "nbformat": 4,
 "nbformat_minor": 5
}
