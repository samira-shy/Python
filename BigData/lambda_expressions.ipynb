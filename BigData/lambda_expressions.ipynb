{
 "cells": [
  {
   "cell_type": "markdown",
   "id": "1568a231-b0b3-40c5-ae16-ba5296a972b1",
   "metadata": {},
   "source": [
    "# Lambda Expressions\n"
   ]
  },
  {
   "cell_type": "code",
   "execution_count": 2,
   "id": "4170ef22-c104-4cb8-a9a2-4e7f1b09ea4f",
   "metadata": {},
   "outputs": [],
   "source": [
    "def square(a):\n",
    "    a = a**2\n",
    "    return a"
   ]
  },
  {
   "cell_type": "code",
   "execution_count": 3,
   "id": "bd7f76a7-8de0-4eb2-bc6a-b6b46647455b",
   "metadata": {},
   "outputs": [],
   "source": [
    "x = 10\n",
    "x = square(10)"
   ]
  },
  {
   "cell_type": "code",
   "execution_count": 4,
   "id": "917f8d99-5431-4b74-af5a-c06fc61e1a16",
   "metadata": {},
   "outputs": [
    {
     "name": "stdout",
     "output_type": "stream",
     "text": [
      "100\n"
     ]
    }
   ],
   "source": [
    "print(x)"
   ]
  },
  {
   "cell_type": "code",
   "execution_count": 5,
   "id": "43e547e2-c8b9-4977-ba74-b53fa7771e3c",
   "metadata": {},
   "outputs": [],
   "source": [
    "def square_(a):return a**2"
   ]
  },
  {
   "cell_type": "code",
   "execution_count": 6,
   "id": "6c49917c-0ff9-43f7-bf60-0ade95825878",
   "metadata": {},
   "outputs": [
    {
     "data": {
      "text/plain": [
       "9"
      ]
     },
     "execution_count": 6,
     "metadata": {},
     "output_type": "execute_result"
    }
   ],
   "source": [
    "square_(3)"
   ]
  },
  {
   "cell_type": "code",
   "execution_count": 7,
   "id": "febd0bc2-667f-49f1-b589-9506fc0a3af5",
   "metadata": {},
   "outputs": [],
   "source": [
    "# a=1\n",
    "rst = lambda a:a**2"
   ]
  },
  {
   "cell_type": "code",
   "execution_count": 8,
   "id": "df734ca2-f5cb-46f7-b081-cf3322ae878f",
   "metadata": {},
   "outputs": [
    {
     "data": {
      "text/plain": [
       "9"
      ]
     },
     "execution_count": 8,
     "metadata": {},
     "output_type": "execute_result"
    }
   ],
   "source": [
    "rst(3)"
   ]
  },
  {
   "cell_type": "code",
   "execution_count": 9,
   "id": "0cc2a2a4-6cd2-4fb8-8532-7c69a4bd79b5",
   "metadata": {},
   "outputs": [],
   "source": [
    "sum_ = lambda a,b: a+b"
   ]
  },
  {
   "cell_type": "code",
   "execution_count": 10,
   "id": "fb453aeb-72f5-48c7-b64f-457111959070",
   "metadata": {},
   "outputs": [
    {
     "data": {
      "text/plain": [
       "3"
      ]
     },
     "execution_count": 10,
     "metadata": {},
     "output_type": "execute_result"
    }
   ],
   "source": [
    "sum_(1,2)"
   ]
  },
  {
   "cell_type": "markdown",
   "id": "f1dfa3b6-beb9-4309-8bea-6e5b2e3a1ea9",
   "metadata": {},
   "source": [
    "## multiple operations in a single line\n",
    "\n",
    "### A lambda function that takes a list of numbers, filters even numbers, squares them, and sums the result.\n"
   ]
  },
  {
   "cell_type": "code",
   "execution_count": 87,
   "id": "331cb2d2-b177-4158-bd95-b08e227d8846",
   "metadata": {},
   "outputs": [],
   "source": [
    "nums=[1,2,3,4,12,20,21]"
   ]
  },
  {
   "cell_type": "code",
   "execution_count": 89,
   "id": "a3a433c6-e168-46a9-b178-7443f1410d40",
   "metadata": {},
   "outputs": [],
   "source": [
    "sum_of_squares = lambda nums: sum(map(lambda x: x**2, filter(lambda x: x % 2 == 0, nums)))"
   ]
  },
  {
   "cell_type": "code",
   "execution_count": 91,
   "id": "41444cc5-76cc-451a-aa27-cd426b30f9f2",
   "metadata": {},
   "outputs": [
    {
     "name": "stdout",
     "output_type": "stream",
     "text": [
      "564\n"
     ]
    }
   ],
   "source": [
    "\n",
    "print(sum_of_squares(nums))"
   ]
  },
  {
   "cell_type": "code",
   "execution_count": 93,
   "id": "13f316f5-f84d-4ce4-a63e-af281749fb1f",
   "metadata": {},
   "outputs": [
    {
     "data": {
      "text/plain": [
       "[1, 2, 3, 4, 12, 20, 21]"
      ]
     },
     "execution_count": 93,
     "metadata": {},
     "output_type": "execute_result"
    }
   ],
   "source": [
    "nums"
   ]
  },
  {
   "cell_type": "code",
   "execution_count": 73,
   "id": "f6d2191b-882a-4ef5-9096-5f911d37580e",
   "metadata": {},
   "outputs": [],
   "source": [
    "even = "
   ]
  },
  {
   "cell_type": "code",
   "execution_count": 75,
   "id": "06bf7b41-ab97-4bf1-afe0-51f47a0d5edc",
   "metadata": {},
   "outputs": [
    {
     "data": {
      "text/plain": [
       "[2, 4, 12, 20]"
      ]
     },
     "execution_count": 75,
     "metadata": {},
     "output_type": "execute_result"
    }
   ],
   "source": [
    "list(even)"
   ]
  },
  {
   "cell_type": "code",
   "execution_count": 69,
   "id": "4f0b1982-9215-423d-8719-87ab48566151",
   "metadata": {},
   "outputs": [
    {
     "data": {
      "text/plain": [
       "(2, 4, 12, 20)"
      ]
     },
     "execution_count": 69,
     "metadata": {},
     "output_type": "execute_result"
    }
   ],
   "source": [
    "tuple(even)"
   ]
  },
  {
   "cell_type": "code",
   "execution_count": 77,
   "id": "e4ab1f08-553f-4c72-be4e-d136587c070b",
   "metadata": {},
   "outputs": [],
   "source": [
    "square_nums = map(lambda even:even**2,filter(lambda x:x%2==0,nums))"
   ]
  },
  {
   "cell_type": "code",
   "execution_count": 81,
   "id": "d42af897-4fc6-429b-9ade-3c31b50cfa18",
   "metadata": {},
   "outputs": [
    {
     "data": {
      "text/plain": [
       "[4, 16, 144, 400]"
      ]
     },
     "execution_count": 81,
     "metadata": {},
     "output_type": "execute_result"
    }
   ],
   "source": [
    "list(square_nums)"
   ]
  },
  {
   "cell_type": "code",
   "execution_count": 83,
   "id": "0e2f4b4e-a648-42bd-976a-c3c2f88a4587",
   "metadata": {},
   "outputs": [],
   "source": [
    "square_nums = sum(map(lambda even:even**2,filter(lambda x:x%2==0,nums)))"
   ]
  },
  {
   "cell_type": "code",
   "execution_count": 85,
   "id": "363532be-6cdc-49dc-bc07-43463ed7cc4e",
   "metadata": {},
   "outputs": [
    {
     "data": {
      "text/plain": [
       "564"
      ]
     },
     "execution_count": 85,
     "metadata": {},
     "output_type": "execute_result"
    }
   ],
   "source": [
    "square_nums"
   ]
  },
  {
   "cell_type": "code",
   "execution_count": 96,
   "id": "595008e5-2c85-4e7a-91fe-7f76a63ed430",
   "metadata": {},
   "outputs": [],
   "source": [
    "sum_of_squares = lambda nums: sum(map(lambda x: x**2, filter(lambda x: x % 2 == 0, nums)))"
   ]
  },
  {
   "cell_type": "code",
   "execution_count": 102,
   "id": "bbbf06eb-e8b4-47fe-b160-7a167083c8ed",
   "metadata": {},
   "outputs": [
    {
     "name": "stdout",
     "output_type": "stream",
     "text": [
      "564\n"
     ]
    }
   ],
   "source": [
    "print(sum_of_squares(nums))"
   ]
  },
  {
   "cell_type": "markdown",
   "id": "fd521808-8809-43aa-a7b1-8fe0bfb71a9c",
   "metadata": {},
   "source": [
    "## Using for with Lambda to Iterate Over a List"
   ]
  },
  {
   "cell_type": "markdown",
   "id": "8d7908a7-fb37-400a-bac6-ba6c7a8db059",
   "metadata": {},
   "source": [
    "You can use for loops to iterate over a list or any iterable while applying a lambda function to each element.\n",
    "\n",
    "Example: Let's use a for loop to apply a lambda function that squares each element of a list.\n",
    "\n",
    "\n",
    "### Using lambda with a for loop to square each number\n"
   ]
  },
  {
   "cell_type": "code",
   "execution_count": 108,
   "id": "37bc264c-a0df-4cfa-9592-416f4e64683a",
   "metadata": {},
   "outputs": [],
   "source": [
    "numbers = [1, 2, 3, 4, 5]\n",
    "squares = []"
   ]
  },
  {
   "cell_type": "code",
   "execution_count": 110,
   "id": "6ef29b24-395a-43fb-8fb8-5da806ed7cad",
   "metadata": {},
   "outputs": [],
   "source": [
    "for number in numbers:\n",
    "    squares.append((lambda x: x ** 2)(number))"
   ]
  },
  {
   "cell_type": "code",
   "execution_count": 112,
   "id": "126126e6-de2a-4b97-af92-dc5cbe251617",
   "metadata": {},
   "outputs": [
    {
     "name": "stdout",
     "output_type": "stream",
     "text": [
      "[1, 4, 9, 16, 25]\n"
     ]
    }
   ],
   "source": [
    "print(squares)"
   ]
  },
  {
   "cell_type": "markdown",
   "id": "55d00daa-4133-4fec-96ed-6e5365a78911",
   "metadata": {},
   "source": [
    "### Using List Comprehension with Lambda\n",
    "You can combine for with a lambda function in a more concise way using list comprehensions. This is a common pattern to apply a lambda to all elements of a list.\n",
    "\n",
    "---\n",
    "This is essentially the same as the previous example but written more concisely using list comprehension.\n",
    "The lambda function (lambda x: x ** 2) is applied to each x in the numbers list."
   ]
  },
  {
   "cell_type": "code",
   "execution_count": 117,
   "id": "4a063d66-f525-4a1b-afb9-3e74ac1e7769",
   "metadata": {},
   "outputs": [],
   "source": [
    "numbers = [1, 2, 3, 4, 5]\n",
    "squares = [(lambda x: x ** 2)(x) for x in numbers]\n"
   ]
  },
  {
   "cell_type": "code",
   "execution_count": 119,
   "id": "48b0c2b3-fe00-4fd5-be2a-bf5860e7cbe2",
   "metadata": {},
   "outputs": [
    {
     "name": "stdout",
     "output_type": "stream",
     "text": [
      "[1, 4, 9, 16, 25]\n"
     ]
    }
   ],
   "source": [
    "print(squares)"
   ]
  },
  {
   "cell_type": "code",
   "execution_count": null,
   "id": "c4410b73-2017-46a8-b71d-a2b9115f8883",
   "metadata": {},
   "outputs": [],
   "source": []
  }
 ],
 "metadata": {
  "kernelspec": {
   "display_name": "Python 3 (ipykernel)",
   "language": "python",
   "name": "python3"
  },
  "language_info": {
   "codemirror_mode": {
    "name": "ipython",
    "version": 3
   },
   "file_extension": ".py",
   "mimetype": "text/x-python",
   "name": "python",
   "nbconvert_exporter": "python",
   "pygments_lexer": "ipython3",
   "version": "3.12.7"
  }
 },
 "nbformat": 4,
 "nbformat_minor": 5
}
