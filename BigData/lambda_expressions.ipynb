{
 "cells": [
  {
   "cell_type": "markdown",
   "id": "1568a231-b0b3-40c5-ae16-ba5296a972b1",
   "metadata": {},
   "source": [
    "# Lambda Expressions\n"
   ]
  },
  {
   "cell_type": "code",
   "execution_count": 21,
   "id": "4170ef22-c104-4cb8-a9a2-4e7f1b09ea4f",
   "metadata": {},
   "outputs": [],
   "source": [
    "def square(a):\n",
    "    a = a**2\n",
    "    return a"
   ]
  },
  {
   "cell_type": "code",
   "execution_count": 23,
   "id": "bd7f76a7-8de0-4eb2-bc6a-b6b46647455b",
   "metadata": {},
   "outputs": [],
   "source": [
    "x = 10\n",
    "x = square(10)"
   ]
  },
  {
   "cell_type": "code",
   "execution_count": 25,
   "id": "917f8d99-5431-4b74-af5a-c06fc61e1a16",
   "metadata": {},
   "outputs": [
    {
     "name": "stdout",
     "output_type": "stream",
     "text": [
      "100\n"
     ]
    }
   ],
   "source": [
    "print(x)"
   ]
  },
  {
   "cell_type": "code",
   "execution_count": 42,
   "id": "43e547e2-c8b9-4977-ba74-b53fa7771e3c",
   "metadata": {},
   "outputs": [],
   "source": [
    "def square_(a):return a**2"
   ]
  },
  {
   "cell_type": "code",
   "execution_count": 46,
   "id": "6c49917c-0ff9-43f7-bf60-0ade95825878",
   "metadata": {},
   "outputs": [
    {
     "data": {
      "text/plain": [
       "9"
      ]
     },
     "execution_count": 46,
     "metadata": {},
     "output_type": "execute_result"
    }
   ],
   "source": [
    "square_(3)"
   ]
  },
  {
   "cell_type": "code",
   "execution_count": 66,
   "id": "febd0bc2-667f-49f1-b589-9506fc0a3af5",
   "metadata": {},
   "outputs": [],
   "source": [
    "# a=1\n",
    "rst = lambda a:a**2"
   ]
  },
  {
   "cell_type": "code",
   "execution_count": 68,
   "id": "df734ca2-f5cb-46f7-b081-cf3322ae878f",
   "metadata": {},
   "outputs": [
    {
     "data": {
      "text/plain": [
       "9"
      ]
     },
     "execution_count": 68,
     "metadata": {},
     "output_type": "execute_result"
    }
   ],
   "source": [
    "rst(3)"
   ]
  },
  {
   "cell_type": "code",
   "execution_count": 70,
   "id": "0cc2a2a4-6cd2-4fb8-8532-7c69a4bd79b5",
   "metadata": {},
   "outputs": [],
   "source": [
    "sum = lambda a,b: a+b"
   ]
  },
  {
   "cell_type": "code",
   "execution_count": 72,
   "id": "fb453aeb-72f5-48c7-b64f-457111959070",
   "metadata": {},
   "outputs": [
    {
     "data": {
      "text/plain": [
       "3"
      ]
     },
     "execution_count": 72,
     "metadata": {},
     "output_type": "execute_result"
    }
   ],
   "source": [
    "sum(1,2)"
   ]
  },
  {
   "cell_type": "code",
   "execution_count": null,
   "id": "0b26e47e-475d-4a37-ad75-baa13a1fa863",
   "metadata": {},
   "outputs": [],
   "source": []
  }
 ],
 "metadata": {
  "kernelspec": {
   "display_name": "Python 3 (ipykernel)",
   "language": "python",
   "name": "python3"
  },
  "language_info": {
   "codemirror_mode": {
    "name": "ipython",
    "version": 3
   },
   "file_extension": ".py",
   "mimetype": "text/x-python",
   "name": "python",
   "nbconvert_exporter": "python",
   "pygments_lexer": "ipython3",
   "version": "3.12.7"
  }
 },
 "nbformat": 4,
 "nbformat_minor": 5
}
