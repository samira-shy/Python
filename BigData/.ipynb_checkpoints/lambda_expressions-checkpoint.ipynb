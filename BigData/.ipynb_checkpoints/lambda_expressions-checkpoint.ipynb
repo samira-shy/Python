{
 "cells": [
  {
   "cell_type": "markdown",
   "id": "1568a231-b0b3-40c5-ae16-ba5296a972b1",
   "metadata": {},
   "source": [
    "# Lambda Expressions\n"
   ]
  },
  {
   "cell_type": "code",
   "execution_count": 2,
   "id": "4170ef22-c104-4cb8-a9a2-4e7f1b09ea4f",
   "metadata": {},
   "outputs": [],
   "source": [
    "def square(a):\n",
    "    a = a**2\n",
    "    return a"
   ]
  },
  {
   "cell_type": "code",
   "execution_count": 3,
   "id": "bd7f76a7-8de0-4eb2-bc6a-b6b46647455b",
   "metadata": {},
   "outputs": [],
   "source": [
    "x = 10\n",
    "x = square(10)"
   ]
  },
  {
   "cell_type": "code",
   "execution_count": 4,
   "id": "917f8d99-5431-4b74-af5a-c06fc61e1a16",
   "metadata": {},
   "outputs": [
    {
     "name": "stdout",
     "output_type": "stream",
     "text": [
      "100\n"
     ]
    }
   ],
   "source": [
    "print(x)"
   ]
  },
  {
   "cell_type": "code",
   "execution_count": 5,
   "id": "43e547e2-c8b9-4977-ba74-b53fa7771e3c",
   "metadata": {},
   "outputs": [],
   "source": [
    "def square_(a):return a**2"
   ]
  },
  {
   "cell_type": "code",
   "execution_count": 6,
   "id": "6c49917c-0ff9-43f7-bf60-0ade95825878",
   "metadata": {},
   "outputs": [
    {
     "data": {
      "text/plain": [
       "9"
      ]
     },
     "execution_count": 6,
     "metadata": {},
     "output_type": "execute_result"
    }
   ],
   "source": [
    "square_(3)"
   ]
  },
  {
   "cell_type": "code",
   "execution_count": 7,
   "id": "febd0bc2-667f-49f1-b589-9506fc0a3af5",
   "metadata": {},
   "outputs": [],
   "source": [
    "# a=1\n",
    "rst = lambda a:a**2"
   ]
  },
  {
   "cell_type": "code",
   "execution_count": 8,
   "id": "df734ca2-f5cb-46f7-b081-cf3322ae878f",
   "metadata": {},
   "outputs": [
    {
     "data": {
      "text/plain": [
       "9"
      ]
     },
     "execution_count": 8,
     "metadata": {},
     "output_type": "execute_result"
    }
   ],
   "source": [
    "rst(3)"
   ]
  },
  {
   "cell_type": "code",
   "execution_count": 9,
   "id": "0cc2a2a4-6cd2-4fb8-8532-7c69a4bd79b5",
   "metadata": {},
   "outputs": [],
   "source": [
    "sum_ = lambda a,b: a+b"
   ]
  },
  {
   "cell_type": "code",
   "execution_count": 10,
   "id": "fb453aeb-72f5-48c7-b64f-457111959070",
   "metadata": {},
   "outputs": [
    {
     "data": {
      "text/plain": [
       "3"
      ]
     },
     "execution_count": 10,
     "metadata": {},
     "output_type": "execute_result"
    }
   ],
   "source": [
    "sum_(1,2)"
   ]
  },
  {
   "cell_type": "markdown",
   "id": "f1dfa3b6-beb9-4309-8bea-6e5b2e3a1ea9",
   "metadata": {},
   "source": [
    "## multiple operations in a single line\n",
    "\n",
    "### A lambda function that takes a list of numbers, filters even numbers, squares them, and sums the result.\n"
   ]
  },
  {
   "cell_type": "code",
   "execution_count": 26,
   "id": "a3a433c6-e168-46a9-b178-7443f1410d40",
   "metadata": {},
   "outputs": [],
   "source": [
    "sum_of_squares = lambda nums: sum(map(lambda x: x**2, filter(lambda x: x % 2 == 0, nums)))"
   ]
  },
  {
   "cell_type": "code",
   "execution_count": 28,
   "id": "41444cc5-76cc-451a-aa27-cd426b30f9f2",
   "metadata": {},
   "outputs": [
    {
     "name": "stdout",
     "output_type": "stream",
     "text": [
      "56\n"
     ]
    }
   ],
   "source": [
    "nums = [1, 2, 3, 4, 5, 6]\n",
    "print(sum_of_squares(nums))"
   ]
  },
  {
   "cell_type": "code",
   "execution_count": 71,
   "id": "331cb2d2-b177-4158-bd95-b08e227d8846",
   "metadata": {},
   "outputs": [],
   "source": [
    "nums=[1,2,3,4,12,20,21]"
   ]
  },
  {
   "cell_type": "code",
   "execution_count": 65,
   "id": "13f316f5-f84d-4ce4-a63e-af281749fb1f",
   "metadata": {},
   "outputs": [
    {
     "data": {
      "text/plain": [
       "[1, 2, 3, 4, 12, 20, 21]"
      ]
     },
     "execution_count": 65,
     "metadata": {},
     "output_type": "execute_result"
    }
   ],
   "source": [
    "nums"
   ]
  },
  {
   "cell_type": "code",
   "execution_count": 73,
   "id": "f6d2191b-882a-4ef5-9096-5f911d37580e",
   "metadata": {},
   "outputs": [],
   "source": [
    "even = filter(lambda x:x%2==0,nums)"
   ]
  },
  {
   "cell_type": "code",
   "execution_count": 75,
   "id": "06bf7b41-ab97-4bf1-afe0-51f47a0d5edc",
   "metadata": {},
   "outputs": [
    {
     "data": {
      "text/plain": [
       "[2, 4, 12, 20]"
      ]
     },
     "execution_count": 75,
     "metadata": {},
     "output_type": "execute_result"
    }
   ],
   "source": [
    "list(even)"
   ]
  },
  {
   "cell_type": "code",
   "execution_count": 69,
   "id": "4f0b1982-9215-423d-8719-87ab48566151",
   "metadata": {},
   "outputs": [
    {
     "data": {
      "text/plain": [
       "(2, 4, 12, 20)"
      ]
     },
     "execution_count": 69,
     "metadata": {},
     "output_type": "execute_result"
    }
   ],
   "source": [
    "tuple(even)"
   ]
  },
  {
   "cell_type": "code",
   "execution_count": null,
   "id": "e4ab1f08-553f-4c72-be4e-d136587c070b",
   "metadata": {},
   "outputs": [],
   "source": []
  }
 ],
 "metadata": {
  "kernelspec": {
   "display_name": "Python 3 (ipykernel)",
   "language": "python",
   "name": "python3"
  },
  "language_info": {
   "codemirror_mode": {
    "name": "ipython",
    "version": 3
   },
   "file_extension": ".py",
   "mimetype": "text/x-python",
   "name": "python",
   "nbconvert_exporter": "python",
   "pygments_lexer": "ipython3",
   "version": "3.12.7"
  }
 },
 "nbformat": 4,
 "nbformat_minor": 5
}
