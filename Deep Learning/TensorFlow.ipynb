{
 "cells": [
  {
   "cell_type": "markdown",
   "id": "0f13f4bb-ebf7-4bad-a9ec-749e1cab39a3",
   "metadata": {},
   "source": [
    "# TensorFlow\n",
    "\n",
    "### TensorFlow Installation Guide\n",
    "\n",
    "## Follow Official Installation Instructions\n",
    "Before proceeding, check the official TensorFlow installation guide for your operating system:\n",
    "🔗 [TensorFlow Installation Guide](https://www.tensorflow.org/install)\n",
    "\n",
    "## Installing TensorFlow on MacOS\n",
    "\n",
    "### 1️⃣ Install TensorFlow via pip\n",
    "TensorFlow does not officially support GPUs on MacOS, so it will run on **CPU only**. To install TensorFlow, run:\n",
    "\n",
    "```bash\n",
    "!python3 -m pip install tensorflow\n",
    "```\n",
    "\n",
    "### 2️⃣ Verify the Installation\n",
    "Once installed, verify it by running:\n",
    "\n",
    "```bash\n",
    "!python3 -c \"import tensorflow as tf; print(tf.reduce_sum(tf.random.normal([1000, 1000])))\"\n",
    "```\n",
    "\n",
    "### 3️⃣ (Optional) Optimizing for Apple Silicon (M1/M2/M3)\n",
    "If you're using an **Apple Silicon Mac**, install the optimized version of TensorFlow:\n",
    "\n",
    "```bash\n",
    "!python3 -m pip install tensorflow-macos tensorflow-metal\n",
    "```\n",
    "\n",
    "### 4️⃣ Upgrade pip (if needed)\n",
    "If you run into errors, try upgrading pip before installing TensorFlow:\n",
    "\n",
    "```bash\n",
    "!pip install --upgrade pip\n",
    "!pip install tensorflow-macos\n",
    "```\n",
    "\n",
    "## ✅ Troubleshooting\n",
    "- If you face **compatibility issues**, check the official documentation for **specific MacOS versions and Python compatibility**.\n",
    "- For **Windows/Linux users**, follow the [official guide](https://www.tensorflow.org/install) to install TensorFlow properly.\n"
   ]
  },
  {
   "cell_type": "code",
   "execution_count": 4,
   "id": "c9c44c11-997a-4df8-8c0d-fdb61fa866f8",
   "metadata": {},
   "outputs": [
    {
     "name": "stdout",
     "output_type": "stream",
     "text": [
      "Requirement already satisfied: tensorflow in /opt/anaconda3/lib/python3.12/site-packages (2.16.2)\n",
      "Requirement already satisfied: absl-py>=1.0.0 in /opt/anaconda3/lib/python3.12/site-packages (from tensorflow) (2.1.0)\n",
      "Requirement already satisfied: astunparse>=1.6.0 in /opt/anaconda3/lib/python3.12/site-packages (from tensorflow) (1.6.3)\n",
      "Requirement already satisfied: flatbuffers>=23.5.26 in /opt/anaconda3/lib/python3.12/site-packages (from tensorflow) (25.1.24)\n",
      "Requirement already satisfied: gast!=0.5.0,!=0.5.1,!=0.5.2,>=0.2.1 in /opt/anaconda3/lib/python3.12/site-packages (from tensorflow) (0.6.0)\n",
      "Requirement already satisfied: google-pasta>=0.1.1 in /opt/anaconda3/lib/python3.12/site-packages (from tensorflow) (0.2.0)\n",
      "Requirement already satisfied: h5py>=3.10.0 in /opt/anaconda3/lib/python3.12/site-packages (from tensorflow) (3.11.0)\n",
      "Requirement already satisfied: libclang>=13.0.0 in /opt/anaconda3/lib/python3.12/site-packages (from tensorflow) (18.1.1)\n",
      "Requirement already satisfied: ml-dtypes~=0.3.1 in /opt/anaconda3/lib/python3.12/site-packages (from tensorflow) (0.3.2)\n",
      "Requirement already satisfied: opt-einsum>=2.3.2 in /opt/anaconda3/lib/python3.12/site-packages (from tensorflow) (3.4.0)\n",
      "Requirement already satisfied: packaging in /opt/anaconda3/lib/python3.12/site-packages (from tensorflow) (24.1)\n",
      "Requirement already satisfied: protobuf!=4.21.0,!=4.21.1,!=4.21.2,!=4.21.3,!=4.21.4,!=4.21.5,<5.0.0dev,>=3.20.3 in /opt/anaconda3/lib/python3.12/site-packages (from tensorflow) (4.25.3)\n",
      "Requirement already satisfied: requests<3,>=2.21.0 in /opt/anaconda3/lib/python3.12/site-packages (from tensorflow) (2.32.3)\n",
      "Requirement already satisfied: setuptools in /opt/anaconda3/lib/python3.12/site-packages (from tensorflow) (75.1.0)\n",
      "Requirement already satisfied: six>=1.12.0 in /opt/anaconda3/lib/python3.12/site-packages (from tensorflow) (1.16.0)\n",
      "Requirement already satisfied: termcolor>=1.1.0 in /opt/anaconda3/lib/python3.12/site-packages (from tensorflow) (2.5.0)\n",
      "Requirement already satisfied: typing-extensions>=3.6.6 in /opt/anaconda3/lib/python3.12/site-packages (from tensorflow) (4.11.0)\n",
      "Requirement already satisfied: wrapt>=1.11.0 in /opt/anaconda3/lib/python3.12/site-packages (from tensorflow) (1.14.1)\n",
      "Requirement already satisfied: grpcio<2.0,>=1.24.3 in /opt/anaconda3/lib/python3.12/site-packages (from tensorflow) (1.70.0)\n",
      "Requirement already satisfied: tensorboard<2.17,>=2.16 in /opt/anaconda3/lib/python3.12/site-packages (from tensorflow) (2.16.2)\n",
      "Requirement already satisfied: keras>=3.0.0 in /opt/anaconda3/lib/python3.12/site-packages (from tensorflow) (3.8.0)\n",
      "Requirement already satisfied: numpy<2.0.0,>=1.26.0 in /opt/anaconda3/lib/python3.12/site-packages (from tensorflow) (1.26.4)\n",
      "Requirement already satisfied: wheel<1.0,>=0.23.0 in /opt/anaconda3/lib/python3.12/site-packages (from astunparse>=1.6.0->tensorflow) (0.44.0)\n",
      "Requirement already satisfied: rich in /opt/anaconda3/lib/python3.12/site-packages (from keras>=3.0.0->tensorflow) (13.7.1)\n",
      "Requirement already satisfied: namex in /opt/anaconda3/lib/python3.12/site-packages (from keras>=3.0.0->tensorflow) (0.0.8)\n",
      "Requirement already satisfied: optree in /opt/anaconda3/lib/python3.12/site-packages (from keras>=3.0.0->tensorflow) (0.14.0)\n",
      "Requirement already satisfied: charset-normalizer<4,>=2 in /opt/anaconda3/lib/python3.12/site-packages (from requests<3,>=2.21.0->tensorflow) (3.3.2)\n",
      "Requirement already satisfied: idna<4,>=2.5 in /opt/anaconda3/lib/python3.12/site-packages (from requests<3,>=2.21.0->tensorflow) (3.7)\n",
      "Requirement already satisfied: urllib3<3,>=1.21.1 in /opt/anaconda3/lib/python3.12/site-packages (from requests<3,>=2.21.0->tensorflow) (2.2.3)\n",
      "Requirement already satisfied: certifi>=2017.4.17 in /opt/anaconda3/lib/python3.12/site-packages (from requests<3,>=2.21.0->tensorflow) (2024.8.30)\n",
      "Requirement already satisfied: markdown>=2.6.8 in /opt/anaconda3/lib/python3.12/site-packages (from tensorboard<2.17,>=2.16->tensorflow) (3.4.1)\n",
      "Requirement already satisfied: tensorboard-data-server<0.8.0,>=0.7.0 in /opt/anaconda3/lib/python3.12/site-packages (from tensorboard<2.17,>=2.16->tensorflow) (0.7.2)\n",
      "Requirement already satisfied: werkzeug>=1.0.1 in /opt/anaconda3/lib/python3.12/site-packages (from tensorboard<2.17,>=2.16->tensorflow) (3.0.3)\n",
      "Requirement already satisfied: MarkupSafe>=2.1.1 in /opt/anaconda3/lib/python3.12/site-packages (from werkzeug>=1.0.1->tensorboard<2.17,>=2.16->tensorflow) (2.1.3)\n",
      "Requirement already satisfied: markdown-it-py>=2.2.0 in /opt/anaconda3/lib/python3.12/site-packages (from rich->keras>=3.0.0->tensorflow) (2.2.0)\n",
      "Requirement already satisfied: pygments<3.0.0,>=2.13.0 in /opt/anaconda3/lib/python3.12/site-packages (from rich->keras>=3.0.0->tensorflow) (2.15.1)\n",
      "Requirement already satisfied: mdurl~=0.1 in /opt/anaconda3/lib/python3.12/site-packages (from markdown-it-py>=2.2.0->rich->keras>=3.0.0->tensorflow) (0.1.0)\n",
      "2025-02-26 21:53:29.184776: I tensorflow/core/platform/cpu_feature_guard.cc:210] This TensorFlow binary is optimized to use available CPU instructions in performance-critical operations.\n",
      "To enable the following instructions: AVX2 FMA, in other operations, rebuild TensorFlow with the appropriate compiler flags.\n",
      "tf.Tensor(825.8768, shape=(), dtype=float32)\n"
     ]
    }
   ],
   "source": [
    "# There is currently no official GPU support for MacOS.\n",
    "!python3 -m pip install tensorflow\n",
    "# Verify the installation:\n",
    "!python3 -c \"import tensorflow as tf; print(tf.reduce_sum(tf.random.normal([1000, 1000])))\""
   ]
  },
  {
   "cell_type": "code",
   "execution_count": 7,
   "id": "e1f9c9a6-71c3-481b-9c87-e5952a57c4ad",
   "metadata": {},
   "outputs": [
    {
     "name": "stderr",
     "output_type": "stream",
     "text": [
      "2025-02-26 22:21:36.724928: I tensorflow/core/platform/cpu_feature_guard.cc:210] This TensorFlow binary is optimized to use available CPU instructions in performance-critical operations.\n",
      "To enable the following instructions: AVX2 FMA, in other operations, rebuild TensorFlow with the appropriate compiler flags.\n"
     ]
    }
   ],
   "source": [
    "import tensorflow as tf"
   ]
  },
  {
   "cell_type": "code",
   "execution_count": 12,
   "id": "fbe49dc1-1181-4713-935b-d16ce38c13db",
   "metadata": {},
   "outputs": [
    {
     "name": "stdout",
     "output_type": "stream",
     "text": [
      "Session created successfully!\n"
     ]
    }
   ],
   "source": [
    "# Disable eager execution (required for InteractiveSession)\n",
    "tf.compat.v1.disable_eager_execution()\n",
    "\n",
    "# Create an Interactive Session\n",
    "sess = tf.compat.v1.InteractiveSession()\n",
    "\n",
    "print(\"Session created successfully!\")\n"
   ]
  },
  {
   "cell_type": "markdown",
   "id": "5a19ee1d-b440-4bdc-ae5c-abf06ad1478b",
   "metadata": {},
   "source": [
    "## TensorFlow Basics\n",
    "We will go over how to create a simple constant with TensorFlow, by passing in a very simple object `'Hello World!'`"
   ]
  },
  {
   "cell_type": "code",
   "execution_count": 4,
   "id": "47ef0fa4-5600-4332-9b00-2c6046c4513a",
   "metadata": {},
   "outputs": [
    {
     "name": "stderr",
     "output_type": "stream",
     "text": [
      "2025-03-01 23:21:21.856186: I tensorflow/core/platform/cpu_feature_guard.cc:210] This TensorFlow binary is optimized to use available CPU instructions in performance-critical operations.\n",
      "To enable the following instructions: AVX2 FMA, in other operations, rebuild TensorFlow with the appropriate compiler flags.\n"
     ]
    }
   ],
   "source": [
    "import tensorflow as tf"
   ]
  },
  {
   "cell_type": "code",
   "execution_count": 5,
   "id": "a51a234f-d20d-4c6c-ba71-a5e3836e96ed",
   "metadata": {},
   "outputs": [
    {
     "data": {
      "text/plain": [
       "<tf.Tensor: shape=(), dtype=string, numpy=b'Hello World!'>"
      ]
     },
     "execution_count": 5,
     "metadata": {},
     "output_type": "execute_result"
    }
   ],
   "source": [
    "tf.constant('Hello World!')"
   ]
  },
  {
   "cell_type": "code",
   "execution_count": 8,
   "id": "35c6382a-b038-4346-8260-6cb693931e71",
   "metadata": {},
   "outputs": [],
   "source": [
    "hello = tf.constant('Hello World!')"
   ]
  },
  {
   "cell_type": "code",
   "execution_count": 10,
   "id": "762243fa-f56f-4b7c-8e4d-22317f648967",
   "metadata": {},
   "outputs": [
    {
     "data": {
      "text/plain": [
       "tensorflow.python.framework.ops.EagerTensor"
      ]
     },
     "execution_count": 10,
     "metadata": {},
     "output_type": "execute_result"
    }
   ],
   "source": [
    "type(hello)"
   ]
  },
  {
   "cell_type": "code",
   "execution_count": 12,
   "id": "3f4b8034-78ef-4d39-88f4-6437af5b9671",
   "metadata": {},
   "outputs": [],
   "source": [
    "x = tf.constant(100)"
   ]
  },
  {
   "cell_type": "code",
   "execution_count": 14,
   "id": "487e2ff7-6600-47d6-b81f-e3b880eddb98",
   "metadata": {},
   "outputs": [
    {
     "data": {
      "text/plain": [
       "<tf.Tensor: shape=(), dtype=int32, numpy=100>"
      ]
     },
     "execution_count": 14,
     "metadata": {},
     "output_type": "execute_result"
    }
   ],
   "source": [
    "x"
   ]
  },
  {
   "cell_type": "markdown",
   "id": "874d187c-b1af-40c6-9198-029aca798c2f",
   "metadata": {},
   "source": [
    "**Create a TensorFlow Session**\n",
    "In TensorFlow 2.x, a session (`tf.Session()`) is not required to execute a tensor. Instead, eager execution is enabled by default, allowing tensors to be evaluated instantly.\n",
    "\n",
    "### For TF 1.x Compatibility\n",
    "However if you need to run an operation Using a Session\n",
    "If you're working with TensorFlow 1.x style code in TensorFlow 2.x, you can disable eager execution and use a session:"
   ]
  },
  {
   "cell_type": "code",
   "execution_count": 4,
   "id": "5dff01fb-7c00-4c85-85c8-b61d25cf5612",
   "metadata": {},
   "outputs": [
    {
     "name": "stdout",
     "output_type": "stream",
     "text": [
      "Hello World!\n"
     ]
    }
   ],
   "source": [
    "import tensorflow as tf\n",
    "\n",
    " # Disable eager mode\n",
    "tf.compat.v1.disable_eager_execution() \n",
    "\n",
    "# Create a constant tensor object\n",
    "hello = tf.constant('Hello World!')\n",
    "\n",
    "# Create and run a session\n",
    "with tf.compat.v1.Session() as sess:\n",
    "    print(sess.run(hello).decode(\"utf-8\"))\n",
    "\n",
    "# print(tf.get_static_value(hello).decode(\"utf-8\"))"
   ]
  },
  {
   "cell_type": "markdown",
   "id": "8d168cef-7608-48c1-93c0-f7ac5ab8d71e",
   "metadata": {},
   "source": [
    "### Running the \"Hello World\" Tensor in TensorFlow 2.x"
   ]
  },
  {
   "cell_type": "code",
   "execution_count": 26,
   "id": "2f91c0ac-6506-44c9-9f72-29c2ffeeb247",
   "metadata": {},
   "outputs": [
    {
     "name": "stdout",
     "output_type": "stream",
     "text": [
      "Tensor(\"Const_10:0\", shape=(), dtype=string)\n"
     ]
    }
   ],
   "source": [
    "hello = tf.constant(b'Hello World!')\n",
    "\n",
    "print(hello)\n",
    "\n",
    "# Convert to NumPy bytes before decoding\n",
    "# print(hello.numpy().tobytes().decode(\"utf-8\"))"
   ]
  },
  {
   "cell_type": "code",
   "execution_count": 2,
   "id": "4617a942-0d8d-4eb8-bc95-0e1618db2acf",
   "metadata": {},
   "outputs": [],
   "source": [
    "# Operations"
   ]
  },
  {
   "cell_type": "code",
   "execution_count": 16,
   "id": "5760de9e-7db4-4603-b940-32a984c958cd",
   "metadata": {},
   "outputs": [],
   "source": [
    "x=tf.constant(2)"
   ]
  },
  {
   "cell_type": "code",
   "execution_count": 18,
   "id": "750be645-bdfe-481c-9810-5a546ae6c504",
   "metadata": {},
   "outputs": [],
   "source": [
    "y=tf.constant(3)"
   ]
  },
  {
   "cell_type": "code",
   "execution_count": 22,
   "id": "498b6077-9b53-47f4-a4c2-cb170f8dbcd1",
   "metadata": {},
   "outputs": [
    {
     "name": "stdout",
     "output_type": "stream",
     "text": [
      "Addition:  tf.Tensor(5, shape=(), dtype=int32)\n"
     ]
    }
   ],
   "source": [
    "print('Addition: ', x+y)"
   ]
  },
  {
   "cell_type": "code",
   "execution_count": null,
   "id": "5aee8b53-2559-43ec-a069-eab47153e599",
   "metadata": {},
   "outputs": [],
   "source": [
    "print('Subtractio: ', x+y)"
   ]
  }
 ],
 "metadata": {
  "kernelspec": {
   "display_name": "Python 3 (ipykernel)",
   "language": "python",
   "name": "python3"
  },
  "language_info": {
   "codemirror_mode": {
    "name": "ipython",
    "version": 3
   },
   "file_extension": ".py",
   "mimetype": "text/x-python",
   "name": "python",
   "nbconvert_exporter": "python",
   "pygments_lexer": "ipython3",
   "version": "3.12.7"
  }
 },
 "nbformat": 4,
 "nbformat_minor": 5
}
