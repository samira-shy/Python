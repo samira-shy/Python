{
 "cells": [
  {
   "cell_type": "markdown",
   "id": "0f13f4bb-ebf7-4bad-a9ec-749e1cab39a3",
   "metadata": {},
   "source": [
    "# TensorFlow\n",
    "\n",
    "### TensorFlow Installation Guide\n",
    "\n",
    "## Follow Official Installation Instructions\n",
    "Before proceeding, check the official TensorFlow installation guide for your operating system:\n",
    "🔗 [TensorFlow Installation Guide](https://www.tensorflow.org/install)\n",
    "\n",
    "## Installing TensorFlow on MacOS\n",
    "\n",
    "### 1️⃣ Install TensorFlow via pip\n",
    "TensorFlow does not officially support GPUs on MacOS, so it will run on **CPU only**. To install TensorFlow, run:\n",
    "\n",
    "```bash\n",
    "!python3 -m pip install tensorflow\n",
    "```\n",
    "\n",
    "### 2️⃣ Verify the Installation\n",
    "Once installed, verify it by running:\n",
    "\n",
    "```bash\n",
    "!python3 -c \"import tensorflow as tf; print(tf.reduce_sum(tf.random.normal([1000, 1000])))\"\n",
    "```\n",
    "\n",
    "### 3️⃣ (Optional) Optimizing for Apple Silicon (M1/M2/M3)\n",
    "If you're using an **Apple Silicon Mac**, install the optimized version of TensorFlow:\n",
    "\n",
    "```bash\n",
    "!python3 -m pip install tensorflow-macos tensorflow-metal\n",
    "```\n",
    "\n",
    "### 4️⃣ Upgrade pip (if needed)\n",
    "If you run into errors, try upgrading pip before installing TensorFlow:\n",
    "\n",
    "```bash\n",
    "!pip install --upgrade pip\n",
    "!pip install tensorflow-macos\n",
    "```\n",
    "\n",
    "## ✅ Troubleshooting\n",
    "- If you face **compatibility issues**, check the official documentation for **specific MacOS versions and Python compatibility**.\n",
    "- For **Windows/Linux users**, follow the [official guide](https://www.tensorflow.org/install) to install TensorFlow properly.\n"
   ]
  },
  {
   "cell_type": "code",
   "execution_count": 4,
   "id": "c9c44c11-997a-4df8-8c0d-fdb61fa866f8",
   "metadata": {},
   "outputs": [
    {
     "name": "stdout",
     "output_type": "stream",
     "text": [
      "Requirement already satisfied: tensorflow in /opt/anaconda3/lib/python3.12/site-packages (2.16.2)\n",
      "Requirement already satisfied: absl-py>=1.0.0 in /opt/anaconda3/lib/python3.12/site-packages (from tensorflow) (2.1.0)\n",
      "Requirement already satisfied: astunparse>=1.6.0 in /opt/anaconda3/lib/python3.12/site-packages (from tensorflow) (1.6.3)\n",
      "Requirement already satisfied: flatbuffers>=23.5.26 in /opt/anaconda3/lib/python3.12/site-packages (from tensorflow) (25.1.24)\n",
      "Requirement already satisfied: gast!=0.5.0,!=0.5.1,!=0.5.2,>=0.2.1 in /opt/anaconda3/lib/python3.12/site-packages (from tensorflow) (0.6.0)\n",
      "Requirement already satisfied: google-pasta>=0.1.1 in /opt/anaconda3/lib/python3.12/site-packages (from tensorflow) (0.2.0)\n",
      "Requirement already satisfied: h5py>=3.10.0 in /opt/anaconda3/lib/python3.12/site-packages (from tensorflow) (3.11.0)\n",
      "Requirement already satisfied: libclang>=13.0.0 in /opt/anaconda3/lib/python3.12/site-packages (from tensorflow) (18.1.1)\n",
      "Requirement already satisfied: ml-dtypes~=0.3.1 in /opt/anaconda3/lib/python3.12/site-packages (from tensorflow) (0.3.2)\n",
      "Requirement already satisfied: opt-einsum>=2.3.2 in /opt/anaconda3/lib/python3.12/site-packages (from tensorflow) (3.4.0)\n",
      "Requirement already satisfied: packaging in /opt/anaconda3/lib/python3.12/site-packages (from tensorflow) (24.1)\n",
      "Requirement already satisfied: protobuf!=4.21.0,!=4.21.1,!=4.21.2,!=4.21.3,!=4.21.4,!=4.21.5,<5.0.0dev,>=3.20.3 in /opt/anaconda3/lib/python3.12/site-packages (from tensorflow) (4.25.3)\n",
      "Requirement already satisfied: requests<3,>=2.21.0 in /opt/anaconda3/lib/python3.12/site-packages (from tensorflow) (2.32.3)\n",
      "Requirement already satisfied: setuptools in /opt/anaconda3/lib/python3.12/site-packages (from tensorflow) (75.1.0)\n",
      "Requirement already satisfied: six>=1.12.0 in /opt/anaconda3/lib/python3.12/site-packages (from tensorflow) (1.16.0)\n",
      "Requirement already satisfied: termcolor>=1.1.0 in /opt/anaconda3/lib/python3.12/site-packages (from tensorflow) (2.5.0)\n",
      "Requirement already satisfied: typing-extensions>=3.6.6 in /opt/anaconda3/lib/python3.12/site-packages (from tensorflow) (4.11.0)\n",
      "Requirement already satisfied: wrapt>=1.11.0 in /opt/anaconda3/lib/python3.12/site-packages (from tensorflow) (1.14.1)\n",
      "Requirement already satisfied: grpcio<2.0,>=1.24.3 in /opt/anaconda3/lib/python3.12/site-packages (from tensorflow) (1.70.0)\n",
      "Requirement already satisfied: tensorboard<2.17,>=2.16 in /opt/anaconda3/lib/python3.12/site-packages (from tensorflow) (2.16.2)\n",
      "Requirement already satisfied: keras>=3.0.0 in /opt/anaconda3/lib/python3.12/site-packages (from tensorflow) (3.8.0)\n",
      "Requirement already satisfied: numpy<2.0.0,>=1.26.0 in /opt/anaconda3/lib/python3.12/site-packages (from tensorflow) (1.26.4)\n",
      "Requirement already satisfied: wheel<1.0,>=0.23.0 in /opt/anaconda3/lib/python3.12/site-packages (from astunparse>=1.6.0->tensorflow) (0.44.0)\n",
      "Requirement already satisfied: rich in /opt/anaconda3/lib/python3.12/site-packages (from keras>=3.0.0->tensorflow) (13.7.1)\n",
      "Requirement already satisfied: namex in /opt/anaconda3/lib/python3.12/site-packages (from keras>=3.0.0->tensorflow) (0.0.8)\n",
      "Requirement already satisfied: optree in /opt/anaconda3/lib/python3.12/site-packages (from keras>=3.0.0->tensorflow) (0.14.0)\n",
      "Requirement already satisfied: charset-normalizer<4,>=2 in /opt/anaconda3/lib/python3.12/site-packages (from requests<3,>=2.21.0->tensorflow) (3.3.2)\n",
      "Requirement already satisfied: idna<4,>=2.5 in /opt/anaconda3/lib/python3.12/site-packages (from requests<3,>=2.21.0->tensorflow) (3.7)\n",
      "Requirement already satisfied: urllib3<3,>=1.21.1 in /opt/anaconda3/lib/python3.12/site-packages (from requests<3,>=2.21.0->tensorflow) (2.2.3)\n",
      "Requirement already satisfied: certifi>=2017.4.17 in /opt/anaconda3/lib/python3.12/site-packages (from requests<3,>=2.21.0->tensorflow) (2024.8.30)\n",
      "Requirement already satisfied: markdown>=2.6.8 in /opt/anaconda3/lib/python3.12/site-packages (from tensorboard<2.17,>=2.16->tensorflow) (3.4.1)\n",
      "Requirement already satisfied: tensorboard-data-server<0.8.0,>=0.7.0 in /opt/anaconda3/lib/python3.12/site-packages (from tensorboard<2.17,>=2.16->tensorflow) (0.7.2)\n",
      "Requirement already satisfied: werkzeug>=1.0.1 in /opt/anaconda3/lib/python3.12/site-packages (from tensorboard<2.17,>=2.16->tensorflow) (3.0.3)\n",
      "Requirement already satisfied: MarkupSafe>=2.1.1 in /opt/anaconda3/lib/python3.12/site-packages (from werkzeug>=1.0.1->tensorboard<2.17,>=2.16->tensorflow) (2.1.3)\n",
      "Requirement already satisfied: markdown-it-py>=2.2.0 in /opt/anaconda3/lib/python3.12/site-packages (from rich->keras>=3.0.0->tensorflow) (2.2.0)\n",
      "Requirement already satisfied: pygments<3.0.0,>=2.13.0 in /opt/anaconda3/lib/python3.12/site-packages (from rich->keras>=3.0.0->tensorflow) (2.15.1)\n",
      "Requirement already satisfied: mdurl~=0.1 in /opt/anaconda3/lib/python3.12/site-packages (from markdown-it-py>=2.2.0->rich->keras>=3.0.0->tensorflow) (0.1.0)\n",
      "2025-02-26 21:53:29.184776: I tensorflow/core/platform/cpu_feature_guard.cc:210] This TensorFlow binary is optimized to use available CPU instructions in performance-critical operations.\n",
      "To enable the following instructions: AVX2 FMA, in other operations, rebuild TensorFlow with the appropriate compiler flags.\n",
      "tf.Tensor(825.8768, shape=(), dtype=float32)\n"
     ]
    }
   ],
   "source": [
    "# There is currently no official GPU support for MacOS.\n",
    "!python3 -m pip install tensorflow\n",
    "# Verify the installation:\n",
    "!python3 -c \"import tensorflow as tf; print(tf.reduce_sum(tf.random.normal([1000, 1000])))\""
   ]
  },
  {
   "cell_type": "code",
   "execution_count": 7,
   "id": "e1f9c9a6-71c3-481b-9c87-e5952a57c4ad",
   "metadata": {},
   "outputs": [
    {
     "name": "stderr",
     "output_type": "stream",
     "text": [
      "2025-02-26 22:21:36.724928: I tensorflow/core/platform/cpu_feature_guard.cc:210] This TensorFlow binary is optimized to use available CPU instructions in performance-critical operations.\n",
      "To enable the following instructions: AVX2 FMA, in other operations, rebuild TensorFlow with the appropriate compiler flags.\n"
     ]
    }
   ],
   "source": [
    "import tensorflow as tf"
   ]
  },
  {
   "cell_type": "code",
   "execution_count": 12,
   "id": "fbe49dc1-1181-4713-935b-d16ce38c13db",
   "metadata": {},
   "outputs": [
    {
     "name": "stdout",
     "output_type": "stream",
     "text": [
      "Session created successfully!\n"
     ]
    }
   ],
   "source": [
    "# Disable eager execution (required for InteractiveSession)\n",
    "tf.compat.v1.disable_eager_execution()\n",
    "\n",
    "# Create an Interactive Session\n",
    "sess = tf.compat.v1.InteractiveSession()\n",
    "\n",
    "print(\"Session created successfully!\")\n"
   ]
  },
  {
   "cell_type": "markdown",
   "id": "5a19ee1d-b440-4bdc-ae5c-abf06ad1478b",
   "metadata": {},
   "source": [
    "## TensorFlow Basics\n",
    "We will go over how to create a simple constant with TensorFlow, by passing in a very simple object `'Hello World!'`"
   ]
  },
  {
   "cell_type": "code",
   "execution_count": 1,
   "id": "47ef0fa4-5600-4332-9b00-2c6046c4513a",
   "metadata": {},
   "outputs": [
    {
     "name": "stderr",
     "output_type": "stream",
     "text": [
      "2025-03-04 13:40:44.358885: I tensorflow/core/platform/cpu_feature_guard.cc:210] This TensorFlow binary is optimized to use available CPU instructions in performance-critical operations.\n",
      "To enable the following instructions: AVX2 FMA, in other operations, rebuild TensorFlow with the appropriate compiler flags.\n"
     ]
    }
   ],
   "source": [
    "import tensorflow as tf"
   ]
  },
  {
   "cell_type": "code",
   "execution_count": 5,
   "id": "a51a234f-d20d-4c6c-ba71-a5e3836e96ed",
   "metadata": {},
   "outputs": [
    {
     "data": {
      "text/plain": [
       "<tf.Tensor: shape=(), dtype=string, numpy=b'Hello World!'>"
      ]
     },
     "execution_count": 5,
     "metadata": {},
     "output_type": "execute_result"
    }
   ],
   "source": [
    "tf.constant('Hello World!')"
   ]
  },
  {
   "cell_type": "code",
   "execution_count": 8,
   "id": "35c6382a-b038-4346-8260-6cb693931e71",
   "metadata": {},
   "outputs": [],
   "source": [
    "hello = tf.constant('Hello World!')"
   ]
  },
  {
   "cell_type": "code",
   "execution_count": 10,
   "id": "762243fa-f56f-4b7c-8e4d-22317f648967",
   "metadata": {},
   "outputs": [
    {
     "data": {
      "text/plain": [
       "tensorflow.python.framework.ops.EagerTensor"
      ]
     },
     "execution_count": 10,
     "metadata": {},
     "output_type": "execute_result"
    }
   ],
   "source": [
    "type(hello)"
   ]
  },
  {
   "cell_type": "code",
   "execution_count": 12,
   "id": "3f4b8034-78ef-4d39-88f4-6437af5b9671",
   "metadata": {},
   "outputs": [],
   "source": [
    "x = tf.constant(100)"
   ]
  },
  {
   "cell_type": "code",
   "execution_count": 14,
   "id": "487e2ff7-6600-47d6-b81f-e3b880eddb98",
   "metadata": {},
   "outputs": [
    {
     "data": {
      "text/plain": [
       "<tf.Tensor: shape=(), dtype=int32, numpy=100>"
      ]
     },
     "execution_count": 14,
     "metadata": {},
     "output_type": "execute_result"
    }
   ],
   "source": [
    "x"
   ]
  },
  {
   "cell_type": "markdown",
   "id": "874d187c-b1af-40c6-9198-029aca798c2f",
   "metadata": {},
   "source": [
    "**Create a TensorFlow Session**\n",
    "In TensorFlow 2.x, a session (`tf.Session()`) is not required to execute a tensor. Instead, eager execution is enabled by default, allowing tensors to be evaluated instantly.\n",
    "\n",
    "### For TF 1.x Compatibility\n",
    "However if you need to run an operation Using a Session\n",
    "If you're working with TensorFlow 1.x style code in TensorFlow 2.x, you can disable eager execution and use a session:"
   ]
  },
  {
   "cell_type": "code",
   "execution_count": 4,
   "id": "5dff01fb-7c00-4c85-85c8-b61d25cf5612",
   "metadata": {},
   "outputs": [
    {
     "name": "stdout",
     "output_type": "stream",
     "text": [
      "Hello World!\n"
     ]
    }
   ],
   "source": [
    "import tensorflow as tf\n",
    "\n",
    " # Disable eager mode\n",
    "tf.compat.v1.disable_eager_execution() \n",
    "\n",
    "# Create a constant tensor object\n",
    "hello = tf.constant('Hello World!')\n",
    "\n",
    "# Create and run a session\n",
    "with tf.compat.v1.Session() as sess:\n",
    "    print(sess.run(hello).decode(\"utf-8\"))\n",
    "\n",
    "# print(tf.get_static_value(hello).decode(\"utf-8\"))"
   ]
  },
  {
   "cell_type": "markdown",
   "id": "8d168cef-7608-48c1-93c0-f7ac5ab8d71e",
   "metadata": {},
   "source": [
    "### Running the \"Hello World\" Tensor in TensorFlow 2.x"
   ]
  },
  {
   "cell_type": "code",
   "execution_count": 26,
   "id": "2f91c0ac-6506-44c9-9f72-29c2ffeeb247",
   "metadata": {},
   "outputs": [
    {
     "name": "stdout",
     "output_type": "stream",
     "text": [
      "Tensor(\"Const_10:0\", shape=(), dtype=string)\n"
     ]
    }
   ],
   "source": [
    "hello = tf.constant(b'Hello World!')\n",
    "\n",
    "print(hello)\n",
    "\n",
    "# Convert to NumPy bytes before decoding\n",
    "# print(hello.numpy().tobytes().decode(\"utf-8\"))"
   ]
  },
  {
   "cell_type": "code",
   "execution_count": 2,
   "id": "4617a942-0d8d-4eb8-bc95-0e1618db2acf",
   "metadata": {},
   "outputs": [],
   "source": [
    "# Operations"
   ]
  },
  {
   "cell_type": "code",
   "execution_count": 16,
   "id": "5760de9e-7db4-4603-b940-32a984c958cd",
   "metadata": {},
   "outputs": [],
   "source": [
    "x=tf.constant(2)"
   ]
  },
  {
   "cell_type": "code",
   "execution_count": 18,
   "id": "750be645-bdfe-481c-9810-5a546ae6c504",
   "metadata": {},
   "outputs": [],
   "source": [
    "y=tf.constant(3)"
   ]
  },
  {
   "cell_type": "code",
   "execution_count": 22,
   "id": "498b6077-9b53-47f4-a4c2-cb170f8dbcd1",
   "metadata": {},
   "outputs": [
    {
     "name": "stdout",
     "output_type": "stream",
     "text": [
      "Addition:  tf.Tensor(5, shape=(), dtype=int32)\n"
     ]
    }
   ],
   "source": [
    "print('Addition: ', x+y)"
   ]
  },
  {
   "cell_type": "code",
   "execution_count": 26,
   "id": "5aee8b53-2559-43ec-a069-eab47153e599",
   "metadata": {},
   "outputs": [
    {
     "name": "stdout",
     "output_type": "stream",
     "text": [
      "Subtraction:  tf.Tensor(-1, shape=(), dtype=int32)\n"
     ]
    }
   ],
   "source": [
    "print('Subtraction: ', x-y)"
   ]
  },
  {
   "cell_type": "code",
   "execution_count": 28,
   "id": "3d9ce4aa-4d0c-42a4-8339-ffbc43fdf7d9",
   "metadata": {},
   "outputs": [
    {
     "name": "stdout",
     "output_type": "stream",
     "text": [
      "Multiplication:  tf.Tensor(6, shape=(), dtype=int32)\n"
     ]
    }
   ],
   "source": [
    "print('Multiplication: ', x*y)"
   ]
  },
  {
   "cell_type": "code",
   "execution_count": 30,
   "id": "41fc7464-4cf5-4f30-9786-62ee318e0005",
   "metadata": {},
   "outputs": [
    {
     "name": "stdout",
     "output_type": "stream",
     "text": [
      "Division:  tf.Tensor(0.6666666666666666, shape=(), dtype=float64)\n"
     ]
    }
   ],
   "source": [
    "print('Division: ', x/y)"
   ]
  },
  {
   "cell_type": "code",
   "execution_count": 9,
   "id": "3bc3f98b-ec66-4075-b8e7-fc9b54dd529b",
   "metadata": {},
   "outputs": [
    {
     "name": "stdout",
     "output_type": "stream",
     "text": [
      "tf.Tensor(10, shape=(), dtype=int32)\n"
     ]
    }
   ],
   "source": [
    "@tf.function\n",
    "def my_function(x):\n",
    "    return x * 2\n",
    "\n",
    "x_func = tf.constant(5, dtype=tf.int32)\n",
    "print(my_function(x_func))\n"
   ]
  },
  {
   "cell_type": "code",
   "execution_count": 11,
   "id": "07fc09ea-8269-4bb0-ad08-8a2a6f52eb9f",
   "metadata": {},
   "outputs": [
    {
     "data": {
      "text/plain": [
       "<tf.Tensor: shape=(), dtype=int32, numpy=5>"
      ]
     },
     "execution_count": 11,
     "metadata": {},
     "output_type": "execute_result"
    }
   ],
   "source": [
    "x_func"
   ]
  },
  {
   "cell_type": "code",
   "execution_count": 7,
   "id": "f369c0da-3d0d-44ac-8573-7377ab860291",
   "metadata": {},
   "outputs": [],
   "source": [
    "x_ = tf.constant(5, dtype=tf.int32)"
   ]
  },
  {
   "cell_type": "code",
   "execution_count": 9,
   "id": "51d7301e-0275-4a10-8d40-cb121a7021e6",
   "metadata": {},
   "outputs": [
    {
     "data": {
      "text/plain": [
       "<tf.Tensor: shape=(), dtype=int32, numpy=5>"
      ]
     },
     "execution_count": 9,
     "metadata": {},
     "output_type": "execute_result"
    }
   ],
   "source": [
    "x_"
   ]
  },
  {
   "cell_type": "code",
   "execution_count": 11,
   "id": "0ce01afe-c45e-4ece-bdc6-ec28284f0006",
   "metadata": {},
   "outputs": [],
   "source": [
    "y_=tf.constant(6,dtype=tf.int32)"
   ]
  },
  {
   "cell_type": "code",
   "execution_count": 13,
   "id": "c4cb3c21-15db-4ca4-8e92-5aba65ddb727",
   "metadata": {},
   "outputs": [
    {
     "data": {
      "text/plain": [
       "<tf.Tensor: shape=(), dtype=int32, numpy=6>"
      ]
     },
     "execution_count": 13,
     "metadata": {},
     "output_type": "execute_result"
    }
   ],
   "source": [
    "y_"
   ]
  },
  {
   "cell_type": "code",
   "execution_count": 15,
   "id": "299e0df2-5638-450f-93c1-acf57b1cab93",
   "metadata": {},
   "outputs": [],
   "source": [
    "add=tf.add(x_,y_,)"
   ]
  },
  {
   "cell_type": "code",
   "execution_count": 17,
   "id": "50cc2a04-5c96-4d60-947e-d7179887338c",
   "metadata": {},
   "outputs": [
    {
     "data": {
      "text/plain": [
       "<tf.Tensor: shape=(), dtype=int32, numpy=11>"
      ]
     },
     "execution_count": 17,
     "metadata": {},
     "output_type": "execute_result"
    }
   ],
   "source": [
    "add"
   ]
  },
  {
   "cell_type": "code",
   "execution_count": 35,
   "id": "b075835e-7deb-427e-9392-986257f0f6a8",
   "metadata": {},
   "outputs": [],
   "source": [
    "x = tf.constant([1, 2], dtype=tf.int8)\n",
    ">>> y = [2**7 + 1, 2**7 + 2]"
   ]
  },
  {
   "cell_type": "code",
   "execution_count": 37,
   "id": "76c6559c-b1d2-44d2-aaf8-d38b13cd8b9d",
   "metadata": {},
   "outputs": [],
   "source": [
    "add_ = tf.add(x,y)"
   ]
  },
  {
   "cell_type": "code",
   "execution_count": 41,
   "id": "40c7a762-2d08-4fe8-a919-10761290be1c",
   "metadata": {},
   "outputs": [
    {
     "data": {
      "text/plain": [
       "<tf.Tensor: shape=(2,), dtype=int8, numpy=array([-126, -124], dtype=int8)>"
      ]
     },
     "execution_count": 41,
     "metadata": {},
     "output_type": "execute_result"
    }
   ],
   "source": [
    "add_"
   ]
  },
  {
   "cell_type": "code",
   "execution_count": 21,
   "id": "7826adaa-41da-41e4-a6f6-dc3ef472700f",
   "metadata": {},
   "outputs": [],
   "source": [
    "sub=tf.subtract(x_,y_)"
   ]
  },
  {
   "cell_type": "code",
   "execution_count": 23,
   "id": "7bc30fa9-5ba4-4f99-b0b5-c9d8449b623e",
   "metadata": {},
   "outputs": [
    {
     "data": {
      "text/plain": [
       "<tf.Tensor: shape=(), dtype=int32, numpy=-1>"
      ]
     },
     "execution_count": 23,
     "metadata": {},
     "output_type": "execute_result"
    }
   ],
   "source": [
    "sub"
   ]
  },
  {
   "cell_type": "code",
   "execution_count": 25,
   "id": "c9379a84-df40-4898-85f0-92bdbd56f69c",
   "metadata": {},
   "outputs": [],
   "source": [
    "multiplication = tf.multiply(x_,y_)"
   ]
  },
  {
   "cell_type": "code",
   "execution_count": 27,
   "id": "af6026bd-7990-4e69-beda-5fcdbdda9f5a",
   "metadata": {},
   "outputs": [
    {
     "data": {
      "text/plain": [
       "<tf.Tensor: shape=(), dtype=int32, numpy=30>"
      ]
     },
     "execution_count": 27,
     "metadata": {},
     "output_type": "execute_result"
    }
   ],
   "source": [
    "multiplication"
   ]
  },
  {
   "cell_type": "code",
   "execution_count": 29,
   "id": "41064ce7-1f65-45ac-993d-9453706bb817",
   "metadata": {},
   "outputs": [],
   "source": [
    "div=tf.divide(x_,y_)"
   ]
  },
  {
   "cell_type": "code",
   "execution_count": 31,
   "id": "a69ff794-1abc-4c91-8805-dc30b0ce290a",
   "metadata": {},
   "outputs": [
    {
     "data": {
      "text/plain": [
       "<tf.Tensor: shape=(), dtype=float64, numpy=0.8333333333333334>"
      ]
     },
     "execution_count": 31,
     "metadata": {},
     "output_type": "execute_result"
    }
   ],
   "source": [
    "div"
   ]
  },
  {
   "cell_type": "code",
   "execution_count": 1,
   "id": "fb749d31-10e9-45a1-82a4-5dd7d42591c5",
   "metadata": {},
   "outputs": [
    {
     "name": "stderr",
     "output_type": "stream",
     "text": [
      "2025-03-19 20:12:46.564568: I tensorflow/core/platform/cpu_feature_guard.cc:210] This TensorFlow binary is optimized to use available CPU instructions in performance-critical operations.\n",
      "To enable the following instructions: AVX2 FMA, in other operations, rebuild TensorFlow with the appropriate compiler flags.\n"
     ]
    }
   ],
   "source": [
    "import tensorflow as tf"
   ]
  },
  {
   "cell_type": "code",
   "execution_count": 3,
   "id": "6db8cf0a-5807-465f-8f4d-a15ca86907e4",
   "metadata": {},
   "outputs": [
    {
     "ename": "AttributeError",
     "evalue": "module 'tensorflow' has no attribute 'placeholder'",
     "output_type": "error",
     "traceback": [
      "\u001b[0;31m---------------------------------------------------------------------------\u001b[0m",
      "\u001b[0;31mAttributeError\u001b[0m                            Traceback (most recent call last)",
      "Cell \u001b[0;32mIn[3], line 1\u001b[0m\n\u001b[0;32m----> 1\u001b[0m x \u001b[38;5;241m=\u001b[39m tf\u001b[38;5;241m.\u001b[39mplaceholder(tf\u001b[38;5;241m.\u001b[39mint32)\n",
      "\u001b[0;31mAttributeError\u001b[0m: module 'tensorflow' has no attribute 'placeholder'"
     ]
    }
   ],
   "source": [
    "# TensorFlow 1.x\n",
    "x = tf.placeholder(tf.int32)"
   ]
  },
  {
   "cell_type": "code",
   "execution_count": 13,
   "id": "c9f25778-84aa-4bb3-8eef-d711dc672814",
   "metadata": {},
   "outputs": [],
   "source": [
    "# TF 2.x\n",
    "x = tf.Variable(1,dtype=tf.int32)"
   ]
  },
  {
   "cell_type": "code",
   "execution_count": 19,
   "id": "69666b22-7c5a-4c13-9720-2505e6ebee9e",
   "metadata": {},
   "outputs": [],
   "source": [
    "y = tf.Variable(10,dtype=tf.int32)"
   ]
  },
  {
   "cell_type": "code",
   "execution_count": 15,
   "id": "f657ada7-2930-4efb-bf81-e1f67ed571ee",
   "metadata": {},
   "outputs": [
    {
     "data": {
      "text/plain": [
       "<tf.Variable 'Variable:0' shape=() dtype=int32, numpy=1>"
      ]
     },
     "execution_count": 15,
     "metadata": {},
     "output_type": "execute_result"
    }
   ],
   "source": [
    "x"
   ]
  },
  {
   "cell_type": "code",
   "execution_count": 21,
   "id": "322e70ac-0533-4b2d-b3c0-f8eb65e1d1de",
   "metadata": {},
   "outputs": [
    {
     "data": {
      "text/plain": [
       "<tf.Variable 'Variable:0' shape=() dtype=int32, numpy=10>"
      ]
     },
     "execution_count": 21,
     "metadata": {},
     "output_type": "execute_result"
    }
   ],
   "source": [
    "y"
   ]
  },
  {
   "cell_type": "code",
   "execution_count": null,
   "id": "c8ae1bdf-a5ab-49b4-9003-021ce5158fa9",
   "metadata": {},
   "outputs": [],
   "source": []
  }
 ],
 "metadata": {
  "kernelspec": {
   "display_name": "Python 3 (ipykernel)",
   "language": "python",
   "name": "python3"
  },
  "language_info": {
   "codemirror_mode": {
    "name": "ipython",
    "version": 3
   },
   "file_extension": ".py",
   "mimetype": "text/x-python",
   "name": "python",
   "nbconvert_exporter": "python",
   "pygments_lexer": "ipython3",
   "version": "3.12.7"
  }
 },
 "nbformat": 4,
 "nbformat_minor": 5
}
