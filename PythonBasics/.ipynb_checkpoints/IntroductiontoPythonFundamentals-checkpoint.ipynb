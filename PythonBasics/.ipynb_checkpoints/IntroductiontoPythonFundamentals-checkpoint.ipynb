{
 "cells": [
  {
   "cell_type": "markdown",
   "id": "d9f10573-10a3-431a-9175-02fec26e6f43",
   "metadata": {},
   "source": [
    "# Python Basics: A Comprehensive Overview  \n",
    "\n",
    "Welcome to this notebook on **Python Basics**! This notebook is designed to provide a foundational understanding of Python by covering its core topics step by step. Whether you're a beginner or need a quick refresher, this guide will walk you through essential concepts with examples and explanations.  \n",
    "\n",
    "### Topics Covered:  \n",
    "1. **Data Types**  \n",
    "    - Numbers  \n",
    "    - Strings  \n",
    "    - Printing  \n",
    "    - Lists  \n",
    "    - Dictionaries  \n",
    "    - Booleans  \n",
    "    - Tuples  \n",
    "    - Sets  \n",
    "2. **Comparison Operators**  \n",
    "3. **Control Flow Statements**  \n",
    "    - `if`, `elif`, `else` Statements  \n",
    "4. **Loops**  \n",
    "    - `for` Loops  \n",
    "    - `while` Loops  \n",
    "5. **Useful Functions**  \n",
    "    - `range()`  \n",
    "    - List Comprehension  \n",
    "6. **Functions and Expressions**  \n",
    "    - Defining Functions  \n",
    "    - Lambda Expressions  \n",
    "    - Using `map()` and `filter()`  \n",
    "7. **Methods**  \n",
    "\n",
    "By the end of this notebook, you will have a solid understanding of these topics and be ready to move on to more advanced Python concepts. Let's get started! 🚀\n"
   ]
  },
  {
   "cell_type": "markdown",
   "id": "d0af10f0-989b-4b07-90d8-d85507c4dfbb",
   "metadata": {},
   "source": [
    "**Basic operartions**"
   ]
  },
  {
   "cell_type": "code",
   "execution_count": 2,
   "id": "cd537547-5d42-4f0b-a8cc-3d040cc0e985",
   "metadata": {},
   "outputs": [
    {
     "data": {
      "text/plain": [
       "2"
      ]
     },
     "execution_count": 2,
     "metadata": {},
     "output_type": "execute_result"
    }
   ],
   "source": [
    "1+1"
   ]
  },
  {
   "cell_type": "code",
   "execution_count": 4,
   "id": "d23d766b-1e0e-409c-bfd7-bda6fe9bfd37",
   "metadata": {},
   "outputs": [
    {
     "data": {
      "text/plain": [
       "0"
      ]
     },
     "execution_count": 4,
     "metadata": {},
     "output_type": "execute_result"
    }
   ],
   "source": [
    "1-1"
   ]
  },
  {
   "cell_type": "code",
   "execution_count": 6,
   "id": "b11fdce1-ea85-477e-aa52-8692c23ab6cd",
   "metadata": {},
   "outputs": [
    {
     "data": {
      "text/plain": [
       "2"
      ]
     },
     "execution_count": 6,
     "metadata": {},
     "output_type": "execute_result"
    }
   ],
   "source": [
    "1*2"
   ]
  },
  {
   "cell_type": "code",
   "execution_count": 8,
   "id": "65aa22eb-5220-494d-bc0d-d5f121a3ff2d",
   "metadata": {},
   "outputs": [
    {
     "data": {
      "text/plain": [
       "2.0"
      ]
     },
     "execution_count": 8,
     "metadata": {},
     "output_type": "execute_result"
    }
   ],
   "source": [
    "2/1"
   ]
  },
  {
   "cell_type": "code",
   "execution_count": 10,
   "id": "416e40b1-be91-46a2-8931-28a031c22fe3",
   "metadata": {},
   "outputs": [
    {
     "data": {
      "text/plain": [
       "0"
      ]
     },
     "execution_count": 10,
     "metadata": {},
     "output_type": "execute_result"
    }
   ],
   "source": [
    "2%1"
   ]
  },
  {
   "cell_type": "code",
   "execution_count": 15,
   "id": "4a25b7d3-123d-45fa-a3ee-7d5731aab347",
   "metadata": {},
   "outputs": [
    {
     "data": {
      "text/plain": [
       "8"
      ]
     },
     "execution_count": 15,
     "metadata": {},
     "output_type": "execute_result"
    }
   ],
   "source": [
    "# Power\n",
    "2**3"
   ]
  },
  {
   "cell_type": "code",
   "execution_count": 21,
   "id": "c67ad50b-c784-4fa2-947e-3efe28777079",
   "metadata": {},
   "outputs": [
    {
     "data": {
      "text/plain": [
       "10.0"
      ]
     },
     "execution_count": 21,
     "metadata": {},
     "output_type": "execute_result"
    }
   ],
   "source": [
    "# Default operation order by python / your own operation order using Parentheses\n",
    "2+15/5*2+2"
   ]
  },
  {
   "cell_type": "code",
   "execution_count": 23,
   "id": "749fb874-51a5-4234-8577-aa8a07b53b9d",
   "metadata": {},
   "outputs": [
    {
     "data": {
      "text/plain": [
       "-12"
      ]
     },
     "execution_count": 23,
     "metadata": {},
     "output_type": "execute_result"
    }
   ],
   "source": [
    "(2-4)*(2+4)"
   ]
  },
  {
   "cell_type": "markdown",
   "id": "6872e39d-b159-4f2f-816d-dee514d638a1",
   "metadata": {},
   "source": [
    "## Variables  \n",
    "\n",
    "In this section, we will cover how to assign values to variables and the rules for naming them properly.  \n",
    "\n",
    "### Rules for Variable Names:  \n",
    "- **Start with a lowercase letter:** Always begin variable names with a lowercase letter.  \n",
    "- **Use underscores to separate words:** For multi-word variable names, use underscores (e.g., `my_variable`) to improve readability.  \n",
    "- **Do not start with numbers:** Variable names cannot start with numbers. Python will raise an `invalid decimal literal` error if you try.  \n",
    "- **Avoid special symbols:** Variable names cannot begin with special symbols (e.g., `@`, `#`, `$`). Python will raise an `invalid syntax` error in such cases.  \n",
    "\n",
    "Below, you’ll see examples of valid and invalid variable names.\n"
   ]
  },
  {
   "cell_type": "code",
   "execution_count": 29,
   "id": "82913507-fee0-463d-b710-9b9b3aff09f1",
   "metadata": {},
   "outputs": [],
   "source": [
    "var =3"
   ]
  },
  {
   "cell_type": "code",
   "execution_count": 41,
   "id": "95adc1e0-aac3-4720-ba96-b483a8ec6ba1",
   "metadata": {},
   "outputs": [],
   "source": [
    "x = 2\n",
    "y=4"
   ]
  },
  {
   "cell_type": "code",
   "execution_count": 43,
   "id": "735cabfe-9a93-455c-aae8-5dbb9c972eaa",
   "metadata": {},
   "outputs": [
    {
     "data": {
      "text/plain": [
       "6"
      ]
     },
     "execution_count": 43,
     "metadata": {},
     "output_type": "execute_result"
    }
   ],
   "source": [
    "x+y"
   ]
  },
  {
   "cell_type": "code",
   "execution_count": 49,
   "id": "33656ebb-4e64-400b-b206-af52b7af5c92",
   "metadata": {},
   "outputs": [],
   "source": [
    "# Assign and reassign\n",
    "x = x+x"
   ]
  },
  {
   "cell_type": "code",
   "execution_count": 51,
   "id": "d68be4d9-af48-4847-b7a5-80bd9a05ddf1",
   "metadata": {},
   "outputs": [
    {
     "data": {
      "text/plain": [
       "8"
      ]
     },
     "execution_count": 51,
     "metadata": {},
     "output_type": "execute_result"
    }
   ],
   "source": [
    "x"
   ]
  },
  {
   "cell_type": "code",
   "execution_count": 63,
   "id": "3f63e278-b0af-4a5d-ab23-a0b74efb206c",
   "metadata": {},
   "outputs": [],
   "source": [
    "my_variable = 121"
   ]
  },
  {
   "cell_type": "code",
   "execution_count": 65,
   "id": "a646d2a8-4f91-4685-b6a8-c0df61f37b44",
   "metadata": {},
   "outputs": [
    {
     "ename": "SyntaxError",
     "evalue": "invalid decimal literal (1221657576.py, line 1)",
     "output_type": "error",
     "traceback": [
      "\u001b[0;36m  Cell \u001b[0;32mIn[65], line 1\u001b[0;36m\u001b[0m\n\u001b[0;31m    111var = 33\u001b[0m\n\u001b[0m      ^\u001b[0m\n\u001b[0;31mSyntaxError\u001b[0m\u001b[0;31m:\u001b[0m invalid decimal literal\n"
     ]
    }
   ],
   "source": [
    "111var = 33"
   ]
  },
  {
   "cell_type": "code",
   "execution_count": 67,
   "id": "f9c0bef2-bf0c-4f9a-8de7-50509bb551cd",
   "metadata": {},
   "outputs": [
    {
     "ename": "SyntaxError",
     "evalue": "invalid syntax (2537844640.py, line 1)",
     "output_type": "error",
     "traceback": [
      "\u001b[0;36m  Cell \u001b[0;32mIn[67], line 1\u001b[0;36m\u001b[0m\n\u001b[0;31m    `var = 33\u001b[0m\n\u001b[0m    ^\u001b[0m\n\u001b[0;31mSyntaxError\u001b[0m\u001b[0;31m:\u001b[0m invalid syntax\n"
     ]
    }
   ],
   "source": [
    "`var = 33"
   ]
  },
  {
   "cell_type": "markdown",
   "id": "f42e24ff-a487-4239-ac4a-6559d7c6aae9",
   "metadata": {},
   "source": [
    "## Strings"
   ]
  },
  {
   "cell_type": "code",
   "execution_count": 72,
   "id": "d325cdc2-50a0-4f49-b8e0-8c81eb550bab",
   "metadata": {},
   "outputs": [
    {
     "data": {
      "text/plain": [
       "'single quote'"
      ]
     },
     "execution_count": 72,
     "metadata": {},
     "output_type": "execute_result"
    }
   ],
   "source": [
    "# ways to Creating strings\n",
    "'single quote'"
   ]
  },
  {
   "cell_type": "code",
   "execution_count": 74,
   "id": "0f16399a-60f6-4b2f-bcdd-90852d38d129",
   "metadata": {},
   "outputs": [
    {
     "data": {
      "text/plain": [
       "'This is a string'"
      ]
     },
     "execution_count": 74,
     "metadata": {},
     "output_type": "execute_result"
    }
   ],
   "source": [
    "\"This is a string\""
   ]
  },
  {
   "cell_type": "code",
   "execution_count": 76,
   "id": "3ccff821-16a8-455c-89b1-876802ce43af",
   "metadata": {},
   "outputs": [
    {
     "data": {
      "text/plain": [
       "\"I can't go\""
      ]
     },
     "execution_count": 76,
     "metadata": {},
     "output_type": "execute_result"
    }
   ],
   "source": [
    "# You can wrapp double quote around single quote \n",
    "\"I can't go\""
   ]
  },
  {
   "cell_type": "code",
   "execution_count": 78,
   "id": "81a2c2b5-d580-48fc-8862-0b4ef75e17a4",
   "metadata": {},
   "outputs": [],
   "source": [
    "# Printing strings\n",
    "x='hello'"
   ]
  },
  {
   "cell_type": "code",
   "execution_count": 80,
   "id": "3a679411-71ed-43ac-b240-c74b8d7d74bb",
   "metadata": {},
   "outputs": [
    {
     "data": {
      "text/plain": [
       "'hello'"
      ]
     },
     "execution_count": 80,
     "metadata": {},
     "output_type": "execute_result"
    }
   ],
   "source": [
    "# It will be shown on out indicator\n",
    "x"
   ]
  },
  {
   "cell_type": "code",
   "execution_count": 86,
   "id": "699dfa9e-31f1-45f4-b255-97e44baab851",
   "metadata": {},
   "outputs": [
    {
     "name": "stdout",
     "output_type": "stream",
     "text": [
      "hello\n"
     ]
    }
   ],
   "source": [
    "# Using `print` Removes Indicators and Single Quotes from Output\n",
    "print(x)"
   ]
  },
  {
   "cell_type": "code",
   "execution_count": 104,
   "id": "ad8b6ef8-cc27-413b-a7f3-ff13176f4ecf",
   "metadata": {},
   "outputs": [],
   "source": [
    "# Formatting print statement\n",
    "num =123\n",
    "name='Sam'"
   ]
  },
  {
   "cell_type": "code",
   "execution_count": 106,
   "id": "bda0e0cf-7213-43f1-87d2-539d677e5d5d",
   "metadata": {},
   "outputs": [
    {
     "data": {
      "text/plain": [
       "'My name is Sam and my number is 123'"
      ]
     },
     "execution_count": 106,
     "metadata": {},
     "output_type": "execute_result"
    }
   ],
   "source": [
    "# The .format() method allows you to pass variable names in the order you want them to fill the curly brackets.\n",
    "'My name is {} and my number is {}'.format(name, num)"
   ]
  },
  {
   "cell_type": "code",
   "execution_count": 108,
   "id": "e0d683a2-cf86-42cd-8d5b-e80aead3e20c",
   "metadata": {},
   "outputs": [
    {
     "name": "stdout",
     "output_type": "stream",
     "text": [
      "My name is Sam and my number is 123\n"
     ]
    }
   ],
   "source": [
    "print('My name is {} and my number is {}'.format(name,num))"
   ]
  },
  {
   "cell_type": "code",
   "execution_count": 110,
   "id": "4206ada3-215c-47a3-9def-3fd72bd76ae8",
   "metadata": {},
   "outputs": [
    {
     "name": "stdout",
     "output_type": "stream",
     "text": [
      "My name is Sam and my number is 123\n"
     ]
    }
   ],
   "source": [
    "#  Passany variable into curly bracket\n",
    "print('My name is {one} and my number is {two}'.format(one=name,two=num))\n"
   ]
  },
  {
   "cell_type": "code",
   "execution_count": 112,
   "id": "8ed92af6-b94b-4d76-9d63-a31d3e6ec828",
   "metadata": {},
   "outputs": [
    {
     "name": "stdout",
     "output_type": "stream",
     "text": [
      "My name is Sam and my number is 123 and my postcode is BH\n"
     ]
    }
   ],
   "source": [
    "print('My name is {one} and my number is {two} and my postcode is {three}'.format(\n",
    "    one=name,two=num,three='BH'))\n"
   ]
  },
  {
   "cell_type": "markdown",
   "id": "7a4a3c2d-aa16-4fef-bdc4-ec3aa21256e5",
   "metadata": {},
   "source": [
    "**Indexing Strings**"
   ]
  },
  {
   "cell_type": "code",
   "execution_count": 147,
   "id": "57e7505d-b1a8-4bda-a621-1bc0b4b5e17a",
   "metadata": {},
   "outputs": [],
   "source": [
    "#  ss is a sequence of letters, each element is a letter\n",
    "ss='Hello'"
   ]
  },
  {
   "cell_type": "code",
   "execution_count": 121,
   "id": "6599e2f1-578e-4522-8bac-edec4648668d",
   "metadata": {},
   "outputs": [
    {
     "data": {
      "text/plain": [
       "'H'"
      ]
     },
     "execution_count": 121,
     "metadata": {},
     "output_type": "execute_result"
    }
   ],
   "source": [
    "# I can grab specific element from that sequence of characters by using square bracket notation\n",
    "ss[0]"
   ]
  },
  {
   "cell_type": "code",
   "execution_count": 129,
   "id": "9316ded5-13e2-4e28-b71d-7d04edf8e14d",
   "metadata": {},
   "outputs": [
    {
     "data": {
      "text/plain": [
       "'o'"
      ]
     },
     "execution_count": 129,
     "metadata": {},
     "output_type": "execute_result"
    }
   ],
   "source": [
    "ss[4]"
   ]
  },
  {
   "cell_type": "code",
   "execution_count": 133,
   "id": "1821f657-8af2-4ecd-8ee4-f480c9eb9ebe",
   "metadata": {},
   "outputs": [
    {
     "data": {
      "text/plain": [
       "'Hello'"
      ]
     },
     "execution_count": 133,
     "metadata": {},
     "output_type": "execute_result"
    }
   ],
   "source": [
    "# slice notation to grab slices of the string by slice syntax\n",
    "# starting at zero, grab everything beyond it\n",
    "ss[0:] \n"
   ]
  },
  {
   "cell_type": "code",
   "execution_count": 137,
   "id": "391227cb-f704-4eea-8424-e160ac18d14f",
   "metadata": {},
   "outputs": [
    {
     "data": {
      "text/plain": [
       "'Hello'"
      ]
     },
     "execution_count": 137,
     "metadata": {},
     "output_type": "execute_result"
    }
   ],
   "source": [
    "ss[:]"
   ]
  },
  {
   "cell_type": "code",
   "execution_count": 155,
   "id": "6a73b595-6efc-4b9b-add7-c70a7cf0a287",
   "metadata": {},
   "outputs": [
    {
     "data": {
      "text/plain": [
       "'Hel'"
      ]
     },
     "execution_count": 155,
     "metadata": {},
     "output_type": "execute_result"
    }
   ],
   "source": [
    "# Grab everything up to but not including the character element at index 3\n",
    "ss[:3]"
   ]
  },
  {
   "cell_type": "code",
   "execution_count": 159,
   "id": "290a5e54-7aae-4131-81ed-0e11f1a6126f",
   "metadata": {},
   "outputs": [
    {
     "data": {
      "text/plain": [
       "'Hel'"
      ]
     },
     "execution_count": 159,
     "metadata": {},
     "output_type": "execute_result"
    }
   ],
   "source": [
    "# set start point and endpoint\n",
    "ss[0:3]"
   ]
  },
  {
   "cell_type": "code",
   "execution_count": 161,
   "id": "86853403-a781-4c55-a0b3-56a5bf1771eb",
   "metadata": {},
   "outputs": [
    {
     "data": {
      "text/plain": [
       "'el'"
      ]
     },
     "execution_count": 161,
     "metadata": {},
     "output_type": "execute_result"
    }
   ],
   "source": [
    "ss[1:3]"
   ]
  },
  {
   "cell_type": "code",
   "execution_count": 125,
   "id": "ddc854bd-4605-4889-9396-670cc5aae7cd",
   "metadata": {},
   "outputs": [
    {
     "data": {
      "text/plain": [
       "'Hell'"
      ]
     },
     "execution_count": 125,
     "metadata": {},
     "output_type": "execute_result"
    }
   ],
   "source": [
    "ss[:-1]"
   ]
  },
  {
   "cell_type": "code",
   "execution_count": 127,
   "id": "013620b5-d7c4-44a3-a355-511b32a6a193",
   "metadata": {},
   "outputs": [
    {
     "data": {
      "text/plain": [
       "'o'"
      ]
     },
     "execution_count": 127,
     "metadata": {},
     "output_type": "execute_result"
    }
   ],
   "source": [
    "ss[-1:]"
   ]
  },
  {
   "cell_type": "markdown",
   "id": "64ca24f7-91d9-4f88-baea-940a64d7708e",
   "metadata": {},
   "source": [
    "## **Lists**"
   ]
  },
  {
   "cell_type": "code",
   "execution_count": 176,
   "id": "8827e8e6-574e-4da6-8e34-6d0dfddacccd",
   "metadata": {},
   "outputs": [
    {
     "data": {
      "text/plain": [
       "[1, 2, 3]"
      ]
     },
     "execution_count": 176,
     "metadata": {},
     "output_type": "execute_result"
    }
   ],
   "source": [
    "# Sequence of elements in a set of square brackets separated by commas \n",
    "# Lists can take any data type  \n",
    "#  A list is just like a sequence is\n",
    "[1,2,3]"
   ]
  },
  {
   "cell_type": "code",
   "execution_count": 166,
   "id": "838291ff-1f7b-4c58-98e2-e6ab1224e4c2",
   "metadata": {},
   "outputs": [
    {
     "data": {
      "text/plain": [
       "['a', 'b', 'c']"
      ]
     },
     "execution_count": 166,
     "metadata": {},
     "output_type": "execute_result"
    }
   ],
   "source": [
    "['a','b','c']"
   ]
  },
  {
   "cell_type": "code",
   "execution_count": 168,
   "id": "5e8d652c-62a2-47fe-8bd9-7bfbfe41a99d",
   "metadata": {},
   "outputs": [],
   "source": [
    "my_list = ['a','b','c']"
   ]
  },
  {
   "cell_type": "code",
   "execution_count": 170,
   "id": "46be3f79-5d80-48e9-8716-4634dc51680d",
   "metadata": {},
   "outputs": [
    {
     "data": {
      "text/plain": [
       "['a', 'b', 'c']"
      ]
     },
     "execution_count": 170,
     "metadata": {},
     "output_type": "execute_result"
    }
   ],
   "source": [
    "my_list"
   ]
  },
  {
   "cell_type": "code",
   "execution_count": 172,
   "id": "35d3264c-276a-4a56-8612-2b83c260e677",
   "metadata": {},
   "outputs": [],
   "source": [
    "# Add a new element to my_list\n",
    "my_list.append('d')"
   ]
  },
  {
   "cell_type": "code",
   "execution_count": 174,
   "id": "2157edea-9434-44a4-8ae7-bb8ff38c4ac0",
   "metadata": {},
   "outputs": [
    {
     "data": {
      "text/plain": [
       "['a', 'b', 'c', 'd']"
      ]
     },
     "execution_count": 174,
     "metadata": {},
     "output_type": "execute_result"
    }
   ],
   "source": [
    "my_list"
   ]
  },
  {
   "cell_type": "code",
   "execution_count": 178,
   "id": "2c0b7cc1-e4ff-4df6-a015-ce340834e408",
   "metadata": {},
   "outputs": [
    {
     "data": {
      "text/plain": [
       "'a'"
      ]
     },
     "execution_count": 178,
     "metadata": {},
     "output_type": "execute_result"
    }
   ],
   "source": [
    "# Grabbing the first item in the list\n",
    "my_list[0]"
   ]
  },
  {
   "cell_type": "code",
   "execution_count": 184,
   "id": "24c3b0ed-fedc-4bce-8652-867a286175b2",
   "metadata": {},
   "outputs": [
    {
     "data": {
      "text/plain": [
       "['a', 'b']"
      ]
     },
     "execution_count": 184,
     "metadata": {},
     "output_type": "execute_result"
    }
   ],
   "source": [
    "my_list[:2]"
   ]
  },
  {
   "cell_type": "code",
   "execution_count": 186,
   "id": "3756bb18-9831-4354-b8d4-11909dd55b50",
   "metadata": {},
   "outputs": [
    {
     "data": {
      "text/plain": [
       "['b', 'c']"
      ]
     },
     "execution_count": 186,
     "metadata": {},
     "output_type": "execute_result"
    }
   ],
   "source": [
    "my_list[1:3]"
   ]
  },
  {
   "cell_type": "code",
   "execution_count": 188,
   "id": "6db5632d-e34a-4463-ac7f-46de5a5cf3f3",
   "metadata": {},
   "outputs": [],
   "source": [
    "# Reassign positions using this index position\n",
    "my_list[0] = 'z'"
   ]
  },
  {
   "cell_type": "code",
   "execution_count": 190,
   "id": "764c71bb-010e-44ee-b232-b1edb456ddff",
   "metadata": {},
   "outputs": [
    {
     "data": {
      "text/plain": [
       "['z', 'b', 'c', 'd']"
      ]
     },
     "execution_count": 190,
     "metadata": {},
     "output_type": "execute_result"
    }
   ],
   "source": [
    "my_list"
   ]
  },
  {
   "cell_type": "code",
   "execution_count": 192,
   "id": "7fb85c9f-9ace-4124-b4d4-088429dc8a3f",
   "metadata": {},
   "outputs": [],
   "source": [
    "# Nest list inside of each other\n",
    "nest = [1,2,[3,4]]"
   ]
  },
  {
   "cell_type": "code",
   "execution_count": 194,
   "id": "f6d4b713-649b-49c8-867b-fbc6ab0d0110",
   "metadata": {},
   "outputs": [
    {
     "data": {
      "text/plain": [
       "[1, 2, [3, 4]]"
      ]
     },
     "execution_count": 194,
     "metadata": {},
     "output_type": "execute_result"
    }
   ],
   "source": [
    "nest"
   ]
  },
  {
   "cell_type": "code",
   "execution_count": 200,
   "id": "9eb2e8b3-8c11-451b-87c3-e69c94fd13c2",
   "metadata": {},
   "outputs": [
    {
     "data": {
      "text/plain": [
       "[3, 4]"
      ]
     },
     "execution_count": 200,
     "metadata": {},
     "output_type": "execute_result"
    }
   ],
   "source": [
    "nest[2]"
   ]
  },
  {
   "cell_type": "code",
   "execution_count": 196,
   "id": "40404fb8-b8bb-47b8-abde-7464c15fe092",
   "metadata": {},
   "outputs": [
    {
     "data": {
      "text/plain": [
       "4"
      ]
     },
     "execution_count": 196,
     "metadata": {},
     "output_type": "execute_result"
    }
   ],
   "source": [
    "# grabbing 4 in the list\n",
    "nest[2][1]"
   ]
  },
  {
   "cell_type": "code",
   "execution_count": 202,
   "id": "95bdd013-6d81-4a83-9074-701ae57b65f3",
   "metadata": {},
   "outputs": [],
   "source": [
    "nested_list = [1,2,3,[4,5,['target']]]"
   ]
  },
  {
   "cell_type": "code",
   "execution_count": 204,
   "id": "64259cde-1672-4c16-b0cf-28f8017124d8",
   "metadata": {},
   "outputs": [
    {
     "data": {
      "text/plain": [
       "[4, 5, ['target']]"
      ]
     },
     "execution_count": 204,
     "metadata": {},
     "output_type": "execute_result"
    }
   ],
   "source": [
    "nested_list[3]"
   ]
  },
  {
   "cell_type": "code",
   "execution_count": 211,
   "id": "b557a3fa-a123-452f-a00f-2e21b119f0a5",
   "metadata": {},
   "outputs": [
    {
     "data": {
      "text/plain": [
       "['target']"
      ]
     },
     "execution_count": 211,
     "metadata": {},
     "output_type": "execute_result"
    }
   ],
   "source": [
    "nested_list[3][2]"
   ]
  },
  {
   "cell_type": "code",
   "execution_count": 213,
   "id": "27c950d1-5806-4292-811d-91f3b2dabee6",
   "metadata": {},
   "outputs": [
    {
     "data": {
      "text/plain": [
       "'target'"
      ]
     },
     "execution_count": 213,
     "metadata": {},
     "output_type": "execute_result"
    }
   ],
   "source": [
    "nested_list[3][2][0]"
   ]
  },
  {
   "cell_type": "markdown",
   "id": "a51ae235-d3b0-4f90-b4c9-d08d52e12854",
   "metadata": {},
   "source": [
    "## Dictionaries  \n",
    "\n",
    "In Python, **dictionaries** are powerful and flexible data structures that store data in key-value pairs, similar to hash tables in computer science. They are highly efficient for lookups and allow for dynamic data manipulation. Here's a breakdown of their key features:\n",
    "\n",
    "### Key Features of Dictionaries:  \n",
    "- **Key-Value Pair Storage:**  \n",
    "  - Dictionaries store elements as `key:value` pairs, where each key acts as a unique identifier for its corresponding value.  \n",
    "\n",
    "- **No Sequence or Order:**  \n",
    "  - Unlike lists or tuples, dictionaries do not maintain the order of elements (prior to Python 3.7). They simply map keys to values, making them efficient for retrieving data.  \n",
    "\n",
    "- **Dynamic Value Types:**  \n",
    "  - A dictionary can store values of any data type, including numbers, strings, lists, or even other dictionaries.  \n",
    "\n",
    "- **Unordered Structure:**  \n",
    "  - Prior to Python 3.7, dictionaries did not guarantee order, but starting from Python 3.7, dictionaries preserve the insertion order by default.  \n",
    "\n",
    "### Scientific Insight:  \n",
    "Dictionaries are implemented as **hash maps** in Python. Hash maps use a hash function to compute an index for each key, allowing for fast data access in \\( O(1) \\) time on average. This efficiency makes dictionaries an ideal choice for situations where quick lookups or key-based access to data are required.\n",
    "\n",
    "### Example:\n",
    "```python\n",
    "# Creating a simple dictionary\n",
    "my_dict = {\n",
    "    \"name\": \"Alice\",\n",
    "    \"age\": 30,\n",
    "    \"hobbies\": [\"reading\", \"hiking\", \"gardening\"]\n",
    "}\n",
    "\n",
    "# Accessing values using keys\n",
    "print(my_dict[\"name\"])  # Output: Alice\n"
   ]
  },
  {
   "cell_type": "code",
   "execution_count": 231,
   "id": "5105f52a-5c66-402e-bbe7-fc4fa1fc2cbd",
   "metadata": {},
   "outputs": [],
   "source": [
    "d={'key1':'value','key2':123}"
   ]
  },
  {
   "cell_type": "code",
   "execution_count": 233,
   "id": "49615fff-cade-4162-86a1-72345d683d4f",
   "metadata": {},
   "outputs": [
    {
     "data": {
      "text/plain": [
       "{'key1': 'value', 'key2': 123}"
      ]
     },
     "execution_count": 233,
     "metadata": {},
     "output_type": "execute_result"
    }
   ],
   "source": [
    "d"
   ]
  },
  {
   "cell_type": "code",
   "execution_count": 237,
   "id": "ced449ba-eae3-4fe5-98b7-83a4fba493bd",
   "metadata": {},
   "outputs": [
    {
     "data": {
      "text/plain": [
       "'value'"
      ]
     },
     "execution_count": 237,
     "metadata": {},
     "output_type": "execute_result"
    }
   ],
   "source": [
    "# get the elements through their elements by passing the key corresponding to that value\n",
    "d['key1']"
   ]
  },
  {
   "cell_type": "code",
   "execution_count": 1,
   "id": "b598a7b0-b099-4509-a74f-d7d5dc0c93f0",
   "metadata": {},
   "outputs": [],
   "source": [
    "d={'k1':[1,2,3]}"
   ]
  },
  {
   "cell_type": "code",
   "execution_count": 3,
   "id": "6b19f898-bfa5-438c-b102-ae2f050b07cb",
   "metadata": {},
   "outputs": [
    {
     "data": {
      "text/plain": [
       "{'k1': [1, 2, 3]}"
      ]
     },
     "execution_count": 3,
     "metadata": {},
     "output_type": "execute_result"
    }
   ],
   "source": [
    "d"
   ]
  },
  {
   "cell_type": "code",
   "execution_count": 7,
   "id": "cda01ea6-4afe-4800-b6b0-e226152f74e0",
   "metadata": {},
   "outputs": [
    {
     "data": {
      "text/plain": [
       "[1, 2, 3]"
      ]
     },
     "execution_count": 7,
     "metadata": {},
     "output_type": "execute_result"
    }
   ],
   "source": [
    "d['k1']"
   ]
  },
  {
   "cell_type": "code",
   "execution_count": 11,
   "id": "b5030eac-f36a-48b5-b873-ad15d484dd1d",
   "metadata": {},
   "outputs": [
    {
     "data": {
      "text/plain": [
       "3"
      ]
     },
     "execution_count": 11,
     "metadata": {},
     "output_type": "execute_result"
    }
   ],
   "source": [
    "# As we have the key by calling d['k1'] we can do normal indexing\n",
    "d['k1'][2]"
   ]
  },
  {
   "cell_type": "code",
   "execution_count": 13,
   "id": "563b1dff-9d0c-4d30-a162-72ffb7b85a80",
   "metadata": {},
   "outputs": [],
   "source": [
    "# We can into the list and then get the elements, use [] notation to grab everything off of it\n",
    "# or grab data as we did like the previous code box along the same line \"d['k1'][2]\"\n",
    "my_list=d['k1']"
   ]
  },
  {
   "cell_type": "code",
   "execution_count": 15,
   "id": "7496bdab-144f-4e98-b65d-d034ca4b6976",
   "metadata": {},
   "outputs": [
    {
     "data": {
      "text/plain": [
       "[1, 2, 3]"
      ]
     },
     "execution_count": 15,
     "metadata": {},
     "output_type": "execute_result"
    }
   ],
   "source": [
    "my_list"
   ]
  },
  {
   "cell_type": "code",
   "execution_count": 17,
   "id": "4c6ef6cd-5407-4ec7-a6af-1e5001bc7cc2",
   "metadata": {},
   "outputs": [
    {
     "data": {
      "text/plain": [
       "3"
      ]
     },
     "execution_count": 17,
     "metadata": {},
     "output_type": "execute_result"
    }
   ],
   "source": [
    "my_list[2]"
   ]
  },
  {
   "cell_type": "code",
   "execution_count": 19,
   "id": "28115c39-e8a7-4272-84ab-09e5f7038760",
   "metadata": {},
   "outputs": [],
   "source": [
    "# A dictionary nested in another dictionary\n",
    "d={'k1':{'innerkey':[1,2,3]}}"
   ]
  },
  {
   "cell_type": "code",
   "execution_count": 21,
   "id": "7b1c3e1f-674e-4611-8ade-c85affd05325",
   "metadata": {},
   "outputs": [
    {
     "data": {
      "text/plain": [
       "{'innerkey': [1, 2, 3]}"
      ]
     },
     "execution_count": 21,
     "metadata": {},
     "output_type": "execute_result"
    }
   ],
   "source": [
    "d['k1']"
   ]
  },
  {
   "cell_type": "code",
   "execution_count": 23,
   "id": "5dee3425-e2f3-460e-a03e-34872ef8d4f8",
   "metadata": {},
   "outputs": [
    {
     "data": {
      "text/plain": [
       "3"
      ]
     },
     "execution_count": 23,
     "metadata": {},
     "output_type": "execute_result"
    }
   ],
   "source": [
    "# Lets grab member 3\n",
    "d['k1']['innerkey'][2]"
   ]
  },
  {
   "cell_type": "code",
   "execution_count": 25,
   "id": "8ff502dc-2a96-45bf-b469-3c364d093017",
   "metadata": {},
   "outputs": [],
   "source": [
    "# Or with a list\n",
    "my_list = d['k1']['innerkey']"
   ]
  },
  {
   "cell_type": "code",
   "execution_count": 27,
   "id": "01e10eab-db51-4c79-8c0f-450bf8dffb85",
   "metadata": {},
   "outputs": [
    {
     "data": {
      "text/plain": [
       "[1, 2, 3]"
      ]
     },
     "execution_count": 27,
     "metadata": {},
     "output_type": "execute_result"
    }
   ],
   "source": [
    "my_list"
   ]
  },
  {
   "cell_type": "code",
   "execution_count": 29,
   "id": "b6d35694-90ee-4f2a-ad08-512714e58455",
   "metadata": {},
   "outputs": [
    {
     "data": {
      "text/plain": [
       "3"
      ]
     },
     "execution_count": 29,
     "metadata": {},
     "output_type": "execute_result"
    }
   ],
   "source": [
    "my_list[2]"
   ]
  },
  {
   "cell_type": "code",
   "execution_count": null,
   "id": "6f25d2b3-4e0c-4b7f-ae75-903e8cba2e4e",
   "metadata": {},
   "outputs": [],
   "source": []
  }
 ],
 "metadata": {
  "kernelspec": {
   "display_name": "Python 3 (ipykernel)",
   "language": "python",
   "name": "python3"
  },
  "language_info": {
   "codemirror_mode": {
    "name": "ipython",
    "version": 3
   },
   "file_extension": ".py",
   "mimetype": "text/x-python",
   "name": "python",
   "nbconvert_exporter": "python",
   "pygments_lexer": "ipython3",
   "version": "3.12.7"
  }
 },
 "nbformat": 4,
 "nbformat_minor": 5
}
