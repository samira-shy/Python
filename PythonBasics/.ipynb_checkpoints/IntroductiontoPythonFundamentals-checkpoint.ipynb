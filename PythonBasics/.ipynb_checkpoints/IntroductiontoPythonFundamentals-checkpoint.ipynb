{
 "cells": [
  {
   "cell_type": "markdown",
   "id": "d9f10573-10a3-431a-9175-02fec26e6f43",
   "metadata": {},
   "source": [
    "# Python Basics: A Comprehensive Overview  \n",
    "\n",
    "Welcome to this notebook on **Python Basics**! This notebook is designed to provide a foundational understanding of Python by covering its core topics step by step. Whether you're a beginner or need a quick refresher, this guide will walk you through essential concepts with examples and explanations.  \n",
    "\n",
    "### Topics Covered:  \n",
    "1. **Data Types**  \n",
    "    - Numbers  \n",
    "    - Strings  \n",
    "    - Printing  \n",
    "    - Lists  \n",
    "    - Dictionaries  \n",
    "    - Booleans  \n",
    "    - Tuples  \n",
    "    - Sets  \n",
    "2. **Comparison Operators**  \n",
    "3. **Control Flow Statements**  \n",
    "    - `if`, `elif`, `else` Statements  \n",
    "4. **Loops**  \n",
    "    - `for` Loops  \n",
    "    - `while` Loops  \n",
    "5. **Useful Functions**  \n",
    "    - `range()`  \n",
    "    - List Comprehension  \n",
    "6. **Functions and Expressions**  \n",
    "    - Defining Functions  \n",
    "    - Lambda Expressions  \n",
    "    - Using `map()` and `filter()`  \n",
    "7. **Methods**  \n",
    "\n",
    "By the end of this notebook, you will have a solid understanding of these topics and be ready to move on to more advanced Python concepts. Let's get started! 🚀\n"
   ]
  },
  {
   "cell_type": "markdown",
   "id": "d0af10f0-989b-4b07-90d8-d85507c4dfbb",
   "metadata": {},
   "source": [
    "**Basic operartions**"
   ]
  },
  {
   "cell_type": "code",
   "execution_count": 2,
   "id": "cd537547-5d42-4f0b-a8cc-3d040cc0e985",
   "metadata": {},
   "outputs": [
    {
     "data": {
      "text/plain": [
       "2"
      ]
     },
     "execution_count": 2,
     "metadata": {},
     "output_type": "execute_result"
    }
   ],
   "source": [
    "1+1"
   ]
  },
  {
   "cell_type": "code",
   "execution_count": 4,
   "id": "d23d766b-1e0e-409c-bfd7-bda6fe9bfd37",
   "metadata": {},
   "outputs": [
    {
     "data": {
      "text/plain": [
       "0"
      ]
     },
     "execution_count": 4,
     "metadata": {},
     "output_type": "execute_result"
    }
   ],
   "source": [
    "1-1"
   ]
  },
  {
   "cell_type": "code",
   "execution_count": 6,
   "id": "b11fdce1-ea85-477e-aa52-8692c23ab6cd",
   "metadata": {},
   "outputs": [
    {
     "data": {
      "text/plain": [
       "2"
      ]
     },
     "execution_count": 6,
     "metadata": {},
     "output_type": "execute_result"
    }
   ],
   "source": [
    "1*2"
   ]
  },
  {
   "cell_type": "code",
   "execution_count": 8,
   "id": "65aa22eb-5220-494d-bc0d-d5f121a3ff2d",
   "metadata": {},
   "outputs": [
    {
     "data": {
      "text/plain": [
       "2.0"
      ]
     },
     "execution_count": 8,
     "metadata": {},
     "output_type": "execute_result"
    }
   ],
   "source": [
    "2/1"
   ]
  },
  {
   "cell_type": "code",
   "execution_count": 10,
   "id": "416e40b1-be91-46a2-8931-28a031c22fe3",
   "metadata": {},
   "outputs": [
    {
     "data": {
      "text/plain": [
       "0"
      ]
     },
     "execution_count": 10,
     "metadata": {},
     "output_type": "execute_result"
    }
   ],
   "source": [
    "2%1"
   ]
  },
  {
   "cell_type": "code",
   "execution_count": 15,
   "id": "4a25b7d3-123d-45fa-a3ee-7d5731aab347",
   "metadata": {},
   "outputs": [
    {
     "data": {
      "text/plain": [
       "8"
      ]
     },
     "execution_count": 15,
     "metadata": {},
     "output_type": "execute_result"
    }
   ],
   "source": [
    "# Power\n",
    "2**3"
   ]
  },
  {
   "cell_type": "code",
   "execution_count": 21,
   "id": "c67ad50b-c784-4fa2-947e-3efe28777079",
   "metadata": {},
   "outputs": [
    {
     "data": {
      "text/plain": [
       "10.0"
      ]
     },
     "execution_count": 21,
     "metadata": {},
     "output_type": "execute_result"
    }
   ],
   "source": [
    "# Default operation order by python / your own operation order using Parentheses\n",
    "2+15/5*2+2"
   ]
  },
  {
   "cell_type": "code",
   "execution_count": 23,
   "id": "749fb874-51a5-4234-8577-aa8a07b53b9d",
   "metadata": {},
   "outputs": [
    {
     "data": {
      "text/plain": [
       "-12"
      ]
     },
     "execution_count": 23,
     "metadata": {},
     "output_type": "execute_result"
    }
   ],
   "source": [
    "(2-4)*(2+4)"
   ]
  },
  {
   "cell_type": "code",
   "execution_count": null,
   "id": "6f33593a-16be-472f-aaa7-391422df9000",
   "metadata": {},
   "outputs": [],
   "source": []
  }
 ],
 "metadata": {
  "kernelspec": {
   "display_name": "Python 3 (ipykernel)",
   "language": "python",
   "name": "python3"
  },
  "language_info": {
   "codemirror_mode": {
    "name": "ipython",
    "version": 3
   },
   "file_extension": ".py",
   "mimetype": "text/x-python",
   "name": "python",
   "nbconvert_exporter": "python",
   "pygments_lexer": "ipython3",
   "version": "3.12.7"
  }
 },
 "nbformat": 4,
 "nbformat_minor": 5
}
