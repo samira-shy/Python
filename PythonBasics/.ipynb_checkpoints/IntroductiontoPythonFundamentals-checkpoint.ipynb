{
 "cells": [
  {
   "cell_type": "markdown",
   "id": "d9f10573-10a3-431a-9175-02fec26e6f43",
   "metadata": {},
   "source": [
    "# Python Basics: A Comprehensive Overview  \n",
    "\n",
    "Welcome to this notebook on **Python Basics**! This notebook is designed to provide a foundational understanding of Python by covering its core topics step by step. Whether you're a beginner or need a quick refresher, this guide will walk you through essential concepts with examples and explanations.  \n",
    "\n",
    "### Topics Covered:  \n",
    "1. **Data Types**  \n",
    "    - Numbers  \n",
    "    - Strings  \n",
    "    - Printing  \n",
    "    - Lists  \n",
    "    - Dictionaries  \n",
    "    - Booleans  \n",
    "    - Tuples  \n",
    "    - Sets  \n",
    "2. **Comparison Operators**  \n",
    "3. **Control Flow Statements**  \n",
    "    - `if`, `elif`, `else` Statements  \n",
    "4. **Loops**  \n",
    "    - `for` Loops  \n",
    "    - `while` Loops  \n",
    "5. **Useful Functions**  \n",
    "    - `range()`  \n",
    "    - List Comprehension  \n",
    "6. **Functions and Expressions**  \n",
    "    - Defining Functions  \n",
    "    - Lambda Expressions  \n",
    "    - Using `map()` and `filter()`  \n",
    "7. **Methods**  \n",
    "\n",
    "By the end of this notebook, you will have a solid understanding of these topics and be ready to move on to more advanced Python concepts. Let's get started! 🚀\n"
   ]
  },
  {
   "cell_type": "markdown",
   "id": "d0af10f0-989b-4b07-90d8-d85507c4dfbb",
   "metadata": {},
   "source": [
    "**Basic operartions**"
   ]
  },
  {
   "cell_type": "code",
   "execution_count": 2,
   "id": "cd537547-5d42-4f0b-a8cc-3d040cc0e985",
   "metadata": {},
   "outputs": [
    {
     "data": {
      "text/plain": [
       "2"
      ]
     },
     "execution_count": 2,
     "metadata": {},
     "output_type": "execute_result"
    }
   ],
   "source": [
    "1+1"
   ]
  },
  {
   "cell_type": "code",
   "execution_count": 4,
   "id": "d23d766b-1e0e-409c-bfd7-bda6fe9bfd37",
   "metadata": {},
   "outputs": [
    {
     "data": {
      "text/plain": [
       "0"
      ]
     },
     "execution_count": 4,
     "metadata": {},
     "output_type": "execute_result"
    }
   ],
   "source": [
    "1-1"
   ]
  },
  {
   "cell_type": "code",
   "execution_count": 6,
   "id": "b11fdce1-ea85-477e-aa52-8692c23ab6cd",
   "metadata": {},
   "outputs": [
    {
     "data": {
      "text/plain": [
       "2"
      ]
     },
     "execution_count": 6,
     "metadata": {},
     "output_type": "execute_result"
    }
   ],
   "source": [
    "1*2"
   ]
  },
  {
   "cell_type": "code",
   "execution_count": 8,
   "id": "65aa22eb-5220-494d-bc0d-d5f121a3ff2d",
   "metadata": {},
   "outputs": [
    {
     "data": {
      "text/plain": [
       "2.0"
      ]
     },
     "execution_count": 8,
     "metadata": {},
     "output_type": "execute_result"
    }
   ],
   "source": [
    "2/1"
   ]
  },
  {
   "cell_type": "code",
   "execution_count": 10,
   "id": "416e40b1-be91-46a2-8931-28a031c22fe3",
   "metadata": {},
   "outputs": [
    {
     "data": {
      "text/plain": [
       "0"
      ]
     },
     "execution_count": 10,
     "metadata": {},
     "output_type": "execute_result"
    }
   ],
   "source": [
    "2%1"
   ]
  },
  {
   "cell_type": "code",
   "execution_count": 15,
   "id": "4a25b7d3-123d-45fa-a3ee-7d5731aab347",
   "metadata": {},
   "outputs": [
    {
     "data": {
      "text/plain": [
       "8"
      ]
     },
     "execution_count": 15,
     "metadata": {},
     "output_type": "execute_result"
    }
   ],
   "source": [
    "# Power\n",
    "2**3"
   ]
  },
  {
   "cell_type": "code",
   "execution_count": 21,
   "id": "c67ad50b-c784-4fa2-947e-3efe28777079",
   "metadata": {},
   "outputs": [
    {
     "data": {
      "text/plain": [
       "10.0"
      ]
     },
     "execution_count": 21,
     "metadata": {},
     "output_type": "execute_result"
    }
   ],
   "source": [
    "# Default operation order by python / your own operation order using Parentheses\n",
    "2+15/5*2+2"
   ]
  },
  {
   "cell_type": "code",
   "execution_count": 23,
   "id": "749fb874-51a5-4234-8577-aa8a07b53b9d",
   "metadata": {},
   "outputs": [
    {
     "data": {
      "text/plain": [
       "-12"
      ]
     },
     "execution_count": 23,
     "metadata": {},
     "output_type": "execute_result"
    }
   ],
   "source": [
    "(2-4)*(2+4)"
   ]
  },
  {
   "cell_type": "markdown",
   "id": "6872e39d-b159-4f2f-816d-dee514d638a1",
   "metadata": {},
   "source": [
    "## Variables  \n",
    "\n",
    "In this section, we will cover how to assign values to variables and the rules for naming them properly.  \n",
    "\n",
    "### Rules for Variable Names:  \n",
    "- **Start with a lowercase letter:** Always begin variable names with a lowercase letter.  \n",
    "- **Use underscores to separate words:** For multi-word variable names, use underscores (e.g., `my_variable`) to improve readability.  \n",
    "- **Do not start with numbers:** Variable names cannot start with numbers. Python will raise an `invalid decimal literal` error if you try.  \n",
    "- **Avoid special symbols:** Variable names cannot begin with special symbols (e.g., `@`, `#`, `$`). Python will raise an `invalid syntax` error in such cases.  \n",
    "\n",
    "Below, you’ll see examples of valid and invalid variable names.\n"
   ]
  },
  {
   "cell_type": "code",
   "execution_count": 29,
   "id": "82913507-fee0-463d-b710-9b9b3aff09f1",
   "metadata": {},
   "outputs": [],
   "source": [
    "var =3"
   ]
  },
  {
   "cell_type": "code",
   "execution_count": 41,
   "id": "95adc1e0-aac3-4720-ba96-b483a8ec6ba1",
   "metadata": {},
   "outputs": [],
   "source": [
    "x = 2\n",
    "y=4"
   ]
  },
  {
   "cell_type": "code",
   "execution_count": 43,
   "id": "735cabfe-9a93-455c-aae8-5dbb9c972eaa",
   "metadata": {},
   "outputs": [
    {
     "data": {
      "text/plain": [
       "6"
      ]
     },
     "execution_count": 43,
     "metadata": {},
     "output_type": "execute_result"
    }
   ],
   "source": [
    "x+y"
   ]
  },
  {
   "cell_type": "code",
   "execution_count": 49,
   "id": "33656ebb-4e64-400b-b206-af52b7af5c92",
   "metadata": {},
   "outputs": [],
   "source": [
    "# Assign and reassign\n",
    "x = x+x"
   ]
  },
  {
   "cell_type": "code",
   "execution_count": 51,
   "id": "d68be4d9-af48-4847-b7a5-80bd9a05ddf1",
   "metadata": {},
   "outputs": [
    {
     "data": {
      "text/plain": [
       "8"
      ]
     },
     "execution_count": 51,
     "metadata": {},
     "output_type": "execute_result"
    }
   ],
   "source": [
    "x"
   ]
  },
  {
   "cell_type": "code",
   "execution_count": 63,
   "id": "3f63e278-b0af-4a5d-ab23-a0b74efb206c",
   "metadata": {},
   "outputs": [],
   "source": [
    "my_variable = 121"
   ]
  },
  {
   "cell_type": "code",
   "execution_count": 65,
   "id": "a646d2a8-4f91-4685-b6a8-c0df61f37b44",
   "metadata": {},
   "outputs": [
    {
     "ename": "SyntaxError",
     "evalue": "invalid decimal literal (1221657576.py, line 1)",
     "output_type": "error",
     "traceback": [
      "\u001b[0;36m  Cell \u001b[0;32mIn[65], line 1\u001b[0;36m\u001b[0m\n\u001b[0;31m    111var = 33\u001b[0m\n\u001b[0m      ^\u001b[0m\n\u001b[0;31mSyntaxError\u001b[0m\u001b[0;31m:\u001b[0m invalid decimal literal\n"
     ]
    }
   ],
   "source": [
    "111var = 33"
   ]
  },
  {
   "cell_type": "code",
   "execution_count": 67,
   "id": "f9c0bef2-bf0c-4f9a-8de7-50509bb551cd",
   "metadata": {},
   "outputs": [
    {
     "ename": "SyntaxError",
     "evalue": "invalid syntax (2537844640.py, line 1)",
     "output_type": "error",
     "traceback": [
      "\u001b[0;36m  Cell \u001b[0;32mIn[67], line 1\u001b[0;36m\u001b[0m\n\u001b[0;31m    `var = 33\u001b[0m\n\u001b[0m    ^\u001b[0m\n\u001b[0;31mSyntaxError\u001b[0m\u001b[0;31m:\u001b[0m invalid syntax\n"
     ]
    }
   ],
   "source": [
    "`var = 33"
   ]
  },
  {
   "cell_type": "markdown",
   "id": "f42e24ff-a487-4239-ac4a-6559d7c6aae9",
   "metadata": {},
   "source": [
    "## Strings"
   ]
  },
  {
   "cell_type": "code",
   "execution_count": 72,
   "id": "d325cdc2-50a0-4f49-b8e0-8c81eb550bab",
   "metadata": {},
   "outputs": [
    {
     "data": {
      "text/plain": [
       "'single quote'"
      ]
     },
     "execution_count": 72,
     "metadata": {},
     "output_type": "execute_result"
    }
   ],
   "source": [
    "# ways to Creating strings\n",
    "'single quote'"
   ]
  },
  {
   "cell_type": "code",
   "execution_count": 74,
   "id": "0f16399a-60f6-4b2f-bcdd-90852d38d129",
   "metadata": {},
   "outputs": [
    {
     "data": {
      "text/plain": [
       "'This is a string'"
      ]
     },
     "execution_count": 74,
     "metadata": {},
     "output_type": "execute_result"
    }
   ],
   "source": [
    "\"This is a string\""
   ]
  },
  {
   "cell_type": "code",
   "execution_count": 76,
   "id": "3ccff821-16a8-455c-89b1-876802ce43af",
   "metadata": {},
   "outputs": [
    {
     "data": {
      "text/plain": [
       "\"I can't go\""
      ]
     },
     "execution_count": 76,
     "metadata": {},
     "output_type": "execute_result"
    }
   ],
   "source": [
    "# You can wrapp double quote around single quote \n",
    "\"I can't go\""
   ]
  },
  {
   "cell_type": "code",
   "execution_count": 78,
   "id": "81a2c2b5-d580-48fc-8862-0b4ef75e17a4",
   "metadata": {},
   "outputs": [],
   "source": [
    "# Printing strings\n",
    "x='hello'"
   ]
  },
  {
   "cell_type": "code",
   "execution_count": 80,
   "id": "3a679411-71ed-43ac-b240-c74b8d7d74bb",
   "metadata": {},
   "outputs": [
    {
     "data": {
      "text/plain": [
       "'hello'"
      ]
     },
     "execution_count": 80,
     "metadata": {},
     "output_type": "execute_result"
    }
   ],
   "source": [
    "# It will be shown on out indicator\n",
    "x"
   ]
  },
  {
   "cell_type": "code",
   "execution_count": 86,
   "id": "699dfa9e-31f1-45f4-b255-97e44baab851",
   "metadata": {},
   "outputs": [
    {
     "name": "stdout",
     "output_type": "stream",
     "text": [
      "hello\n"
     ]
    }
   ],
   "source": [
    "# Using `print` Removes Indicators and Single Quotes from Output\n",
    "print(x)"
   ]
  },
  {
   "cell_type": "code",
   "execution_count": 104,
   "id": "ad8b6ef8-cc27-413b-a7f3-ff13176f4ecf",
   "metadata": {},
   "outputs": [],
   "source": [
    "# Formatting print statement\n",
    "num =123\n",
    "name='Sam'"
   ]
  },
  {
   "cell_type": "code",
   "execution_count": 106,
   "id": "bda0e0cf-7213-43f1-87d2-539d677e5d5d",
   "metadata": {},
   "outputs": [
    {
     "data": {
      "text/plain": [
       "'My name is Sam and my number is 123'"
      ]
     },
     "execution_count": 106,
     "metadata": {},
     "output_type": "execute_result"
    }
   ],
   "source": [
    "# The .format() method allows you to pass variable names in the order you want them to fill the curly brackets.\n",
    "'My name is {} and my number is {}'.format(name, num)"
   ]
  },
  {
   "cell_type": "code",
   "execution_count": 108,
   "id": "e0d683a2-cf86-42cd-8d5b-e80aead3e20c",
   "metadata": {},
   "outputs": [
    {
     "name": "stdout",
     "output_type": "stream",
     "text": [
      "My name is Sam and my number is 123\n"
     ]
    }
   ],
   "source": [
    "print('My name is {} and my number is {}'.format(name,num))"
   ]
  },
  {
   "cell_type": "code",
   "execution_count": 110,
   "id": "4206ada3-215c-47a3-9def-3fd72bd76ae8",
   "metadata": {},
   "outputs": [
    {
     "name": "stdout",
     "output_type": "stream",
     "text": [
      "My name is Sam and my number is 123\n"
     ]
    }
   ],
   "source": [
    "#  Passany variable into curly bracket\n",
    "print('My name is {one} and my number is {two}'.format(one=name,two=num))\n"
   ]
  },
  {
   "cell_type": "code",
   "execution_count": 112,
   "id": "8ed92af6-b94b-4d76-9d63-a31d3e6ec828",
   "metadata": {},
   "outputs": [
    {
     "name": "stdout",
     "output_type": "stream",
     "text": [
      "My name is Sam and my number is 123 and my postcode is BH\n"
     ]
    }
   ],
   "source": [
    "print('My name is {one} and my number is {two} and my postcode is {three}'.format(\n",
    "    one=name,two=num,three='BH'))\n"
   ]
  },
  {
   "cell_type": "markdown",
   "id": "7a4a3c2d-aa16-4fef-bdc4-ec3aa21256e5",
   "metadata": {},
   "source": [
    "**Indexing Strings**"
   ]
  },
  {
   "cell_type": "code",
   "execution_count": 147,
   "id": "57e7505d-b1a8-4bda-a621-1bc0b4b5e17a",
   "metadata": {},
   "outputs": [],
   "source": [
    "#  ss is a sequence of letters, each element is a letter\n",
    "ss='Hello'"
   ]
  },
  {
   "cell_type": "code",
   "execution_count": 121,
   "id": "6599e2f1-578e-4522-8bac-edec4648668d",
   "metadata": {},
   "outputs": [
    {
     "data": {
      "text/plain": [
       "'H'"
      ]
     },
     "execution_count": 121,
     "metadata": {},
     "output_type": "execute_result"
    }
   ],
   "source": [
    "# I can grab specific element from that sequence of characters by using square bracket notation\n",
    "ss[0]"
   ]
  },
  {
   "cell_type": "code",
   "execution_count": 129,
   "id": "9316ded5-13e2-4e28-b71d-7d04edf8e14d",
   "metadata": {},
   "outputs": [
    {
     "data": {
      "text/plain": [
       "'o'"
      ]
     },
     "execution_count": 129,
     "metadata": {},
     "output_type": "execute_result"
    }
   ],
   "source": [
    "ss[4]"
   ]
  },
  {
   "cell_type": "code",
   "execution_count": 133,
   "id": "1821f657-8af2-4ecd-8ee4-f480c9eb9ebe",
   "metadata": {},
   "outputs": [
    {
     "data": {
      "text/plain": [
       "'Hello'"
      ]
     },
     "execution_count": 133,
     "metadata": {},
     "output_type": "execute_result"
    }
   ],
   "source": [
    "# slice notation to grab slices of the string by slice syntax\n",
    "# starting at zero, grab everything beyond it\n",
    "ss[0:] \n"
   ]
  },
  {
   "cell_type": "code",
   "execution_count": 137,
   "id": "391227cb-f704-4eea-8424-e160ac18d14f",
   "metadata": {},
   "outputs": [
    {
     "data": {
      "text/plain": [
       "'Hello'"
      ]
     },
     "execution_count": 137,
     "metadata": {},
     "output_type": "execute_result"
    }
   ],
   "source": [
    "ss[:]"
   ]
  },
  {
   "cell_type": "code",
   "execution_count": 155,
   "id": "6a73b595-6efc-4b9b-add7-c70a7cf0a287",
   "metadata": {},
   "outputs": [
    {
     "data": {
      "text/plain": [
       "'Hel'"
      ]
     },
     "execution_count": 155,
     "metadata": {},
     "output_type": "execute_result"
    }
   ],
   "source": [
    "# Grab everything up to but not including the character element at index 3\n",
    "ss[:3]"
   ]
  },
  {
   "cell_type": "code",
   "execution_count": 159,
   "id": "290a5e54-7aae-4131-81ed-0e11f1a6126f",
   "metadata": {},
   "outputs": [
    {
     "data": {
      "text/plain": [
       "'Hel'"
      ]
     },
     "execution_count": 159,
     "metadata": {},
     "output_type": "execute_result"
    }
   ],
   "source": [
    "# set start point and endpoint\n",
    "ss[0:3]"
   ]
  },
  {
   "cell_type": "code",
   "execution_count": 161,
   "id": "86853403-a781-4c55-a0b3-56a5bf1771eb",
   "metadata": {},
   "outputs": [
    {
     "data": {
      "text/plain": [
       "'el'"
      ]
     },
     "execution_count": 161,
     "metadata": {},
     "output_type": "execute_result"
    }
   ],
   "source": [
    "ss[1:3]"
   ]
  },
  {
   "cell_type": "code",
   "execution_count": 125,
   "id": "ddc854bd-4605-4889-9396-670cc5aae7cd",
   "metadata": {},
   "outputs": [
    {
     "data": {
      "text/plain": [
       "'Hell'"
      ]
     },
     "execution_count": 125,
     "metadata": {},
     "output_type": "execute_result"
    }
   ],
   "source": [
    "ss[:-1]"
   ]
  },
  {
   "cell_type": "code",
   "execution_count": 127,
   "id": "013620b5-d7c4-44a3-a355-511b32a6a193",
   "metadata": {},
   "outputs": [
    {
     "data": {
      "text/plain": [
       "'o'"
      ]
     },
     "execution_count": 127,
     "metadata": {},
     "output_type": "execute_result"
    }
   ],
   "source": [
    "ss[-1:]"
   ]
  },
  {
   "cell_type": "markdown",
   "id": "64ca24f7-91d9-4f88-baea-940a64d7708e",
   "metadata": {},
   "source": [
    "## **Lists**"
   ]
  },
  {
   "cell_type": "code",
   "execution_count": 176,
   "id": "8827e8e6-574e-4da6-8e34-6d0dfddacccd",
   "metadata": {},
   "outputs": [
    {
     "data": {
      "text/plain": [
       "[1, 2, 3]"
      ]
     },
     "execution_count": 176,
     "metadata": {},
     "output_type": "execute_result"
    }
   ],
   "source": [
    "# Sequence of elements in a set of square brackets separated by commas \n",
    "# Lists can take any data type  \n",
    "#  A list is just like a sequence is\n",
    "[1,2,3]"
   ]
  },
  {
   "cell_type": "code",
   "execution_count": 166,
   "id": "838291ff-1f7b-4c58-98e2-e6ab1224e4c2",
   "metadata": {},
   "outputs": [
    {
     "data": {
      "text/plain": [
       "['a', 'b', 'c']"
      ]
     },
     "execution_count": 166,
     "metadata": {},
     "output_type": "execute_result"
    }
   ],
   "source": [
    "['a','b','c']"
   ]
  },
  {
   "cell_type": "code",
   "execution_count": 168,
   "id": "5e8d652c-62a2-47fe-8bd9-7bfbfe41a99d",
   "metadata": {},
   "outputs": [],
   "source": [
    "my_list = ['a','b','c']"
   ]
  },
  {
   "cell_type": "code",
   "execution_count": 170,
   "id": "46be3f79-5d80-48e9-8716-4634dc51680d",
   "metadata": {},
   "outputs": [
    {
     "data": {
      "text/plain": [
       "['a', 'b', 'c']"
      ]
     },
     "execution_count": 170,
     "metadata": {},
     "output_type": "execute_result"
    }
   ],
   "source": [
    "my_list"
   ]
  },
  {
   "cell_type": "code",
   "execution_count": 172,
   "id": "35d3264c-276a-4a56-8612-2b83c260e677",
   "metadata": {},
   "outputs": [],
   "source": [
    "# Add a new element to my_list\n",
    "my_list.append('d')"
   ]
  },
  {
   "cell_type": "code",
   "execution_count": 174,
   "id": "2157edea-9434-44a4-8ae7-bb8ff38c4ac0",
   "metadata": {},
   "outputs": [
    {
     "data": {
      "text/plain": [
       "['a', 'b', 'c', 'd']"
      ]
     },
     "execution_count": 174,
     "metadata": {},
     "output_type": "execute_result"
    }
   ],
   "source": [
    "my_list"
   ]
  },
  {
   "cell_type": "code",
   "execution_count": 178,
   "id": "2c0b7cc1-e4ff-4df6-a015-ce340834e408",
   "metadata": {},
   "outputs": [
    {
     "data": {
      "text/plain": [
       "'a'"
      ]
     },
     "execution_count": 178,
     "metadata": {},
     "output_type": "execute_result"
    }
   ],
   "source": [
    "# Grabbing the first item in the list\n",
    "my_list[0]"
   ]
  },
  {
   "cell_type": "code",
   "execution_count": 184,
   "id": "24c3b0ed-fedc-4bce-8652-867a286175b2",
   "metadata": {},
   "outputs": [
    {
     "data": {
      "text/plain": [
       "['a', 'b']"
      ]
     },
     "execution_count": 184,
     "metadata": {},
     "output_type": "execute_result"
    }
   ],
   "source": [
    "my_list[:2]"
   ]
  },
  {
   "cell_type": "code",
   "execution_count": 186,
   "id": "3756bb18-9831-4354-b8d4-11909dd55b50",
   "metadata": {},
   "outputs": [
    {
     "data": {
      "text/plain": [
       "['b', 'c']"
      ]
     },
     "execution_count": 186,
     "metadata": {},
     "output_type": "execute_result"
    }
   ],
   "source": [
    "my_list[1:3]"
   ]
  },
  {
   "cell_type": "code",
   "execution_count": 188,
   "id": "6db5632d-e34a-4463-ac7f-46de5a5cf3f3",
   "metadata": {},
   "outputs": [],
   "source": [
    "# Reassign positions using this index position\n",
    "my_list[0] = 'z'"
   ]
  },
  {
   "cell_type": "code",
   "execution_count": 190,
   "id": "764c71bb-010e-44ee-b232-b1edb456ddff",
   "metadata": {},
   "outputs": [
    {
     "data": {
      "text/plain": [
       "['z', 'b', 'c', 'd']"
      ]
     },
     "execution_count": 190,
     "metadata": {},
     "output_type": "execute_result"
    }
   ],
   "source": [
    "my_list"
   ]
  },
  {
   "cell_type": "code",
   "execution_count": 192,
   "id": "7fb85c9f-9ace-4124-b4d4-088429dc8a3f",
   "metadata": {},
   "outputs": [],
   "source": [
    "# Nest list inside of each other\n",
    "nest = [1,2,[3,4]]"
   ]
  },
  {
   "cell_type": "code",
   "execution_count": 194,
   "id": "f6d4b713-649b-49c8-867b-fbc6ab0d0110",
   "metadata": {},
   "outputs": [
    {
     "data": {
      "text/plain": [
       "[1, 2, [3, 4]]"
      ]
     },
     "execution_count": 194,
     "metadata": {},
     "output_type": "execute_result"
    }
   ],
   "source": [
    "nest"
   ]
  },
  {
   "cell_type": "code",
   "execution_count": 200,
   "id": "9eb2e8b3-8c11-451b-87c3-e69c94fd13c2",
   "metadata": {},
   "outputs": [
    {
     "data": {
      "text/plain": [
       "[3, 4]"
      ]
     },
     "execution_count": 200,
     "metadata": {},
     "output_type": "execute_result"
    }
   ],
   "source": [
    "nest[2]"
   ]
  },
  {
   "cell_type": "code",
   "execution_count": 196,
   "id": "40404fb8-b8bb-47b8-abde-7464c15fe092",
   "metadata": {},
   "outputs": [
    {
     "data": {
      "text/plain": [
       "4"
      ]
     },
     "execution_count": 196,
     "metadata": {},
     "output_type": "execute_result"
    }
   ],
   "source": [
    "# grabbing 4 in the list\n",
    "nest[2][1]"
   ]
  },
  {
   "cell_type": "code",
   "execution_count": 202,
   "id": "95bdd013-6d81-4a83-9074-701ae57b65f3",
   "metadata": {},
   "outputs": [],
   "source": [
    "nested_list = [1,2,3,[4,5,['target']]]"
   ]
  },
  {
   "cell_type": "code",
   "execution_count": 204,
   "id": "64259cde-1672-4c16-b0cf-28f8017124d8",
   "metadata": {},
   "outputs": [
    {
     "data": {
      "text/plain": [
       "[4, 5, ['target']]"
      ]
     },
     "execution_count": 204,
     "metadata": {},
     "output_type": "execute_result"
    }
   ],
   "source": [
    "nested_list[3]"
   ]
  },
  {
   "cell_type": "code",
   "execution_count": 211,
   "id": "b557a3fa-a123-452f-a00f-2e21b119f0a5",
   "metadata": {},
   "outputs": [
    {
     "data": {
      "text/plain": [
       "['target']"
      ]
     },
     "execution_count": 211,
     "metadata": {},
     "output_type": "execute_result"
    }
   ],
   "source": [
    "nested_list[3][2]"
   ]
  },
  {
   "cell_type": "code",
   "execution_count": 213,
   "id": "27c950d1-5806-4292-811d-91f3b2dabee6",
   "metadata": {},
   "outputs": [
    {
     "data": {
      "text/plain": [
       "'target'"
      ]
     },
     "execution_count": 213,
     "metadata": {},
     "output_type": "execute_result"
    }
   ],
   "source": [
    "nested_list[3][2][0]"
   ]
  },
  {
   "cell_type": "markdown",
   "id": "a51ae235-d3b0-4f90-b4c9-d08d52e12854",
   "metadata": {},
   "source": [
    "## Dictionaries  \n",
    "\n",
    "In Python, **dictionaries** are powerful and flexible data structures that store data in key-value pairs, similar to hash tables in computer science. They are highly efficient for lookups and allow for dynamic data manipulation. Here's a breakdown of their key features:\n",
    "\n",
    "### Key Features of Dictionaries:  \n",
    "- **Key-Value Pair Storage:**  \n",
    "  - Dictionaries store elements as `key:value` pairs, where each key acts as a unique identifier for its corresponding value.  \n",
    "\n",
    "- **No Sequence or Order:**  \n",
    "  - Unlike lists or tuples, dictionaries do not maintain the order of elements (prior to Python 3.7). They simply map keys to values, making them efficient for retrieving data.  \n",
    "\n",
    "- **Dynamic Value Types:**  \n",
    "  - A dictionary can store values of any data type, including numbers, strings, lists, or even other dictionaries.  \n",
    "\n",
    "- **Unordered Structure:**  \n",
    "  - Prior to Python 3.7, dictionaries did not guarantee order, but starting from Python 3.7, dictionaries preserve the insertion order by default.  \n",
    "\n",
    "### Scientific Insight:  \n",
    "Dictionaries are implemented as **hash maps** in Python. Hash maps use a hash function to compute an index for each key, allowing for fast data access in \\( O(1) \\) time on average. This efficiency makes dictionaries an ideal choice for situations where quick lookups or key-based access to data are required.\n",
    "\n",
    "### Example:\n",
    "```python\n",
    "# Creating a simple dictionary\n",
    "my_dict = {\n",
    "    \"name\": \"Alice\",\n",
    "    \"age\": 30,\n",
    "    \"hobbies\": [\"reading\", \"hiking\", \"gardening\"]\n",
    "}\n",
    "\n",
    "# Accessing values using keys\n",
    "print(my_dict[\"name\"])  # Output: Alice\n"
   ]
  },
  {
   "cell_type": "code",
   "execution_count": 231,
   "id": "5105f52a-5c66-402e-bbe7-fc4fa1fc2cbd",
   "metadata": {},
   "outputs": [],
   "source": [
    "d={'key1':'value','key2':123}"
   ]
  },
  {
   "cell_type": "code",
   "execution_count": 233,
   "id": "49615fff-cade-4162-86a1-72345d683d4f",
   "metadata": {},
   "outputs": [
    {
     "data": {
      "text/plain": [
       "{'key1': 'value', 'key2': 123}"
      ]
     },
     "execution_count": 233,
     "metadata": {},
     "output_type": "execute_result"
    }
   ],
   "source": [
    "d"
   ]
  },
  {
   "cell_type": "code",
   "execution_count": 237,
   "id": "ced449ba-eae3-4fe5-98b7-83a4fba493bd",
   "metadata": {},
   "outputs": [
    {
     "data": {
      "text/plain": [
       "'value'"
      ]
     },
     "execution_count": 237,
     "metadata": {},
     "output_type": "execute_result"
    }
   ],
   "source": [
    "# get the elements through their elements by passing the key corresponding to that value\n",
    "d['key1']"
   ]
  },
  {
   "cell_type": "code",
   "execution_count": 1,
   "id": "b598a7b0-b099-4509-a74f-d7d5dc0c93f0",
   "metadata": {},
   "outputs": [],
   "source": [
    "d={'k1':[1,2,3]}"
   ]
  },
  {
   "cell_type": "code",
   "execution_count": 3,
   "id": "6b19f898-bfa5-438c-b102-ae2f050b07cb",
   "metadata": {},
   "outputs": [
    {
     "data": {
      "text/plain": [
       "{'k1': [1, 2, 3]}"
      ]
     },
     "execution_count": 3,
     "metadata": {},
     "output_type": "execute_result"
    }
   ],
   "source": [
    "d"
   ]
  },
  {
   "cell_type": "code",
   "execution_count": 7,
   "id": "cda01ea6-4afe-4800-b6b0-e226152f74e0",
   "metadata": {},
   "outputs": [
    {
     "data": {
      "text/plain": [
       "[1, 2, 3]"
      ]
     },
     "execution_count": 7,
     "metadata": {},
     "output_type": "execute_result"
    }
   ],
   "source": [
    "d['k1']"
   ]
  },
  {
   "cell_type": "code",
   "execution_count": 11,
   "id": "b5030eac-f36a-48b5-b873-ad15d484dd1d",
   "metadata": {},
   "outputs": [
    {
     "data": {
      "text/plain": [
       "3"
      ]
     },
     "execution_count": 11,
     "metadata": {},
     "output_type": "execute_result"
    }
   ],
   "source": [
    "# As we have the key by calling d['k1'] we can do normal indexing\n",
    "d['k1'][2]"
   ]
  },
  {
   "cell_type": "code",
   "execution_count": 13,
   "id": "563b1dff-9d0c-4d30-a162-72ffb7b85a80",
   "metadata": {},
   "outputs": [],
   "source": [
    "# We can into the list and then get the elements, use [] notation to grab everything off of it\n",
    "# or grab data as we did like the previous code box along the same line \"d['k1'][2]\"\n",
    "my_list=d['k1']"
   ]
  },
  {
   "cell_type": "code",
   "execution_count": 15,
   "id": "7496bdab-144f-4e98-b65d-d034ca4b6976",
   "metadata": {},
   "outputs": [
    {
     "data": {
      "text/plain": [
       "[1, 2, 3]"
      ]
     },
     "execution_count": 15,
     "metadata": {},
     "output_type": "execute_result"
    }
   ],
   "source": [
    "my_list"
   ]
  },
  {
   "cell_type": "code",
   "execution_count": 17,
   "id": "4c6ef6cd-5407-4ec7-a6af-1e5001bc7cc2",
   "metadata": {},
   "outputs": [
    {
     "data": {
      "text/plain": [
       "3"
      ]
     },
     "execution_count": 17,
     "metadata": {},
     "output_type": "execute_result"
    }
   ],
   "source": [
    "my_list[2]"
   ]
  },
  {
   "cell_type": "code",
   "execution_count": 19,
   "id": "28115c39-e8a7-4272-84ab-09e5f7038760",
   "metadata": {},
   "outputs": [],
   "source": [
    "# A dictionary nested in another dictionary\n",
    "d={'k1':{'innerkey':[1,2,3]}}"
   ]
  },
  {
   "cell_type": "code",
   "execution_count": 21,
   "id": "7b1c3e1f-674e-4611-8ade-c85affd05325",
   "metadata": {},
   "outputs": [
    {
     "data": {
      "text/plain": [
       "{'innerkey': [1, 2, 3]}"
      ]
     },
     "execution_count": 21,
     "metadata": {},
     "output_type": "execute_result"
    }
   ],
   "source": [
    "d['k1']"
   ]
  },
  {
   "cell_type": "code",
   "execution_count": 23,
   "id": "5dee3425-e2f3-460e-a03e-34872ef8d4f8",
   "metadata": {},
   "outputs": [
    {
     "data": {
      "text/plain": [
       "3"
      ]
     },
     "execution_count": 23,
     "metadata": {},
     "output_type": "execute_result"
    }
   ],
   "source": [
    "# Lets grab member 3\n",
    "d['k1']['innerkey'][2]"
   ]
  },
  {
   "cell_type": "code",
   "execution_count": 25,
   "id": "8ff502dc-2a96-45bf-b469-3c364d093017",
   "metadata": {},
   "outputs": [],
   "source": [
    "# Or with a list\n",
    "my_list = d['k1']['innerkey']"
   ]
  },
  {
   "cell_type": "code",
   "execution_count": 27,
   "id": "01e10eab-db51-4c79-8c0f-450bf8dffb85",
   "metadata": {},
   "outputs": [
    {
     "data": {
      "text/plain": [
       "[1, 2, 3]"
      ]
     },
     "execution_count": 27,
     "metadata": {},
     "output_type": "execute_result"
    }
   ],
   "source": [
    "my_list"
   ]
  },
  {
   "cell_type": "code",
   "execution_count": 29,
   "id": "b6d35694-90ee-4f2a-ad08-512714e58455",
   "metadata": {},
   "outputs": [
    {
     "data": {
      "text/plain": [
       "3"
      ]
     },
     "execution_count": 29,
     "metadata": {},
     "output_type": "execute_result"
    }
   ],
   "source": [
    "my_list[2]"
   ]
  },
  {
   "cell_type": "markdown",
   "id": "9e4a499b-19a4-4952-b1d4-c17adc2324cb",
   "metadata": {},
   "source": [
    "## Boolean"
   ]
  },
  {
   "cell_type": "code",
   "execution_count": 33,
   "id": "55b49b1a-13f7-4383-b3b1-9ca2be055191",
   "metadata": {},
   "outputs": [
    {
     "data": {
      "text/plain": [
       "True"
      ]
     },
     "execution_count": 33,
     "metadata": {},
     "output_type": "execute_result"
    }
   ],
   "source": [
    "True"
   ]
  },
  {
   "cell_type": "code",
   "execution_count": 35,
   "id": "91871960-9061-405b-a9dc-0a9e668665e5",
   "metadata": {},
   "outputs": [
    {
     "data": {
      "text/plain": [
       "False"
      ]
     },
     "execution_count": 35,
     "metadata": {},
     "output_type": "execute_result"
    }
   ],
   "source": [
    "False"
   ]
  },
  {
   "cell_type": "markdown",
   "id": "70dff00a-fcba-430f-a9ed-ade10fee0356",
   "metadata": {},
   "source": [
    "## Tuples  \n",
    "\n",
    "Tuples in Python are a fundamental data type used to store a sequence of objects. They share similarities with lists but have key differences that make them unique and useful in specific situations.  \n",
    "\n",
    "### Key Characteristics of Tuples:  \n",
    "- **Defined with Parentheses:** Tuples use `()` instead of square brackets `[]` used for lists.  \n",
    "- **Immutable:** Once a tuple is created, its elements cannot be changed, added, or removed. This immutability makes tuples useful for fixed data that should remain constant throughout the program.  \n",
    "- **Ordered:** Like lists, tuples maintain the order of elements, allowing indexing and slicing operations.  \n",
    "\n",
    "### Scientific Explanation of Tuples and Immutability:  \n",
    "- **Immutability and Memory Efficiency:** Because tuples are immutable, Python can optimize their memory usage. This makes them more efficient than lists in scenarios where data does not need to be modified. Tuples are also hashable, which allows them to be used as keys in dictionaries or stored in sets (unlike lists).  \n",
    "- **Use Cases:** Tuples are ideal for representing fixed collections of data, such as coordinates, RGB color values, or days of the week, where the data should remain constant.  \n",
    "\n",
    "### Comparison Between Tuples and Lists:  \n",
    "- **Tuples are Immutable:** Elements cannot be modified after creation.  \n",
    "- **Lists are Mutable:** Elements can be added, removed, or changed.  "
   ]
  },
  {
   "cell_type": "code",
   "execution_count": 38,
   "id": "31cadf4b-61a7-46ae-9624-46f0560041ee",
   "metadata": {},
   "outputs": [],
   "source": [
    "my_list= [1,2,3]"
   ]
  },
  {
   "cell_type": "code",
   "execution_count": 40,
   "id": "36a02c71-4f40-4ffa-83aa-f0853903bf3b",
   "metadata": {},
   "outputs": [
    {
     "data": {
      "text/plain": [
       "1"
      ]
     },
     "execution_count": 40,
     "metadata": {},
     "output_type": "execute_result"
    }
   ],
   "source": [
    "my_list[0]"
   ]
  },
  {
   "cell_type": "code",
   "execution_count": 42,
   "id": "6416b089-1a11-475c-afad-953182b5e0ef",
   "metadata": {},
   "outputs": [],
   "source": [
    "t=(1,2,3)"
   ]
  },
  {
   "cell_type": "code",
   "execution_count": 44,
   "id": "cfae62f2-cc37-40f8-a9ef-c9ea79857e75",
   "metadata": {},
   "outputs": [
    {
     "data": {
      "text/plain": [
       "1"
      ]
     },
     "execution_count": 44,
     "metadata": {},
     "output_type": "execute_result"
    }
   ],
   "source": [
    "t[0]"
   ]
  },
  {
   "cell_type": "code",
   "execution_count": 46,
   "id": "c7d3106b-768b-4695-b62d-eef14929952c",
   "metadata": {},
   "outputs": [],
   "source": [
    "my_list[0]= 'NEW'"
   ]
  },
  {
   "cell_type": "code",
   "execution_count": 48,
   "id": "7c504faa-6528-43df-b3c1-77267de89782",
   "metadata": {},
   "outputs": [
    {
     "data": {
      "text/plain": [
       "['NEW', 2, 3]"
      ]
     },
     "execution_count": 48,
     "metadata": {},
     "output_type": "execute_result"
    }
   ],
   "source": [
    "my_list"
   ]
  },
  {
   "cell_type": "code",
   "execution_count": 50,
   "id": "e7cba6d5-de18-47ff-8ca0-cebc751cdd0f",
   "metadata": {},
   "outputs": [
    {
     "ename": "TypeError",
     "evalue": "'tuple' object does not support item assignment",
     "output_type": "error",
     "traceback": [
      "\u001b[0;31m---------------------------------------------------------------------------\u001b[0m",
      "\u001b[0;31mTypeError\u001b[0m                                 Traceback (most recent call last)",
      "Cell \u001b[0;32mIn[50], line 1\u001b[0m\n\u001b[0;32m----> 1\u001b[0m t[\u001b[38;5;241m0\u001b[39m]\u001b[38;5;241m=\u001b[39m\u001b[38;5;124m'\u001b[39m\u001b[38;5;124mNEW\u001b[39m\u001b[38;5;124m'\u001b[39m\n",
      "\u001b[0;31mTypeError\u001b[0m: 'tuple' object does not support item assignment"
     ]
    }
   ],
   "source": [
    "t[0]='NEW'"
   ]
  },
  {
   "cell_type": "code",
   "execution_count": 53,
   "id": "2a3adf2c-5b76-408c-803c-6147eb0d2b46",
   "metadata": {},
   "outputs": [
    {
     "name": "stdout",
     "output_type": "stream",
     "text": [
      "1\n"
     ]
    }
   ],
   "source": [
    "# Tuple example\n",
    "my_tuple = (1, 2, 3)\n",
    "print(my_tuple[0])  # Accessing the first element\n",
    "\n",
    "# List example\n",
    "my_list = [1, 2, 3]\n",
    "my_list[0] = 100  # Modifying the first element"
   ]
  },
  {
   "cell_type": "markdown",
   "id": "969cd4ce-e386-49f0-8641-4567c66f7866",
   "metadata": {},
   "source": [
    "## Sets\n",
    "\n",
    "In Python, a **set** is a data structure that represents a collection of **unique, unordered elements**. Unlike lists or tuples, sets do not allow duplicate values. This makes them particularly useful for tasks like removing duplicates or performing mathematical set operations.\n",
    "\n",
    "### Key Characteristics of Sets:\n",
    "- **Unique Elements**: Each element in a set must be distinct. If duplicates are added, they will automatically be removed.  \n",
    "- **Unordered**: Sets do not maintain any specific order for the elements.  \n",
    "- **Mutable**: You can add or remove elements from a set, although the elements themselves must be immutable (e.g., strings, numbers, tuples).\n",
    "\n",
    "### Scientific Analogy:\n",
    "Think of a set in Python as a \"mathematical set\" in science, where:  \n",
    "- The set contains only distinct members (no duplicates).  \n",
    "- Operations like union, intersection, and difference can be performed just like in mathematical set theory.\n",
    "\n",
    "Here’s a well-structured and detailed version for your Jupyter Notebook:\n",
    "\n",
    "```markdown\n",
    "## Sets  \n",
    "\n",
    "### What is a Set?  \n",
    "- In Python, a **set** is a built-in data type that represents a collection of **unique and unordered elements**.  \n",
    "- Unlike lists or tuples, sets automatically discard duplicate values, ensuring each element is unique.  \n",
    "- Sets are based on the concept of mathematical sets, which allow operations like union, intersection, and difference.  \n",
    "\n",
    "### Creating a Set  \n",
    "- You can create a set using the `set()` method or by using curly braces `{}`.  \n",
    "- **Example:**  \n",
    "    ```python\n",
    "    my_set = {1, 2, 3, 4}\n",
    "    another_set = set([3, 4, 5, 6])  # Convert a list into a set\n",
    "    print(my_set, another_set)\n",
    "    ```\n",
    "\n",
    "### Key Features of Sets  \n",
    "- **Unique Elements:** If you attempt to add an element that already exists in the set, it will not raise an error but will silently ignore the duplicate.  \n",
    "    ```python\n",
    "    my_set = {1, 2, 3}\n",
    "    my_set.add(3)  # Adding a duplicate\n",
    "    print(my_set)  # Output: {1, 2, 3}\n",
    "    ```\n",
    "\n",
    "- **Unordered:** The order of elements in a set is not guaranteed.  \n",
    "\n",
    "### Common Set Methods and Operations  \n",
    "- **`add()`**: Adds a single element to the set.  \n",
    "    ```python\n",
    "    my_set.add(5)\n",
    "    ```\n",
    "\n",
    "- **`remove()`**: Removes a specific element from the set. Raises an error if the element is not found.  \n",
    "    ```python\n",
    "    my_set.remove(2)\n",
    "    ```\n",
    "\n",
    "- **`discard()`**: Removes a specific element but does not raise an error if the element is not found.  \n",
    "    ```python\n",
    "    my_set.discard(10)  # No error even if 10 is not in the set\n",
    "    ```\n",
    "\n",
    "- **`union()`**: Returns a new set with elements from both sets.  \n",
    "    ```python\n",
    "    set1 = {1, 2, 3}\n",
    "    set2 = {3, 4, 5}\n",
    "    print(set1.union(set2))  # Output: {1, 2, 3, 4, 5}\n",
    "    ```\n",
    "\n",
    "- **`intersection()`**: Returns a set of elements common to both sets.  \n",
    "    ```python\n",
    "    print(set1.intersection(set2))  # Output: {3}\n",
    "    ```\n",
    "\n",
    "- **`difference()`**: Returns a set of elements present in the first set but not in the second.  \n",
    "    ```python\n",
    "    print(set1.difference(set2))  # Output: {1, 2}\n",
    "    ```\n",
    "\n",
    "- **`clear()`**: Removes all elements from the set, leaving it empty.  \n",
    "    ```python\n",
    "    my_set.clear()\n",
    "    ```\n",
    "\n",
    "- **`len()`**: Returns the number of elements in a set.  \n",
    "    ```python\n",
    "    print(len(my_set))\n",
    "    ```\n",
    "\n",
    "### Scientific Explanation  \n",
    "In computer science, sets are highly efficient for membership testing and eliminating duplicates due to their underlying **hash table** implementation. This ensures constant-time complexity \\(O(1)\\) for operations like `add`, `remove`, and `lookup`. Their unordered nature comes from the way elements are hashed and stored in memory, making them ideal for tasks where uniqueness and performance are crucial.  \n",
    "\n",
    "```markdown\n",
    "### Summary  \n",
    "Sets in Python are versatile and useful for ensuring unique collections of data, performing mathematical operations, and achieving high-performance lookups.\n",
    "```\n"
   ]
  },
  {
   "cell_type": "code",
   "execution_count": 56,
   "id": "15c7d1d7-113b-4704-b50f-e0ec17ef18fb",
   "metadata": {},
   "outputs": [
    {
     "data": {
      "text/plain": [
       "{1, 2, 3}"
      ]
     },
     "execution_count": 56,
     "metadata": {},
     "output_type": "execute_result"
    }
   ],
   "source": [
    "{1,2,3}"
   ]
  },
  {
   "cell_type": "code",
   "execution_count": 58,
   "id": "13310630-6234-407f-a628-9e6f79193ed0",
   "metadata": {},
   "outputs": [
    {
     "data": {
      "text/plain": [
       "{1, 2, 3}"
      ]
     },
     "execution_count": 58,
     "metadata": {},
     "output_type": "execute_result"
    }
   ],
   "source": [
    "{1,2,3,1,2,1,2,3,3,3,3,2,2,2,1,1,2}"
   ]
  },
  {
   "cell_type": "code",
   "execution_count": 83,
   "id": "1e3e16ed-ec18-4187-86cc-f6223aa0d765",
   "metadata": {},
   "outputs": [
    {
     "data": {
      "text/plain": [
       "{1, 2, 3, 4, 5, 7, 454}"
      ]
     },
     "execution_count": 83,
     "metadata": {},
     "output_type": "execute_result"
    }
   ],
   "source": [
    "set([1,2,3,5,7,7,7,7,7,454,4])"
   ]
  },
  {
   "cell_type": "code",
   "execution_count": 85,
   "id": "8fe9ca40-af00-4c65-80c0-f20ff49dffac",
   "metadata": {},
   "outputs": [],
   "source": [
    "s = {1,2,3}"
   ]
  },
  {
   "cell_type": "code",
   "execution_count": 87,
   "id": "92816e4f-b6fd-4e39-86f8-81d45cc534ed",
   "metadata": {},
   "outputs": [],
   "source": [
    "s.add(5)"
   ]
  },
  {
   "cell_type": "code",
   "execution_count": 89,
   "id": "ac39b40a-19e9-473b-9ba0-6a8f754b11b5",
   "metadata": {},
   "outputs": [
    {
     "data": {
      "text/plain": [
       "{1, 2, 3, 5}"
      ]
     },
     "execution_count": 89,
     "metadata": {},
     "output_type": "execute_result"
    }
   ],
   "source": [
    "s"
   ]
  },
  {
   "cell_type": "code",
   "execution_count": null,
   "id": "aaa37c17-a8ab-41b0-8745-e4a8c0630f3d",
   "metadata": {},
   "outputs": [],
   "source": [
    "# IF you try to add an item which is already exists in the set, it won't retreive an error but it will keep it the same\n",
    "s.add(5)"
   ]
  },
  {
   "cell_type": "code",
   "execution_count": 4,
   "id": "12171af9-93cf-4c1c-82a0-ac08e61f224b",
   "metadata": {},
   "outputs": [],
   "source": [
    "# Creating a set\n",
    "my_set = {1, 2, 3, 4, 5}"
   ]
  },
  {
   "cell_type": "code",
   "execution_count": 6,
   "id": "bd3d6911-3392-4890-9185-80e95530b70d",
   "metadata": {},
   "outputs": [
    {
     "data": {
      "text/plain": [
       "{1, 2, 3, 4, 5}"
      ]
     },
     "execution_count": 6,
     "metadata": {},
     "output_type": "execute_result"
    }
   ],
   "source": [
    "my_set"
   ]
  },
  {
   "cell_type": "code",
   "execution_count": 8,
   "id": "7cf76eef-60be-4fe5-a950-289850a38c2e",
   "metadata": {},
   "outputs": [],
   "source": [
    "# Adding a new element\n",
    "my_set.add(6)"
   ]
  },
  {
   "cell_type": "code",
   "execution_count": 10,
   "id": "257e75b9-6556-480c-99ac-54181f137aca",
   "metadata": {},
   "outputs": [
    {
     "data": {
      "text/plain": [
       "{1, 2, 3, 4, 5, 6}"
      ]
     },
     "execution_count": 10,
     "metadata": {},
     "output_type": "execute_result"
    }
   ],
   "source": [
    "my_set"
   ]
  },
  {
   "cell_type": "code",
   "execution_count": 12,
   "id": "5a8806b0-3e9e-4ea7-a64c-02a2f948c24c",
   "metadata": {},
   "outputs": [],
   "source": [
    "# Trying to add a duplicate element\n",
    "my_set.add(3)  # The set remains unchanged because 3 is already in the set"
   ]
  },
  {
   "cell_type": "code",
   "execution_count": 21,
   "id": "a1ce745b-1607-4237-ba18-c970bf3b479b",
   "metadata": {},
   "outputs": [
    {
     "data": {
      "text/plain": [
       "{1, 2, 3, 5, 6}"
      ]
     },
     "execution_count": 21,
     "metadata": {},
     "output_type": "execute_result"
    }
   ],
   "source": [
    "my_set"
   ]
  },
  {
   "cell_type": "code",
   "execution_count": 25,
   "id": "93be63b6-bf59-4613-ad9f-16d1bf3e3594",
   "metadata": {},
   "outputs": [],
   "source": [
    "# Removing an element\n",
    "my_set.remove(2)"
   ]
  },
  {
   "cell_type": "code",
   "execution_count": 27,
   "id": "63a15943-553e-4da5-83ab-dbdba167a038",
   "metadata": {},
   "outputs": [
    {
     "data": {
      "text/plain": [
       "{1, 3, 5, 6}"
      ]
     },
     "execution_count": 27,
     "metadata": {},
     "output_type": "execute_result"
    }
   ],
   "source": [
    "my_set"
   ]
  },
  {
   "cell_type": "code",
   "execution_count": 29,
   "id": "94d5736b-e7f9-4730-9734-f1fbbf199944",
   "metadata": {},
   "outputs": [
    {
     "name": "stdout",
     "output_type": "stream",
     "text": [
      "{1, 3, 5, 6}\n"
     ]
    }
   ],
   "source": [
    "# Checking the contents of the set\n",
    "print(my_set)  # Output: {1, 3, 5, 6}"
   ]
  },
  {
   "cell_type": "markdown",
   "id": "4991ca0c-e4a6-4c24-8911-4bcfeba8800e",
   "metadata": {},
   "source": [
    "## Comparison Operators\n",
    "\n",
    "Comparison operators are used to compare values. These comparisons return a Boolean value: `True` or `False`.\n",
    "\n",
    "### Common Comparison Operators\n",
    "- `==` : Equal to  \n",
    "    - Checks if two values are the same.\n",
    "    ```python\n",
    "    5 == 5  # True\n",
    "    ```\n",
    "- `!=` : Not equal to  \n",
    "    - Checks if two values are different.\n",
    "    ```python\n",
    "    5 != 3  # True\n",
    "    ```\n",
    "- `>` : Greater than  \n",
    "    - Checks if the left value is greater than the right.\n",
    "    ```python\n",
    "    7 > 3  # True\n",
    "    ```\n",
    "- `<` : Less than  \n",
    "    - Checks if the left value is less than the right.\n",
    "    ```python\n",
    "    2 < 5  # True\n",
    "    ```\n",
    "- `>=` : Greater than or equal to  \n",
    "    - Checks if the left value is greater than or equal to the right.\n",
    "    ```python\n",
    "    5 >= 5  # True\n",
    "    ```\n",
    "- `<=` : Less than or equal to  \n",
    "    - Checks if the left value is less than or equal to the right.\n",
    "    ```python\n",
    "    4 <= 6  # True\n",
    "    ```\n",
    "\n",
    "### Combining Comparison Operators\n",
    "You can combine comparisons with logical operators to form complex conditions:\n",
    "- `and` : All conditions must be `True`.\n",
    "    ```python\n",
    "    (5 > 3) and (2 < 4)  # True\n",
    "    ```\n",
    "- `or` : At least one condition must be `True`.\n",
    "    ```python\n",
    "    (5 > 3) or (2 > 4)  # True\n",
    "    ```\n",
    "- `not` : Negates the condition.\n",
    "    ```python\n",
    "    not (5 > 3)  # False\n",
    "    ```\n",
    "### Special Notes\n",
    "1. Python comparison operators can also be used with strings:\n",
    "    ```python\n",
    "    \"apple\" < \"banana\"  # True (alphabetical comparison)\n",
    "    ```\n",
    "2. Chained comparisons are also valid:\n",
    "    ```python\n",
    "    3 < 5 < 7  # True\n",
    "    ```\n",
    "    This is equivalent to `(3 < 5) and (5 < 7)`.\n",
    "\n",
    "## Use Cases\n",
    "- **Conditional Statements**: Used in `if`, `elif`, and `else` statements to control the flow of the program.\n",
    "    ```python\n",
    "    age = 18\n",
    "    if age >= 18:\n",
    "        print(\"You are an adult!\")\n",
    "    else:\n",
    "        print(\"You are underage!\")\n",
    "    ```\n",
    "\n",
    "\n",
    "Experiment with these operators to better understand how they work!\n"
   ]
  },
  {
   "cell_type": "code",
   "execution_count": 32,
   "id": "d7df2fa4-9b3a-4a04-8678-b4626cba8d0c",
   "metadata": {},
   "outputs": [
    {
     "data": {
      "text/plain": [
       "False"
      ]
     },
     "execution_count": 32,
     "metadata": {},
     "output_type": "execute_result"
    }
   ],
   "source": [
    "1>2"
   ]
  },
  {
   "cell_type": "code",
   "execution_count": 64,
   "id": "31dd44bf-0cf1-4fd6-aa37-c8607fc38b53",
   "metadata": {},
   "outputs": [
    {
     "data": {
      "text/plain": [
       "True"
      ]
     },
     "execution_count": 64,
     "metadata": {},
     "output_type": "execute_result"
    }
   ],
   "source": [
    "1<2"
   ]
  },
  {
   "cell_type": "code",
   "execution_count": 68,
   "id": "67f79eba-a97a-4748-9f62-3ac9f9e98bd2",
   "metadata": {},
   "outputs": [
    {
     "data": {
      "text/plain": [
       "True"
      ]
     },
     "execution_count": 68,
     "metadata": {},
     "output_type": "execute_result"
    }
   ],
   "source": [
    "1>=1"
   ]
  },
  {
   "cell_type": "code",
   "execution_count": 71,
   "id": "cda46cc8-1510-4d08-baeb-00328b597c38",
   "metadata": {},
   "outputs": [
    {
     "data": {
      "text/plain": [
       "True"
      ]
     },
     "execution_count": 71,
     "metadata": {},
     "output_type": "execute_result"
    }
   ],
   "source": [
    "1<=5"
   ]
  },
  {
   "cell_type": "code",
   "execution_count": 75,
   "id": "045b2549-a6d8-40b8-9235-712de1f457e2",
   "metadata": {},
   "outputs": [
    {
     "data": {
      "text/plain": [
       "True"
      ]
     },
     "execution_count": 75,
     "metadata": {},
     "output_type": "execute_result"
    }
   ],
   "source": [
    "7==7"
   ]
  },
  {
   "cell_type": "code",
   "execution_count": 77,
   "id": "71e8e3d8-7c03-4d40-8e2b-4f1212fbfce6",
   "metadata": {},
   "outputs": [
    {
     "data": {
      "text/plain": [
       "False"
      ]
     },
     "execution_count": 77,
     "metadata": {},
     "output_type": "execute_result"
    }
   ],
   "source": [
    "1==7"
   ]
  },
  {
   "cell_type": "code",
   "execution_count": 79,
   "id": "69507ca1-9fee-4b2d-8ca5-8de97068b248",
   "metadata": {},
   "outputs": [
    {
     "data": {
      "text/plain": [
       "False"
      ]
     },
     "execution_count": 79,
     "metadata": {},
     "output_type": "execute_result"
    }
   ],
   "source": [
    "'Sam' == 'Shab'"
   ]
  },
  {
   "cell_type": "code",
   "execution_count": 41,
   "id": "d1a6724d-c571-43b6-88d0-5bfbd89365e5",
   "metadata": {},
   "outputs": [
    {
     "data": {
      "text/plain": [
       "True"
      ]
     },
     "execution_count": 41,
     "metadata": {},
     "output_type": "execute_result"
    }
   ],
   "source": [
    "'Sam' != 'Shab'"
   ]
  },
  {
   "cell_type": "markdown",
   "id": "11d681d1-d17b-4348-b467-ed68a0faedd4",
   "metadata": {},
   "source": [
    "## Logic Operators"
   ]
  },
  {
   "cell_type": "code",
   "execution_count": 43,
   "id": "76716d2c-b67b-413a-8cc0-99f23a7b2f1f",
   "metadata": {},
   "outputs": [
    {
     "data": {
      "text/plain": [
       "True"
      ]
     },
     "execution_count": 43,
     "metadata": {},
     "output_type": "execute_result"
    }
   ],
   "source": [
    "# 5 > 3 and 2 < 4\n",
    "(5 > 3) and (2 < 4)"
   ]
  },
  {
   "cell_type": "code",
   "execution_count": 45,
   "id": "f80ac8cc-3472-4a8d-a3eb-02dfac15c37f",
   "metadata": {},
   "outputs": [
    {
     "data": {
      "text/plain": [
       "True"
      ]
     },
     "execution_count": 45,
     "metadata": {},
     "output_type": "execute_result"
    }
   ],
   "source": [
    "(5 > 3) or (2 > 4)"
   ]
  },
  {
   "cell_type": "code",
   "execution_count": 47,
   "id": "94d4cf7b-f7ee-40e4-9b26-ff37f050efd9",
   "metadata": {},
   "outputs": [
    {
     "data": {
      "text/plain": [
       "False"
      ]
     },
     "execution_count": 47,
     "metadata": {},
     "output_type": "execute_result"
    }
   ],
   "source": [
    "not (5 > 3) "
   ]
  },
  {
   "cell_type": "code",
   "execution_count": 51,
   "id": "37f42977-e41c-4b7d-b512-b772c5ebe3ec",
   "metadata": {},
   "outputs": [
    {
     "data": {
      "text/plain": [
       "True"
      ]
     },
     "execution_count": 51,
     "metadata": {},
     "output_type": "execute_result"
    }
   ],
   "source": [
    "(1<2) or (2>3) or (1==1)"
   ]
  },
  {
   "cell_type": "code",
   "execution_count": 49,
   "id": "6fc34066-706a-44dc-8dcb-e0f3b414c8c7",
   "metadata": {},
   "outputs": [
    {
     "data": {
      "text/plain": [
       "True"
      ]
     },
     "execution_count": 49,
     "metadata": {},
     "output_type": "execute_result"
    }
   ],
   "source": [
    "True and True"
   ]
  },
  {
   "cell_type": "code",
   "execution_count": 53,
   "id": "67065563-3f33-4a22-90db-c1797c7a4031",
   "metadata": {},
   "outputs": [
    {
     "data": {
      "text/plain": [
       "False"
      ]
     },
     "execution_count": 53,
     "metadata": {},
     "output_type": "execute_result"
    }
   ],
   "source": [
    "True and False"
   ]
  },
  {
   "cell_type": "code",
   "execution_count": 55,
   "id": "a90ca63a-646d-4607-a1fd-188c1f8be0fa",
   "metadata": {},
   "outputs": [
    {
     "data": {
      "text/plain": [
       "True"
      ]
     },
     "execution_count": 55,
     "metadata": {},
     "output_type": "execute_result"
    }
   ],
   "source": [
    "True or False"
   ]
  },
  {
   "cell_type": "code",
   "execution_count": 57,
   "id": "06ee7517-15a5-4f38-8b2d-1d08a1153dc1",
   "metadata": {},
   "outputs": [
    {
     "data": {
      "text/plain": [
       "True"
      ]
     },
     "execution_count": 57,
     "metadata": {},
     "output_type": "execute_result"
    }
   ],
   "source": [
    "True or True"
   ]
  },
  {
   "cell_type": "markdown",
   "id": "09947cec-3d61-46ad-9e48-670d64720258",
   "metadata": {},
   "source": [
    "## if, elif, else Statements\n",
    "\n",
    "Control flow in Python allows you to make decisions and execute code conditionally based on certain conditions. The `if`, `elif`, and `else` statements are fundamental building blocks for this.\n",
    "\n",
    "**Python uses indentation (whitespace) to define blocks of code instead of using curly braces `{}`.**\n",
    "\n",
    "\n",
    "### **Syntax**\n",
    "```python\n",
    "if condition:\n",
    "    # Code to execute if condition is True\n",
    "elif another_condition:\n",
    "    # Code to execute if the first condition is False and this one is True\n",
    "else:\n",
    "    # Code to execute if none of the above conditions are True\n",
    "```\n",
    "\n",
    "### **Key Points**\n",
    "- The `if` statement checks a condition. If it evaluates to `True`, the indented code block under it runs.\n",
    "- The `elif` (short for \"else if\") statement checks another condition if the `if` condition is `False`.\n",
    "- The `else` statement executes a block of code if none of the preceding conditions are `True`.\n",
    "- Indentation is crucial in Python. Blocks of code must be indented to define their scope within `if`, `elif`, or `else`.\n",
    "\n",
    "### **Tips for Writing Conditional Statements**\n",
    "1. Always ensure conditions are clear and logical.\n",
    "2. Conditions can involve:\n",
    "   - Comparison operators (`==`, `!=`, `<`, `>`, `<=`, `>=`)\n",
    "   - Logical operators (`and`, `or`, `not`)\n",
    "3. Use `elif` for multiple conditions instead of chaining multiple `if` statements.\n",
    "4. The `else` block is optional but can be helpful for catching all other cases.\n",
    "\n",
    "\n",
    "\n",
    "### **Common Pitfalls**\n",
    "- Forgetting to use proper indentation will raise an `IndentationError`.\n",
    "- Using the wrong logical or comparison operators.\n",
    "- Over-complicating conditions when simpler ones would suffice."
   ]
  },
  {
   "cell_type": "code",
   "execution_count": 65,
   "id": "3c991212-55f6-4afb-b6ee-4532d6f92756",
   "metadata": {},
   "outputs": [
    {
     "name": "stdout",
     "output_type": "stream",
     "text": [
      "True\n"
     ]
    }
   ],
   "source": [
    "if 1<2:\n",
    "    print('True')"
   ]
  },
  {
   "cell_type": "code",
   "execution_count": 67,
   "id": "c5eed70c-0c41-4c0c-82b7-6b612f361f18",
   "metadata": {},
   "outputs": [],
   "source": [
    "if True:\n",
    "    x=1+5"
   ]
  },
  {
   "cell_type": "code",
   "execution_count": 69,
   "id": "79e3f63d-24fd-47c8-be5b-c2d3e803b6c9",
   "metadata": {},
   "outputs": [
    {
     "data": {
      "text/plain": [
       "6"
      ]
     },
     "execution_count": 69,
     "metadata": {},
     "output_type": "execute_result"
    }
   ],
   "source": [
    "x"
   ]
  },
  {
   "cell_type": "code",
   "execution_count": 73,
   "id": "3b25caaa-c636-4cd8-9f98-79d33b7799c8",
   "metadata": {},
   "outputs": [
    {
     "name": "stdout",
     "output_type": "stream",
     "text": [
      "First\n"
     ]
    }
   ],
   "source": [
    "False\n",
    "if True:\n",
    "    print('First')\n",
    "if False:\n",
    "    print('Last')"
   ]
  },
  {
   "cell_type": "code",
   "execution_count": 75,
   "id": "1a1a06f0-cc9b-431b-b938-1141c439e828",
   "metadata": {},
   "outputs": [
    {
     "name": "stdout",
     "output_type": "stream",
     "text": [
      "First\n"
     ]
    }
   ],
   "source": [
    "condition = True \n",
    "if condition:\n",
    "    print('First')\n",
    "else:\n",
    "    print('Last')\n"
   ]
  },
  {
   "cell_type": "code",
   "execution_count": 77,
   "id": "a048a15a-0950-4158-a055-32ff30d6bc70",
   "metadata": {},
   "outputs": [
    {
     "name": "stdin",
     "output_type": "stream",
     "text": [
      "Enter 'yes' to print First, anything else for Last:  else\n"
     ]
    },
    {
     "name": "stdout",
     "output_type": "stream",
     "text": [
      "Last\n"
     ]
    }
   ],
   "source": [
    "user_input = input(\"Enter 'yes' to print First, anything else for Last: \").lower()\n",
    "if user_input == 'yes':\n",
    "    print('First')\n",
    "else:\n",
    "    print('Last')"
   ]
  },
  {
   "cell_type": "code",
   "execution_count": 81,
   "id": "08b05a58-b21c-4fea-b682-62e56eb561dc",
   "metadata": {},
   "outputs": [
    {
     "name": "stdout",
     "output_type": "stream",
     "text": [
      "Wotcha\n"
     ]
    }
   ],
   "source": [
    "# Python uses indentation (whitespace) to define blocks of code instead of using curly braces `{}`.\n",
    "# Multiple condition\n",
    "# We can keep stacking as many elif as we want\n",
    "x = 2\n",
    "\n",
    "if x > 15:\n",
    "    print(\"x is greater than 15\")\n",
    "elif x == 10:\n",
    "    print(\"x is equal to 10\")\n",
    "elif x== 2:\n",
    "    print('Wotcha')\n",
    "else:\n",
    "    print(\"x is less than 10\")"
   ]
  },
  {
   "cell_type": "markdown",
   "id": "b110b68b-e52d-4398-8fb2-9a4fb86baff1",
   "metadata": {},
   "source": [
    "Since one condition is met (5 == 5), Python does not evaluate the remaining elif or else blocks. This is because in an if-elif-else chain, only one block of code is executed, and the rest are skipped once a True condition is found."
   ]
  },
  {
   "cell_type": "code",
   "execution_count": 85,
   "id": "0c73c34d-2294-4958-8a08-96414b7e2db3",
   "metadata": {},
   "outputs": [
    {
     "name": "stdout",
     "output_type": "stream",
     "text": [
      "second\n"
     ]
    }
   ],
   "source": [
    "if 1 == 2:\n",
    "    print('first')\n",
    "elif 5==5:\n",
    "    print('second')\n",
    "elif 3 == 3:\n",
    "    print('middle')\n",
    "else:\n",
    "    print('Last')"
   ]
  },
  {
   "cell_type": "markdown",
   "id": "6ad72e88-f3e2-4d7b-a1c3-49d1968ddc8d",
   "metadata": {},
   "source": [
    "### **Nested if Statements**\n",
    "You can nest `if` statements to handle more complex conditions:"
   ]
  },
  {
   "cell_type": "code",
   "execution_count": 89,
   "id": "31b80107-abf5-41ed-8bc3-17f7ce89b567",
   "metadata": {},
   "outputs": [
    {
     "name": "stdout",
     "output_type": "stream",
     "text": [
      "Both x and y are greater than 10\n"
     ]
    }
   ],
   "source": [
    "\n",
    "x = 20\n",
    "y = 15\n",
    "\n",
    "if x > 10:\n",
    "    if y > 10:\n",
    "        print(\"Both x and y are greater than 10\")"
   ]
  },
  {
   "cell_type": "markdown",
   "id": "e0344f20-a7ac-4b1c-95d3-b994d52b60c9",
   "metadata": {},
   "source": [
    "### **Practice Exercise**\n",
    "Write a program that categorizes a number as:\n",
    "- \"Positive and even\"\n",
    "- \"Positive and odd\"\n",
    "- \"Negative\"\n",
    "- \"Zero\""
   ]
  },
  {
   "cell_type": "code",
   "execution_count": 106,
   "id": "1d5f7047-adf7-41f2-bf8c-afdddb864d4a",
   "metadata": {},
   "outputs": [
    {
     "name": "stdin",
     "output_type": "stream",
     "text": [
      "Enter a number:  200\n"
     ]
    },
    {
     "name": "stdout",
     "output_type": "stream",
     "text": [
      "x = 200 is Positive and even\n"
     ]
    }
   ],
   "source": [
    "x = int(input(\"Enter a number: \"))\n",
    "if x%2==0 and x>0:\n",
    "    print('x = {one} is Positive and even'.format(one=x))\n",
    "if x%2!=0 and x>0:\n",
    "    print('x = {one} is Positive and odd'.format(one=x))\n",
    "if x<0:\n",
    "    print('x = {one} is Negative'.format(one=x))\n",
    "if x==0:\n",
    "    print('x = {one} is Zero'.format(one=x))"
   ]
  },
  {
   "cell_type": "code",
   "execution_count": 108,
   "id": "7411527f-ba41-4d5e-8f42-a970035ca8f2",
   "metadata": {},
   "outputs": [
    {
     "name": "stdin",
     "output_type": "stream",
     "text": [
      "Enter a number:  23\n"
     ]
    },
    {
     "name": "stdout",
     "output_type": "stream",
     "text": [
      "x = 23 is Positive and odd\n"
     ]
    }
   ],
   "source": [
    "x = int(input(\"Enter a number: \"))\n",
    "if x%2==0 and x>0:\n",
    "    print('x = {one} is Positive and even'.format(one=x))\n",
    "elif x>0:\n",
    "    print('x = {one} is Positive and odd'.format(one=x))\n",
    "elif x<0:\n",
    "    print('x = {one} is Negative'.format(one=x))\n",
    "else:\n",
    "    print('x = {one} is Zero'.format(one=x))"
   ]
  },
  {
   "cell_type": "markdown",
   "id": "beec114e-5bd1-4c10-b939-7dab54781326",
   "metadata": {},
   "source": [
    "## For Loops\n",
    "\n",
    "A **`for` loop** is used to iterate over a sequence (like a list, tuple, dictionary, set, or string) and perform a block of code for each element in the sequence.\n",
    "\n",
    "---\n",
    "\n",
    "### Syntax of a For Loop\n",
    "\n",
    "```python\n",
    "for item in iterable:\n",
    "    # Code block to execute\n",
    "```\n",
    "`item:` A variable that takes on the value of each element in the sequence during iteration.\n",
    "`iterable`: A sequence or collection you want to loop through (e.g., list, string, or range)"
   ]
  },
  {
   "cell_type": "markdown",
   "id": "e7e8c4d0-f7ae-4a6e-9e31-564a723f9c7e",
   "metadata": {},
   "source": [
    "### 1. Looping Through a List"
   ]
  },
  {
   "cell_type": "code",
   "execution_count": 133,
   "id": "1a2f765a-fc7b-4c63-92c8-7f34aee62576",
   "metadata": {},
   "outputs": [],
   "source": [
    "seq=[1,2,3,4]"
   ]
  },
  {
   "cell_type": "code",
   "execution_count": 135,
   "id": "79dff502-4eeb-4526-8ba1-d75c47f76d64",
   "metadata": {},
   "outputs": [
    {
     "name": "stdout",
     "output_type": "stream",
     "text": [
      "item no 1: 1\n",
      "item no 2: 2\n",
      "item no 3: 3\n",
      "item no 4: 4\n"
     ]
    }
   ],
   "source": [
    "\n",
    "for i in seq:\n",
    "    print('item no {one}:'.format(one=i),i)"
   ]
  },
  {
   "cell_type": "code",
   "execution_count": 137,
   "id": "2ce883dd-884c-4274-800a-8cbcbcd626bf",
   "metadata": {},
   "outputs": [
    {
     "name": "stdout",
     "output_type": "stream",
     "text": [
      "Index 0: Value 5\n",
      "Index 1: Value 6\n",
      "Index 2: Value 7\n",
      "Index 3: Value 8\n",
      "Index 4: Value 9\n"
     ]
    }
   ],
   "source": [
    "# Simplifying index\n",
    "seq = [5, 6, 7, 8, 9]\n",
    "\n",
    "for index, value in enumerate(seq):\n",
    "    print(f\"Index {index}: Value {value}\")"
   ]
  },
  {
   "cell_type": "markdown",
   "id": "cc437976-217c-4fa6-aaec-6a3bc3aa3038",
   "metadata": {},
   "source": [
    "### 2. For Loops with Two Variables: index and item\n",
    "In Python, you can use a `for` loop to iterate over objects that return **multiple values at each iteration**, such as the `enumerate()` function, where you can iterate over both the index and the item of a sequence using the enumerate() function. \n",
    "This is because Python supports **tuple unpacking** in loops.\n",
    "This is useful when you need to keep track of the position of each item while processing the items themselves.\n",
    "\n",
    "#### What is enumerate()?\n",
    "The enumerate() function takes an iterable (e.g., a list, string, or tuple) and returns an enumerate object, which contains tuples. Each tuple consists of:\n",
    "\n",
    "* The index of the current element.\n",
    "* The value (or item) from the iterable.\n",
    "\n",
    "\n",
    "When using the `enumerate()` function, it returns a sequence of tuples:\n",
    "- The first value in each tuple is the **index**.\n",
    "- The second value in each tuple is the corresponding **item** from the iterable.\n",
    "\n",
    "By defining **two variables** in the `for` loop, you unpack each tuple into its components directly. This makes the code cleaner and easier to read.\n",
    "\n",
    "---\n",
    "\n"
   ]
  },
  {
   "cell_type": "code",
   "execution_count": 166,
   "id": "526bec4b-9a62-4262-93e6-edcfcd7efd1b",
   "metadata": {},
   "outputs": [
    {
     "name": "stdout",
     "output_type": "stream",
     "text": [
      "Index: 0, Item: apple\n",
      "Index: 1, Item: banana\n",
      "Index: 2, Item: cherry\n"
     ]
    }
   ],
   "source": [
    "seq = ['apple', 'banana', 'cherry']\n",
    "\n",
    "for index, item in enumerate(seq):\n",
    "    print(f\"Index: {index}, Item: {item}\")"
   ]
  },
  {
   "cell_type": "markdown",
   "id": "0ddfae1e-cf3b-4bbb-b0f1-3b28ac12e0e0",
   "metadata": {},
   "source": [
    "1. The `enumerate()` function converts the **list** into an **enumerate object**, like this:\n",
    "```python\n",
    "[(0, 'apple'), (1, 'banana'), (2, 'cherry')]\n",
    "```\n",
    "2. The `for` loop iterates through these tuples.\n",
    "3. At each iteration:\n",
    "    * The first variable (e.g., `index`) gets the index value (e.g., `0`, `1`, `2`).\n",
    "    * The second variable (e.g., `item`) gets the corresponding item from the sequence (e.g., `'apple'`, `'banana'`, `'cherry'`)."
   ]
  },
  {
   "cell_type": "code",
   "execution_count": 145,
   "id": "25cc0913-1fe8-4367-8b9e-b486fd2da016",
   "metadata": {},
   "outputs": [],
   "source": [
    "seq=[3,4,7,8,6]"
   ]
  },
  {
   "cell_type": "code",
   "execution_count": 173,
   "id": "6904adce-8356-498c-a98f-657b15c634be",
   "metadata": {},
   "outputs": [
    {
     "name": "stdout",
     "output_type": "stream",
     "text": [
      "Index 1: value apple\n",
      "Index 2: value banana\n",
      "Index 3: value cherry\n"
     ]
    }
   ],
   "source": [
    "for index,item in enumerate(seq,start=1):\n",
    "    print(f\"Index {index}: value {item}\")"
   ]
  },
  {
   "cell_type": "markdown",
   "id": "de9b5ae0-e905-472d-aa05-a4cb0855ae06",
   "metadata": {},
   "source": [
    "### Some more examples\n",
    "\n",
    "This structure is useful when:\n",
    "\n",
    "**1. You need to keep track of an index while looping through items.**"
   ]
  },
  {
   "cell_type": "code",
   "execution_count": 177,
   "id": "3a54f5cc-7943-4b98-9c7c-0f92f97f13bf",
   "metadata": {},
   "outputs": [
    {
     "name": "stdout",
     "output_type": "stream",
     "text": [
      "Task 1: email\n",
      "Task 2: meeting\n",
      "Task 3: coding\n"
     ]
    }
   ],
   "source": [
    "tasks = ['email', 'meeting', 'coding']\n",
    "for idx, task in enumerate(tasks, start=1):  # Start index at 1\n",
    "    print(f\"Task {idx}: {task}\")"
   ]
  },
  {
   "cell_type": "markdown",
   "id": "62cb5400-45cf-45f9-85c3-ad05fb8b2bcb",
   "metadata": {},
   "source": [
    "**2. You need to modify items by their index.**"
   ]
  },
  {
   "cell_type": "code",
   "execution_count": 179,
   "id": "293be2f6-2f26-4840-ac18-3e0fc67d5208",
   "metadata": {},
   "outputs": [
    {
     "name": "stdout",
     "output_type": "stream",
     "text": [
      "[20, 40, 60]\n"
     ]
    }
   ],
   "source": [
    "nums = [10, 20, 30]\n",
    "for i, num in enumerate(nums):\n",
    "    nums[i] = num * 2  # Double the value\n",
    "print(nums)"
   ]
  },
  {
   "cell_type": "markdown",
   "id": "51787039-f3b7-4de8-b960-bede82c70180",
   "metadata": {},
   "source": [
    "### Additional Examples of Two-Variable Loops\n",
    "#### Iterating over dictionaries:"
   ]
  },
  {
   "cell_type": "code",
   "execution_count": 190,
   "id": "847e00b0-5487-459f-9b4b-79e520579241",
   "metadata": {},
   "outputs": [],
   "source": [
    "d={'key1':'Sam','key2':1111,'key3':'UK'}"
   ]
  },
  {
   "cell_type": "code",
   "execution_count": 193,
   "id": "d165bde5-8e69-48cc-be68-23c06c5818a1",
   "metadata": {},
   "outputs": [
    {
     "name": "stdout",
     "output_type": "stream",
     "text": [
      "index is key1 and item is Sam \n",
      "index is key2 and item is 1111 \n",
      "index is key3 and item is UK \n"
     ]
    }
   ],
   "source": [
    "for key,value in d.items():\n",
    "    print(f\"index is {key} and item is {value} \")"
   ]
  },
  {
   "cell_type": "markdown",
   "id": "63fb9530-ade3-463c-bb7e-1f0de0d756e3",
   "metadata": {},
   "source": [
    "### 3. Looping Through a String"
   ]
  },
  {
   "cell_type": "code",
   "execution_count": 149,
   "id": "c7767e02-23da-4d13-a3e0-0d3c99f98565",
   "metadata": {},
   "outputs": [
    {
     "name": "stdout",
     "output_type": "stream",
     "text": [
      "P\n",
      "y\n",
      "t\n",
      "h\n",
      "o\n",
      "n\n"
     ]
    }
   ],
   "source": [
    "word = \"Python\"\n",
    "for char in word:\n",
    "    print(char)"
   ]
  },
  {
   "cell_type": "markdown",
   "id": "87c79873-3610-483c-950d-7a5a0d1e22c4",
   "metadata": {},
   "source": [
    "### 4. Using range() in a For Loop\n",
    "The range() function generates a sequence of numbers:\n",
    "```python\n",
    "range(start, stop, step)\n",
    "```\n",
    "- `start`: The starting value (default is 0).\n",
    "- `stop`: The endpoint (not inclusive).\n",
    "- `step`: The difference between each number (default is 1)."
   ]
  },
  {
   "cell_type": "code",
   "execution_count": 156,
   "id": "e308d42a-0fde-4628-8c9a-a209b9a0e135",
   "metadata": {},
   "outputs": [
    {
     "name": "stdout",
     "output_type": "stream",
     "text": [
      "1\n",
      "2\n",
      "3\n"
     ]
    }
   ],
   "source": [
    "for i in range(1,4):\n",
    "    print(i)"
   ]
  },
  {
   "cell_type": "markdown",
   "id": "6ab522fd-5f1c-4aeb-9bcc-c0b1b008ea47",
   "metadata": {},
   "source": [
    "### 5. Nested For Loops\n",
    "You can nest `for` loops inside each other to work with multiple levels of iteration."
   ]
  },
  {
   "cell_type": "code",
   "execution_count": 159,
   "id": "df687892-c8bd-43c9-8479-fe89bbb30977",
   "metadata": {},
   "outputs": [
    {
     "name": "stdout",
     "output_type": "stream",
     "text": [
      "i = 1, j = 1\n",
      "i = 1, j = 2\n",
      "i = 1, j = 3\n",
      "i = 2, j = 1\n",
      "i = 2, j = 2\n",
      "i = 2, j = 3\n",
      "i = 3, j = 1\n",
      "i = 3, j = 2\n",
      "i = 3, j = 3\n"
     ]
    }
   ],
   "source": [
    "for i in range(1, 4):\n",
    "    for j in range(1, 4):\n",
    "        print(f\"i = {i}, j = {j}\")"
   ]
  },
  {
   "cell_type": "markdown",
   "id": "2d099c0b-c49d-4738-8267-191eb16a624d",
   "metadata": {},
   "source": [
    "### 6. Advanced Applications: Combining Lists with zip()\n",
    "When working with multiple lists, you can use zip() to iterate over their elements in parallel, or simply to iterate over multiple iterables:"
   ]
  },
  {
   "cell_type": "code",
   "execution_count": 201,
   "id": "2b70e650-10e0-493e-9a37-2867a7a432d8",
   "metadata": {},
   "outputs": [
    {
     "name": "stdout",
     "output_type": "stream",
     "text": [
      "Alice is 25 years old.\n",
      "Bob is 30 years old.\n",
      "Charlie is 35 years old.\n"
     ]
    }
   ],
   "source": [
    "names = ['Alice', 'Bob', 'Charlie']\n",
    "ages = [25, 30, 35]\n",
    "\n",
    "for name, age in zip(names, ages):\n",
    "    print(f\"{name} is {age} years old.\")"
   ]
  },
  {
   "cell_type": "markdown",
   "id": "ac7cfa74-1928-415c-a43d-8ff99a21453f",
   "metadata": {},
   "source": [
    "### Key Benefits of Using Two Variables in Loops:\n",
    "* Cleaner and more Pythonic code.\n",
    "* Direct access to both the index and the value without manually tracking them.\n",
    "* Works seamlessly with data structures like lists, dictionaries, and tuples."
   ]
  },
  {
   "cell_type": "code",
   "execution_count": null,
   "id": "debcbd64-a20c-40d2-91e6-3d35c4f16104",
   "metadata": {},
   "outputs": [],
   "source": [
    "## While Loop"
   ]
  },
  {
   "cell_type": "markdown",
   "id": "ba4f20b3-4cd8-4f59-8601-5fb6e0f22bd1",
   "metadata": {},
   "source": [
    "## `while` Loops in Python\n",
    "\n",
    "A `while` loop in Python allows you to execute a block of code repeatedly **as long as a condition is true**. This is particularly useful when the number of iterations is not known beforehand.\n",
    "\n",
    "### Syntax of a `while` Loop\n",
    "```python\n",
    "while condition:\n",
    "    # Code to execute\n",
    "```\n",
    "- **`condition`**: The loop continues to run as long as this evaluates to `True`.\n",
    "- To avoid an **infinite loop**, ensure the condition will eventually become `False`.\n",
    "\n",
    "---\n",
    "\n",
    "\n",
    "\n",
    "---\n",
    "\n",
    "---\n",
    "\n",
    "### Key Points to Remember:\n",
    "1. **Infinite Loops**: Be cautious of loops where the condition never becomes `False`. These can freeze your program.\n",
    "2. **Control Statements**: Use `break` to exit a loop and `continue` to skip to the next iteration.\n",
    "3. **Condition-Driven**: `while` loops are best suited for scenarios where the termination condition depends on dynamic changes during the loop.\n",
    "\n",
    "--- \n",
    "\n",
    "Experiment with these examples to master the `while` loop in Python!"
   ]
  },
  {
   "cell_type": "markdown",
   "id": "ee371ef1-5b49-40f2-8f79-0e4c348b6cbf",
   "metadata": {},
   "source": [
    "### 1: Counting with a while Loop"
   ]
  },
  {
   "cell_type": "code",
   "execution_count": 5,
   "id": "fbaa3d05-ba23-4890-9194-344f4702c53c",
   "metadata": {},
   "outputs": [
    {
     "name": "stdout",
     "output_type": "stream",
     "text": [
      "1\n",
      "2\n",
      "3\n",
      "4\n"
     ]
    }
   ],
   "source": [
    "count = 0\n",
    "\n",
    "while count < 5:\n",
    "    print(f\"Count: {count}\")\n",
    "    count += 1  # Increment count to avoid an infinite loop\n",
    "    "
   ]
  },
  {
   "cell_type": "markdown",
   "id": "6b8ac643-10c7-46ad-8895-baaa905d47b8",
   "metadata": {},
   "source": [
    "#### Explanation:\n",
    "1. The loop starts with `count = 0`.\n",
    "2. The condition `count < 5` is checked before each iteration.\n",
    "3. Inside the loop, `count` is printed and incremented by 1.\n",
    "4. When `count` reaches 5, the condition becomes `False`, and the loop stops."
   ]
  },
  {
   "cell_type": "markdown",
   "id": "09ec2e14-8b19-4bbf-a203-fbc0ded49885",
   "metadata": {},
   "source": [
    "### 2. Using a `while` Loop with User Input"
   ]
  },
  {
   "cell_type": "code",
   "execution_count": 9,
   "id": "c3af2c00-f7c2-48f5-9367-a279c7b55b30",
   "metadata": {},
   "outputs": [
    {
     "name": "stdin",
     "output_type": "stream",
     "text": [
      "Enter the password:  open123\n"
     ]
    },
    {
     "name": "stdout",
     "output_type": "stream",
     "text": [
      "Access granted!\n"
     ]
    }
   ],
   "source": [
    "password = \"\"\n",
    "\n",
    "while password != \"open123\":\n",
    "    password = input(\"Enter the password: \")\n",
    "    if password == \"open123\":\n",
    "        print(\"Access granted!\")\n",
    "    else:\n",
    "        print(\"Wrong password. Try again.\")"
   ]
  },
  {
   "cell_type": "markdown",
   "id": "9369dbf4-55d6-48b6-bb82-5f137bd140b9",
   "metadata": {},
   "source": [
    "### 3. Breaking Out of a `while` Loop\n",
    "You can use the `break` statement to exit a loop early."
   ]
  },
  {
   "cell_type": "code",
   "execution_count": 15,
   "id": "5f3ca42d-1396-45f6-a5c7-2a11318eb502",
   "metadata": {},
   "outputs": [
    {
     "name": "stdout",
     "output_type": "stream",
     "text": [
      "Current number: 0\n",
      "Current number: 1\n",
      "Current number: 2\n",
      "Current number: 3\n",
      "Current number: 4\n",
      "Breaking out of the loop!\n"
     ]
    }
   ],
   "source": [
    "num = 0\n",
    "\n",
    "while True:  # Infinite loop\n",
    "    print(f\"Current number: {num}\")\n",
    "    num += 1\n",
    "    if num == 5:  # Exit the loop when num reaches 5\n",
    "        print(\"Breaking out of the loop!\")\n",
    "        break"
   ]
  },
  {
   "cell_type": "markdown",
   "id": "31d048c3-081c-4e7c-8527-11e157c0de63",
   "metadata": {},
   "source": [
    "### Example 4: Skipping Iterations with `continue`\n",
    "You can use the `continue` statement to skip the rest of the loop's body and proceed to the next iteration.\n"
   ]
  },
  {
   "cell_type": "code",
   "execution_count": 19,
   "id": "20b12ce6-3320-4372-bbff-a1dc5ea6d34a",
   "metadata": {},
   "outputs": [
    {
     "name": "stdout",
     "output_type": "stream",
     "text": [
      "Odd number: 1\n",
      "Odd number: 3\n",
      "Odd number: 5\n",
      "Odd number: 7\n",
      "Odd number: 9\n"
     ]
    }
   ],
   "source": [
    "num = 0\n",
    "\n",
    "while num < 10:\n",
    "    num += 1\n",
    "    if num % 2 == 0:  # Skip even numbers\n",
    "        continue\n",
    "    print(f\"Odd number: {num}\")"
   ]
  },
  {
   "cell_type": "markdown",
   "id": "e8e513a4-9960-4afd-817a-8a972e17d402",
   "metadata": {},
   "source": [
    "## Common Python Built-in Functions\n",
    "\n",
    "Python provides a variety of built-in functions to perform common tasks. \n",
    "These built-in functions are extremely helpful in day-to-day programming. Experiment with them to understand their usage better!\n",
    "\n",
    "Here are a few essential ones that are frequently used:\n",
    "\n",
    "---\n",
    "\n",
    "### 1. **`range()`**\n",
    "\n",
    "The `range()` function is used to generate a sequence of numbers. It is commonly used in loops to iterate over a specific range of numbers.\n",
    "#### Syntax:\n",
    "```python\n",
    "range(start, stop, step)\n",
    "```\n",
    "\n",
    "- `start` (optional): The starting number (default is `0`).\n",
    "- `stop`: The number to stop at (exclusive).\n",
    "- `step` (optional): The step size (default is `1`)."
   ]
  },
  {
   "cell_type": "code",
   "execution_count": 44,
   "id": "e9fec891-3e05-4ad8-967b-b7ac7ec1a886",
   "metadata": {},
   "outputs": [
    {
     "name": "stdout",
     "output_type": "stream",
     "text": [
      "0\n",
      "1\n",
      "2\n"
     ]
    }
   ],
   "source": [
    "for i in range(0,3):\n",
    "    print(i)"
   ]
  },
  {
   "cell_type": "code",
   "execution_count": 46,
   "id": "74f366f7-26ba-432d-968e-c16097af9738",
   "metadata": {},
   "outputs": [
    {
     "data": {
      "text/plain": [
       "[0, 1, 2]"
      ]
     },
     "execution_count": 46,
     "metadata": {},
     "output_type": "execute_result"
    }
   ],
   "source": [
    "# Generating a list, passing range into list function\n",
    "list(range(0,3))"
   ]
  },
  {
   "cell_type": "code",
   "execution_count": 54,
   "id": "abfd1d42-df0f-4f06-a44f-9e1d4d88f739",
   "metadata": {},
   "outputs": [],
   "source": [
    "# A quick way of executing a certain number of times\n",
    "# By default starting number is 0\n",
    "my_list=list(range(10))"
   ]
  },
  {
   "cell_type": "code",
   "execution_count": 56,
   "id": "95f4ad3b-5dfb-47c2-8e93-d259b69eeaad",
   "metadata": {},
   "outputs": [
    {
     "data": {
      "text/plain": [
       "[0, 1, 2, 3, 4, 5, 6, 7, 8, 9]"
      ]
     },
     "execution_count": 56,
     "metadata": {},
     "output_type": "execute_result"
    }
   ],
   "source": [
    "my_list"
   ]
  },
  {
   "cell_type": "code",
   "execution_count": 58,
   "id": "ff922453-f6c2-4266-addb-0eb4c4f4ba65",
   "metadata": {},
   "outputs": [
    {
     "name": "stdout",
     "output_type": "stream",
     "text": [
      "7\n",
      "8\n"
     ]
    }
   ],
   "source": [
    "seq=[6,7,8,9,10]\n",
    "for i in range(1,3):\n",
    "    print(seq[i])"
   ]
  },
  {
   "cell_type": "code",
   "execution_count": 60,
   "id": "1d243877-f020-40e9-ab54-70da9e3d6c15",
   "metadata": {},
   "outputs": [
    {
     "name": "stdout",
     "output_type": "stream",
     "text": [
      "1\n",
      "3\n",
      "5\n",
      "7\n",
      "9\n"
     ]
    }
   ],
   "source": [
    "# printing odd number in range(1,10)\n",
    "for i in range(1, 10, 2):\n",
    "    print(i)"
   ]
  },
  {
   "cell_type": "markdown",
   "id": "b32274e3-8dae-4486-97f7-07f2768fd035",
   "metadata": {},
   "source": [
    "### 2. **`len()`**\n",
    "\n",
    "The `len()` function returns the number of items in an object (e.g., a string, list, or tuple).\n",
    "\n"
   ]
  },
  {
   "cell_type": "code",
   "execution_count": 63,
   "id": "a511f012-c335-4bb4-aaab-cd2eeafeed09",
   "metadata": {},
   "outputs": [
    {
     "name": "stdout",
     "output_type": "stream",
     "text": [
      "4\n"
     ]
    }
   ],
   "source": [
    "my_list = [10, 20, 30, 40]\n",
    "print(len(my_list))"
   ]
  },
  {
   "cell_type": "markdown",
   "id": "8fd6dbdd-e249-4539-b61b-61269002a3c9",
   "metadata": {},
   "source": [
    "### 3. **`type()`**\n",
    "\n",
    "The `type()` function returns the type of the object."
   ]
  },
  {
   "cell_type": "code",
   "execution_count": 66,
   "id": "e75729f5-e9e8-4a04-a37f-c79f3f14acae",
   "metadata": {},
   "outputs": [
    {
     "name": "stdout",
     "output_type": "stream",
     "text": [
      "<class 'int'>\n"
     ]
    }
   ],
   "source": [
    "x = 42\n",
    "print(type(x))  # Output: <class 'int'>"
   ]
  },
  {
   "cell_type": "markdown",
   "id": "cfc54150-4baa-4b52-bcea-f5cf2101498e",
   "metadata": {},
   "source": [
    "### 4. **`max()` and `min()`**\n",
    "\n",
    "- **`max()`**: Returns the largest item in an iterable or the largest of two or more arguments.\n",
    "- **`min()`**: Returns the smallest item in an iterable or the smallest of two or more arguments.\n"
   ]
  },
  {
   "cell_type": "code",
   "execution_count": 69,
   "id": "92c229f7-3a2c-4d8a-aa1d-d4abdd2c231b",
   "metadata": {},
   "outputs": [
    {
     "name": "stdout",
     "output_type": "stream",
     "text": [
      "15\n",
      "3\n"
     ]
    }
   ],
   "source": [
    "numbers = [5, 12, 7, 3, 15]\n",
    "print(max(numbers))\n",
    "print(min(numbers))"
   ]
  },
  {
   "cell_type": "markdown",
   "id": "d84030e5-0d46-4a15-b683-bbd6f9295cad",
   "metadata": {},
   "source": [
    "### 5. **`sum()`**\n",
    "\n",
    "The `sum()` function adds all the items in an iterable.\n"
   ]
  },
  {
   "cell_type": "code",
   "execution_count": 72,
   "id": "2ea37cea-e042-4b4d-bbfb-86a916402519",
   "metadata": {},
   "outputs": [
    {
     "name": "stdout",
     "output_type": "stream",
     "text": [
      "15\n"
     ]
    }
   ],
   "source": [
    "nums = [1, 2, 3, 4, 5]\n",
    "print(sum(nums))"
   ]
  },
  {
   "cell_type": "markdown",
   "id": "f63a4ed4-99ad-4dc4-a164-38acab83488e",
   "metadata": {},
   "source": [
    "### 6. **`abs()`**\n",
    "\n",
    "The `abs()` function returns the absolute value of a number (i.e., the non-negative value)."
   ]
  },
  {
   "cell_type": "code",
   "execution_count": 75,
   "id": "53ff574e-2f31-42ec-a93d-306502dd26d6",
   "metadata": {},
   "outputs": [
    {
     "name": "stdout",
     "output_type": "stream",
     "text": [
      "10\n"
     ]
    }
   ],
   "source": [
    "print(abs(-10))  "
   ]
  },
  {
   "cell_type": "markdown",
   "id": "a96ab068-0efb-43b8-a7f0-4046c562fb75",
   "metadata": {},
   "source": [
    "### 7. **`sorted()`**\n",
    "\n",
    "The `sorted()` function returns a sorted list from the given iterable."
   ]
  },
  {
   "cell_type": "code",
   "execution_count": 78,
   "id": "482fbf76-ead3-47c4-b258-f2c0b4deb647",
   "metadata": {},
   "outputs": [
    {
     "name": "stdout",
     "output_type": "stream",
     "text": [
      "[1, 3, 5, 8]\n"
     ]
    }
   ],
   "source": [
    "unsorted_list = [5, 3, 8, 1]\n",
    "print(sorted(unsorted_list))"
   ]
  },
  {
   "cell_type": "markdown",
   "id": "5c5cb745-03ba-401e-a4d7-5945e32921ad",
   "metadata": {},
   "source": [
    "### 8. **`round()`**\n",
    "\n",
    "The `round()` function rounds a number to the nearest integer or to the specified number of decimal places."
   ]
  },
  {
   "cell_type": "code",
   "execution_count": 81,
   "id": "1643bac9-051f-4605-84fb-a04c4835b3f9",
   "metadata": {},
   "outputs": [
    {
     "name": "stdout",
     "output_type": "stream",
     "text": [
      "3.14\n"
     ]
    }
   ],
   "source": [
    "print(round(3.14159, 2))"
   ]
  },
  {
   "cell_type": "markdown",
   "id": "349b8d9c-b920-497f-a644-62852917746d",
   "metadata": {},
   "source": [
    "### 9. **`enumerate()`**\n",
    "\n",
    "The `enumerate()` function adds an index to an iterable and returns it as an enumerate object."
   ]
  },
  {
   "cell_type": "code",
   "execution_count": 86,
   "id": "849d2dfb-bf95-48d1-8061-9a5bac7b463c",
   "metadata": {},
   "outputs": [
    {
     "name": "stdout",
     "output_type": "stream",
     "text": [
      "1: apple\n",
      "2: banana\n",
      "3: cherry\n"
     ]
    }
   ],
   "source": [
    "fruits = ['apple', 'banana', 'cherry']\n",
    "for index, fruit in enumerate(fruits):\n",
    "    print(f\"{index+1}: {fruit}\")"
   ]
  },
  {
   "cell_type": "markdown",
   "id": "908c2fe1-491e-45d3-9407-7520cdc9a45d",
   "metadata": {},
   "source": [
    "### 10. **`zip()`**\n",
    "\n",
    "The `zip()` function combines two or more iterables into tuples."
   ]
  },
  {
   "cell_type": "code",
   "execution_count": 89,
   "id": "7ab8b524-e9bc-40a2-a393-17925e55e8a3",
   "metadata": {},
   "outputs": [
    {
     "name": "stdout",
     "output_type": "stream",
     "text": [
      "Alice: 85\n",
      "Bob: 90\n",
      "Charlie: 95\n"
     ]
    }
   ],
   "source": [
    "names = ['Alice', 'Bob', 'Charlie']\n",
    "scores = [85, 90, 95]\n",
    "for name, score in zip(names, scores):\n",
    "    print(f\"{name}: {score}\")"
   ]
  },
  {
   "cell_type": "markdown",
   "id": "02eaa74f-899f-468e-b968-7e8975145bef",
   "metadata": {},
   "source": [
    "## List Comprehension \n",
    "\n",
    "List comprehension is a powerful and concise way to create lists in Python. It saves you from writing lengthy `for` loops by condensing the process into a single, readable line of code. \n",
    "\n",
    "### Why Use List Comprehension?\n",
    "\n",
    "- **Saves time**: Reduces the amount of code you need to write.\n",
    "- **Improves readability**: Clear and concise for simple transformations or filters.\n",
    "- **Elegant syntax**: Perfect for scenarios where a list needs to be created from an iterable.\n",
    "\n",
    "### Features of List Comprehension\n",
    "- **Compact Syntax**\n",
    "- **Improved Readability**\n",
    "- **Filtering with Conditions**\n",
    "- **Conditional Expressions (`if-else`)**\n",
    "- **Combining Multiple Loops**\n",
    "\n",
    "---\n",
    "\n",
    "### Syntax of List Comprehension\n",
    "\n",
    "The general structure of a list comprehension is:\n",
    "\n",
    "```python\n",
    "[expression for item in iterable if condition]\n",
    "```\n",
    "\n",
    "- **expression**: Operation or transformation applied to each item.\n",
    "- **item**: Represents the element from the iterable.\n",
    "- **iterable**: The source you are iterating over (e.g., list, range, string).\n",
    "- **if condition** *(optional)*: A filter to include only certain elements.\n",
    "\n",
    "---\n",
    "\n",
    "\n",
    "List comprehension is a quick, clean, and Pythonic way to handle list creation. It not only saves you from writing redundant lines of code but also keeps your logic clean and elegant!\n",
    "\n",
    "---\n",
    "Benefits of List Comprehensions\n",
    "Conciseness: Reduces multiple lines of code into one.\n",
    "Readability: More intuitive for simple transformations and filters.\n",
    "Performance: Generally faster than traditional loops."
   ]
  },
  {
   "cell_type": "markdown",
   "id": "23df1e7e-48ff-4709-ba59-647d57253268",
   "metadata": {},
   "source": [
    "### Without List Comprehension\n",
    "\n",
    "Consider this traditional way to create a list of squares:"
   ]
  },
  {
   "cell_type": "code",
   "execution_count": 100,
   "id": "eeaaf42b-2912-4796-b76a-227d447a3533",
   "metadata": {},
   "outputs": [
    {
     "name": "stdout",
     "output_type": "stream",
     "text": [
      "[0, 1, 4, 9, 16, 25, 36, 49, 64, 81]\n"
     ]
    }
   ],
   "source": [
    "squares = []\n",
    "for x in range(10):\n",
    "    squares.append(x**2)\n",
    "\n",
    "print(squares)"
   ]
  },
  {
   "cell_type": "markdown",
   "id": "7ce035ae-4d19-4daf-891c-bba0aa4353b7",
   "metadata": {},
   "source": [
    "### With List Comprehension\n",
    "\n",
    "The same result can be achieved more concisely using list comprehension, which is like writing a for loop but in reverse.  \n",
    "1. Start by placing everything **before the colon** in the `for` loop inside square brackets.  \n",
    "2. Then, take the operation you'd typically append (e.g., `x**2`) and put it **before the `for` loop** inside the brackets.  \n",
    "\n",
    "This way, the entire operation is condensed into a single line, making the code cleaner. For example, you can think of it as saying:  \n",
    "*\"Give me the square of each number (`x**2`) for every number (`num`) in `x`.\"*"
   ]
  },
  {
   "cell_type": "code",
   "execution_count": 110,
   "id": "4afb8ffc-ad33-4c77-b80f-220227954533",
   "metadata": {},
   "outputs": [
    {
     "name": "stdout",
     "output_type": "stream",
     "text": [
      "[0, 1, 4, 9, 16, 25, 36, 49, 64, 81]\n"
     ]
    }
   ],
   "source": [
    "squares = [x**2 for x in range(10)]\n",
    "print(squares)"
   ]
  },
  {
   "cell_type": "code",
   "execution_count": 114,
   "id": "0be6ae97-78b2-4afd-b2af-afb87cc5d5cf",
   "metadata": {},
   "outputs": [],
   "source": [
    "my_list = [1,2,3,4,5,6,7,8,9]"
   ]
  },
  {
   "cell_type": "code",
   "execution_count": 120,
   "id": "f4d853d5-9deb-4fd7-bcd3-e4b7f7a9f03f",
   "metadata": {},
   "outputs": [
    {
     "name": "stdout",
     "output_type": "stream",
     "text": [
      "[1, 4, 9, 16, 25, 36, 49, 64, 81]\n"
     ]
    }
   ],
   "source": [
    "squares= [i**2 for i in my_list]\n",
    "print(squares)"
   ]
  },
  {
   "cell_type": "markdown",
   "id": "344785c6-37bf-4790-86c7-1375a4b20f5a",
   "metadata": {},
   "source": [
    "### Key Features\n",
    "\n",
    "#### 1. **Condensed Loop**: One line to define the operation, loop, and condition.\n",
    "#### 2. **Optional Condition**: Add an `if` to filter elements during creation:\n",
    "When you only have an if statement, it acts as a filter. Only items that satisfy the condition are included in the final list. The syntax places the if condition after the loop:"
   ]
  },
  {
   "cell_type": "code",
   "execution_count": 107,
   "id": "79c37ae4-2656-42f6-81f8-e872c1acb8e5",
   "metadata": {},
   "outputs": [
    {
     "name": "stdout",
     "output_type": "stream",
     "text": [
      "[0, 2, 4, 6, 8]\n"
     ]
    }
   ],
   "source": [
    "evens = [x for x in range(10) if x % 2 == 0]\n",
    "print(evens)"
   ]
  },
  {
   "cell_type": "markdown",
   "id": "a64fab3a-6aef-401f-ab9d-7d533b21ecf0",
   "metadata": {},
   "source": [
    "#### 3. **Supports Nested Loops**:\n",
    "List comprehensions can include nested loops to work with multiple iterables.\n"
   ]
  },
  {
   "cell_type": "code",
   "execution_count": 124,
   "id": "38203e90-76da-4822-aa78-ab044622df6c",
   "metadata": {},
   "outputs": [
    {
     "name": "stdout",
     "output_type": "stream",
     "text": [
      "[(1, 3), (1, 4), (2, 3), (2, 4)]\n"
     ]
    }
   ],
   "source": [
    "pairs = [(x, y) for x in range(1, 3) for y in range(3, 5)]\n",
    "print(pairs) "
   ]
  },
  {
   "cell_type": "markdown",
   "id": "414bb7b5-6eb2-4a49-90ea-8655651a88f2",
   "metadata": {},
   "source": [
    "#### 4. Transforming a List\n",
    "List comprehensions are also useful for transforming data."
   ]
  },
  {
   "cell_type": "code",
   "execution_count": 127,
   "id": "ef8b7d72-384b-42b8-8157-88d9b0386e39",
   "metadata": {},
   "outputs": [
    {
     "name": "stdout",
     "output_type": "stream",
     "text": [
      "['HELLO', 'WORLD', 'PYTHON']\n"
     ]
    }
   ],
   "source": [
    "# Convert a list of words to uppercase\n",
    "words = ['hello', 'world', 'python']\n",
    "uppercase_words = [word.upper() for word in words]\n",
    "print(uppercase_words)"
   ]
  },
  {
   "cell_type": "markdown",
   "id": "ed27aa74-d73e-4072-a31f-3736fa0214e4",
   "metadata": {},
   "source": [
    "#### 5. Using if-else in the Expression\n",
    "You can use a conditional expression inside the comprehension to assign values based on a condition.\n",
    "When you have an if-else statement, you're transforming each element in the list, not just filtering it. This requires evaluating every item in the loop and deciding between two outcomes (one for if and one for else). In this case, the if-else expression must go before the loop, as it produces a value for each item."
   ]
  },
  {
   "cell_type": "code",
   "execution_count": 130,
   "id": "57049fc0-ff8d-49e4-82a2-213ec8b3c6a4",
   "metadata": {},
   "outputs": [
    {
     "name": "stdout",
     "output_type": "stream",
     "text": [
      "['Even', 'Odd', 'Even', 'Odd', 'Even']\n"
     ]
    }
   ],
   "source": [
    "# Label numbers as \"Even\" or \"Odd\"\n",
    "labels = ['Even' if x % 2 == 0 else 'Odd' for x in range(5)]\n",
    "print(labels)"
   ]
  },
  {
   "cell_type": "markdown",
   "id": "d6120530-2d55-47d7-a0e6-823e4ba1f5c5",
   "metadata": {},
   "source": [
    "### Why the difference?\n",
    "The key distinction is:\n",
    "\n",
    "- `if` alone: Acts as a filter and determines which elements are included in the list.\n",
    "- `if-else`: Acts as a transformation, producing a value for every element in the loop.\n",
    "---\n",
    "The syntax reflects their roles:\n",
    "* Filters (if alone) apply after the loop.\n",
    "* Transformations (if-else) must be defined before the loop, as they decide what value to include for each element."
   ]
  },
  {
   "cell_type": "markdown",
   "id": "81e9d6b1-ee5b-4e62-9f34-4a2e1b455ee2",
   "metadata": {},
   "source": [
    "### Practice Challenge:\n",
    "1. Create a list of all numbers divisible by 3 from 1 to 20.\n",
    "2. Generate a list of tuples where each tuple contains a number and its square for numbers from 1 to 5.\n"
   ]
  },
  {
   "cell_type": "code",
   "execution_count": 155,
   "id": "c115301e-0bff-4c6f-86a1-33e7c9f65c26",
   "metadata": {},
   "outputs": [
    {
     "name": "stdout",
     "output_type": "stream",
     "text": [
      "[3, 6, 9, 12, 15, 18]\n"
     ]
    }
   ],
   "source": [
    "# \n",
    "divisible_by_3=[i for i in range(1,21) if i%3==0 ]\n",
    "print(divisible_by_3)"
   ]
  },
  {
   "cell_type": "code",
   "execution_count": 161,
   "id": "d57a20f2-3831-46f9-893e-ebdf9273be35",
   "metadata": {},
   "outputs": [
    {
     "name": "stdout",
     "output_type": "stream",
     "text": [
      "[(1, 1), (2, 4), (3, 9), (4, 16), (5, 25)]\n"
     ]
    }
   ],
   "source": [
    "square_tuple=[(i,i**2) for i in range(1,6)]\n",
    "print(square_tuple)"
   ]
  },
  {
   "cell_type": "code",
   "execution_count": null,
   "id": "05a57136-0b9f-421a-a2c2-f6379885e76c",
   "metadata": {},
   "outputs": [],
   "source": []
  }
 ],
 "metadata": {
  "kernelspec": {
   "display_name": "Python 3 (ipykernel)",
   "language": "python",
   "name": "python3"
  },
  "language_info": {
   "codemirror_mode": {
    "name": "ipython",
    "version": 3
   },
   "file_extension": ".py",
   "mimetype": "text/x-python",
   "name": "python",
   "nbconvert_exporter": "python",
   "pygments_lexer": "ipython3",
   "version": "3.12.7"
  }
 },
 "nbformat": 4,
 "nbformat_minor": 5
}
