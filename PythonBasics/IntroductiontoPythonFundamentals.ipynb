{
 "cells": [
  {
   "cell_type": "markdown",
   "id": "d9f10573-10a3-431a-9175-02fec26e6f43",
   "metadata": {},
   "source": [
    "# Python Basics: A Comprehensive Overview  \n",
    "\n",
    "Welcome to this notebook on **Python Basics**! This notebook is designed to provide a foundational understanding of Python by covering its core topics step by step. Whether you're a beginner or need a quick refresher, this guide will walk you through essential concepts with examples and explanations.  \n",
    "\n",
    "### Topics Covered:  \n",
    "1. **Data Types**  \n",
    "    - Numbers  \n",
    "    - Strings  \n",
    "    - Printing  \n",
    "    - Lists  \n",
    "    - Dictionaries  \n",
    "    - Booleans  \n",
    "    - Tuples  \n",
    "    - Sets  \n",
    "2. **Comparison Operators**  \n",
    "3. **Control Flow Statements**  \n",
    "    - `if`, `elif`, `else` Statements  \n",
    "4. **Loops**  \n",
    "    - `for` Loops  \n",
    "    - `while` Loops  \n",
    "5. **Useful Functions**  \n",
    "    - `range()`  \n",
    "    - List Comprehension  \n",
    "6. **Functions and Expressions**  \n",
    "    - Defining Functions  \n",
    "    - Lambda Expressions  \n",
    "    - Using `map()` and `filter()`  \n",
    "7. **Methods**  \n",
    "\n",
    "By the end of this notebook, you will have a solid understanding of these topics and be ready to move on to more advanced Python concepts. Let's get started! 🚀\n"
   ]
  },
  {
   "cell_type": "markdown",
   "id": "d0af10f0-989b-4b07-90d8-d85507c4dfbb",
   "metadata": {},
   "source": [
    "**Basic operartions**"
   ]
  },
  {
   "cell_type": "code",
   "execution_count": 2,
   "id": "cd537547-5d42-4f0b-a8cc-3d040cc0e985",
   "metadata": {},
   "outputs": [
    {
     "data": {
      "text/plain": [
       "2"
      ]
     },
     "execution_count": 2,
     "metadata": {},
     "output_type": "execute_result"
    }
   ],
   "source": [
    "1+1"
   ]
  },
  {
   "cell_type": "code",
   "execution_count": 4,
   "id": "d23d766b-1e0e-409c-bfd7-bda6fe9bfd37",
   "metadata": {},
   "outputs": [
    {
     "data": {
      "text/plain": [
       "0"
      ]
     },
     "execution_count": 4,
     "metadata": {},
     "output_type": "execute_result"
    }
   ],
   "source": [
    "1-1"
   ]
  },
  {
   "cell_type": "code",
   "execution_count": 6,
   "id": "b11fdce1-ea85-477e-aa52-8692c23ab6cd",
   "metadata": {},
   "outputs": [
    {
     "data": {
      "text/plain": [
       "2"
      ]
     },
     "execution_count": 6,
     "metadata": {},
     "output_type": "execute_result"
    }
   ],
   "source": [
    "1*2"
   ]
  },
  {
   "cell_type": "code",
   "execution_count": 8,
   "id": "65aa22eb-5220-494d-bc0d-d5f121a3ff2d",
   "metadata": {},
   "outputs": [
    {
     "data": {
      "text/plain": [
       "2.0"
      ]
     },
     "execution_count": 8,
     "metadata": {},
     "output_type": "execute_result"
    }
   ],
   "source": [
    "2/1"
   ]
  },
  {
   "cell_type": "code",
   "execution_count": 10,
   "id": "416e40b1-be91-46a2-8931-28a031c22fe3",
   "metadata": {},
   "outputs": [
    {
     "data": {
      "text/plain": [
       "0"
      ]
     },
     "execution_count": 10,
     "metadata": {},
     "output_type": "execute_result"
    }
   ],
   "source": [
    "2%1"
   ]
  },
  {
   "cell_type": "code",
   "execution_count": 15,
   "id": "4a25b7d3-123d-45fa-a3ee-7d5731aab347",
   "metadata": {},
   "outputs": [
    {
     "data": {
      "text/plain": [
       "8"
      ]
     },
     "execution_count": 15,
     "metadata": {},
     "output_type": "execute_result"
    }
   ],
   "source": [
    "# Power\n",
    "2**3"
   ]
  },
  {
   "cell_type": "code",
   "execution_count": 21,
   "id": "c67ad50b-c784-4fa2-947e-3efe28777079",
   "metadata": {},
   "outputs": [
    {
     "data": {
      "text/plain": [
       "10.0"
      ]
     },
     "execution_count": 21,
     "metadata": {},
     "output_type": "execute_result"
    }
   ],
   "source": [
    "# Default operation order by python / your own operation order using Parentheses\n",
    "2+15/5*2+2"
   ]
  },
  {
   "cell_type": "code",
   "execution_count": 23,
   "id": "749fb874-51a5-4234-8577-aa8a07b53b9d",
   "metadata": {},
   "outputs": [
    {
     "data": {
      "text/plain": [
       "-12"
      ]
     },
     "execution_count": 23,
     "metadata": {},
     "output_type": "execute_result"
    }
   ],
   "source": [
    "(2-4)*(2+4)"
   ]
  },
  {
   "cell_type": "markdown",
   "id": "6872e39d-b159-4f2f-816d-dee514d638a1",
   "metadata": {},
   "source": [
    "## Variables  \n",
    "\n",
    "In this section, we will cover how to assign values to variables and the rules for naming them properly.  \n",
    "\n",
    "### Rules for Variable Names:  \n",
    "- **Start with a lowercase letter:** Always begin variable names with a lowercase letter.  \n",
    "- **Use underscores to separate words:** For multi-word variable names, use underscores (e.g., `my_variable`) to improve readability.  \n",
    "- **Do not start with numbers:** Variable names cannot start with numbers. Python will raise an `invalid decimal literal` error if you try.  \n",
    "- **Avoid special symbols:** Variable names cannot begin with special symbols (e.g., `@`, `#`, `$`). Python will raise an `invalid syntax` error in such cases.  \n",
    "\n",
    "Below, you’ll see examples of valid and invalid variable names.\n"
   ]
  },
  {
   "cell_type": "code",
   "execution_count": 29,
   "id": "82913507-fee0-463d-b710-9b9b3aff09f1",
   "metadata": {},
   "outputs": [],
   "source": [
    "var =3"
   ]
  },
  {
   "cell_type": "code",
   "execution_count": 41,
   "id": "95adc1e0-aac3-4720-ba96-b483a8ec6ba1",
   "metadata": {},
   "outputs": [],
   "source": [
    "x = 2\n",
    "y=4"
   ]
  },
  {
   "cell_type": "code",
   "execution_count": 43,
   "id": "735cabfe-9a93-455c-aae8-5dbb9c972eaa",
   "metadata": {},
   "outputs": [
    {
     "data": {
      "text/plain": [
       "6"
      ]
     },
     "execution_count": 43,
     "metadata": {},
     "output_type": "execute_result"
    }
   ],
   "source": [
    "x+y"
   ]
  },
  {
   "cell_type": "code",
   "execution_count": 49,
   "id": "33656ebb-4e64-400b-b206-af52b7af5c92",
   "metadata": {},
   "outputs": [],
   "source": [
    "# Assign and reassign\n",
    "x = x+x"
   ]
  },
  {
   "cell_type": "code",
   "execution_count": 51,
   "id": "d68be4d9-af48-4847-b7a5-80bd9a05ddf1",
   "metadata": {},
   "outputs": [
    {
     "data": {
      "text/plain": [
       "8"
      ]
     },
     "execution_count": 51,
     "metadata": {},
     "output_type": "execute_result"
    }
   ],
   "source": [
    "x"
   ]
  },
  {
   "cell_type": "code",
   "execution_count": 63,
   "id": "3f63e278-b0af-4a5d-ab23-a0b74efb206c",
   "metadata": {},
   "outputs": [],
   "source": [
    "my_variable = 121"
   ]
  },
  {
   "cell_type": "code",
   "execution_count": 65,
   "id": "a646d2a8-4f91-4685-b6a8-c0df61f37b44",
   "metadata": {},
   "outputs": [
    {
     "ename": "SyntaxError",
     "evalue": "invalid decimal literal (1221657576.py, line 1)",
     "output_type": "error",
     "traceback": [
      "\u001b[0;36m  Cell \u001b[0;32mIn[65], line 1\u001b[0;36m\u001b[0m\n\u001b[0;31m    111var = 33\u001b[0m\n\u001b[0m      ^\u001b[0m\n\u001b[0;31mSyntaxError\u001b[0m\u001b[0;31m:\u001b[0m invalid decimal literal\n"
     ]
    }
   ],
   "source": [
    "111var = 33"
   ]
  },
  {
   "cell_type": "code",
   "execution_count": 67,
   "id": "f9c0bef2-bf0c-4f9a-8de7-50509bb551cd",
   "metadata": {},
   "outputs": [
    {
     "ename": "SyntaxError",
     "evalue": "invalid syntax (2537844640.py, line 1)",
     "output_type": "error",
     "traceback": [
      "\u001b[0;36m  Cell \u001b[0;32mIn[67], line 1\u001b[0;36m\u001b[0m\n\u001b[0;31m    `var = 33\u001b[0m\n\u001b[0m    ^\u001b[0m\n\u001b[0;31mSyntaxError\u001b[0m\u001b[0;31m:\u001b[0m invalid syntax\n"
     ]
    }
   ],
   "source": [
    "`var = 33"
   ]
  },
  {
   "cell_type": "markdown",
   "id": "f42e24ff-a487-4239-ac4a-6559d7c6aae9",
   "metadata": {},
   "source": [
    "## Strings"
   ]
  },
  {
   "cell_type": "code",
   "execution_count": 72,
   "id": "d325cdc2-50a0-4f49-b8e0-8c81eb550bab",
   "metadata": {},
   "outputs": [
    {
     "data": {
      "text/plain": [
       "'single quote'"
      ]
     },
     "execution_count": 72,
     "metadata": {},
     "output_type": "execute_result"
    }
   ],
   "source": [
    "# ways to Creating strings\n",
    "'single quote'"
   ]
  },
  {
   "cell_type": "code",
   "execution_count": 74,
   "id": "0f16399a-60f6-4b2f-bcdd-90852d38d129",
   "metadata": {},
   "outputs": [
    {
     "data": {
      "text/plain": [
       "'This is a string'"
      ]
     },
     "execution_count": 74,
     "metadata": {},
     "output_type": "execute_result"
    }
   ],
   "source": [
    "\"This is a string\""
   ]
  },
  {
   "cell_type": "code",
   "execution_count": 76,
   "id": "3ccff821-16a8-455c-89b1-876802ce43af",
   "metadata": {},
   "outputs": [
    {
     "data": {
      "text/plain": [
       "\"I can't go\""
      ]
     },
     "execution_count": 76,
     "metadata": {},
     "output_type": "execute_result"
    }
   ],
   "source": [
    "# You can wrapp double quote around single quote \n",
    "\"I can't go\""
   ]
  },
  {
   "cell_type": "code",
   "execution_count": 78,
   "id": "81a2c2b5-d580-48fc-8862-0b4ef75e17a4",
   "metadata": {},
   "outputs": [],
   "source": [
    "# Printing strings\n",
    "x='hello'"
   ]
  },
  {
   "cell_type": "code",
   "execution_count": 80,
   "id": "3a679411-71ed-43ac-b240-c74b8d7d74bb",
   "metadata": {},
   "outputs": [
    {
     "data": {
      "text/plain": [
       "'hello'"
      ]
     },
     "execution_count": 80,
     "metadata": {},
     "output_type": "execute_result"
    }
   ],
   "source": [
    "# It will be shown on out indicator\n",
    "x"
   ]
  },
  {
   "cell_type": "code",
   "execution_count": 86,
   "id": "699dfa9e-31f1-45f4-b255-97e44baab851",
   "metadata": {},
   "outputs": [
    {
     "name": "stdout",
     "output_type": "stream",
     "text": [
      "hello\n"
     ]
    }
   ],
   "source": [
    "# Using `print` Removes Indicators and Single Quotes from Output\n",
    "print(x)"
   ]
  },
  {
   "cell_type": "code",
   "execution_count": 104,
   "id": "ad8b6ef8-cc27-413b-a7f3-ff13176f4ecf",
   "metadata": {},
   "outputs": [],
   "source": [
    "# Formatting print statement\n",
    "num =123\n",
    "name='Sam'"
   ]
  },
  {
   "cell_type": "code",
   "execution_count": 106,
   "id": "bda0e0cf-7213-43f1-87d2-539d677e5d5d",
   "metadata": {},
   "outputs": [
    {
     "data": {
      "text/plain": [
       "'My name is Sam and my number is 123'"
      ]
     },
     "execution_count": 106,
     "metadata": {},
     "output_type": "execute_result"
    }
   ],
   "source": [
    "# The .format() method allows you to pass variable names in the order you want them to fill the curly brackets.\n",
    "'My name is {} and my number is {}'.format(name, num)"
   ]
  },
  {
   "cell_type": "code",
   "execution_count": 108,
   "id": "e0d683a2-cf86-42cd-8d5b-e80aead3e20c",
   "metadata": {},
   "outputs": [
    {
     "name": "stdout",
     "output_type": "stream",
     "text": [
      "My name is Sam and my number is 123\n"
     ]
    }
   ],
   "source": [
    "print('My name is {} and my number is {}'.format(name,num))"
   ]
  },
  {
   "cell_type": "code",
   "execution_count": 110,
   "id": "4206ada3-215c-47a3-9def-3fd72bd76ae8",
   "metadata": {},
   "outputs": [
    {
     "name": "stdout",
     "output_type": "stream",
     "text": [
      "My name is Sam and my number is 123\n"
     ]
    }
   ],
   "source": [
    "#  Passany variable into curly bracket\n",
    "print('My name is {one} and my number is {two}'.format(one=name,two=num))\n"
   ]
  },
  {
   "cell_type": "code",
   "execution_count": 112,
   "id": "8ed92af6-b94b-4d76-9d63-a31d3e6ec828",
   "metadata": {},
   "outputs": [
    {
     "name": "stdout",
     "output_type": "stream",
     "text": [
      "My name is Sam and my number is 123 and my postcode is BH\n"
     ]
    }
   ],
   "source": [
    "print('My name is {one} and my number is {two} and my postcode is {three}'.format(\n",
    "    one=name,two=num,three='BH'))\n"
   ]
  },
  {
   "cell_type": "markdown",
   "id": "7a4a3c2d-aa16-4fef-bdc4-ec3aa21256e5",
   "metadata": {},
   "source": [
    "**Indexing Strings**"
   ]
  },
  {
   "cell_type": "code",
   "execution_count": 147,
   "id": "57e7505d-b1a8-4bda-a621-1bc0b4b5e17a",
   "metadata": {},
   "outputs": [],
   "source": [
    "#  ss is a sequence of letters, each element is a letter\n",
    "ss='Hello'"
   ]
  },
  {
   "cell_type": "code",
   "execution_count": 121,
   "id": "6599e2f1-578e-4522-8bac-edec4648668d",
   "metadata": {},
   "outputs": [
    {
     "data": {
      "text/plain": [
       "'H'"
      ]
     },
     "execution_count": 121,
     "metadata": {},
     "output_type": "execute_result"
    }
   ],
   "source": [
    "# I can grab specific element from that sequence of characters by using square bracket notation\n",
    "ss[0]"
   ]
  },
  {
   "cell_type": "code",
   "execution_count": 129,
   "id": "9316ded5-13e2-4e28-b71d-7d04edf8e14d",
   "metadata": {},
   "outputs": [
    {
     "data": {
      "text/plain": [
       "'o'"
      ]
     },
     "execution_count": 129,
     "metadata": {},
     "output_type": "execute_result"
    }
   ],
   "source": [
    "ss[4]"
   ]
  },
  {
   "cell_type": "code",
   "execution_count": 133,
   "id": "1821f657-8af2-4ecd-8ee4-f480c9eb9ebe",
   "metadata": {},
   "outputs": [
    {
     "data": {
      "text/plain": [
       "'Hello'"
      ]
     },
     "execution_count": 133,
     "metadata": {},
     "output_type": "execute_result"
    }
   ],
   "source": [
    "# slice notation to grab slices of the string by slice syntax\n",
    "# starting at zero, grab everything beyond it\n",
    "ss[0:] \n"
   ]
  },
  {
   "cell_type": "code",
   "execution_count": 137,
   "id": "391227cb-f704-4eea-8424-e160ac18d14f",
   "metadata": {},
   "outputs": [
    {
     "data": {
      "text/plain": [
       "'Hello'"
      ]
     },
     "execution_count": 137,
     "metadata": {},
     "output_type": "execute_result"
    }
   ],
   "source": [
    "ss[:]"
   ]
  },
  {
   "cell_type": "code",
   "execution_count": 155,
   "id": "6a73b595-6efc-4b9b-add7-c70a7cf0a287",
   "metadata": {},
   "outputs": [
    {
     "data": {
      "text/plain": [
       "'Hel'"
      ]
     },
     "execution_count": 155,
     "metadata": {},
     "output_type": "execute_result"
    }
   ],
   "source": [
    "# Grab everything up to but not including the character element at index 3\n",
    "ss[:3]"
   ]
  },
  {
   "cell_type": "code",
   "execution_count": 159,
   "id": "290a5e54-7aae-4131-81ed-0e11f1a6126f",
   "metadata": {},
   "outputs": [
    {
     "data": {
      "text/plain": [
       "'Hel'"
      ]
     },
     "execution_count": 159,
     "metadata": {},
     "output_type": "execute_result"
    }
   ],
   "source": [
    "# set start point and endpoint\n",
    "ss[0:3]"
   ]
  },
  {
   "cell_type": "code",
   "execution_count": 161,
   "id": "86853403-a781-4c55-a0b3-56a5bf1771eb",
   "metadata": {},
   "outputs": [
    {
     "data": {
      "text/plain": [
       "'el'"
      ]
     },
     "execution_count": 161,
     "metadata": {},
     "output_type": "execute_result"
    }
   ],
   "source": [
    "ss[1:3]"
   ]
  },
  {
   "cell_type": "code",
   "execution_count": 125,
   "id": "ddc854bd-4605-4889-9396-670cc5aae7cd",
   "metadata": {},
   "outputs": [
    {
     "data": {
      "text/plain": [
       "'Hell'"
      ]
     },
     "execution_count": 125,
     "metadata": {},
     "output_type": "execute_result"
    }
   ],
   "source": [
    "ss[:-1]"
   ]
  },
  {
   "cell_type": "code",
   "execution_count": 127,
   "id": "013620b5-d7c4-44a3-a355-511b32a6a193",
   "metadata": {},
   "outputs": [
    {
     "data": {
      "text/plain": [
       "'o'"
      ]
     },
     "execution_count": 127,
     "metadata": {},
     "output_type": "execute_result"
    }
   ],
   "source": [
    "ss[-1:]"
   ]
  },
  {
   "cell_type": "markdown",
   "id": "64ca24f7-91d9-4f88-baea-940a64d7708e",
   "metadata": {},
   "source": [
    "## **Lists**"
   ]
  },
  {
   "cell_type": "code",
   "execution_count": 176,
   "id": "8827e8e6-574e-4da6-8e34-6d0dfddacccd",
   "metadata": {},
   "outputs": [
    {
     "data": {
      "text/plain": [
       "[1, 2, 3]"
      ]
     },
     "execution_count": 176,
     "metadata": {},
     "output_type": "execute_result"
    }
   ],
   "source": [
    "# Sequence of elements in a set of square brackets separated by commas \n",
    "# Lists can take any data type  \n",
    "#  A list is just like a sequence is\n",
    "[1,2,3]"
   ]
  },
  {
   "cell_type": "code",
   "execution_count": 166,
   "id": "838291ff-1f7b-4c58-98e2-e6ab1224e4c2",
   "metadata": {},
   "outputs": [
    {
     "data": {
      "text/plain": [
       "['a', 'b', 'c']"
      ]
     },
     "execution_count": 166,
     "metadata": {},
     "output_type": "execute_result"
    }
   ],
   "source": [
    "['a','b','c']"
   ]
  },
  {
   "cell_type": "code",
   "execution_count": 168,
   "id": "5e8d652c-62a2-47fe-8bd9-7bfbfe41a99d",
   "metadata": {},
   "outputs": [],
   "source": [
    "my_list = ['a','b','c']"
   ]
  },
  {
   "cell_type": "code",
   "execution_count": 170,
   "id": "46be3f79-5d80-48e9-8716-4634dc51680d",
   "metadata": {},
   "outputs": [
    {
     "data": {
      "text/plain": [
       "['a', 'b', 'c']"
      ]
     },
     "execution_count": 170,
     "metadata": {},
     "output_type": "execute_result"
    }
   ],
   "source": [
    "my_list"
   ]
  },
  {
   "cell_type": "code",
   "execution_count": 172,
   "id": "35d3264c-276a-4a56-8612-2b83c260e677",
   "metadata": {},
   "outputs": [],
   "source": [
    "# Add a new element to my_list\n",
    "my_list.append('d')"
   ]
  },
  {
   "cell_type": "code",
   "execution_count": 174,
   "id": "2157edea-9434-44a4-8ae7-bb8ff38c4ac0",
   "metadata": {},
   "outputs": [
    {
     "data": {
      "text/plain": [
       "['a', 'b', 'c', 'd']"
      ]
     },
     "execution_count": 174,
     "metadata": {},
     "output_type": "execute_result"
    }
   ],
   "source": [
    "my_list"
   ]
  },
  {
   "cell_type": "code",
   "execution_count": 178,
   "id": "2c0b7cc1-e4ff-4df6-a015-ce340834e408",
   "metadata": {},
   "outputs": [
    {
     "data": {
      "text/plain": [
       "'a'"
      ]
     },
     "execution_count": 178,
     "metadata": {},
     "output_type": "execute_result"
    }
   ],
   "source": [
    "# Grabbing the first item in the list\n",
    "my_list[0]"
   ]
  },
  {
   "cell_type": "code",
   "execution_count": 184,
   "id": "24c3b0ed-fedc-4bce-8652-867a286175b2",
   "metadata": {},
   "outputs": [
    {
     "data": {
      "text/plain": [
       "['a', 'b']"
      ]
     },
     "execution_count": 184,
     "metadata": {},
     "output_type": "execute_result"
    }
   ],
   "source": [
    "my_list[:2]"
   ]
  },
  {
   "cell_type": "code",
   "execution_count": 186,
   "id": "3756bb18-9831-4354-b8d4-11909dd55b50",
   "metadata": {},
   "outputs": [
    {
     "data": {
      "text/plain": [
       "['b', 'c']"
      ]
     },
     "execution_count": 186,
     "metadata": {},
     "output_type": "execute_result"
    }
   ],
   "source": [
    "my_list[1:3]"
   ]
  },
  {
   "cell_type": "code",
   "execution_count": 188,
   "id": "6db5632d-e34a-4463-ac7f-46de5a5cf3f3",
   "metadata": {},
   "outputs": [],
   "source": [
    "# Reassign positions using this index position\n",
    "my_list[0] = 'z'"
   ]
  },
  {
   "cell_type": "code",
   "execution_count": 190,
   "id": "764c71bb-010e-44ee-b232-b1edb456ddff",
   "metadata": {},
   "outputs": [
    {
     "data": {
      "text/plain": [
       "['z', 'b', 'c', 'd']"
      ]
     },
     "execution_count": 190,
     "metadata": {},
     "output_type": "execute_result"
    }
   ],
   "source": [
    "my_list"
   ]
  },
  {
   "cell_type": "code",
   "execution_count": 192,
   "id": "7fb85c9f-9ace-4124-b4d4-088429dc8a3f",
   "metadata": {},
   "outputs": [],
   "source": [
    "# Nest list inside of each other\n",
    "nest = [1,2,[3,4]]"
   ]
  },
  {
   "cell_type": "code",
   "execution_count": 194,
   "id": "f6d4b713-649b-49c8-867b-fbc6ab0d0110",
   "metadata": {},
   "outputs": [
    {
     "data": {
      "text/plain": [
       "[1, 2, [3, 4]]"
      ]
     },
     "execution_count": 194,
     "metadata": {},
     "output_type": "execute_result"
    }
   ],
   "source": [
    "nest"
   ]
  },
  {
   "cell_type": "code",
   "execution_count": 200,
   "id": "9eb2e8b3-8c11-451b-87c3-e69c94fd13c2",
   "metadata": {},
   "outputs": [
    {
     "data": {
      "text/plain": [
       "[3, 4]"
      ]
     },
     "execution_count": 200,
     "metadata": {},
     "output_type": "execute_result"
    }
   ],
   "source": [
    "nest[2]"
   ]
  },
  {
   "cell_type": "code",
   "execution_count": 196,
   "id": "40404fb8-b8bb-47b8-abde-7464c15fe092",
   "metadata": {},
   "outputs": [
    {
     "data": {
      "text/plain": [
       "4"
      ]
     },
     "execution_count": 196,
     "metadata": {},
     "output_type": "execute_result"
    }
   ],
   "source": [
    "# grabbing 4 in the list\n",
    "nest[2][1]"
   ]
  },
  {
   "cell_type": "code",
   "execution_count": 202,
   "id": "95bdd013-6d81-4a83-9074-701ae57b65f3",
   "metadata": {},
   "outputs": [],
   "source": [
    "nested_list = [1,2,3,[4,5,['target']]]"
   ]
  },
  {
   "cell_type": "code",
   "execution_count": 204,
   "id": "64259cde-1672-4c16-b0cf-28f8017124d8",
   "metadata": {},
   "outputs": [
    {
     "data": {
      "text/plain": [
       "[4, 5, ['target']]"
      ]
     },
     "execution_count": 204,
     "metadata": {},
     "output_type": "execute_result"
    }
   ],
   "source": [
    "nested_list[3]"
   ]
  },
  {
   "cell_type": "code",
   "execution_count": 211,
   "id": "b557a3fa-a123-452f-a00f-2e21b119f0a5",
   "metadata": {},
   "outputs": [
    {
     "data": {
      "text/plain": [
       "['target']"
      ]
     },
     "execution_count": 211,
     "metadata": {},
     "output_type": "execute_result"
    }
   ],
   "source": [
    "nested_list[3][2]"
   ]
  },
  {
   "cell_type": "code",
   "execution_count": 213,
   "id": "27c950d1-5806-4292-811d-91f3b2dabee6",
   "metadata": {},
   "outputs": [
    {
     "data": {
      "text/plain": [
       "'target'"
      ]
     },
     "execution_count": 213,
     "metadata": {},
     "output_type": "execute_result"
    }
   ],
   "source": [
    "nested_list[3][2][0]"
   ]
  },
  {
   "cell_type": "markdown",
   "id": "a51ae235-d3b0-4f90-b4c9-d08d52e12854",
   "metadata": {},
   "source": [
    "## Dictionaries  \n",
    "\n",
    "In Python, **dictionaries** are powerful and flexible data structures that store data in key-value pairs, similar to hash tables in computer science. They are highly efficient for lookups and allow for dynamic data manipulation. Here's a breakdown of their key features:\n",
    "\n",
    "### Key Features of Dictionaries:  \n",
    "- **Key-Value Pair Storage:**  \n",
    "  - Dictionaries store elements as `key:value` pairs, where each key acts as a unique identifier for its corresponding value.  \n",
    "\n",
    "- **No Sequence or Order:**  \n",
    "  - Unlike lists or tuples, dictionaries do not maintain the order of elements (prior to Python 3.7). They simply map keys to values, making them efficient for retrieving data.  \n",
    "\n",
    "- **Dynamic Value Types:**  \n",
    "  - A dictionary can store values of any data type, including numbers, strings, lists, or even other dictionaries.  \n",
    "\n",
    "- **Unordered Structure:**  \n",
    "  - Prior to Python 3.7, dictionaries did not guarantee order, but starting from Python 3.7, dictionaries preserve the insertion order by default.  \n",
    "\n",
    "### Scientific Insight:  \n",
    "Dictionaries are implemented as **hash maps** in Python. Hash maps use a hash function to compute an index for each key, allowing for fast data access in \\( O(1) \\) time on average. This efficiency makes dictionaries an ideal choice for situations where quick lookups or key-based access to data are required.\n",
    "\n",
    "### Example:\n",
    "```python\n",
    "# Creating a simple dictionary\n",
    "my_dict = {\n",
    "    \"name\": \"Alice\",\n",
    "    \"age\": 30,\n",
    "    \"hobbies\": [\"reading\", \"hiking\", \"gardening\"]\n",
    "}\n",
    "\n",
    "# Accessing values using keys\n",
    "print(my_dict[\"name\"])  # Output: Alice\n"
   ]
  },
  {
   "cell_type": "code",
   "execution_count": 231,
   "id": "5105f52a-5c66-402e-bbe7-fc4fa1fc2cbd",
   "metadata": {},
   "outputs": [],
   "source": [
    "d={'key1':'value','key2':123}"
   ]
  },
  {
   "cell_type": "code",
   "execution_count": 233,
   "id": "49615fff-cade-4162-86a1-72345d683d4f",
   "metadata": {},
   "outputs": [
    {
     "data": {
      "text/plain": [
       "{'key1': 'value', 'key2': 123}"
      ]
     },
     "execution_count": 233,
     "metadata": {},
     "output_type": "execute_result"
    }
   ],
   "source": [
    "d"
   ]
  },
  {
   "cell_type": "code",
   "execution_count": 237,
   "id": "ced449ba-eae3-4fe5-98b7-83a4fba493bd",
   "metadata": {},
   "outputs": [
    {
     "data": {
      "text/plain": [
       "'value'"
      ]
     },
     "execution_count": 237,
     "metadata": {},
     "output_type": "execute_result"
    }
   ],
   "source": [
    "# get the elements through their elements by passing the key corresponding to that value\n",
    "d['key1']"
   ]
  },
  {
   "cell_type": "code",
   "execution_count": 1,
   "id": "b598a7b0-b099-4509-a74f-d7d5dc0c93f0",
   "metadata": {},
   "outputs": [],
   "source": [
    "d={'k1':[1,2,3]}"
   ]
  },
  {
   "cell_type": "code",
   "execution_count": 3,
   "id": "6b19f898-bfa5-438c-b102-ae2f050b07cb",
   "metadata": {},
   "outputs": [
    {
     "data": {
      "text/plain": [
       "{'k1': [1, 2, 3]}"
      ]
     },
     "execution_count": 3,
     "metadata": {},
     "output_type": "execute_result"
    }
   ],
   "source": [
    "d"
   ]
  },
  {
   "cell_type": "code",
   "execution_count": 7,
   "id": "cda01ea6-4afe-4800-b6b0-e226152f74e0",
   "metadata": {},
   "outputs": [
    {
     "data": {
      "text/plain": [
       "[1, 2, 3]"
      ]
     },
     "execution_count": 7,
     "metadata": {},
     "output_type": "execute_result"
    }
   ],
   "source": [
    "d['k1']"
   ]
  },
  {
   "cell_type": "code",
   "execution_count": 11,
   "id": "b5030eac-f36a-48b5-b873-ad15d484dd1d",
   "metadata": {},
   "outputs": [
    {
     "data": {
      "text/plain": [
       "3"
      ]
     },
     "execution_count": 11,
     "metadata": {},
     "output_type": "execute_result"
    }
   ],
   "source": [
    "# As we have the key by calling d['k1'] we can do normal indexing\n",
    "d['k1'][2]"
   ]
  },
  {
   "cell_type": "code",
   "execution_count": 13,
   "id": "563b1dff-9d0c-4d30-a162-72ffb7b85a80",
   "metadata": {},
   "outputs": [],
   "source": [
    "# We can into the list and then get the elements, use [] notation to grab everything off of it\n",
    "# or grab data as we did like the previous code box along the same line \"d['k1'][2]\"\n",
    "my_list=d['k1']"
   ]
  },
  {
   "cell_type": "code",
   "execution_count": 15,
   "id": "7496bdab-144f-4e98-b65d-d034ca4b6976",
   "metadata": {},
   "outputs": [
    {
     "data": {
      "text/plain": [
       "[1, 2, 3]"
      ]
     },
     "execution_count": 15,
     "metadata": {},
     "output_type": "execute_result"
    }
   ],
   "source": [
    "my_list"
   ]
  },
  {
   "cell_type": "code",
   "execution_count": 17,
   "id": "4c6ef6cd-5407-4ec7-a6af-1e5001bc7cc2",
   "metadata": {},
   "outputs": [
    {
     "data": {
      "text/plain": [
       "3"
      ]
     },
     "execution_count": 17,
     "metadata": {},
     "output_type": "execute_result"
    }
   ],
   "source": [
    "my_list[2]"
   ]
  },
  {
   "cell_type": "code",
   "execution_count": 19,
   "id": "28115c39-e8a7-4272-84ab-09e5f7038760",
   "metadata": {},
   "outputs": [],
   "source": [
    "# A dictionary nested in another dictionary\n",
    "d={'k1':{'innerkey':[1,2,3]}}"
   ]
  },
  {
   "cell_type": "code",
   "execution_count": 21,
   "id": "7b1c3e1f-674e-4611-8ade-c85affd05325",
   "metadata": {},
   "outputs": [
    {
     "data": {
      "text/plain": [
       "{'innerkey': [1, 2, 3]}"
      ]
     },
     "execution_count": 21,
     "metadata": {},
     "output_type": "execute_result"
    }
   ],
   "source": [
    "d['k1']"
   ]
  },
  {
   "cell_type": "code",
   "execution_count": 23,
   "id": "5dee3425-e2f3-460e-a03e-34872ef8d4f8",
   "metadata": {},
   "outputs": [
    {
     "data": {
      "text/plain": [
       "3"
      ]
     },
     "execution_count": 23,
     "metadata": {},
     "output_type": "execute_result"
    }
   ],
   "source": [
    "# Lets grab member 3\n",
    "d['k1']['innerkey'][2]"
   ]
  },
  {
   "cell_type": "code",
   "execution_count": 25,
   "id": "8ff502dc-2a96-45bf-b469-3c364d093017",
   "metadata": {},
   "outputs": [],
   "source": [
    "# Or with a list\n",
    "my_list = d['k1']['innerkey']"
   ]
  },
  {
   "cell_type": "code",
   "execution_count": 27,
   "id": "01e10eab-db51-4c79-8c0f-450bf8dffb85",
   "metadata": {},
   "outputs": [
    {
     "data": {
      "text/plain": [
       "[1, 2, 3]"
      ]
     },
     "execution_count": 27,
     "metadata": {},
     "output_type": "execute_result"
    }
   ],
   "source": [
    "my_list"
   ]
  },
  {
   "cell_type": "code",
   "execution_count": 29,
   "id": "b6d35694-90ee-4f2a-ad08-512714e58455",
   "metadata": {},
   "outputs": [
    {
     "data": {
      "text/plain": [
       "3"
      ]
     },
     "execution_count": 29,
     "metadata": {},
     "output_type": "execute_result"
    }
   ],
   "source": [
    "my_list[2]"
   ]
  },
  {
   "cell_type": "markdown",
   "id": "9e4a499b-19a4-4952-b1d4-c17adc2324cb",
   "metadata": {},
   "source": [
    "## Boolean"
   ]
  },
  {
   "cell_type": "code",
   "execution_count": 33,
   "id": "55b49b1a-13f7-4383-b3b1-9ca2be055191",
   "metadata": {},
   "outputs": [
    {
     "data": {
      "text/plain": [
       "True"
      ]
     },
     "execution_count": 33,
     "metadata": {},
     "output_type": "execute_result"
    }
   ],
   "source": [
    "True"
   ]
  },
  {
   "cell_type": "code",
   "execution_count": 35,
   "id": "91871960-9061-405b-a9dc-0a9e668665e5",
   "metadata": {},
   "outputs": [
    {
     "data": {
      "text/plain": [
       "False"
      ]
     },
     "execution_count": 35,
     "metadata": {},
     "output_type": "execute_result"
    }
   ],
   "source": [
    "False"
   ]
  },
  {
   "cell_type": "markdown",
   "id": "70dff00a-fcba-430f-a9ed-ade10fee0356",
   "metadata": {},
   "source": [
    "## Tuples  \n",
    "\n",
    "Tuples in Python are a fundamental data type used to store a sequence of objects. They share similarities with lists but have key differences that make them unique and useful in specific situations.  \n",
    "\n",
    "### Key Characteristics of Tuples:  \n",
    "- **Defined with Parentheses:** Tuples use `()` instead of square brackets `[]` used for lists.  \n",
    "- **Immutable:** Once a tuple is created, its elements cannot be changed, added, or removed. This immutability makes tuples useful for fixed data that should remain constant throughout the program.  \n",
    "- **Ordered:** Like lists, tuples maintain the order of elements, allowing indexing and slicing operations.  \n",
    "\n",
    "### Scientific Explanation of Tuples and Immutability:  \n",
    "- **Immutability and Memory Efficiency:** Because tuples are immutable, Python can optimize their memory usage. This makes them more efficient than lists in scenarios where data does not need to be modified. Tuples are also hashable, which allows them to be used as keys in dictionaries or stored in sets (unlike lists).  \n",
    "- **Use Cases:** Tuples are ideal for representing fixed collections of data, such as coordinates, RGB color values, or days of the week, where the data should remain constant.  \n",
    "\n",
    "### Comparison Between Tuples and Lists:  \n",
    "- **Tuples are Immutable:** Elements cannot be modified after creation.  \n",
    "- **Lists are Mutable:** Elements can be added, removed, or changed.  "
   ]
  },
  {
   "cell_type": "code",
   "execution_count": 38,
   "id": "31cadf4b-61a7-46ae-9624-46f0560041ee",
   "metadata": {},
   "outputs": [],
   "source": [
    "my_list= [1,2,3]"
   ]
  },
  {
   "cell_type": "code",
   "execution_count": 40,
   "id": "36a02c71-4f40-4ffa-83aa-f0853903bf3b",
   "metadata": {},
   "outputs": [
    {
     "data": {
      "text/plain": [
       "1"
      ]
     },
     "execution_count": 40,
     "metadata": {},
     "output_type": "execute_result"
    }
   ],
   "source": [
    "my_list[0]"
   ]
  },
  {
   "cell_type": "code",
   "execution_count": 42,
   "id": "6416b089-1a11-475c-afad-953182b5e0ef",
   "metadata": {},
   "outputs": [],
   "source": [
    "t=(1,2,3)"
   ]
  },
  {
   "cell_type": "code",
   "execution_count": 44,
   "id": "cfae62f2-cc37-40f8-a9ef-c9ea79857e75",
   "metadata": {},
   "outputs": [
    {
     "data": {
      "text/plain": [
       "1"
      ]
     },
     "execution_count": 44,
     "metadata": {},
     "output_type": "execute_result"
    }
   ],
   "source": [
    "t[0]"
   ]
  },
  {
   "cell_type": "code",
   "execution_count": 46,
   "id": "c7d3106b-768b-4695-b62d-eef14929952c",
   "metadata": {},
   "outputs": [],
   "source": [
    "my_list[0]= 'NEW'"
   ]
  },
  {
   "cell_type": "code",
   "execution_count": 48,
   "id": "7c504faa-6528-43df-b3c1-77267de89782",
   "metadata": {},
   "outputs": [
    {
     "data": {
      "text/plain": [
       "['NEW', 2, 3]"
      ]
     },
     "execution_count": 48,
     "metadata": {},
     "output_type": "execute_result"
    }
   ],
   "source": [
    "my_list"
   ]
  },
  {
   "cell_type": "code",
   "execution_count": 50,
   "id": "e7cba6d5-de18-47ff-8ca0-cebc751cdd0f",
   "metadata": {},
   "outputs": [
    {
     "ename": "TypeError",
     "evalue": "'tuple' object does not support item assignment",
     "output_type": "error",
     "traceback": [
      "\u001b[0;31m---------------------------------------------------------------------------\u001b[0m",
      "\u001b[0;31mTypeError\u001b[0m                                 Traceback (most recent call last)",
      "Cell \u001b[0;32mIn[50], line 1\u001b[0m\n\u001b[0;32m----> 1\u001b[0m t[\u001b[38;5;241m0\u001b[39m]\u001b[38;5;241m=\u001b[39m\u001b[38;5;124m'\u001b[39m\u001b[38;5;124mNEW\u001b[39m\u001b[38;5;124m'\u001b[39m\n",
      "\u001b[0;31mTypeError\u001b[0m: 'tuple' object does not support item assignment"
     ]
    }
   ],
   "source": [
    "t[0]='NEW'"
   ]
  },
  {
   "cell_type": "code",
   "execution_count": 53,
   "id": "2a3adf2c-5b76-408c-803c-6147eb0d2b46",
   "metadata": {},
   "outputs": [
    {
     "name": "stdout",
     "output_type": "stream",
     "text": [
      "1\n"
     ]
    }
   ],
   "source": [
    "# Tuple example\n",
    "my_tuple = (1, 2, 3)\n",
    "print(my_tuple[0])  # Accessing the first element\n",
    "\n",
    "# List example\n",
    "my_list = [1, 2, 3]\n",
    "my_list[0] = 100  # Modifying the first element"
   ]
  },
  {
   "cell_type": "markdown",
   "id": "969cd4ce-e386-49f0-8641-4567c66f7866",
   "metadata": {},
   "source": [
    "## Sets\n",
    "\n",
    "In Python, a **set** is a data structure that represents a collection of **unique, unordered elements**. Unlike lists or tuples, sets do not allow duplicate values. This makes them particularly useful for tasks like removing duplicates or performing mathematical set operations.\n",
    "\n",
    "### Key Characteristics of Sets:\n",
    "- **Unique Elements**: Each element in a set must be distinct. If duplicates are added, they will automatically be removed.  \n",
    "- **Unordered**: Sets do not maintain any specific order for the elements.  \n",
    "- **Mutable**: You can add or remove elements from a set, although the elements themselves must be immutable (e.g., strings, numbers, tuples).\n",
    "\n",
    "### Scientific Analogy:\n",
    "Think of a set in Python as a \"mathematical set\" in science, where:  \n",
    "- The set contains only distinct members (no duplicates).  \n",
    "- Operations like union, intersection, and difference can be performed just like in mathematical set theory.\n",
    "\n",
    "Here’s a well-structured and detailed version for your Jupyter Notebook:\n",
    "\n",
    "```markdown\n",
    "## Sets  \n",
    "\n",
    "### What is a Set?  \n",
    "- In Python, a **set** is a built-in data type that represents a collection of **unique and unordered elements**.  \n",
    "- Unlike lists or tuples, sets automatically discard duplicate values, ensuring each element is unique.  \n",
    "- Sets are based on the concept of mathematical sets, which allow operations like union, intersection, and difference.  \n",
    "\n",
    "### Creating a Set  \n",
    "- You can create a set using the `set()` method or by using curly braces `{}`.  \n",
    "- **Example:**  \n",
    "    ```python\n",
    "    my_set = {1, 2, 3, 4}\n",
    "    another_set = set([3, 4, 5, 6])  # Convert a list into a set\n",
    "    print(my_set, another_set)\n",
    "    ```\n",
    "\n",
    "### Key Features of Sets  \n",
    "- **Unique Elements:** If you attempt to add an element that already exists in the set, it will not raise an error but will silently ignore the duplicate.  \n",
    "    ```python\n",
    "    my_set = {1, 2, 3}\n",
    "    my_set.add(3)  # Adding a duplicate\n",
    "    print(my_set)  # Output: {1, 2, 3}\n",
    "    ```\n",
    "\n",
    "- **Unordered:** The order of elements in a set is not guaranteed.  \n",
    "\n",
    "### Common Set Methods and Operations  \n",
    "- **`add()`**: Adds a single element to the set.  \n",
    "    ```python\n",
    "    my_set.add(5)\n",
    "    ```\n",
    "\n",
    "- **`remove()`**: Removes a specific element from the set. Raises an error if the element is not found.  \n",
    "    ```python\n",
    "    my_set.remove(2)\n",
    "    ```\n",
    "\n",
    "- **`discard()`**: Removes a specific element but does not raise an error if the element is not found.  \n",
    "    ```python\n",
    "    my_set.discard(10)  # No error even if 10 is not in the set\n",
    "    ```\n",
    "\n",
    "- **`union()`**: Returns a new set with elements from both sets.  \n",
    "    ```python\n",
    "    set1 = {1, 2, 3}\n",
    "    set2 = {3, 4, 5}\n",
    "    print(set1.union(set2))  # Output: {1, 2, 3, 4, 5}\n",
    "    ```\n",
    "\n",
    "- **`intersection()`**: Returns a set of elements common to both sets.  \n",
    "    ```python\n",
    "    print(set1.intersection(set2))  # Output: {3}\n",
    "    ```\n",
    "\n",
    "- **`difference()`**: Returns a set of elements present in the first set but not in the second.  \n",
    "    ```python\n",
    "    print(set1.difference(set2))  # Output: {1, 2}\n",
    "    ```\n",
    "\n",
    "- **`clear()`**: Removes all elements from the set, leaving it empty.  \n",
    "    ```python\n",
    "    my_set.clear()\n",
    "    ```\n",
    "\n",
    "- **`len()`**: Returns the number of elements in a set.  \n",
    "    ```python\n",
    "    print(len(my_set))\n",
    "    ```\n",
    "\n",
    "### Scientific Explanation  \n",
    "In computer science, sets are highly efficient for membership testing and eliminating duplicates due to their underlying **hash table** implementation. This ensures constant-time complexity \\(O(1)\\) for operations like `add`, `remove`, and `lookup`. Their unordered nature comes from the way elements are hashed and stored in memory, making them ideal for tasks where uniqueness and performance are crucial.  \n",
    "\n",
    "```markdown\n",
    "### Summary  \n",
    "Sets in Python are versatile and useful for ensuring unique collections of data, performing mathematical operations, and achieving high-performance lookups.\n",
    "```\n"
   ]
  },
  {
   "cell_type": "code",
   "execution_count": 65,
   "id": "15c7d1d7-113b-4704-b50f-e0ec17ef18fb",
   "metadata": {},
   "outputs": [
    {
     "data": {
      "text/plain": [
       "{1, 2, 3}"
      ]
     },
     "execution_count": 65,
     "metadata": {},
     "output_type": "execute_result"
    }
   ],
   "source": [
    "{1,2,3}"
   ]
  },
  {
   "cell_type": "code",
   "execution_count": 58,
   "id": "13310630-6234-407f-a628-9e6f79193ed0",
   "metadata": {},
   "outputs": [
    {
     "data": {
      "text/plain": [
       "{1, 2, 3}"
      ]
     },
     "execution_count": 58,
     "metadata": {},
     "output_type": "execute_result"
    }
   ],
   "source": [
    "{1,2,3,1,2,1,2,3,3,3,3,2,2,2,1,1,2}"
   ]
  },
  {
   "cell_type": "code",
   "execution_count": 83,
   "id": "1e3e16ed-ec18-4187-86cc-f6223aa0d765",
   "metadata": {},
   "outputs": [
    {
     "data": {
      "text/plain": [
       "{1, 2, 3, 4, 5, 7, 454}"
      ]
     },
     "execution_count": 83,
     "metadata": {},
     "output_type": "execute_result"
    }
   ],
   "source": [
    "set([1,2,3,5,7,7,7,7,7,454,4])"
   ]
  },
  {
   "cell_type": "code",
   "execution_count": 85,
   "id": "8fe9ca40-af00-4c65-80c0-f20ff49dffac",
   "metadata": {},
   "outputs": [],
   "source": [
    "s = {1,2,3}"
   ]
  },
  {
   "cell_type": "code",
   "execution_count": 87,
   "id": "92816e4f-b6fd-4e39-86f8-81d45cc534ed",
   "metadata": {},
   "outputs": [],
   "source": [
    "s.add(5)"
   ]
  },
  {
   "cell_type": "code",
   "execution_count": 89,
   "id": "ac39b40a-19e9-473b-9ba0-6a8f754b11b5",
   "metadata": {},
   "outputs": [
    {
     "data": {
      "text/plain": [
       "{1, 2, 3, 5}"
      ]
     },
     "execution_count": 89,
     "metadata": {},
     "output_type": "execute_result"
    }
   ],
   "source": [
    "s"
   ]
  },
  {
   "cell_type": "code",
   "execution_count": null,
   "id": "aaa37c17-a8ab-41b0-8745-e4a8c0630f3d",
   "metadata": {},
   "outputs": [],
   "source": [
    "# IF you try to add an item which is already exists in the set, it won't retreive an error but it will keep it the same\n",
    "s.add(5)"
   ]
  },
  {
   "cell_type": "code",
   "execution_count": 4,
   "id": "12171af9-93cf-4c1c-82a0-ac08e61f224b",
   "metadata": {},
   "outputs": [],
   "source": [
    "# Creating a set\n",
    "my_set = {1, 2, 3, 4, 5}"
   ]
  },
  {
   "cell_type": "code",
   "execution_count": 6,
   "id": "bd3d6911-3392-4890-9185-80e95530b70d",
   "metadata": {},
   "outputs": [
    {
     "data": {
      "text/plain": [
       "{1, 2, 3, 4, 5}"
      ]
     },
     "execution_count": 6,
     "metadata": {},
     "output_type": "execute_result"
    }
   ],
   "source": [
    "my_set"
   ]
  },
  {
   "cell_type": "code",
   "execution_count": 8,
   "id": "7cf76eef-60be-4fe5-a950-289850a38c2e",
   "metadata": {},
   "outputs": [],
   "source": [
    "# Adding a new element\n",
    "my_set.add(6)"
   ]
  },
  {
   "cell_type": "code",
   "execution_count": 10,
   "id": "257e75b9-6556-480c-99ac-54181f137aca",
   "metadata": {},
   "outputs": [
    {
     "data": {
      "text/plain": [
       "{1, 2, 3, 4, 5, 6}"
      ]
     },
     "execution_count": 10,
     "metadata": {},
     "output_type": "execute_result"
    }
   ],
   "source": [
    "my_set"
   ]
  },
  {
   "cell_type": "code",
   "execution_count": 12,
   "id": "5a8806b0-3e9e-4ea7-a64c-02a2f948c24c",
   "metadata": {},
   "outputs": [],
   "source": [
    "# Trying to add a duplicate element\n",
    "my_set.add(3)  # The set remains unchanged because 3 is already in the set"
   ]
  },
  {
   "cell_type": "code",
   "execution_count": 21,
   "id": "a1ce745b-1607-4237-ba18-c970bf3b479b",
   "metadata": {},
   "outputs": [
    {
     "data": {
      "text/plain": [
       "{1, 2, 3, 5, 6}"
      ]
     },
     "execution_count": 21,
     "metadata": {},
     "output_type": "execute_result"
    }
   ],
   "source": [
    "my_set"
   ]
  },
  {
   "cell_type": "code",
   "execution_count": 25,
   "id": "93be63b6-bf59-4613-ad9f-16d1bf3e3594",
   "metadata": {},
   "outputs": [],
   "source": [
    "# Removing an element\n",
    "my_set.remove(2)"
   ]
  },
  {
   "cell_type": "code",
   "execution_count": 27,
   "id": "63a15943-553e-4da5-83ab-dbdba167a038",
   "metadata": {},
   "outputs": [
    {
     "data": {
      "text/plain": [
       "{1, 3, 5, 6}"
      ]
     },
     "execution_count": 27,
     "metadata": {},
     "output_type": "execute_result"
    }
   ],
   "source": [
    "my_set"
   ]
  },
  {
   "cell_type": "code",
   "execution_count": 29,
   "id": "94d5736b-e7f9-4730-9734-f1fbbf199944",
   "metadata": {},
   "outputs": [
    {
     "name": "stdout",
     "output_type": "stream",
     "text": [
      "{1, 3, 5, 6}\n"
     ]
    }
   ],
   "source": [
    "# Checking the contents of the set\n",
    "print(my_set)  # Output: {1, 3, 5, 6}"
   ]
  },
  {
   "cell_type": "markdown",
   "id": "4991ca0c-e4a6-4c24-8911-4bcfeba8800e",
   "metadata": {},
   "source": [
    "## Comparison Operators\n",
    "\n",
    "Comparison operators are used to compare values. These comparisons return a Boolean value: `True` or `False`.\n",
    "\n",
    "### Common Comparison Operators\n",
    "- `==` : Equal to  \n",
    "    - Checks if two values are the same.\n",
    "    ```python\n",
    "    5 == 5  # True\n",
    "    ```\n",
    "- `!=` : Not equal to  \n",
    "    - Checks if two values are different.\n",
    "    ```python\n",
    "    5 != 3  # True\n",
    "    ```\n",
    "- `>` : Greater than  \n",
    "    - Checks if the left value is greater than the right.\n",
    "    ```python\n",
    "    7 > 3  # True\n",
    "    ```\n",
    "- `<` : Less than  \n",
    "    - Checks if the left value is less than the right.\n",
    "    ```python\n",
    "    2 < 5  # True\n",
    "    ```\n",
    "- `>=` : Greater than or equal to  \n",
    "    - Checks if the left value is greater than or equal to the right.\n",
    "    ```python\n",
    "    5 >= 5  # True\n",
    "    ```\n",
    "- `<=` : Less than or equal to  \n",
    "    - Checks if the left value is less than or equal to the right.\n",
    "    ```python\n",
    "    4 <= 6  # True\n",
    "    ```\n",
    "\n",
    "### Combining Comparison Operators\n",
    "You can combine comparisons with logical operators to form complex conditions:\n",
    "- `and` : All conditions must be `True`.\n",
    "    ```python\n",
    "    (5 > 3) and (2 < 4)  # True\n",
    "    ```\n",
    "- `or` : At least one condition must be `True`.\n",
    "    ```python\n",
    "    (5 > 3) or (2 > 4)  # True\n",
    "    ```\n",
    "- `not` : Negates the condition.\n",
    "    ```python\n",
    "    not (5 > 3)  # False\n",
    "    ```\n",
    "### Special Notes\n",
    "1. Python comparison operators can also be used with strings:\n",
    "    ```python\n",
    "    \"apple\" < \"banana\"  # True (alphabetical comparison)\n",
    "    ```\n",
    "2. Chained comparisons are also valid:\n",
    "    ```python\n",
    "    3 < 5 < 7  # True\n",
    "    ```\n",
    "    This is equivalent to `(3 < 5) and (5 < 7)`.\n",
    "\n",
    "## Use Cases\n",
    "- **Conditional Statements**: Used in `if`, `elif`, and `else` statements to control the flow of the program.\n",
    "    ```python\n",
    "    age = 18\n",
    "    if age >= 18:\n",
    "        print(\"You are an adult!\")\n",
    "    else:\n",
    "        print(\"You are underage!\")\n",
    "    ```\n",
    "\n",
    "\n",
    "Experiment with these operators to better understand how they work!\n"
   ]
  },
  {
   "cell_type": "code",
   "execution_count": 32,
   "id": "d7df2fa4-9b3a-4a04-8678-b4626cba8d0c",
   "metadata": {},
   "outputs": [
    {
     "data": {
      "text/plain": [
       "False"
      ]
     },
     "execution_count": 32,
     "metadata": {},
     "output_type": "execute_result"
    }
   ],
   "source": [
    "1>2"
   ]
  },
  {
   "cell_type": "code",
   "execution_count": 64,
   "id": "31dd44bf-0cf1-4fd6-aa37-c8607fc38b53",
   "metadata": {},
   "outputs": [
    {
     "data": {
      "text/plain": [
       "True"
      ]
     },
     "execution_count": 64,
     "metadata": {},
     "output_type": "execute_result"
    }
   ],
   "source": [
    "1<2"
   ]
  },
  {
   "cell_type": "code",
   "execution_count": 68,
   "id": "67f79eba-a97a-4748-9f62-3ac9f9e98bd2",
   "metadata": {},
   "outputs": [
    {
     "data": {
      "text/plain": [
       "True"
      ]
     },
     "execution_count": 68,
     "metadata": {},
     "output_type": "execute_result"
    }
   ],
   "source": [
    "1>=1"
   ]
  },
  {
   "cell_type": "code",
   "execution_count": 71,
   "id": "cda46cc8-1510-4d08-baeb-00328b597c38",
   "metadata": {},
   "outputs": [
    {
     "data": {
      "text/plain": [
       "True"
      ]
     },
     "execution_count": 71,
     "metadata": {},
     "output_type": "execute_result"
    }
   ],
   "source": [
    "1<=5"
   ]
  },
  {
   "cell_type": "code",
   "execution_count": 75,
   "id": "045b2549-a6d8-40b8-9235-712de1f457e2",
   "metadata": {},
   "outputs": [
    {
     "data": {
      "text/plain": [
       "True"
      ]
     },
     "execution_count": 75,
     "metadata": {},
     "output_type": "execute_result"
    }
   ],
   "source": [
    "7==7"
   ]
  },
  {
   "cell_type": "code",
   "execution_count": 77,
   "id": "71e8e3d8-7c03-4d40-8e2b-4f1212fbfce6",
   "metadata": {},
   "outputs": [
    {
     "data": {
      "text/plain": [
       "False"
      ]
     },
     "execution_count": 77,
     "metadata": {},
     "output_type": "execute_result"
    }
   ],
   "source": [
    "1==7"
   ]
  },
  {
   "cell_type": "code",
   "execution_count": 79,
   "id": "69507ca1-9fee-4b2d-8ca5-8de97068b248",
   "metadata": {},
   "outputs": [
    {
     "data": {
      "text/plain": [
       "False"
      ]
     },
     "execution_count": 79,
     "metadata": {},
     "output_type": "execute_result"
    }
   ],
   "source": [
    "'Sam' == 'Shab'"
   ]
  },
  {
   "cell_type": "code",
   "execution_count": 41,
   "id": "d1a6724d-c571-43b6-88d0-5bfbd89365e5",
   "metadata": {},
   "outputs": [
    {
     "data": {
      "text/plain": [
       "True"
      ]
     },
     "execution_count": 41,
     "metadata": {},
     "output_type": "execute_result"
    }
   ],
   "source": [
    "'Sam' != 'Shab'"
   ]
  },
  {
   "cell_type": "markdown",
   "id": "11d681d1-d17b-4348-b467-ed68a0faedd4",
   "metadata": {},
   "source": [
    "## Logic Operators"
   ]
  },
  {
   "cell_type": "code",
   "execution_count": 43,
   "id": "76716d2c-b67b-413a-8cc0-99f23a7b2f1f",
   "metadata": {},
   "outputs": [
    {
     "data": {
      "text/plain": [
       "True"
      ]
     },
     "execution_count": 43,
     "metadata": {},
     "output_type": "execute_result"
    }
   ],
   "source": [
    "# 5 > 3 and 2 < 4\n",
    "(5 > 3) and (2 < 4)"
   ]
  },
  {
   "cell_type": "code",
   "execution_count": 45,
   "id": "f80ac8cc-3472-4a8d-a3eb-02dfac15c37f",
   "metadata": {},
   "outputs": [
    {
     "data": {
      "text/plain": [
       "True"
      ]
     },
     "execution_count": 45,
     "metadata": {},
     "output_type": "execute_result"
    }
   ],
   "source": [
    "(5 > 3) or (2 > 4)"
   ]
  },
  {
   "cell_type": "code",
   "execution_count": 47,
   "id": "94d4cf7b-f7ee-40e4-9b26-ff37f050efd9",
   "metadata": {},
   "outputs": [
    {
     "data": {
      "text/plain": [
       "False"
      ]
     },
     "execution_count": 47,
     "metadata": {},
     "output_type": "execute_result"
    }
   ],
   "source": [
    "not (5 > 3) "
   ]
  },
  {
   "cell_type": "code",
   "execution_count": 51,
   "id": "37f42977-e41c-4b7d-b512-b772c5ebe3ec",
   "metadata": {},
   "outputs": [
    {
     "data": {
      "text/plain": [
       "True"
      ]
     },
     "execution_count": 51,
     "metadata": {},
     "output_type": "execute_result"
    }
   ],
   "source": [
    "(1<2) or (2>3) or (1==1)"
   ]
  },
  {
   "cell_type": "code",
   "execution_count": 49,
   "id": "6fc34066-706a-44dc-8dcb-e0f3b414c8c7",
   "metadata": {},
   "outputs": [
    {
     "data": {
      "text/plain": [
       "True"
      ]
     },
     "execution_count": 49,
     "metadata": {},
     "output_type": "execute_result"
    }
   ],
   "source": [
    "True and True"
   ]
  },
  {
   "cell_type": "code",
   "execution_count": 53,
   "id": "67065563-3f33-4a22-90db-c1797c7a4031",
   "metadata": {},
   "outputs": [
    {
     "data": {
      "text/plain": [
       "False"
      ]
     },
     "execution_count": 53,
     "metadata": {},
     "output_type": "execute_result"
    }
   ],
   "source": [
    "True and False"
   ]
  },
  {
   "cell_type": "code",
   "execution_count": 55,
   "id": "a90ca63a-646d-4607-a1fd-188c1f8be0fa",
   "metadata": {},
   "outputs": [
    {
     "data": {
      "text/plain": [
       "True"
      ]
     },
     "execution_count": 55,
     "metadata": {},
     "output_type": "execute_result"
    }
   ],
   "source": [
    "True or False"
   ]
  },
  {
   "cell_type": "code",
   "execution_count": 57,
   "id": "06ee7517-15a5-4f38-8b2d-1d08a1153dc1",
   "metadata": {},
   "outputs": [
    {
     "data": {
      "text/plain": [
       "True"
      ]
     },
     "execution_count": 57,
     "metadata": {},
     "output_type": "execute_result"
    }
   ],
   "source": [
    "True or True"
   ]
  },
  {
   "cell_type": "markdown",
   "id": "09947cec-3d61-46ad-9e48-670d64720258",
   "metadata": {},
   "source": [
    "## if, elif, else Statements\n",
    "\n",
    "Control flow in Python allows you to make decisions and execute code conditionally based on certain conditions. The `if`, `elif`, and `else` statements are fundamental building blocks for this.\n",
    "\n",
    "**Python uses indentation (whitespace) to define blocks of code instead of using curly braces `{}`.**\n",
    "\n",
    "\n",
    "### **Syntax**\n",
    "```python\n",
    "if condition:\n",
    "    # Code to execute if condition is True\n",
    "elif another_condition:\n",
    "    # Code to execute if the first condition is False and this one is True\n",
    "else:\n",
    "    # Code to execute if none of the above conditions are True\n",
    "```\n",
    "\n",
    "### **Key Points**\n",
    "- The `if` statement checks a condition. If it evaluates to `True`, the indented code block under it runs.\n",
    "- The `elif` (short for \"else if\") statement checks another condition if the `if` condition is `False`.\n",
    "- The `else` statement executes a block of code if none of the preceding conditions are `True`.\n",
    "- Indentation is crucial in Python. Blocks of code must be indented to define their scope within `if`, `elif`, or `else`.\n",
    "\n",
    "### **Tips for Writing Conditional Statements**\n",
    "1. Always ensure conditions are clear and logical.\n",
    "2. Conditions can involve:\n",
    "   - Comparison operators (`==`, `!=`, `<`, `>`, `<=`, `>=`)\n",
    "   - Logical operators (`and`, `or`, `not`)\n",
    "3. Use `elif` for multiple conditions instead of chaining multiple `if` statements.\n",
    "4. The `else` block is optional but can be helpful for catching all other cases.\n",
    "\n",
    "\n",
    "\n",
    "### **Common Pitfalls**\n",
    "- Forgetting to use proper indentation will raise an `IndentationError`.\n",
    "- Using the wrong logical or comparison operators.\n",
    "- Over-complicating conditions when simpler ones would suffice."
   ]
  },
  {
   "cell_type": "code",
   "execution_count": 65,
   "id": "3c991212-55f6-4afb-b6ee-4532d6f92756",
   "metadata": {},
   "outputs": [
    {
     "name": "stdout",
     "output_type": "stream",
     "text": [
      "True\n"
     ]
    }
   ],
   "source": [
    "if 1<2:\n",
    "    print('True')"
   ]
  },
  {
   "cell_type": "code",
   "execution_count": 67,
   "id": "c5eed70c-0c41-4c0c-82b7-6b612f361f18",
   "metadata": {},
   "outputs": [],
   "source": [
    "if True:\n",
    "    x=1+5"
   ]
  },
  {
   "cell_type": "code",
   "execution_count": 69,
   "id": "79e3f63d-24fd-47c8-be5b-c2d3e803b6c9",
   "metadata": {},
   "outputs": [
    {
     "data": {
      "text/plain": [
       "6"
      ]
     },
     "execution_count": 69,
     "metadata": {},
     "output_type": "execute_result"
    }
   ],
   "source": [
    "x"
   ]
  },
  {
   "cell_type": "code",
   "execution_count": 73,
   "id": "3b25caaa-c636-4cd8-9f98-79d33b7799c8",
   "metadata": {},
   "outputs": [
    {
     "name": "stdout",
     "output_type": "stream",
     "text": [
      "First\n"
     ]
    }
   ],
   "source": [
    "False\n",
    "if True:\n",
    "    print('First')\n",
    "if False:\n",
    "    print('Last')"
   ]
  },
  {
   "cell_type": "code",
   "execution_count": 75,
   "id": "1a1a06f0-cc9b-431b-b938-1141c439e828",
   "metadata": {},
   "outputs": [
    {
     "name": "stdout",
     "output_type": "stream",
     "text": [
      "First\n"
     ]
    }
   ],
   "source": [
    "condition = True \n",
    "if condition:\n",
    "    print('First')\n",
    "else:\n",
    "    print('Last')\n"
   ]
  },
  {
   "cell_type": "code",
   "execution_count": 77,
   "id": "a048a15a-0950-4158-a055-32ff30d6bc70",
   "metadata": {},
   "outputs": [
    {
     "name": "stdin",
     "output_type": "stream",
     "text": [
      "Enter 'yes' to print First, anything else for Last:  else\n"
     ]
    },
    {
     "name": "stdout",
     "output_type": "stream",
     "text": [
      "Last\n"
     ]
    }
   ],
   "source": [
    "user_input = input(\"Enter 'yes' to print First, anything else for Last: \").lower()\n",
    "if user_input == 'yes':\n",
    "    print('First')\n",
    "else:\n",
    "    print('Last')"
   ]
  },
  {
   "cell_type": "code",
   "execution_count": 81,
   "id": "08b05a58-b21c-4fea-b682-62e56eb561dc",
   "metadata": {},
   "outputs": [
    {
     "name": "stdout",
     "output_type": "stream",
     "text": [
      "Wotcha\n"
     ]
    }
   ],
   "source": [
    "# Python uses indentation (whitespace) to define blocks of code instead of using curly braces `{}`.\n",
    "# Multiple condition\n",
    "# We can keep stacking as many elif as we want\n",
    "x = 2\n",
    "\n",
    "if x > 15:\n",
    "    print(\"x is greater than 15\")\n",
    "elif x == 10:\n",
    "    print(\"x is equal to 10\")\n",
    "elif x== 2:\n",
    "    print('Wotcha')\n",
    "else:\n",
    "    print(\"x is less than 10\")"
   ]
  },
  {
   "cell_type": "markdown",
   "id": "b110b68b-e52d-4398-8fb2-9a4fb86baff1",
   "metadata": {},
   "source": [
    "Since one condition is met (5 == 5), Python does not evaluate the remaining elif or else blocks. This is because in an if-elif-else chain, only one block of code is executed, and the rest are skipped once a True condition is found."
   ]
  },
  {
   "cell_type": "code",
   "execution_count": 85,
   "id": "0c73c34d-2294-4958-8a08-96414b7e2db3",
   "metadata": {},
   "outputs": [
    {
     "name": "stdout",
     "output_type": "stream",
     "text": [
      "second\n"
     ]
    }
   ],
   "source": [
    "if 1 == 2:\n",
    "    print('first')\n",
    "elif 5==5:\n",
    "    print('second')\n",
    "elif 3 == 3:\n",
    "    print('middle')\n",
    "else:\n",
    "    print('Last')"
   ]
  },
  {
   "cell_type": "markdown",
   "id": "6ad72e88-f3e2-4d7b-a1c3-49d1968ddc8d",
   "metadata": {},
   "source": [
    "### **Nested if Statements**\n",
    "You can nest `if` statements to handle more complex conditions:"
   ]
  },
  {
   "cell_type": "code",
   "execution_count": 89,
   "id": "31b80107-abf5-41ed-8bc3-17f7ce89b567",
   "metadata": {},
   "outputs": [
    {
     "name": "stdout",
     "output_type": "stream",
     "text": [
      "Both x and y are greater than 10\n"
     ]
    }
   ],
   "source": [
    "\n",
    "x = 20\n",
    "y = 15\n",
    "\n",
    "if x > 10:\n",
    "    if y > 10:\n",
    "        print(\"Both x and y are greater than 10\")"
   ]
  },
  {
   "cell_type": "markdown",
   "id": "e0344f20-a7ac-4b1c-95d3-b994d52b60c9",
   "metadata": {},
   "source": [
    "### **Practice Exercise**\n",
    "Write a program that categorizes a number as:\n",
    "- \"Positive and even\"\n",
    "- \"Positive and odd\"\n",
    "- \"Negative\"\n",
    "- \"Zero\""
   ]
  },
  {
   "cell_type": "code",
   "execution_count": 106,
   "id": "1d5f7047-adf7-41f2-bf8c-afdddb864d4a",
   "metadata": {},
   "outputs": [
    {
     "name": "stdin",
     "output_type": "stream",
     "text": [
      "Enter a number:  200\n"
     ]
    },
    {
     "name": "stdout",
     "output_type": "stream",
     "text": [
      "x = 200 is Positive and even\n"
     ]
    }
   ],
   "source": [
    "x = int(input(\"Enter a number: \"))\n",
    "if x%2==0 and x>0:\n",
    "    print('x = {one} is Positive and even'.format(one=x))\n",
    "if x%2!=0 and x>0:\n",
    "    print('x = {one} is Positive and odd'.format(one=x))\n",
    "if x<0:\n",
    "    print('x = {one} is Negative'.format(one=x))\n",
    "if x==0:\n",
    "    print('x = {one} is Zero'.format(one=x))"
   ]
  },
  {
   "cell_type": "code",
   "execution_count": 108,
   "id": "7411527f-ba41-4d5e-8f42-a970035ca8f2",
   "metadata": {},
   "outputs": [
    {
     "name": "stdin",
     "output_type": "stream",
     "text": [
      "Enter a number:  23\n"
     ]
    },
    {
     "name": "stdout",
     "output_type": "stream",
     "text": [
      "x = 23 is Positive and odd\n"
     ]
    }
   ],
   "source": [
    "x = int(input(\"Enter a number: \"))\n",
    "if x%2==0 and x>0:\n",
    "    print('x = {one} is Positive and even'.format(one=x))\n",
    "elif x>0:\n",
    "    print('x = {one} is Positive and odd'.format(one=x))\n",
    "elif x<0:\n",
    "    print('x = {one} is Negative'.format(one=x))\n",
    "else:\n",
    "    print('x = {one} is Zero'.format(one=x))"
   ]
  },
  {
   "cell_type": "markdown",
   "id": "beec114e-5bd1-4c10-b939-7dab54781326",
   "metadata": {},
   "source": [
    "## For Loops\n",
    "\n",
    "A **`for` loop** is used to iterate over a sequence (like a list, tuple, dictionary, set, or string) and perform a block of code for each element in the sequence.\n",
    "\n",
    "---\n",
    "\n",
    "### Syntax of a For Loop\n",
    "\n",
    "```python\n",
    "for item in iterable:\n",
    "    # Code block to execute\n",
    "```\n",
    "`item:` A variable that takes on the value of each element in the sequence during iteration.\n",
    "`iterable`: A sequence or collection you want to loop through (e.g., list, string, or range)"
   ]
  },
  {
   "cell_type": "markdown",
   "id": "e7e8c4d0-f7ae-4a6e-9e31-564a723f9c7e",
   "metadata": {},
   "source": [
    "### 1. Looping Through a List"
   ]
  },
  {
   "cell_type": "code",
   "execution_count": 133,
   "id": "1a2f765a-fc7b-4c63-92c8-7f34aee62576",
   "metadata": {},
   "outputs": [],
   "source": [
    "seq=[1,2,3,4]"
   ]
  },
  {
   "cell_type": "code",
   "execution_count": 135,
   "id": "79dff502-4eeb-4526-8ba1-d75c47f76d64",
   "metadata": {},
   "outputs": [
    {
     "name": "stdout",
     "output_type": "stream",
     "text": [
      "item no 1: 1\n",
      "item no 2: 2\n",
      "item no 3: 3\n",
      "item no 4: 4\n"
     ]
    }
   ],
   "source": [
    "\n",
    "for i in seq:\n",
    "    print('item no {one}:'.format(one=i),i)"
   ]
  },
  {
   "cell_type": "code",
   "execution_count": 137,
   "id": "2ce883dd-884c-4274-800a-8cbcbcd626bf",
   "metadata": {},
   "outputs": [
    {
     "name": "stdout",
     "output_type": "stream",
     "text": [
      "Index 0: Value 5\n",
      "Index 1: Value 6\n",
      "Index 2: Value 7\n",
      "Index 3: Value 8\n",
      "Index 4: Value 9\n"
     ]
    }
   ],
   "source": [
    "# Simplifying index\n",
    "seq = [5, 6, 7, 8, 9]\n",
    "\n",
    "for index, value in enumerate(seq):\n",
    "    print(f\"Index {index}: Value {value}\")"
   ]
  },
  {
   "cell_type": "markdown",
   "id": "cc437976-217c-4fa6-aaec-6a3bc3aa3038",
   "metadata": {},
   "source": [
    "### 2. For Loops with Two Variables: index and item\n",
    "In Python, you can use a `for` loop to iterate over objects that return **multiple values at each iteration**, such as the `enumerate()` function, where you can iterate over both the index and the item of a sequence using the enumerate() function. \n",
    "This is because Python supports **tuple unpacking** in loops.\n",
    "This is useful when you need to keep track of the position of each item while processing the items themselves.\n",
    "\n",
    "#### What is enumerate()?\n",
    "The enumerate() function takes an iterable (e.g., a list, string, or tuple) and returns an enumerate object, which contains tuples. Each tuple consists of:\n",
    "\n",
    "* The index of the current element.\n",
    "* The value (or item) from the iterable.\n",
    "\n",
    "\n",
    "When using the `enumerate()` function, it returns a sequence of tuples:\n",
    "- The first value in each tuple is the **index**.\n",
    "- The second value in each tuple is the corresponding **item** from the iterable.\n",
    "\n",
    "By defining **two variables** in the `for` loop, you unpack each tuple into its components directly. This makes the code cleaner and easier to read.\n",
    "\n",
    "---\n",
    "\n"
   ]
  },
  {
   "cell_type": "code",
   "execution_count": 166,
   "id": "526bec4b-9a62-4262-93e6-edcfcd7efd1b",
   "metadata": {},
   "outputs": [
    {
     "name": "stdout",
     "output_type": "stream",
     "text": [
      "Index: 0, Item: apple\n",
      "Index: 1, Item: banana\n",
      "Index: 2, Item: cherry\n"
     ]
    }
   ],
   "source": [
    "seq = ['apple', 'banana', 'cherry']\n",
    "\n",
    "for index, item in enumerate(seq):\n",
    "    print(f\"Index: {index}, Item: {item}\")"
   ]
  },
  {
   "cell_type": "markdown",
   "id": "0ddfae1e-cf3b-4bbb-b0f1-3b28ac12e0e0",
   "metadata": {},
   "source": [
    "1. The `enumerate()` function converts the **list** into an **enumerate object**, like this:\n",
    "```python\n",
    "[(0, 'apple'), (1, 'banana'), (2, 'cherry')]\n",
    "```\n",
    "2. The `for` loop iterates through these tuples.\n",
    "3. At each iteration:\n",
    "    * The first variable (e.g., `index`) gets the index value (e.g., `0`, `1`, `2`).\n",
    "    * The second variable (e.g., `item`) gets the corresponding item from the sequence (e.g., `'apple'`, `'banana'`, `'cherry'`)."
   ]
  },
  {
   "cell_type": "code",
   "execution_count": 145,
   "id": "25cc0913-1fe8-4367-8b9e-b486fd2da016",
   "metadata": {},
   "outputs": [],
   "source": [
    "seq=[3,4,7,8,6]"
   ]
  },
  {
   "cell_type": "code",
   "execution_count": 173,
   "id": "6904adce-8356-498c-a98f-657b15c634be",
   "metadata": {},
   "outputs": [
    {
     "name": "stdout",
     "output_type": "stream",
     "text": [
      "Index 1: value apple\n",
      "Index 2: value banana\n",
      "Index 3: value cherry\n"
     ]
    }
   ],
   "source": [
    "for index,item in enumerate(seq,start=1):\n",
    "    print(f\"Index {index}: value {item}\")"
   ]
  },
  {
   "cell_type": "markdown",
   "id": "de9b5ae0-e905-472d-aa05-a4cb0855ae06",
   "metadata": {},
   "source": [
    "### Some more examples\n",
    "\n",
    "This structure is useful when:\n",
    "\n",
    "**1. You need to keep track of an index while looping through items.**"
   ]
  },
  {
   "cell_type": "code",
   "execution_count": 177,
   "id": "3a54f5cc-7943-4b98-9c7c-0f92f97f13bf",
   "metadata": {},
   "outputs": [
    {
     "name": "stdout",
     "output_type": "stream",
     "text": [
      "Task 1: email\n",
      "Task 2: meeting\n",
      "Task 3: coding\n"
     ]
    }
   ],
   "source": [
    "tasks = ['email', 'meeting', 'coding']\n",
    "for idx, task in enumerate(tasks, start=1):  # Start index at 1\n",
    "    print(f\"Task {idx}: {task}\")"
   ]
  },
  {
   "cell_type": "markdown",
   "id": "62cb5400-45cf-45f9-85c3-ad05fb8b2bcb",
   "metadata": {},
   "source": [
    "**2. You need to modify items by their index.**"
   ]
  },
  {
   "cell_type": "code",
   "execution_count": 179,
   "id": "293be2f6-2f26-4840-ac18-3e0fc67d5208",
   "metadata": {},
   "outputs": [
    {
     "name": "stdout",
     "output_type": "stream",
     "text": [
      "[20, 40, 60]\n"
     ]
    }
   ],
   "source": [
    "nums = [10, 20, 30]\n",
    "for i, num in enumerate(nums):\n",
    "    nums[i] = num * 2  # Double the value\n",
    "print(nums)"
   ]
  },
  {
   "cell_type": "markdown",
   "id": "51787039-f3b7-4de8-b960-bede82c70180",
   "metadata": {},
   "source": [
    "### Additional Examples of Two-Variable Loops\n",
    "#### Iterating over dictionaries:"
   ]
  },
  {
   "cell_type": "code",
   "execution_count": 190,
   "id": "847e00b0-5487-459f-9b4b-79e520579241",
   "metadata": {},
   "outputs": [],
   "source": [
    "d={'key1':'Sam','key2':1111,'key3':'UK'}"
   ]
  },
  {
   "cell_type": "code",
   "execution_count": 193,
   "id": "d165bde5-8e69-48cc-be68-23c06c5818a1",
   "metadata": {},
   "outputs": [
    {
     "name": "stdout",
     "output_type": "stream",
     "text": [
      "index is key1 and item is Sam \n",
      "index is key2 and item is 1111 \n",
      "index is key3 and item is UK \n"
     ]
    }
   ],
   "source": [
    "for key,value in d.items():\n",
    "    print(f\"index is {key} and item is {value} \")"
   ]
  },
  {
   "cell_type": "markdown",
   "id": "63fb9530-ade3-463c-bb7e-1f0de0d756e3",
   "metadata": {},
   "source": [
    "### 3. Looping Through a String"
   ]
  },
  {
   "cell_type": "code",
   "execution_count": 149,
   "id": "c7767e02-23da-4d13-a3e0-0d3c99f98565",
   "metadata": {},
   "outputs": [
    {
     "name": "stdout",
     "output_type": "stream",
     "text": [
      "P\n",
      "y\n",
      "t\n",
      "h\n",
      "o\n",
      "n\n"
     ]
    }
   ],
   "source": [
    "word = \"Python\"\n",
    "for char in word:\n",
    "    print(char)"
   ]
  },
  {
   "cell_type": "markdown",
   "id": "87c79873-3610-483c-950d-7a5a0d1e22c4",
   "metadata": {},
   "source": [
    "### 4. Using range() in a For Loop\n",
    "The range() function generates a sequence of numbers:\n",
    "```python\n",
    "range(start, stop, step)\n",
    "```\n",
    "- `start`: The starting value (default is 0).\n",
    "- `stop`: The endpoint (not inclusive).\n",
    "- `step`: The difference between each number (default is 1)."
   ]
  },
  {
   "cell_type": "code",
   "execution_count": 156,
   "id": "e308d42a-0fde-4628-8c9a-a209b9a0e135",
   "metadata": {},
   "outputs": [
    {
     "name": "stdout",
     "output_type": "stream",
     "text": [
      "1\n",
      "2\n",
      "3\n"
     ]
    }
   ],
   "source": [
    "for i in range(1,4):\n",
    "    print(i)"
   ]
  },
  {
   "cell_type": "markdown",
   "id": "6ab522fd-5f1c-4aeb-9bcc-c0b1b008ea47",
   "metadata": {},
   "source": [
    "### 5. Nested For Loops\n",
    "You can nest `for` loops inside each other to work with multiple levels of iteration."
   ]
  },
  {
   "cell_type": "code",
   "execution_count": 159,
   "id": "df687892-c8bd-43c9-8479-fe89bbb30977",
   "metadata": {},
   "outputs": [
    {
     "name": "stdout",
     "output_type": "stream",
     "text": [
      "i = 1, j = 1\n",
      "i = 1, j = 2\n",
      "i = 1, j = 3\n",
      "i = 2, j = 1\n",
      "i = 2, j = 2\n",
      "i = 2, j = 3\n",
      "i = 3, j = 1\n",
      "i = 3, j = 2\n",
      "i = 3, j = 3\n"
     ]
    }
   ],
   "source": [
    "for i in range(1, 4):\n",
    "    for j in range(1, 4):\n",
    "        print(f\"i = {i}, j = {j}\")"
   ]
  },
  {
   "cell_type": "markdown",
   "id": "2d099c0b-c49d-4738-8267-191eb16a624d",
   "metadata": {},
   "source": [
    "### 6. Advanced Applications: Combining Lists with zip()\n",
    "When working with multiple lists, you can use zip() to iterate over their elements in parallel, or simply to iterate over multiple iterables:"
   ]
  },
  {
   "cell_type": "code",
   "execution_count": 201,
   "id": "2b70e650-10e0-493e-9a37-2867a7a432d8",
   "metadata": {},
   "outputs": [
    {
     "name": "stdout",
     "output_type": "stream",
     "text": [
      "Alice is 25 years old.\n",
      "Bob is 30 years old.\n",
      "Charlie is 35 years old.\n"
     ]
    }
   ],
   "source": [
    "names = ['Alice', 'Bob', 'Charlie']\n",
    "ages = [25, 30, 35]\n",
    "\n",
    "for name, age in zip(names, ages):\n",
    "    print(f\"{name} is {age} years old.\")"
   ]
  },
  {
   "cell_type": "markdown",
   "id": "ac7cfa74-1928-415c-a43d-8ff99a21453f",
   "metadata": {},
   "source": [
    "### Key Benefits of Using Two Variables in Loops:\n",
    "* Cleaner and more Pythonic code.\n",
    "* Direct access to both the index and the value without manually tracking them.\n",
    "* Works seamlessly with data structures like lists, dictionaries, and tuples."
   ]
  },
  {
   "cell_type": "code",
   "execution_count": null,
   "id": "debcbd64-a20c-40d2-91e6-3d35c4f16104",
   "metadata": {},
   "outputs": [],
   "source": [
    "## While Loop"
   ]
  },
  {
   "cell_type": "markdown",
   "id": "ba4f20b3-4cd8-4f59-8601-5fb6e0f22bd1",
   "metadata": {},
   "source": [
    "## `while` Loops in Python\n",
    "\n",
    "A `while` loop in Python allows you to execute a block of code repeatedly **as long as a condition is true**. This is particularly useful when the number of iterations is not known beforehand.\n",
    "\n",
    "### Syntax of a `while` Loop\n",
    "```python\n",
    "while condition:\n",
    "    # Code to execute\n",
    "```\n",
    "- **`condition`**: The loop continues to run as long as this evaluates to `True`.\n",
    "- To avoid an **infinite loop**, ensure the condition will eventually become `False`.\n",
    "\n",
    "---\n",
    "\n",
    "\n",
    "\n",
    "---\n",
    "\n",
    "---\n",
    "\n",
    "### Key Points to Remember:\n",
    "1. **Infinite Loops**: Be cautious of loops where the condition never becomes `False`. These can freeze your program.\n",
    "2. **Control Statements**: Use `break` to exit a loop and `continue` to skip to the next iteration.\n",
    "3. **Condition-Driven**: `while` loops are best suited for scenarios where the termination condition depends on dynamic changes during the loop.\n",
    "\n",
    "--- \n",
    "\n",
    "Experiment with these examples to master the `while` loop in Python!"
   ]
  },
  {
   "cell_type": "markdown",
   "id": "ee371ef1-5b49-40f2-8f79-0e4c348b6cbf",
   "metadata": {},
   "source": [
    "### 1: Counting with a while Loop"
   ]
  },
  {
   "cell_type": "code",
   "execution_count": 5,
   "id": "fbaa3d05-ba23-4890-9194-344f4702c53c",
   "metadata": {},
   "outputs": [
    {
     "name": "stdout",
     "output_type": "stream",
     "text": [
      "1\n",
      "2\n",
      "3\n",
      "4\n"
     ]
    }
   ],
   "source": [
    "count = 0\n",
    "\n",
    "while count < 5:\n",
    "    print(f\"Count: {count}\")\n",
    "    count += 1  # Increment count to avoid an infinite loop\n",
    "    "
   ]
  },
  {
   "cell_type": "markdown",
   "id": "6b8ac643-10c7-46ad-8895-baaa905d47b8",
   "metadata": {},
   "source": [
    "#### Explanation:\n",
    "1. The loop starts with `count = 0`.\n",
    "2. The condition `count < 5` is checked before each iteration.\n",
    "3. Inside the loop, `count` is printed and incremented by 1.\n",
    "4. When `count` reaches 5, the condition becomes `False`, and the loop stops."
   ]
  },
  {
   "cell_type": "markdown",
   "id": "09ec2e14-8b19-4bbf-a203-fbc0ded49885",
   "metadata": {},
   "source": [
    "### 2. Using a `while` Loop with User Input"
   ]
  },
  {
   "cell_type": "code",
   "execution_count": 9,
   "id": "c3af2c00-f7c2-48f5-9367-a279c7b55b30",
   "metadata": {},
   "outputs": [
    {
     "name": "stdin",
     "output_type": "stream",
     "text": [
      "Enter the password:  open123\n"
     ]
    },
    {
     "name": "stdout",
     "output_type": "stream",
     "text": [
      "Access granted!\n"
     ]
    }
   ],
   "source": [
    "password = \"\"\n",
    "\n",
    "while password != \"open123\":\n",
    "    password = input(\"Enter the password: \")\n",
    "    if password == \"open123\":\n",
    "        print(\"Access granted!\")\n",
    "    else:\n",
    "        print(\"Wrong password. Try again.\")"
   ]
  },
  {
   "cell_type": "markdown",
   "id": "9369dbf4-55d6-48b6-bb82-5f137bd140b9",
   "metadata": {},
   "source": [
    "### 3. Breaking Out of a `while` Loop\n",
    "You can use the `break` statement to exit a loop early."
   ]
  },
  {
   "cell_type": "code",
   "execution_count": 15,
   "id": "5f3ca42d-1396-45f6-a5c7-2a11318eb502",
   "metadata": {},
   "outputs": [
    {
     "name": "stdout",
     "output_type": "stream",
     "text": [
      "Current number: 0\n",
      "Current number: 1\n",
      "Current number: 2\n",
      "Current number: 3\n",
      "Current number: 4\n",
      "Breaking out of the loop!\n"
     ]
    }
   ],
   "source": [
    "num = 0\n",
    "\n",
    "while True:  # Infinite loop\n",
    "    print(f\"Current number: {num}\")\n",
    "    num += 1\n",
    "    if num == 5:  # Exit the loop when num reaches 5\n",
    "        print(\"Breaking out of the loop!\")\n",
    "        break"
   ]
  },
  {
   "cell_type": "markdown",
   "id": "31d048c3-081c-4e7c-8527-11e157c0de63",
   "metadata": {},
   "source": [
    "### Example 4: Skipping Iterations with `continue`\n",
    "You can use the `continue` statement to skip the rest of the loop's body and proceed to the next iteration.\n"
   ]
  },
  {
   "cell_type": "code",
   "execution_count": 19,
   "id": "20b12ce6-3320-4372-bbff-a1dc5ea6d34a",
   "metadata": {},
   "outputs": [
    {
     "name": "stdout",
     "output_type": "stream",
     "text": [
      "Odd number: 1\n",
      "Odd number: 3\n",
      "Odd number: 5\n",
      "Odd number: 7\n",
      "Odd number: 9\n"
     ]
    }
   ],
   "source": [
    "num = 0\n",
    "\n",
    "while num < 10:\n",
    "    num += 1\n",
    "    if num % 2 == 0:  # Skip even numbers\n",
    "        continue\n",
    "    print(f\"Odd number: {num}\")"
   ]
  },
  {
   "cell_type": "markdown",
   "id": "e8e513a4-9960-4afd-817a-8a972e17d402",
   "metadata": {},
   "source": [
    "## Common Python Built-in Functions\n",
    "\n",
    "Python provides a variety of built-in functions to perform common tasks. \n",
    "These built-in functions are extremely helpful in day-to-day programming. Experiment with them to understand their usage better!\n",
    "\n",
    "Here are a few essential ones that are frequently used:\n",
    "\n",
    "---\n",
    "\n",
    "### 1. **`range()`**\n",
    "\n",
    "The `range()` function is used to generate a sequence of numbers. It is commonly used in loops to iterate over a specific range of numbers.\n",
    "#### Syntax:\n",
    "```python\n",
    "range(start, stop, step)\n",
    "```\n",
    "\n",
    "- `start` (optional): The starting number (default is `0`).\n",
    "- `stop`: The number to stop at (exclusive).\n",
    "- `step` (optional): The step size (default is `1`)."
   ]
  },
  {
   "cell_type": "code",
   "execution_count": 44,
   "id": "e9fec891-3e05-4ad8-967b-b7ac7ec1a886",
   "metadata": {},
   "outputs": [
    {
     "name": "stdout",
     "output_type": "stream",
     "text": [
      "0\n",
      "1\n",
      "2\n"
     ]
    }
   ],
   "source": [
    "for i in range(0,3):\n",
    "    print(i)"
   ]
  },
  {
   "cell_type": "code",
   "execution_count": 46,
   "id": "74f366f7-26ba-432d-968e-c16097af9738",
   "metadata": {},
   "outputs": [
    {
     "data": {
      "text/plain": [
       "[0, 1, 2]"
      ]
     },
     "execution_count": 46,
     "metadata": {},
     "output_type": "execute_result"
    }
   ],
   "source": [
    "# Generating a list, passing range into list function\n",
    "list(range(0,3))"
   ]
  },
  {
   "cell_type": "code",
   "execution_count": 54,
   "id": "abfd1d42-df0f-4f06-a44f-9e1d4d88f739",
   "metadata": {},
   "outputs": [],
   "source": [
    "# A quick way of executing a certain number of times\n",
    "# By default starting number is 0\n",
    "my_list=list(range(10))"
   ]
  },
  {
   "cell_type": "code",
   "execution_count": 56,
   "id": "95f4ad3b-5dfb-47c2-8e93-d259b69eeaad",
   "metadata": {},
   "outputs": [
    {
     "data": {
      "text/plain": [
       "[0, 1, 2, 3, 4, 5, 6, 7, 8, 9]"
      ]
     },
     "execution_count": 56,
     "metadata": {},
     "output_type": "execute_result"
    }
   ],
   "source": [
    "my_list"
   ]
  },
  {
   "cell_type": "code",
   "execution_count": 58,
   "id": "ff922453-f6c2-4266-addb-0eb4c4f4ba65",
   "metadata": {},
   "outputs": [
    {
     "name": "stdout",
     "output_type": "stream",
     "text": [
      "7\n",
      "8\n"
     ]
    }
   ],
   "source": [
    "seq=[6,7,8,9,10]\n",
    "for i in range(1,3):\n",
    "    print(seq[i])"
   ]
  },
  {
   "cell_type": "code",
   "execution_count": 60,
   "id": "1d243877-f020-40e9-ab54-70da9e3d6c15",
   "metadata": {},
   "outputs": [
    {
     "name": "stdout",
     "output_type": "stream",
     "text": [
      "1\n",
      "3\n",
      "5\n",
      "7\n",
      "9\n"
     ]
    }
   ],
   "source": [
    "# printing odd number in range(1,10)\n",
    "for i in range(1, 10, 2):\n",
    "    print(i)"
   ]
  },
  {
   "cell_type": "markdown",
   "id": "b32274e3-8dae-4486-97f7-07f2768fd035",
   "metadata": {},
   "source": [
    "### 2. **`len()`**\n",
    "\n",
    "The `len()` function returns the number of items in an object (e.g., a string, list, or tuple).\n",
    "\n"
   ]
  },
  {
   "cell_type": "code",
   "execution_count": 63,
   "id": "a511f012-c335-4bb4-aaab-cd2eeafeed09",
   "metadata": {},
   "outputs": [
    {
     "name": "stdout",
     "output_type": "stream",
     "text": [
      "4\n"
     ]
    }
   ],
   "source": [
    "my_list = [10, 20, 30, 40]\n",
    "print(len(my_list))"
   ]
  },
  {
   "cell_type": "markdown",
   "id": "8fd6dbdd-e249-4539-b61b-61269002a3c9",
   "metadata": {},
   "source": [
    "### 3. **`type()`**\n",
    "\n",
    "The `type()` function returns the type of the object."
   ]
  },
  {
   "cell_type": "code",
   "execution_count": 66,
   "id": "e75729f5-e9e8-4a04-a37f-c79f3f14acae",
   "metadata": {},
   "outputs": [
    {
     "name": "stdout",
     "output_type": "stream",
     "text": [
      "<class 'int'>\n"
     ]
    }
   ],
   "source": [
    "x = 42\n",
    "print(type(x))  # Output: <class 'int'>"
   ]
  },
  {
   "cell_type": "markdown",
   "id": "cfc54150-4baa-4b52-bcea-f5cf2101498e",
   "metadata": {},
   "source": [
    "### 4. **`max()` and `min()`**\n",
    "\n",
    "- **`max()`**: Returns the largest item in an iterable or the largest of two or more arguments.\n",
    "- **`min()`**: Returns the smallest item in an iterable or the smallest of two or more arguments.\n"
   ]
  },
  {
   "cell_type": "code",
   "execution_count": 69,
   "id": "92c229f7-3a2c-4d8a-aa1d-d4abdd2c231b",
   "metadata": {},
   "outputs": [
    {
     "name": "stdout",
     "output_type": "stream",
     "text": [
      "15\n",
      "3\n"
     ]
    }
   ],
   "source": [
    "numbers = [5, 12, 7, 3, 15]\n",
    "print(max(numbers))\n",
    "print(min(numbers))"
   ]
  },
  {
   "cell_type": "markdown",
   "id": "d84030e5-0d46-4a15-b683-bbd6f9295cad",
   "metadata": {},
   "source": [
    "### 5. **`sum()`**\n",
    "\n",
    "The `sum()` function adds all the items in an iterable.\n"
   ]
  },
  {
   "cell_type": "code",
   "execution_count": 72,
   "id": "2ea37cea-e042-4b4d-bbfb-86a916402519",
   "metadata": {},
   "outputs": [
    {
     "name": "stdout",
     "output_type": "stream",
     "text": [
      "15\n"
     ]
    }
   ],
   "source": [
    "nums = [1, 2, 3, 4, 5]\n",
    "print(sum(nums))"
   ]
  },
  {
   "cell_type": "markdown",
   "id": "f63a4ed4-99ad-4dc4-a164-38acab83488e",
   "metadata": {},
   "source": [
    "### 6. **`abs()`**\n",
    "\n",
    "The `abs()` function returns the absolute value of a number (i.e., the non-negative value)."
   ]
  },
  {
   "cell_type": "code",
   "execution_count": 75,
   "id": "53ff574e-2f31-42ec-a93d-306502dd26d6",
   "metadata": {},
   "outputs": [
    {
     "name": "stdout",
     "output_type": "stream",
     "text": [
      "10\n"
     ]
    }
   ],
   "source": [
    "print(abs(-10))  "
   ]
  },
  {
   "cell_type": "markdown",
   "id": "a96ab068-0efb-43b8-a7f0-4046c562fb75",
   "metadata": {},
   "source": [
    "### 7. **`sorted()`**\n",
    "\n",
    "The `sorted()` function returns a sorted list from the given iterable."
   ]
  },
  {
   "cell_type": "code",
   "execution_count": 78,
   "id": "482fbf76-ead3-47c4-b258-f2c0b4deb647",
   "metadata": {},
   "outputs": [
    {
     "name": "stdout",
     "output_type": "stream",
     "text": [
      "[1, 3, 5, 8]\n"
     ]
    }
   ],
   "source": [
    "unsorted_list = [5, 3, 8, 1]\n",
    "print(sorted(unsorted_list))"
   ]
  },
  {
   "cell_type": "markdown",
   "id": "5c5cb745-03ba-401e-a4d7-5945e32921ad",
   "metadata": {},
   "source": [
    "### 8. **`round()`**\n",
    "\n",
    "The `round()` function rounds a number to the nearest integer or to the specified number of decimal places."
   ]
  },
  {
   "cell_type": "code",
   "execution_count": 81,
   "id": "1643bac9-051f-4605-84fb-a04c4835b3f9",
   "metadata": {},
   "outputs": [
    {
     "name": "stdout",
     "output_type": "stream",
     "text": [
      "3.14\n"
     ]
    }
   ],
   "source": [
    "print(round(3.14159, 2))"
   ]
  },
  {
   "cell_type": "markdown",
   "id": "349b8d9c-b920-497f-a644-62852917746d",
   "metadata": {},
   "source": [
    "### 9. **`enumerate()`**\n",
    "\n",
    "The `enumerate()` function adds an index to an iterable and returns it as an enumerate object."
   ]
  },
  {
   "cell_type": "code",
   "execution_count": 86,
   "id": "849d2dfb-bf95-48d1-8061-9a5bac7b463c",
   "metadata": {},
   "outputs": [
    {
     "name": "stdout",
     "output_type": "stream",
     "text": [
      "1: apple\n",
      "2: banana\n",
      "3: cherry\n"
     ]
    }
   ],
   "source": [
    "fruits = ['apple', 'banana', 'cherry']\n",
    "for index, fruit in enumerate(fruits):\n",
    "    print(f\"{index+1}: {fruit}\")"
   ]
  },
  {
   "cell_type": "markdown",
   "id": "908c2fe1-491e-45d3-9407-7520cdc9a45d",
   "metadata": {},
   "source": [
    "### 10. **`zip()`**\n",
    "\n",
    "The `zip()` function combines two or more iterables into tuples."
   ]
  },
  {
   "cell_type": "code",
   "execution_count": 89,
   "id": "7ab8b524-e9bc-40a2-a393-17925e55e8a3",
   "metadata": {},
   "outputs": [
    {
     "name": "stdout",
     "output_type": "stream",
     "text": [
      "Alice: 85\n",
      "Bob: 90\n",
      "Charlie: 95\n"
     ]
    }
   ],
   "source": [
    "names = ['Alice', 'Bob', 'Charlie']\n",
    "scores = [85, 90, 95]\n",
    "for name, score in zip(names, scores):\n",
    "    print(f\"{name}: {score}\")"
   ]
  },
  {
   "cell_type": "markdown",
   "id": "02eaa74f-899f-468e-b968-7e8975145bef",
   "metadata": {},
   "source": [
    "## List Comprehension \n",
    "\n",
    "List comprehension is a powerful and concise way to create lists in Python. It saves you from writing lengthy `for` loops by condensing the process into a single, readable line of code. \n",
    "\n",
    "### Why Use List Comprehension?\n",
    "\n",
    "- **Saves time**: Reduces the amount of code you need to write.\n",
    "- **Improves readability**: Clear and concise for simple transformations or filters.\n",
    "- **Elegant syntax**: Perfect for scenarios where a list needs to be created from an iterable.\n",
    "\n",
    "### Features of List Comprehension\n",
    "- **Compact Syntax**\n",
    "- **Improved Readability**\n",
    "- **Filtering with Conditions**\n",
    "- **Conditional Expressions (`if-else`)**\n",
    "- **Combining Multiple Loops**\n",
    "\n",
    "---\n",
    "\n",
    "### Syntax of List Comprehension\n",
    "\n",
    "The general structure of a list comprehension is:\n",
    "\n",
    "```python\n",
    "[expression for item in iterable if condition]\n",
    "```\n",
    "\n",
    "- **expression**: Operation or transformation applied to each item.\n",
    "- **item**: Represents the element from the iterable.\n",
    "- **iterable**: The source you are iterating over (e.g., list, range, string).\n",
    "- **if condition** *(optional)*: A filter to include only certain elements.\n",
    "\n",
    "---\n",
    "\n",
    "\n",
    "List comprehension is a quick, clean, and Pythonic way to handle list creation. It not only saves you from writing redundant lines of code but also keeps your logic clean and elegant!\n",
    "\n",
    "---\n",
    "Benefits of List Comprehensions\n",
    "Conciseness: Reduces multiple lines of code into one.\n",
    "Readability: More intuitive for simple transformations and filters.\n",
    "Performance: Generally faster than traditional loops."
   ]
  },
  {
   "cell_type": "markdown",
   "id": "23df1e7e-48ff-4709-ba59-647d57253268",
   "metadata": {},
   "source": [
    "### Without List Comprehension\n",
    "\n",
    "Consider this traditional way to create a list of squares:"
   ]
  },
  {
   "cell_type": "code",
   "execution_count": 100,
   "id": "eeaaf42b-2912-4796-b76a-227d447a3533",
   "metadata": {},
   "outputs": [
    {
     "name": "stdout",
     "output_type": "stream",
     "text": [
      "[0, 1, 4, 9, 16, 25, 36, 49, 64, 81]\n"
     ]
    }
   ],
   "source": [
    "squares = []\n",
    "for x in range(10):\n",
    "    squares.append(x**2)\n",
    "\n",
    "print(squares)"
   ]
  },
  {
   "cell_type": "markdown",
   "id": "7ce035ae-4d19-4daf-891c-bba0aa4353b7",
   "metadata": {},
   "source": [
    "### With List Comprehension\n",
    "\n",
    "The same result can be achieved more concisely using list comprehension, which is like writing a for loop but in reverse.  \n",
    "1. Start by placing everything **before the colon** in the `for` loop inside square brackets.  \n",
    "2. Then, take the operation you'd typically append (e.g., `x**2`) and put it **before the `for` loop** inside the brackets.  \n",
    "\n",
    "This way, the entire operation is condensed into a single line, making the code cleaner. For example, you can think of it as saying:  \n",
    "*\"Give me the square of each number (`x**2`) for every number (`num`) in `x`.\"*\n",
    "\n",
    "#### Using Conditions in List Comprehensions\n",
    "**Single if (Filtering):**\n",
    "A single if statement filters the items that meet a condition.\n",
    "The condition is placed after the loop:\n",
    "\n",
    "\n",
    "**if-else (Transformation):**\n",
    "An if-else condition transforms the items by deciding what to include for every element in the loop.\n",
    "The conditional expression (if-else) is placed before the loop:\n",
    "\n",
    "---\n",
    "\n",
    "#### Key Differences:\n",
    "* Single if filters the list, only including elements that pass the condition.\n",
    "* if-else creates a value for every item in the iteration, regardless of the condition.\n"
   ]
  },
  {
   "cell_type": "code",
   "execution_count": 110,
   "id": "4afb8ffc-ad33-4c77-b80f-220227954533",
   "metadata": {},
   "outputs": [
    {
     "name": "stdout",
     "output_type": "stream",
     "text": [
      "[0, 1, 4, 9, 16, 25, 36, 49, 64, 81]\n"
     ]
    }
   ],
   "source": [
    "squares = [x**2 for x in range(10)]\n",
    "print(squares)"
   ]
  },
  {
   "cell_type": "code",
   "execution_count": 114,
   "id": "0be6ae97-78b2-4afd-b2af-afb87cc5d5cf",
   "metadata": {},
   "outputs": [],
   "source": [
    "my_list = [1,2,3,4,5,6,7,8,9]"
   ]
  },
  {
   "cell_type": "code",
   "execution_count": 120,
   "id": "f4d853d5-9deb-4fd7-bcd3-e4b7f7a9f03f",
   "metadata": {},
   "outputs": [
    {
     "name": "stdout",
     "output_type": "stream",
     "text": [
      "[1, 4, 9, 16, 25, 36, 49, 64, 81]\n"
     ]
    }
   ],
   "source": [
    "squares= [i**2 for i in my_list]\n",
    "print(squares)"
   ]
  },
  {
   "cell_type": "markdown",
   "id": "344785c6-37bf-4790-86c7-1375a4b20f5a",
   "metadata": {},
   "source": [
    "### Key Features\n",
    "\n",
    "#### 1. **Condensed Loop**: One line to define the operation, loop, and condition.\n",
    "#### 2. **Optional Condition**: Add an `if` to filter elements during creation:\n",
    "When you only have an if statement, it acts as a filter. Only items that satisfy the condition are included in the final list. The syntax places the if condition after the loop:"
   ]
  },
  {
   "cell_type": "code",
   "execution_count": 107,
   "id": "79c37ae4-2656-42f6-81f8-e872c1acb8e5",
   "metadata": {},
   "outputs": [
    {
     "name": "stdout",
     "output_type": "stream",
     "text": [
      "[0, 2, 4, 6, 8]\n"
     ]
    }
   ],
   "source": [
    "evens = [x for x in range(10) if x % 2 == 0]\n",
    "print(evens)"
   ]
  },
  {
   "cell_type": "markdown",
   "id": "a64fab3a-6aef-401f-ab9d-7d533b21ecf0",
   "metadata": {},
   "source": [
    "#### 3. **Supports Nested Loops**:\n",
    "List comprehensions can include nested loops to work with multiple iterables.\n"
   ]
  },
  {
   "cell_type": "code",
   "execution_count": 124,
   "id": "38203e90-76da-4822-aa78-ab044622df6c",
   "metadata": {},
   "outputs": [
    {
     "name": "stdout",
     "output_type": "stream",
     "text": [
      "[(1, 3), (1, 4), (2, 3), (2, 4)]\n"
     ]
    }
   ],
   "source": [
    "pairs = [(x, y) for x in range(1, 3) for y in range(3, 5)]\n",
    "print(pairs) "
   ]
  },
  {
   "cell_type": "markdown",
   "id": "414bb7b5-6eb2-4a49-90ea-8655651a88f2",
   "metadata": {},
   "source": [
    "#### 4. Transforming a List\n",
    "List comprehensions are also useful for transforming data."
   ]
  },
  {
   "cell_type": "code",
   "execution_count": 127,
   "id": "ef8b7d72-384b-42b8-8157-88d9b0386e39",
   "metadata": {},
   "outputs": [
    {
     "name": "stdout",
     "output_type": "stream",
     "text": [
      "['HELLO', 'WORLD', 'PYTHON']\n"
     ]
    }
   ],
   "source": [
    "# Convert a list of words to uppercase\n",
    "words = ['hello', 'world', 'python']\n",
    "uppercase_words = [word.upper() for word in words]\n",
    "print(uppercase_words)"
   ]
  },
  {
   "cell_type": "markdown",
   "id": "ed27aa74-d73e-4072-a31f-3736fa0214e4",
   "metadata": {},
   "source": [
    "#### 5. Using if-else in the Expression\n",
    "You can use a conditional expression inside the comprehension to assign values based on a condition.\n",
    "When you have an if-else statement, you're transforming each element in the list, not just filtering it. This requires evaluating every item in the loop and deciding between two outcomes (one for if and one for else). In this case, the if-else expression must go before the loop, as it produces a value for each item."
   ]
  },
  {
   "cell_type": "code",
   "execution_count": 130,
   "id": "57049fc0-ff8d-49e4-82a2-213ec8b3c6a4",
   "metadata": {},
   "outputs": [
    {
     "name": "stdout",
     "output_type": "stream",
     "text": [
      "['Even', 'Odd', 'Even', 'Odd', 'Even']\n"
     ]
    }
   ],
   "source": [
    "# Label numbers as \"Even\" or \"Odd\"\n",
    "labels = ['Even' if x % 2 == 0 else 'Odd' for x in range(5)]\n",
    "print(labels)"
   ]
  },
  {
   "cell_type": "markdown",
   "id": "d6120530-2d55-47d7-a0e6-823e4ba1f5c5",
   "metadata": {},
   "source": [
    "### Why the difference?\n",
    "The key distinction is:\n",
    "\n",
    "- `if` alone: Acts as a filter and determines which elements are included in the list.\n",
    "- `if-else`: Acts as a transformation, producing a value for every element in the loop.\n",
    "---\n",
    "The syntax reflects their roles:\n",
    "* Filters (if alone) apply after the loop.\n",
    "* Transformations (if-else) must be defined before the loop, as they decide what value to include for each element."
   ]
  },
  {
   "cell_type": "markdown",
   "id": "81e9d6b1-ee5b-4e62-9f34-4a2e1b455ee2",
   "metadata": {},
   "source": [
    "### Practice Challenge:\n",
    "1. Create a list of all numbers divisible by 3 from 1 to 20.\n",
    "2. Generate a list of tuples where each tuple contains a number and its square for numbers from 1 to 5.\n"
   ]
  },
  {
   "cell_type": "code",
   "execution_count": 155,
   "id": "c115301e-0bff-4c6f-86a1-33e7c9f65c26",
   "metadata": {},
   "outputs": [
    {
     "name": "stdout",
     "output_type": "stream",
     "text": [
      "[3, 6, 9, 12, 15, 18]\n"
     ]
    }
   ],
   "source": [
    "# \n",
    "divisible_by_3=[i for i in range(1,21) if i%3==0 ]\n",
    "print(divisible_by_3)"
   ]
  },
  {
   "cell_type": "code",
   "execution_count": 161,
   "id": "d57a20f2-3831-46f9-893e-ebdf9273be35",
   "metadata": {},
   "outputs": [
    {
     "name": "stdout",
     "output_type": "stream",
     "text": [
      "[(1, 1), (2, 4), (3, 9), (4, 16), (5, 25)]\n"
     ]
    }
   ],
   "source": [
    "square_tuple=[(i,i**2) for i in range(1,6)]\n",
    "print(square_tuple)"
   ]
  },
  {
   "cell_type": "markdown",
   "id": "c7fa305d-4a3d-4ca8-9f68-d99f1c2376e1",
   "metadata": {},
   "source": [
    "## Functions\n",
    "\n",
    "Functions are reusable blocks of code that perform a specific task. They allow you to organize your code, reduce repetition, and make it easier to maintain and debug.\n",
    "\n",
    "### Why Use Functions?\n",
    "1. **Code Reusability**: Write code once, use it multiple times.\n",
    "2. **Modularity**: Break down large problems into smaller, manageable pieces.\n",
    "3. **Readability**: Improves the clarity of your program.\n",
    "\n",
    "Function-related topics in Python:\n",
    "\n",
    "- **Function Definition**\n",
    "- **Return Statement**\n",
    "- **No `return` Function**\n",
    "- **Parameters and Arguments**\n",
    "  - Positional Parameters\n",
    "  - Keyword Arguments\n",
    "- **`*args` (Variable Positional Arguments)**\n",
    "- **`**kwargs` (Variable Keyword Arguments)**\n",
    "- **Difference Between `return` and No `return`**\n",
    "- **Function Documentation**\n",
    "- **Calling a Function**\n",
    "- **Example with Multiple Functions**\n",
    "- **Summary of `*args` and `**kwargs`**\n",
    "- **Example of calling functions with `*args` and `**kwargs`**\n",
    "\n",
    "---\n",
    "\n",
    "### Defining a Function\n",
    "You define a function in Python using the `def` keyword, followed by the function name and parentheses. Here's the basic syntax:\n",
    "\n",
    "```python\n",
    "def function_name(parameters):\n",
    "    \"\"\"\n",
    "    Optional docstring explaining the function.\n",
    "    \"\"\"\n",
    "    # Code block\n",
    "    return result  # Optional\n",
    "```\n",
    "\n",
    "- **`function_name`**: The name you choose for the function.\n",
    "- **`parameters`**: Inputs to the function (optional). These are also called arguments.\n",
    "- **`return`**: Specifies the output of the function (optional).\n",
    "\n",
    "---"
   ]
  },
  {
   "cell_type": "markdown",
   "id": "6d1bc42c-e271-45ef-88ea-c447a5904b1c",
   "metadata": {},
   "source": [
    "### Adding Documentation Strings to Functions\n",
    "\n",
    "In Python, **documentation strings** (also known as **docstrings**) provide a way to describe what a function does. A docstring is a string placed at the beginning of a function to explain its purpose, parameters, and return values. This is helpful for anyone using or reading the code later, including yourself.\n",
    "\n",
    "Docstrings are written in between triple quotes `\"\"\"` or `'''` and are placed as the first statement in the function.\n",
    "\n",
    "Here’s how to add a docstring to a function:\n",
    "\n",
    "---\n",
    "\n",
    "### Example 1: Function with `return` and docstring\n",
    "\n"
   ]
  },
  {
   "cell_type": "code",
   "execution_count": 229,
   "id": "fce4e7d1-db81-4297-93b0-94800878d020",
   "metadata": {},
   "outputs": [],
   "source": [
    "def add(a, b):\n",
    "    \"\"\"\n",
    "    This function adds two numbers.\n",
    "\n",
    "    Parameters:\n",
    "    a (int, float): The first number to be added.\n",
    "    b (int, float): The second number to be added.\n",
    "\n",
    "    Returns:\n",
    "    int, float: The sum of a and b.\n",
    "    \"\"\"\n",
    "    return a + b"
   ]
  },
  {
   "cell_type": "markdown",
   "id": "143ce17f-fccf-41fd-92b0-b5c811c57060",
   "metadata": {},
   "source": [
    "#### Explanation:\n",
    "- The docstring provides a clear description of the function's purpose (adding two numbers).\n",
    "- It lists the parameters, their expected types, and what the function will return.\n",
    "  \n",
    "You can access this docstring using the `help()` function:"
   ]
  },
  {
   "cell_type": "code",
   "execution_count": 232,
   "id": "a7a20337-7e1a-484a-ada5-5ed5d9f1e084",
   "metadata": {},
   "outputs": [
    {
     "name": "stdout",
     "output_type": "stream",
     "text": [
      "Help on function add in module __main__:\n",
      "\n",
      "add(a, b)\n",
      "    This function adds two numbers.\n",
      "\n",
      "    Parameters:\n",
      "    a (int, float): The first number to be added.\n",
      "    b (int, float): The second number to be added.\n",
      "\n",
      "    Returns:\n",
      "    int, float: The sum of a and b.\n",
      "\n"
     ]
    }
   ],
   "source": [
    "help(add)"
   ]
  },
  {
   "cell_type": "markdown",
   "id": "5b6bae02-eb87-4fbc-934d-cc482c5f8696",
   "metadata": {},
   "source": [
    "### Example 2: Function without `return` and docstring"
   ]
  },
  {
   "cell_type": "code",
   "execution_count": 235,
   "id": "b9c1d9a3-198e-435f-af46-90a51d812fee",
   "metadata": {},
   "outputs": [],
   "source": [
    "def greet(name):\n",
    "    \"\"\"\n",
    "    This function prints a greeting message.\n",
    "\n",
    "    Parameters:\n",
    "    name (str): The name of the person to greet.\n",
    "\n",
    "    Returns:\n",
    "    None: This function does not return any value.\n",
    "    \"\"\"\n",
    "    print(f\"Hello, {name}!\")"
   ]
  },
  {
   "cell_type": "markdown",
   "id": "233e7efa-9755-4f39-a19e-5ca963f4bbc1",
   "metadata": {},
   "source": [
    "#### Explanation:\n",
    "- The docstring explains that the function simply prints a greeting message.\n",
    "- It clarifies that there is no return value (`None`)."
   ]
  },
  {
   "cell_type": "code",
   "execution_count": 238,
   "id": "2ca49590-8162-4dfc-88ca-0f0d9b5f358c",
   "metadata": {},
   "outputs": [
    {
     "name": "stdout",
     "output_type": "stream",
     "text": [
      "Help on function greet in module __main__:\n",
      "\n",
      "greet(name)\n",
      "    This function prints a greeting message.\n",
      "\n",
      "    Parameters:\n",
      "    name (str): The name of the person to greet.\n",
      "\n",
      "    Returns:\n",
      "    None: This function does not return any value.\n",
      "\n"
     ]
    }
   ],
   "source": [
    "# either using help function or Shift+Tab to see documentation\n",
    "help(greet)"
   ]
  },
  {
   "cell_type": "markdown",
   "id": "d909dea9-7768-4789-aed4-e79c0ec6c1ea",
   "metadata": {},
   "source": [
    "### Summary of Docstring Structure:\n",
    "1. **Function Purpose**: A short description of what the function does.\n",
    "2. **Parameters**: A list of parameters, their types, and what they represent.\n",
    "3. **Return**: Describes the return value and its type (if any).\n",
    "4. **Exceptions (Optional)**: You can include details about any exceptions the function might raise.\n",
    "\n",
    "---\n",
    "\n",
    "Including a docstring in your functions improves code readability, makes it easier to use, and aids in maintaining your code in the future."
   ]
  },
  {
   "cell_type": "code",
   "execution_count": 219,
   "id": "510fdba1-1962-4862-a0b2-377b508a1e69",
   "metadata": {},
   "outputs": [],
   "source": [
    "### A Simple Function\n",
    "def greet(name):\n",
    "    \"\"\"\n",
    "    A simple function that greets the user.\n",
    "    \"\"\"\n",
    "    return f\"Hello, {name}!\"\n"
   ]
  },
  {
   "cell_type": "markdown",
   "id": "aa5f7d5a-d414-4117-bbae-66a8cf363406",
   "metadata": {},
   "source": [
    "**How to use the function:**"
   ]
  },
  {
   "cell_type": "code",
   "execution_count": 221,
   "id": "b2fa30a1-1abe-4fac-bd37-1e186a87b93b",
   "metadata": {},
   "outputs": [
    {
     "name": "stdout",
     "output_type": "stream",
     "text": [
      "Hello, Alice!\n"
     ]
    }
   ],
   "source": [
    "greeting = greet(\"Alice\")\n",
    "print(greeting)\n"
   ]
  },
  {
   "cell_type": "code",
   "execution_count": 197,
   "id": "2c09f509-0504-41fe-a43b-8dec19645e31",
   "metadata": {},
   "outputs": [],
   "source": [
    "def my_func(name):\n",
    "    print('Hello '+name)"
   ]
  },
  {
   "cell_type": "code",
   "execution_count": 199,
   "id": "d3ed7600-bb11-435a-893a-ad71cdba5ca4",
   "metadata": {},
   "outputs": [
    {
     "name": "stdout",
     "output_type": "stream",
     "text": [
      "Hello Sam\n"
     ]
    }
   ],
   "source": [
    "my_func('Sam')"
   ]
  },
  {
   "cell_type": "code",
   "execution_count": 213,
   "id": "950b6834-e36f-43da-8430-b4af9645aaa1",
   "metadata": {},
   "outputs": [],
   "source": [
    "# A func with a default value, we will explain this in detail later here in this notebook\n",
    "def my_func(name='James'):\n",
    "    print(f\"Hello {name}\")"
   ]
  },
  {
   "cell_type": "code",
   "execution_count": 203,
   "id": "0b6a5b19-2e5f-4076-a341-2abf44629d78",
   "metadata": {},
   "outputs": [
    {
     "name": "stdout",
     "output_type": "stream",
     "text": [
      "Hello James\n"
     ]
    }
   ],
   "source": [
    "my_func()"
   ]
  },
  {
   "cell_type": "code",
   "execution_count": 205,
   "id": "71cef78a-db5b-414f-825f-3823a70aff1d",
   "metadata": {},
   "outputs": [
    {
     "name": "stdout",
     "output_type": "stream",
     "text": [
      "Hello Shab\n"
     ]
    }
   ],
   "source": [
    "my_func('Shab')"
   ]
  },
  {
   "cell_type": "code",
   "execution_count": 207,
   "id": "b3b357f4-c914-431b-bca0-9a19797d0832",
   "metadata": {},
   "outputs": [
    {
     "name": "stdout",
     "output_type": "stream",
     "text": [
      "Hello Shab\n"
     ]
    }
   ],
   "source": [
    "my_func(name='Shab')"
   ]
  },
  {
   "cell_type": "code",
   "execution_count": 211,
   "id": "8a85db10-f0fa-40d9-805b-e2ec109d613b",
   "metadata": {},
   "outputs": [
    {
     "data": {
      "text/plain": [
       "<function __main__.my_func(name='James')>"
      ]
     },
     "execution_count": 211,
     "metadata": {},
     "output_type": "execute_result"
    }
   ],
   "source": [
    "# We just ask python, what is this object? without executing it\n",
    "my_func"
   ]
  },
  {
   "cell_type": "markdown",
   "id": "90c1c9c2-105a-43b3-ab5d-96f37363c92a",
   "metadata": {},
   "source": [
    "### Function with Multiple Parameters (Multiple Function)\n",
    "A function can have multiple arguments (either positional or keyword) and can return or print results. You can define functions `with` multiple arguments.\n"
   ]
  },
  {
   "cell_type": "code",
   "execution_count": 183,
   "id": "3d5d154c-7d1d-4968-9d56-cf84b6a2b140",
   "metadata": {},
   "outputs": [
    {
     "name": "stdout",
     "output_type": "stream",
     "text": [
      "30\n"
     ]
    }
   ],
   "source": [
    "def add_numbers(a, b):\n",
    "    \"\"\"\n",
    "    A function that adds two numbers and returns the result.\n",
    "    \"\"\"\n",
    "    return a + b\n",
    "\n",
    "# **Usage:**\n",
    "result = add_numbers(10, 20)\n",
    "print(result)\n"
   ]
  },
  {
   "cell_type": "markdown",
   "id": "f7268b0c-3b79-4098-b938-310f670e4b30",
   "metadata": {},
   "source": [
    "### Default Arguments\n",
    "Functions can have default values for parameters, which are used if no value is provided by the caller."
   ]
  },
  {
   "cell_type": "code",
   "execution_count": 186,
   "id": "0c0fc935-f09c-4242-8fc0-ef966b697a76",
   "metadata": {},
   "outputs": [],
   "source": [
    "def power(base, exponent=2):\n",
    "    \"\"\"\n",
    "    A function that raises a base to the power of the exponent.\n",
    "    By default, the exponent is 2.\n",
    "    \"\"\"\n",
    "    return base ** exponent\n"
   ]
  },
  {
   "cell_type": "code",
   "execution_count": 190,
   "id": "16ffeaea-4a5a-4fd0-8428-927110684b88",
   "metadata": {},
   "outputs": [
    {
     "name": "stdout",
     "output_type": "stream",
     "text": [
      "9\n",
      "8\n"
     ]
    }
   ],
   "source": [
    "# **Usage:**\n",
    "print(power(3))       # Default exponent of 2\n",
    "print(power(2, 3))    # Custom exponent\n"
   ]
  },
  {
   "cell_type": "markdown",
   "id": "70e667ac-626c-4cad-afb6-5d5167289226",
   "metadata": {},
   "source": [
    "### Functions Without a Return Statement\n",
    "If a function doesn't include a `return` statement, it will return `None` by default."
   ]
  },
  {
   "cell_type": "code",
   "execution_count": 193,
   "id": "6cb663ba-2bf7-4016-a282-07d9ad8236f7",
   "metadata": {},
   "outputs": [],
   "source": [
    "def print_message(message):\n",
    "    \"\"\"\n",
    "    A function that prints a message but returns nothing.\n",
    "    \"\"\"\n",
    "    print(message)"
   ]
  },
  {
   "cell_type": "code",
   "execution_count": 195,
   "id": "cb1b05a0-80af-40c9-bb08-8d3de87ee7c2",
   "metadata": {},
   "outputs": [
    {
     "name": "stdout",
     "output_type": "stream",
     "text": [
      "This is a message.\n"
     ]
    }
   ],
   "source": [
    "# **Usage:**\n",
    "\n",
    "print_message(\"This is a message.\")"
   ]
  },
  {
   "cell_type": "markdown",
   "id": "eaa3d539-99ab-4763-b63c-412413d2618e",
   "metadata": {},
   "source": [
    "### Difference Between Functions with `return` and Functions Without `return`\n",
    "\n",
    "In Python, the presence or absence of the `return` statement in a function changes the behavior and output of the function.\n",
    "\n",
    "#### 1. **Function with `return` Statement**:\n",
    "- **Returns a Value**: A function with a `return` statement will output a value when it is called.\n",
    "- **Can Be Assigned**: The returned value can be assigned to a variable, used in expressions, or passed to other functions.\n",
    "- **Function Ends on `return`**: The execution of the function stops as soon as the `return` statement is encountered.\n",
    "\n",
    "**Example:**\n",
    "```python\n",
    "def add(a, b):\n",
    "    return a + b\n",
    "\n",
    "result = add(3, 4)\n",
    "print(result)  # Output: 7\n",
    "```\n",
    "\n",
    "In this example, the `add` function returns the sum of `a` and `b`, and the result is stored in the variable `result`.\n",
    "\n",
    "#### 2. **Function Without `return` Statement**:\n",
    "- **Does Not Return a Value**: If there is no `return` statement, the function implicitly returns `None`.\n",
    "- **Cannot Be Used in Expressions**: Since the function doesn't return anything, you cannot use it in an expression or assign its result to a variable.\n",
    "- **Execution Continues Until the End**: The function will execute all its code and simply end without providing an output.\n",
    "\n",
    "**Example:**\n",
    "```python\n",
    "def greet(name):\n",
    "    print(f\"Hello, {name}!\")\n",
    "\n",
    "greet(\"Alice\")  # Output: Hello, Alice!\n",
    "result = greet(\"Bob\")\n",
    "print(result)  # Output: None\n",
    "```\n",
    "\n",
    "In this example, the `greet` function prints a message but does not return any value. Therefore, when you try to assign its result to `result`, it will be `None`.\n",
    "\n",
    "---\n",
    "\n",
    "### Summary:\n",
    "- **With `return`**: The function outputs a value that can be used further.\n",
    "- **Without `return`**: The function performs an action but does not output a value, so the return value is implicitly `None`."
   ]
  },
  {
   "cell_type": "markdown",
   "id": "7f2beb98-26ad-47f3-8e6c-af9829723433",
   "metadata": {},
   "source": [
    "### `*args` and `**kwargs`: Flexible Arguments in Python\n",
    "\n",
    "In Python, functions can accept a variable number of arguments, which allows for greater flexibility and versatility. The two primary ways to handle this are through `*args` and `**kwargs`. These are not actual keywords but a convention used to pass a variable number of arguments to a function.\n",
    "\n",
    "Let’s dive into what each one does and how they differ:\n",
    "\n",
    "---\n",
    "\n",
    "### `*args` - Non-Keyword Arguments\n",
    "\n",
    "- `*args` allows you to pass a variable number of non-keyword arguments (i.e., regular positional arguments) to a function.\n",
    "- It collects the arguments as a **tuple**, which can then be accessed inside the function.\n",
    "\n",
    "#### Example of `*args`:\n",
    "\n",
    "#### Explanation:\n",
    "- In this example, `*args` allows the `add_numbers` function to accept any number of positional arguments.\n",
    "- The arguments are stored as a tuple inside the function, and we loop over them to calculate the sum.\n",
    "\n",
    "---"
   ]
  },
  {
   "cell_type": "code",
   "execution_count": 273,
   "id": "ea08acde-d4cd-4278-b5e2-31ef7f77b4a8",
   "metadata": {},
   "outputs": [],
   "source": [
    "def add_numbers(*args):\n",
    "    total = 0\n",
    "    for num in args:\n",
    "        total += num\n",
    "    return total"
   ]
  },
  {
   "cell_type": "code",
   "execution_count": 275,
   "id": "53005d3d-1687-48c9-81b8-87968f716ab1",
   "metadata": {},
   "outputs": [
    {
     "name": "stdout",
     "output_type": "stream",
     "text": [
      "6\n",
      "30\n"
     ]
    }
   ],
   "source": [
    "# Calling the function with varying numbers of arguments\n",
    "print(add_numbers(1, 2, 3))  # Output: 6\n",
    "print(add_numbers(4, 5, 6, 7, 8))  # Output: 30"
   ]
  },
  {
   "cell_type": "markdown",
   "id": "6a16f818-78b1-4161-8ea6-de9dc38e99d8",
   "metadata": {},
   "source": [
    "### `**kwargs` - Keyword Arguments\n",
    "\n",
    "- `**kwargs` allows you to pass a variable number of keyword arguments (i.e., named arguments) to a function.\n",
    "- It collects the arguments as a **dictionary**, where the keys are the parameter names and the values are the corresponding argument values.\n",
    "\n"
   ]
  },
  {
   "cell_type": "markdown",
   "id": "ba926997-1edd-4088-91f7-5e38c2c798a4",
   "metadata": {},
   "source": [
    "#### Example of `**kwargs`:\n",
    "\n",
    "#### Explanation:\n",
    "- In this example, `**kwargs` allows `user_info` to accept any number of keyword arguments.\n",
    "- The arguments are stored as a dictionary, and we loop through them to print each key-value pair.\n",
    "\n",
    "---"
   ]
  },
  {
   "cell_type": "code",
   "execution_count": 262,
   "id": "c6b5efa1-2b86-4c44-9ca7-03e9be4b3f13",
   "metadata": {},
   "outputs": [],
   "source": [
    "def user_info(**kwargs):\n",
    "    for key, value in kwargs.items():\n",
    "        print(f\"{key}: {value}\")"
   ]
  },
  {
   "cell_type": "code",
   "execution_count": 271,
   "id": "c3fc9f7c-46ff-4e8a-8dc4-78ca12064f07",
   "metadata": {},
   "outputs": [
    {
     "name": "stdout",
     "output_type": "stream",
     "text": [
      "name: Hatter\n",
      "age: 30\n",
      "occupation: Dreamer\n"
     ]
    }
   ],
   "source": [
    "# Usage the function with keyword arguments\n",
    "print_info(name=\"Hatter\", age=30, occupation=\"Dreamer\")"
   ]
  },
  {
   "cell_type": "markdown",
   "id": "6fcf4684-be58-4a6e-b677-a3d8cfac02b7",
   "metadata": {},
   "source": [
    "### Using Both `*args` and `**kwargs` Together\n",
    "\n",
    "You can combine both `*args` and `**kwargs` in a function to handle both positional and keyword arguments simultaneously. However, the `*args` must appear before `**kwargs` in the function definition.\n",
    "\n",
    "#### Example with both `*args` and `**kwargs`:\n",
    "\n",
    "#### Explanation:\n",
    "- `*args` collects the positional arguments (1, 2, 3) into a tuple.\n",
    "- `**kwargs` collects the keyword arguments (`name` and `age`) into a dictionary.\n",
    "\n",
    "---"
   ]
  },
  {
   "cell_type": "code",
   "execution_count": 288,
   "id": "bf079d15-c859-4e8e-b392-8851e4412870",
   "metadata": {},
   "outputs": [],
   "source": [
    "def display_info(*args, **kwargs):\n",
    "    \"\"\"\n",
    "    Demonstrates *args and **kwargs usage.\n",
    "    \"\"\"\n",
    "    print(\"Positional arguments:\", args)\n",
    "    print(\"Keyword arguments:\", kwargs)"
   ]
  },
  {
   "cell_type": "code",
   "execution_count": 290,
   "id": "41d1a772-8cd1-4540-be43-4d755fc6e7d0",
   "metadata": {},
   "outputs": [
    {
     "name": "stdout",
     "output_type": "stream",
     "text": [
      "Positional arguments: (1, 2, 3)\n",
      "Keyword arguments: {'name': 'Alice', 'age': 30}\n"
     ]
    }
   ],
   "source": [
    "# Calling the function with both types of arguments\n",
    "display_info(1, 2, 3, name=\"Alice\", age=30)"
   ]
  },
  {
   "cell_type": "markdown",
   "id": "11bce480-5341-47a7-ada8-eab5c6bced36",
   "metadata": {},
   "source": [
    "### Key Points:\n",
    "1. `*args` allows for an arbitrary number of **positional arguments**, which are stored as a tuple.\n",
    "2. `**kwargs` allows for an arbitrary number of **keyword arguments**, which are stored as a dictionary.\n",
    "3. You can use both `*args` and `**kwargs` in the same function. Ensure that `*args` comes before `**kwargs` in the function definition.\n",
    "\n",
    "---"
   ]
  },
  {
   "cell_type": "markdown",
   "id": "5ed222d7-998e-4255-ac87-c647b9ce503b",
   "metadata": {},
   "source": [
    "### Why Use `*args` and `**kwargs`?\n",
    "\n",
    "- They offer flexibility in your functions, allowing them to handle varying numbers of arguments without having to explicitly define every single one.\n",
    "- They make your functions more adaptable and reusable in different situations.\n",
    "\n",
    "These techniques are especially useful in object-oriented programming, function decorators, or when working with APIs that require dynamic argument handling."
   ]
  },
  {
   "cell_type": "markdown",
   "id": "20b9c014-1bfd-4d88-8ffa-ecad7dc5435d",
   "metadata": {},
   "source": [
    "### Key Points:\n",
    "1. Functions make your code modular and reusable.\n",
    "2. Use **docstrings** to document what your function does.\n",
    "3. Test your functions with various inputs to ensure they behave as expected.\n",
    "---\n",
    "---"
   ]
  },
  {
   "cell_type": "markdown",
   "id": "f751ecba-6dcf-43f9-80b0-e1a70f3d977c",
   "metadata": {},
   "source": [
    "## `map()` Built-in Function\n",
    "\n",
    "### What is the `map()` Function?\n",
    "The **`map()`** function in Python is a built-in function used to apply a specified function to each item of an iterable (like a list, tuple, or set) and return a new iterable (e.g., a `map` object).\n",
    "Basically, it creates an iterator that computes the function using arguments from each iterable.\n",
    "Mapping a function to every elements in a sequence\n",
    "\n",
    "### Syntax of `map()`\n",
    "```python\n",
    "map(function, iterable, ...)\n",
    "```\n",
    "- **`function`**: The function to apply to each element of the iterable. This can be a pre-defined function or a lambda expression.\n",
    "- **`iterable`**: One or more iterables (e.g., lists, tuples) whose items will be passed to the function.\n",
    "\n",
    "### Key Characteristics\n",
    "- The **`map()`** function does not modify the original iterable. It creates a new `map` object containing the transformed data.\n",
    "- The output of **`map()`** must often be converted to a list or another type for better usability."
   ]
  },
  {
   "cell_type": "markdown",
   "id": "d692ea7f-4241-4dda-8ba4-d50f98ea073c",
   "metadata": {},
   "source": [
    "### Example 1: Using `map()` with a Pre-defined Function"
   ]
  },
  {
   "cell_type": "code",
   "execution_count": 331,
   "id": "1988aa80-3808-4a4c-a1b2-f5057ff44a6e",
   "metadata": {},
   "outputs": [],
   "source": [
    "# Define a simple function to double a number\n",
    "def double(x):\n",
    "    return x * 2"
   ]
  },
  {
   "cell_type": "code",
   "execution_count": 333,
   "id": "985e79d4-a74a-4a1d-b71e-7e48d97d92ab",
   "metadata": {},
   "outputs": [],
   "source": [
    "numbers = [1, 2, 3, 4, 5]\n",
    "doubled = map(double, numbers)"
   ]
  },
  {
   "cell_type": "code",
   "execution_count": 337,
   "id": "531e14e5-9b75-48b1-ba6f-071d056a5e64",
   "metadata": {},
   "outputs": [
    {
     "data": {
      "text/plain": [
       "<map at 0x12e893d90>"
      ]
     },
     "execution_count": 337,
     "metadata": {},
     "output_type": "execute_result"
    }
   ],
   "source": [
    "doubled"
   ]
  },
  {
   "cell_type": "code",
   "execution_count": 335,
   "id": "c9727afb-25e3-41c0-8581-66919b3e7081",
   "metadata": {},
   "outputs": [
    {
     "name": "stdout",
     "output_type": "stream",
     "text": [
      "[2, 4, 6, 8, 10]\n"
     ]
    }
   ],
   "source": [
    "# Convert the map object to a list to see the result\n",
    "print(list(doubled))"
   ]
  },
  {
   "cell_type": "code",
   "execution_count": 329,
   "id": "f11e6c51-7d23-49a3-a206-2832fb3200db",
   "metadata": {},
   "outputs": [
    {
     "data": {
      "text/plain": [
       "<map at 0x12f120640>"
      ]
     },
     "execution_count": 329,
     "metadata": {},
     "output_type": "execute_result"
    }
   ],
   "source": [
    "# It shows the place of map in memory\n",
    "map(double, numbers)"
   ]
  },
  {
   "cell_type": "markdown",
   "id": "490946af-ef84-4fb8-8046-96f47a276caf",
   "metadata": {},
   "source": [
    "\n",
    "### Benefits of `map()`\n",
    "- **Efficiency**: Processes data without the need for explicit loops.\n",
    "- **Readability**: Code is more concise and easier to understand, especially for simple transformations.\n",
    "- **Lazy Evaluation**: The `map()` function creates a generator-like object, consuming less memory and only processing items when needed.\n",
    "\n",
    "---\n",
    "\n",
    "### Common Use Cases\n",
    "- Transforming data in a list, such as converting strings to integers or applying a mathematical function.\n",
    "- Combining multiple lists element by element.\n",
    "- Applying a function to filter or clean data.\n",
    "\n",
    "---\n",
    "\n",
    "### Note on Converting the Result\n",
    "The result of **`map()`** is a `map` object, which is an iterator. To view the data or use it in further operations, you often need to convert it to a list, tuple, or another collection type.\n",
    "```python\n",
    "numbers = [1, 2, 3, 4, 5]\n",
    "doubled = map(lambda x: x * 2, numbers)\n",
    "\n",
    "# Convert to a list for better usability\n",
    "print(list(doubled))  # Output: [2, 4, 6, 8, 10]\n",
    "```\n",
    "\n",
    "---\n",
    "\n",
    "### When to Use `map()`\n",
    "- Use **`map()`** when you need to apply the same function to each element of an iterable.\n",
    "- For simple transformations, **`map()`** is often more concise and efficient than a `for` loop.\n",
    "- If the transformation is complex or involves conditional logic, a `for` loop may be more readable.\n",
    "\n",
    "---\n",
    "\n",
    "### Conclusion\n",
    "The **`map()`** function is a powerful and versatile tool for applying functions to iterables in a clean and efficient way. It is especially useful in data processing and transformation tasks, making it a vital feature for Python developers.\n",
    "\n",
    "---"
   ]
  },
  {
   "cell_type": "markdown",
   "id": "492a9a47-e05c-4730-b9ba-c633c0b92822",
   "metadata": {},
   "source": [
    "## Lambda Expressions\n",
    "\n",
    "### What is a Lambda Expression?\n",
    "- A **lambda expression** (also known as a **lambda function**) is a concise way to define a small, anonymous function in Python.\n",
    "- It allows you to create a function without the need to use the `def` keyword and can be used for simple operations.\n",
    "  \n",
    "### Syntax of Lambda Expressions\n",
    "The basic syntax of a lambda function is:\n",
    "```python\n",
    "lambda arguments: expression\n",
    "```\n",
    "- **`lambda`**: The keyword that indicates a lambda function.\n",
    "- **`arguments`**: The parameters that the function takes (can be zero or more).\n",
    "- **`expression`**: The single expression that the function evaluates and returns.\n",
    "\n",
    "### Characteristics of Lambda Functions\n",
    "- Lambda functions are **anonymous**, meaning they don’t have a name (though you can assign them to a variable).\n",
    "- They can only contain a single expression and cannot have statements or multiple expressions.\n",
    "- They are useful for short, throwaway functions that don’t need to be reused multiple times."
   ]
  },
  {
   "cell_type": "code",
   "execution_count": 342,
   "id": "9017836f-d86f-49ca-ba64-1d4d018155af",
   "metadata": {},
   "outputs": [
    {
     "data": {
      "text/plain": [
       "<function __main__.<lambda>(x)>"
      ]
     },
     "execution_count": 342,
     "metadata": {},
     "output_type": "execute_result"
    }
   ],
   "source": [
    "lambda x: x ** 2"
   ]
  },
  {
   "cell_type": "code",
   "execution_count": 344,
   "id": "f13a4919-40e1-4d7e-8319-c0558f7aee65",
   "metadata": {},
   "outputs": [],
   "source": [
    "t=lambda x:x*2"
   ]
  },
  {
   "cell_type": "code",
   "execution_count": 346,
   "id": "b6e4a76b-c4f0-43a6-a4a0-221bf897a564",
   "metadata": {},
   "outputs": [
    {
     "data": {
      "text/plain": [
       "40"
      ]
     },
     "execution_count": 346,
     "metadata": {},
     "output_type": "execute_result"
    }
   ],
   "source": [
    "t(20)"
   ]
  },
  {
   "cell_type": "code",
   "execution_count": 293,
   "id": "8f00ef00-2c8e-466a-beda-cf41b874b732",
   "metadata": {},
   "outputs": [
    {
     "name": "stdout",
     "output_type": "stream",
     "text": [
      "25\n"
     ]
    }
   ],
   "source": [
    "### Example 1: Simple Lambda Function\n",
    "# Lambda to square a number\n",
    "square = lambda x: x ** 2\n",
    "print(square(5))  "
   ]
  },
  {
   "cell_type": "code",
   "execution_count": 295,
   "id": "18d2fccb-4b50-4d23-bf33-0b4dca3a658f",
   "metadata": {},
   "outputs": [
    {
     "name": "stdout",
     "output_type": "stream",
     "text": [
      "7\n"
     ]
    }
   ],
   "source": [
    "### Example 2: Lambda with Multiple Arguments\n",
    "# Lambda to add two numbers\n",
    "add = lambda x, y: x + y\n",
    "print(add(3, 4))"
   ]
  },
  {
   "cell_type": "markdown",
   "id": "fa9b426f-bdb2-4d72-bef1-a8c422808e26",
   "metadata": {},
   "source": [
    "### Using Lambda with `map()`\n",
    "Lambda functions are commonly used with functions like `map()`, `filter()`, and `reduce()` for applying a function to sequences, for concise, one-line functions."
   ]
  },
  {
   "cell_type": "code",
   "execution_count": 298,
   "id": "babea479-60bb-4f13-9d6e-ee7c51d9c6b9",
   "metadata": {},
   "outputs": [
    {
     "name": "stdout",
     "output_type": "stream",
     "text": [
      "[1, 4, 9, 16, 25]\n"
     ]
    }
   ],
   "source": [
    "numbers = [1, 2, 3, 4, 5]\n",
    "squared = list(map(lambda x: x ** 2, numbers))\n",
    "print(squared)"
   ]
  },
  {
   "cell_type": "markdown",
   "id": "efefb274-3827-4d6c-96ba-0c51ef12000f",
   "metadata": {},
   "source": [
    "### Using `map()` with Multiple Iterables\n",
    "When passing multiple iterables, the function must accept the same number of arguments as there are iterables."
   ]
  },
  {
   "cell_type": "code",
   "execution_count": 350,
   "id": "b1e4798c-53eb-4dbf-b6dd-ca35f4dc4d1c",
   "metadata": {},
   "outputs": [],
   "source": [
    "# Add corresponding elements of two lists\n",
    "numbers1 = [1, 2, 3]\n",
    "numbers2 = [4, 5, 6]\n",
    "summed = map(lambda x, y: x + y, numbers1, numbers2)"
   ]
  },
  {
   "cell_type": "code",
   "execution_count": 352,
   "id": "0e6b4380-efec-4b44-9708-b0bd555c3559",
   "metadata": {},
   "outputs": [
    {
     "name": "stdout",
     "output_type": "stream",
     "text": [
      "[5, 7, 9]\n"
     ]
    }
   ],
   "source": [
    "print(list(summed))  # Output: [5, 7, 9]"
   ]
  },
  {
   "cell_type": "markdown",
   "id": "a5395025-ce05-461e-b8f2-f01f1ce19847",
   "metadata": {},
   "source": [
    "### Using Lambda with `filter()`\n",
    "You can use a lambda function to filter elements from a sequence."
   ]
  },
  {
   "cell_type": "code",
   "execution_count": 301,
   "id": "3fd20247-b1b6-4002-a575-318fe7756a6f",
   "metadata": {},
   "outputs": [
    {
     "name": "stdout",
     "output_type": "stream",
     "text": [
      "[2, 4]\n"
     ]
    }
   ],
   "source": [
    "numbers = [1, 2, 3, 4, 5]\n",
    "even_numbers = list(filter(lambda x: x % 2 == 0, numbers))\n",
    "print(even_numbers)"
   ]
  },
  {
   "cell_type": "markdown",
   "id": "e2bfdba2-9612-4571-909e-0e6e47b29b3b",
   "metadata": {},
   "source": [
    "### When to Use Lambda Expressions?\n",
    "- Lambda expressions are best suited for situations where you need a simple, throwaway function.\n",
    "- They are useful in places like `map()`, `filter()`, or `sorted()` where you need to pass a function as an argument.\n",
    "- If the logic is too complex or the function is being reused, it's better to use a regular function defined with `def`.\n",
    "\n",
    "### Advantages of Lambda Expressions\n",
    "- **Concise**: Lambda functions are compact and eliminate the need to define a separate function.\n",
    "- **Anonymous**: You don’t need to give them a name, making the code cleaner when you need a quick function.\n",
    "\n",
    "### Limitations of Lambda Expressions\n",
    "- **Limited functionality**: Lambda functions can only have a single expression, so they are less versatile than functions defined using `def`.\n",
    "- **Readability**: Overusing lambda functions can reduce code readability, especially for complex operations.\n",
    "\n",
    "### Conclusion\n",
    "Lambda expressions are a powerful feature in Python for creating quick, small functions without needing to formally define them. While they are convenient for simple tasks, for more complex logic, using a regular function defined with `def` is recommended."
   ]
  },
  {
   "cell_type": "markdown",
   "id": "e0f962ba-2565-4086-9f32-40b7cefbf44f",
   "metadata": {},
   "source": [
    "## `filter()` Built-in Function\n",
    "\n",
    "### What is the `filter()` Function?\n",
    "The **`filter()`** function in Python is a built-in function that is used to filter elements from an iterable (e.g., list, tuple, set) based on a specified condition. It applies a function to each element of the iterable and includes only the elements where the function returns `True`. Filter out elements from a sequence\n",
    "\n",
    "### Syntax of `filter()`\n",
    "```python\n",
    "filter(function, iterable)\n",
    "```\n",
    "- **`function`**: A function that returns `True` or `False` for each element in the iterable. This can be a pre-defined function or a lambda expression.\n",
    "- **`iterable`**: An iterable whose elements are to be filtered.\n",
    "\n",
    "\n",
    "### Key Characteristics\n",
    "- The **`filter()`** function does not modify the original iterable. It creates a new iterator containing only the elements that satisfy the condition.\n",
    "- If the function is `None`, **`filter()`** will return all items in the iterable that evaluate to `True`.\n",
    "\n",
    "---\n",
    "\n",
    "### 1. Using `filter()` with a Pre-defined Function"
   ]
  },
  {
   "cell_type": "code",
   "execution_count": 370,
   "id": "eb0b2574-1b98-4d1c-8242-cab5992e2875",
   "metadata": {},
   "outputs": [],
   "source": [
    "# Function to check if a number is even\n",
    "def is_even(num):\n",
    "    return num % 2 == 0"
   ]
  },
  {
   "cell_type": "code",
   "execution_count": 372,
   "id": "0b6ff0eb-64fe-4465-bb2e-a55c7b6422d8",
   "metadata": {},
   "outputs": [],
   "source": [
    "numbers = [1, 2, 3, 4, 5, 6]\n",
    "even_numbers = filter(is_even, numbers)\n"
   ]
  },
  {
   "cell_type": "code",
   "execution_count": 374,
   "id": "0eb4c54e-3e6a-4b76-8010-f601b32493ac",
   "metadata": {},
   "outputs": [
    {
     "name": "stdout",
     "output_type": "stream",
     "text": [
      "[2, 4, 6]\n"
     ]
    }
   ],
   "source": [
    "# Convert the filter object to a list to see the result\n",
    "print(list(even_numbers))"
   ]
  },
  {
   "cell_type": "markdown",
   "id": "dd3022be-b952-439e-b7ed-9ef4743e2fcf",
   "metadata": {},
   "source": [
    "### 2. Using `filter()` with a Lambda Function\n",
    "Lambda expressions are commonly used with **`filter()`** for concise filtering."
   ]
  },
  {
   "cell_type": "code",
   "execution_count": 377,
   "id": "684c5293-3ce7-4bf3-8440-fe43115d2f07",
   "metadata": {},
   "outputs": [],
   "source": [
    "numbers = [10, 15, 20, 25, 30]\n",
    "greater_than_20 = filter(lambda x: x > 20, numbers)\n"
   ]
  },
  {
   "cell_type": "code",
   "execution_count": 379,
   "id": "8713d29e-f166-4096-8859-e8418b8971fa",
   "metadata": {},
   "outputs": [
    {
     "name": "stdout",
     "output_type": "stream",
     "text": [
      "[25, 30]\n"
     ]
    }
   ],
   "source": [
    "print(list(greater_than_20))  # Output: [25, 30]"
   ]
  },
  {
   "cell_type": "markdown",
   "id": "0dd307a0-0ca8-41b2-8180-480f2376e412",
   "metadata": {},
   "source": [
    "### Example 3: Filtering Strings from a List\n",
    "The **`filter()`** function can also be used to filter out non-numeric or specific data types."
   ]
  },
  {
   "cell_type": "code",
   "execution_count": 382,
   "id": "5561bcad-58d2-49b9-8533-ff1eb5965112",
   "metadata": {},
   "outputs": [],
   "source": [
    "words = [\"apple\", \"banana\", \"cherry\", \"date\"]\n",
    "filtered_words = filter(lambda word: len(word) > 5, words)"
   ]
  },
  {
   "cell_type": "code",
   "execution_count": 384,
   "id": "1522639b-2ab5-4378-b901-d0780477f2bb",
   "metadata": {},
   "outputs": [
    {
     "name": "stdout",
     "output_type": "stream",
     "text": [
      "['banana', 'cherry']\n"
     ]
    }
   ],
   "source": [
    "print(list(filtered_words))  # Output: [\"banana\", \"cherry\"]"
   ]
  },
  {
   "cell_type": "markdown",
   "id": "1f759958-a9df-4e12-a048-b60f4e91f85c",
   "metadata": {},
   "source": [
    "### Benefits of `filter()`\n",
    "- **Efficient Filtering**: Allows you to filter elements without needing a loop or additional conditional checks.\n",
    "- **Readability**: Code is clean and concise, especially when combined with lambda functions.\n",
    "- **Lazy Evaluation**: Returns an iterator instead of creating a new list, saving memory when working with large data.\n",
    "\n",
    "---\n",
    "\n",
    "### Common Use Cases\n",
    "- Removing invalid or unwanted data from a dataset.\n",
    "- Filtering elements based on conditions (e.g., keeping only positive numbers).\n",
    "- Extracting elements that match specific criteria in an iterable.\n",
    "\n",
    "---\n",
    "\n",
    "### Note on Converting the Result\n",
    "The result of **`filter()`** is a `filter` object, which is an iterator. To view the filtered elements or use them in further operations, you often need to convert it to a list, tuple, or another collection type."
   ]
  },
  {
   "cell_type": "code",
   "execution_count": 387,
   "id": "9d8b6529-8b00-4876-a733-e8a92b55f266",
   "metadata": {},
   "outputs": [],
   "source": [
    "numbers = [1, 2, 3, 4, 5, 6]\n",
    "odd_numbers = filter(lambda x: x % 2 != 0, numbers)"
   ]
  },
  {
   "cell_type": "code",
   "execution_count": 389,
   "id": "f21a73f3-052b-494b-9103-b0f971d3148b",
   "metadata": {},
   "outputs": [
    {
     "name": "stdout",
     "output_type": "stream",
     "text": [
      "[1, 3, 5]\n"
     ]
    }
   ],
   "source": [
    "# Convert to a list for better usability\n",
    "print(list(odd_numbers))  # Output: [1, 3, 5]"
   ]
  },
  {
   "cell_type": "markdown",
   "id": "fb586b27-f369-4099-82b2-d69ab0556eeb",
   "metadata": {},
   "source": [
    "### When to Use `filter()`\n",
    "- Use **`filter()`** when you need to exclude elements from an iterable based on a condition.\n",
    "- It’s ideal for simple filtering operations; for more complex logic, a `for` loop may be more appropriate.\n",
    "\n",
    "---\n",
    "\n",
    "### Conclusion\n",
    "The **`filter()`** function is a powerful tool for extracting elements from an iterable based on a condition. It’s efficient, easy to use, and enhances code readability, making it a key feature for Python developers."
   ]
  },
  {
   "cell_type": "markdown",
   "id": "bf34f837-0976-43d3-8fa5-b7f0325961cb",
   "metadata": {},
   "source": [
    "## Methods"
   ]
  },
  {
   "cell_type": "code",
   "execution_count": 397,
   "id": "4d541200-7d58-45f4-8101-6ffd65f385f2",
   "metadata": {},
   "outputs": [],
   "source": [
    "s='Hello my name is Sam'"
   ]
  },
  {
   "cell_type": "code",
   "execution_count": 399,
   "id": "b954cd6b-9e93-4cb7-8904-d254bedc4a70",
   "metadata": {},
   "outputs": [
    {
     "data": {
      "text/plain": [
       "'hello my name is sam'"
      ]
     },
     "execution_count": 399,
     "metadata": {},
     "output_type": "execute_result"
    }
   ],
   "source": [
    "s.lower()"
   ]
  },
  {
   "cell_type": "code",
   "execution_count": 401,
   "id": "c77ea7ce-f39b-46f7-a07f-f222646e2750",
   "metadata": {},
   "outputs": [
    {
     "data": {
      "text/plain": [
       "'HELLO MY NAME IS SAM'"
      ]
     },
     "execution_count": 401,
     "metadata": {},
     "output_type": "execute_result"
    }
   ],
   "source": [
    "s.upper()"
   ]
  },
  {
   "cell_type": "code",
   "execution_count": 405,
   "id": "fded7d85-33c6-4915-b884-3a5b1e02fad5",
   "metadata": {},
   "outputs": [
    {
     "data": {
      "text/plain": [
       "['Hello', 'my', 'name', 'is', 'Sam']"
      ]
     },
     "execution_count": 405,
     "metadata": {},
     "output_type": "execute_result"
    }
   ],
   "source": [
    "# splits by whitespace by default\n",
    "s.split()"
   ]
  },
  {
   "cell_type": "code",
   "execution_count": 407,
   "id": "0fd2add0-dff1-436a-8d8e-403dad09d9fa",
   "metadata": {},
   "outputs": [],
   "source": [
    "tweet='Go Sports! #Sports'"
   ]
  },
  {
   "cell_type": "code",
   "execution_count": 409,
   "id": "bcce5731-2325-479a-b08b-94142034fe93",
   "metadata": {},
   "outputs": [
    {
     "data": {
      "text/plain": [
       "['Go', 'Sports!', '#Sports']"
      ]
     },
     "execution_count": 409,
     "metadata": {},
     "output_type": "execute_result"
    }
   ],
   "source": [
    "tweet.split()"
   ]
  },
  {
   "cell_type": "code",
   "execution_count": 422,
   "id": "f245f5c9-ec34-4106-878d-145143a7069c",
   "metadata": {},
   "outputs": [
    {
     "data": {
      "text/plain": [
       "['Go Sports! ', 'Sports']"
      ]
     },
     "execution_count": 422,
     "metadata": {},
     "output_type": "execute_result"
    }
   ],
   "source": [
    "# Split on particular element, splits the string over this element\n",
    "tweet.split('#')"
   ]
  },
  {
   "cell_type": "code",
   "execution_count": 424,
   "id": "7b492d58-9ca9-40bd-8280-1d1f9ab745b0",
   "metadata": {},
   "outputs": [
    {
     "data": {
      "text/plain": [
       "['Go Sports', ' #Sports']"
      ]
     },
     "execution_count": 424,
     "metadata": {},
     "output_type": "execute_result"
    }
   ],
   "source": [
    "tweet.split('!')"
   ]
  },
  {
   "cell_type": "code",
   "execution_count": 426,
   "id": "5000f903-7118-44bf-80ba-e7d613e0b563",
   "metadata": {},
   "outputs": [
    {
     "data": {
      "text/plain": [
       "['Go Sports! #Sports']"
      ]
     },
     "execution_count": 426,
     "metadata": {},
     "output_type": "execute_result"
    }
   ],
   "source": [
    "tweet.split(',')\n"
   ]
  },
  {
   "cell_type": "code",
   "execution_count": 434,
   "id": "96c22d07-be80-47f2-9d95-27b708b68154",
   "metadata": {},
   "outputs": [
    {
     "data": {
      "text/plain": [
       "' #Sports'"
      ]
     },
     "execution_count": 434,
     "metadata": {},
     "output_type": "execute_result"
    }
   ],
   "source": [
    "tweet.split('!')[1]"
   ]
  },
  {
   "cell_type": "code",
   "execution_count": 438,
   "id": "0d2ce13e-a2cb-48c3-b332-08b3f33f051c",
   "metadata": {},
   "outputs": [],
   "source": [
    "d={'k1':1,'k2':2}"
   ]
  },
  {
   "cell_type": "code",
   "execution_count": 446,
   "id": "b64d6f2b-cc03-4105-80ff-bb1041e57cb5",
   "metadata": {},
   "outputs": [
    {
     "data": {
      "text/plain": [
       "dict_keys(['k1', 'k2'])"
      ]
     },
     "execution_count": 446,
     "metadata": {},
     "output_type": "execute_result"
    }
   ],
   "source": [
    "d.keys()"
   ]
  },
  {
   "cell_type": "code",
   "execution_count": 448,
   "id": "132d27d3-81be-4c95-850c-d568edbdf9f0",
   "metadata": {},
   "outputs": [
    {
     "data": {
      "text/plain": [
       "dict_items([('k1', 1), ('k2', 2)])"
      ]
     },
     "execution_count": 448,
     "metadata": {},
     "output_type": "execute_result"
    }
   ],
   "source": [
    "d.items()"
   ]
  },
  {
   "cell_type": "code",
   "execution_count": 453,
   "id": "ae78b063-290d-4b44-8530-f4443fd2221f",
   "metadata": {},
   "outputs": [
    {
     "data": {
      "text/plain": [
       "dict_values([1, 2])"
      ]
     },
     "execution_count": 453,
     "metadata": {},
     "output_type": "execute_result"
    }
   ],
   "source": [
    "d.values()"
   ]
  },
  {
   "cell_type": "code",
   "execution_count": 455,
   "id": "c6a44b6b-e475-470b-9f66-9d6f7e717523",
   "metadata": {},
   "outputs": [],
   "source": [
    "lst = [1,2,3,4]"
   ]
  },
  {
   "cell_type": "code",
   "execution_count": 457,
   "id": "8cbf5f22-11b4-4797-bfb3-39d360c15d8c",
   "metadata": {},
   "outputs": [
    {
     "data": {
      "text/plain": [
       "4"
      ]
     },
     "execution_count": 457,
     "metadata": {},
     "output_type": "execute_result"
    }
   ],
   "source": [
    "lst.pop()"
   ]
  },
  {
   "cell_type": "code",
   "execution_count": 459,
   "id": "dec2a83d-85eb-4c72-a776-f4d27a4929ae",
   "metadata": {},
   "outputs": [
    {
     "data": {
      "text/plain": [
       "[1, 2, 3]"
      ]
     },
     "execution_count": 459,
     "metadata": {},
     "output_type": "execute_result"
    }
   ],
   "source": [
    "lst"
   ]
  },
  {
   "cell_type": "code",
   "execution_count": 461,
   "id": "a1e5d071-6854-4d2a-9ede-0a8f88fc3d0c",
   "metadata": {},
   "outputs": [],
   "source": [
    "item=lst.pop()"
   ]
  },
  {
   "cell_type": "code",
   "execution_count": 463,
   "id": "51de5b47-3722-4c56-9c8d-c67bb42a0ce3",
   "metadata": {},
   "outputs": [
    {
     "data": {
      "text/plain": [
       "[1, 2]"
      ]
     },
     "execution_count": 463,
     "metadata": {},
     "output_type": "execute_result"
    }
   ],
   "source": [
    "lst"
   ]
  },
  {
   "cell_type": "code",
   "execution_count": 465,
   "id": "946a5797-090f-4d9b-8bc4-ad93097f5fdc",
   "metadata": {},
   "outputs": [
    {
     "data": {
      "text/plain": [
       "3"
      ]
     },
     "execution_count": 465,
     "metadata": {},
     "output_type": "execute_result"
    }
   ],
   "source": [
    "item"
   ]
  },
  {
   "cell_type": "code",
   "execution_count": 493,
   "id": "69e96a34-8d4a-4dae-aecd-292d9cb7d006",
   "metadata": {},
   "outputs": [],
   "source": [
    "my_list=[4,5,6,7]"
   ]
  },
  {
   "cell_type": "code",
   "execution_count": 495,
   "id": "6f46f037-ee09-402e-9723-776035d94e19",
   "metadata": {},
   "outputs": [],
   "source": [
    "first_item=my_list.pop(0)"
   ]
  },
  {
   "cell_type": "code",
   "execution_count": 497,
   "id": "fdaa3cad-f20c-42cf-b6c5-d45b0072532d",
   "metadata": {},
   "outputs": [
    {
     "data": {
      "text/plain": [
       "4"
      ]
     },
     "execution_count": 497,
     "metadata": {},
     "output_type": "execute_result"
    }
   ],
   "source": [
    "first_item"
   ]
  },
  {
   "cell_type": "code",
   "execution_count": 499,
   "id": "6a63569b-af8c-47a9-acc5-ec18c8f77e0a",
   "metadata": {},
   "outputs": [],
   "source": [
    "# Append an item to the end a list\n",
    "my_list.append(4)"
   ]
  },
  {
   "cell_type": "code",
   "execution_count": 501,
   "id": "f4406df0-65ec-4dfd-a179-1c6c4fd77e17",
   "metadata": {},
   "outputs": [
    {
     "data": {
      "text/plain": [
       "[5, 6, 7, 4]"
      ]
     },
     "execution_count": 501,
     "metadata": {},
     "output_type": "execute_result"
    }
   ],
   "source": [
    "my_list"
   ]
  },
  {
   "cell_type": "code",
   "execution_count": 503,
   "id": "c9d84d0f-311a-411d-b903-4611f5279ba8",
   "metadata": {},
   "outputs": [
    {
     "data": {
      "text/plain": [
       "False"
      ]
     },
     "execution_count": 503,
     "metadata": {},
     "output_type": "execute_result"
    }
   ],
   "source": [
    "'x' in [1,2,3]"
   ]
  },
  {
   "cell_type": "code",
   "execution_count": 505,
   "id": "df5ab87e-4bad-48ee-b3be-52fee353950d",
   "metadata": {},
   "outputs": [
    {
     "data": {
      "text/plain": [
       "True"
      ]
     },
     "execution_count": 505,
     "metadata": {},
     "output_type": "execute_result"
    }
   ],
   "source": [
    "'x' in ['x','y','z']"
   ]
  },
  {
   "cell_type": "markdown",
   "id": "76f9eba1-5e54-47b9-8394-6356d4e56434",
   "metadata": {},
   "source": [
    "## Tuple unpacking"
   ]
  },
  {
   "cell_type": "code",
   "execution_count": 509,
   "id": "c981c4cd-e30b-48f2-b9aa-25c5719c7b30",
   "metadata": {},
   "outputs": [],
   "source": [
    "x=[(4,5),(2,3),(1,6)]"
   ]
  },
  {
   "cell_type": "code",
   "execution_count": 511,
   "id": "7d366558-458a-4367-96b5-8545120e7161",
   "metadata": {},
   "outputs": [
    {
     "data": {
      "text/plain": [
       "[(4, 5), (2, 3), (1, 6)]"
      ]
     },
     "execution_count": 511,
     "metadata": {},
     "output_type": "execute_result"
    }
   ],
   "source": [
    "x"
   ]
  },
  {
   "cell_type": "code",
   "execution_count": 513,
   "id": "8b46b334-ebca-47f3-b717-f9d63f991a17",
   "metadata": {},
   "outputs": [
    {
     "data": {
      "text/plain": [
       "(2, 3)"
      ]
     },
     "execution_count": 513,
     "metadata": {},
     "output_type": "execute_result"
    }
   ],
   "source": [
    "x[1]"
   ]
  },
  {
   "cell_type": "code",
   "execution_count": 515,
   "id": "127f9e2b-ee26-4ed9-970c-481cf5980950",
   "metadata": {},
   "outputs": [
    {
     "name": "stdout",
     "output_type": "stream",
     "text": [
      "(4, 5)\n",
      "(2, 3)\n",
      "(1, 6)\n"
     ]
    }
   ],
   "source": [
    "for i in x:\n",
    "    print(i)"
   ]
  },
  {
   "cell_type": "code",
   "execution_count": 517,
   "id": "1be1fa57-5aad-46d3-abb3-b98017652ed5",
   "metadata": {},
   "outputs": [
    {
     "name": "stdout",
     "output_type": "stream",
     "text": [
      "4\n",
      "2\n",
      "1\n"
     ]
    }
   ],
   "source": [
    "for(a,b) in x:\n",
    "    print(a)"
   ]
  },
  {
   "cell_type": "code",
   "execution_count": 523,
   "id": "5f2e9a2b-af0d-4a14-9c0e-d519a1951c0b",
   "metadata": {},
   "outputs": [
    {
     "name": "stdout",
     "output_type": "stream",
     "text": [
      "5\n",
      "*\n",
      "4\n",
      "3\n",
      "*\n",
      "2\n",
      "6\n",
      "*\n",
      "1\n"
     ]
    }
   ],
   "source": [
    "for a,b in x:\n",
    "    print(b)\n",
    "    print('*')\n",
    "    print(a)"
   ]
  },
  {
   "cell_type": "markdown",
   "id": "722cc487-da97-4904-a2d7-49e9249ce229",
   "metadata": {},
   "source": [
    "## Exercise\n",
    "\n",
    "** What is 7 to the power of 4?**"
   ]
  },
  {
   "cell_type": "code",
   "execution_count": 2,
   "id": "9e1274db-a558-484f-8742-8be637dee137",
   "metadata": {},
   "outputs": [],
   "source": [
    "x = 7\n",
    "x = x**4"
   ]
  },
  {
   "cell_type": "code",
   "execution_count": 4,
   "id": "c07d202f-1228-4158-9d13-dfb8a7c67fbf",
   "metadata": {},
   "outputs": [
    {
     "data": {
      "text/plain": [
       "2401"
      ]
     },
     "execution_count": 4,
     "metadata": {},
     "output_type": "execute_result"
    }
   ],
   "source": [
    "x"
   ]
  },
  {
   "cell_type": "code",
   "execution_count": 6,
   "id": "e7d10616-9b9a-473d-b7df-c982c63c5c54",
   "metadata": {},
   "outputs": [],
   "source": [
    "def power(x):\n",
    "    print(x**4)"
   ]
  },
  {
   "cell_type": "code",
   "execution_count": 8,
   "id": "83ec6b69-ccea-49a8-a4f9-3a2f4091ce2c",
   "metadata": {},
   "outputs": [
    {
     "name": "stdout",
     "output_type": "stream",
     "text": [
      "2401\n"
     ]
    }
   ],
   "source": [
    "power(7)"
   ]
  },
  {
   "cell_type": "code",
   "execution_count": 12,
   "id": "5c30d433-2b21-45cb-91e6-6c5a996cec5c",
   "metadata": {},
   "outputs": [
    {
     "name": "stdout",
     "output_type": "stream",
     "text": [
      "2401\n"
     ]
    }
   ],
   "source": [
    "x=7\n",
    "power=lambda x: x**4\n",
    "print(power(7))"
   ]
  },
  {
   "cell_type": "markdown",
   "id": "aa7b0765-202d-47d6-9e7a-0dce746a3e42",
   "metadata": {},
   "source": [
    "**Split this string:**\n",
    "\n",
    "s = \"Hi there Sam!\"\n",
    "**into a list. **"
   ]
  },
  {
   "cell_type": "code",
   "execution_count": 16,
   "id": "3e29c33c-de3f-4c12-9f48-5f693b7307b2",
   "metadata": {},
   "outputs": [],
   "source": [
    "s = 'Hi there Sam!'"
   ]
  },
  {
   "cell_type": "code",
   "execution_count": 18,
   "id": "5e762e0f-6caf-4cc7-9d02-a2e802d44c2f",
   "metadata": {},
   "outputs": [],
   "source": [
    "my_list = s.split()"
   ]
  },
  {
   "cell_type": "code",
   "execution_count": 20,
   "id": "4fb9ad8c-7e85-45df-8462-b3479cea48a6",
   "metadata": {},
   "outputs": [
    {
     "data": {
      "text/plain": [
       "['Hi', 'there', 'Sam!']"
      ]
     },
     "execution_count": 20,
     "metadata": {},
     "output_type": "execute_result"
    }
   ],
   "source": [
    "my_list"
   ]
  },
  {
   "cell_type": "markdown",
   "id": "afed4249-c17c-480b-925f-9b5c5fe6baac",
   "metadata": {},
   "source": [
    "**Given the variables:**\n",
    "\n",
    "planet = \"Earth\"\n",
    "diameter = 12742\n",
    "** Use .format() to print the following string: **\n",
    "\n",
    "The diameter of Earth is 12742 kilometers.\n"
   ]
  },
  {
   "cell_type": "code",
   "execution_count": 23,
   "id": "899db68c-dcf5-4244-b4b0-06364bafeec1",
   "metadata": {},
   "outputs": [],
   "source": [
    "planet = \"Earth\"\n",
    "diameter = 12742"
   ]
  },
  {
   "cell_type": "code",
   "execution_count": 27,
   "id": "c357ab68-f88c-4bba-9bd5-d0462f6d113d",
   "metadata": {},
   "outputs": [
    {
     "name": "stdout",
     "output_type": "stream",
     "text": [
      "The diameter of the Earth is 12742 kilometers.\n"
     ]
    }
   ],
   "source": [
    "print('The diameter of the {one} is {two} kilometers.'.format(one = planet, two = diameter))"
   ]
  },
  {
   "cell_type": "code",
   "execution_count": 30,
   "id": "67d48e0b-92f0-4b83-8503-6f328e3f2c26",
   "metadata": {},
   "outputs": [
    {
     "name": "stdout",
     "output_type": "stream",
     "text": [
      "The diameter of the Earth is 12742 kilometers.\n"
     ]
    }
   ],
   "source": [
    "# or the easy version\n",
    "print('The diameter of the {} is {} kilometers.'.format(planet,diameter))\n"
   ]
  },
  {
   "cell_type": "markdown",
   "id": "d4e7a1e2-6b22-44c8-b831-279d8e480eca",
   "metadata": {},
   "source": [
    "**Given this nested list, use indexing to grab the word \"hello\"**"
   ]
  },
  {
   "cell_type": "code",
   "execution_count": 32,
   "id": "8377cb8e-180c-4e4d-9623-2e0ff6631887",
   "metadata": {},
   "outputs": [],
   "source": [
    "lst = [1,2,[3,4],[5,[100,200,['hello']],23,11],1,7]"
   ]
  },
  {
   "cell_type": "code",
   "execution_count": 40,
   "id": "9b0b1789-eddc-4dd3-9e65-b1a1cbf74a33",
   "metadata": {},
   "outputs": [
    {
     "data": {
      "text/plain": [
       "'hello'"
      ]
     },
     "execution_count": 40,
     "metadata": {},
     "output_type": "execute_result"
    }
   ],
   "source": [
    "lst[3][1][2][0]"
   ]
  },
  {
   "cell_type": "markdown",
   "id": "d017f3f2-99d3-48d6-b635-b5ae7552430e",
   "metadata": {},
   "source": [
    "**Given this nest dictionary grab the word \"hello\".**"
   ]
  },
  {
   "cell_type": "code",
   "execution_count": 46,
   "id": "41712095-964a-41cb-8343-a44a93ca8cae",
   "metadata": {},
   "outputs": [],
   "source": [
    "d = {'k1':[1,2,3,{'tricky':['oh','man','inception',{'target':[1,2,3,'hello']}]}]}"
   ]
  },
  {
   "cell_type": "code",
   "execution_count": 57,
   "id": "a709a1a5-79e3-43d9-ad33-78e5ef89a958",
   "metadata": {},
   "outputs": [
    {
     "data": {
      "text/plain": [
       "'hello'"
      ]
     },
     "execution_count": 57,
     "metadata": {},
     "output_type": "execute_result"
    }
   ],
   "source": [
    "d['k1'][3]['tricky'][3]['target'][3]"
   ]
  },
  {
   "cell_type": "markdown",
   "id": "fb65a506-7785-43ee-8291-02b0c1bb7b88",
   "metadata": {},
   "source": [
    "**What is the main difference between a tuple and a list?**"
   ]
  },
  {
   "cell_type": "markdown",
   "id": "62a5ebef-b5fe-49e9-948e-68a65ae9c41c",
   "metadata": {},
   "source": [
    "Tuples are immutable, lists are mutable.\n",
    "\n",
    "\n",
    "Tuples use () instead of square brackets [] used for lists. "
   ]
  },
  {
   "cell_type": "markdown",
   "id": "fc730c74-c417-4221-aabd-4e3dccacfcef",
   "metadata": {},
   "source": [
    "**Create a function that grabs the email website domain from a string in the form:**\n",
    "\n",
    "user@domain.com\n",
    "So for example, passing \"user@domain.com\" would return: domain.com"
   ]
  },
  {
   "cell_type": "code",
   "execution_count": 87,
   "id": "a10f2303-fd64-4571-aada-c63f7155e159",
   "metadata": {},
   "outputs": [],
   "source": [
    "website='user@domain.com'"
   ]
  },
  {
   "cell_type": "code",
   "execution_count": 97,
   "id": "6c909ddc-0c2e-4fab-98fc-4e44f299d7f8",
   "metadata": {},
   "outputs": [],
   "source": [
    "def domain_separator(x):\n",
    "    domain=x.split('@')[-1]\n",
    "    print(domain)"
   ]
  },
  {
   "cell_type": "code",
   "execution_count": 99,
   "id": "62122b94-9694-4939-8bcc-723e63f752bf",
   "metadata": {},
   "outputs": [
    {
     "name": "stdout",
     "output_type": "stream",
     "text": [
      "domain.com\n"
     ]
    }
   ],
   "source": [
    "domain_separator(website)"
   ]
  },
  {
   "cell_type": "markdown",
   "id": "256badc6-086d-4ebe-bb97-c4be0e5348db",
   "metadata": {},
   "source": [
    "**Create a basic function that returns True if the word 'dog' is contained in the input string. Don't worry about edge cases like a punctuation being attached to the word dog, but do account for capitalization.**\n",
    "\n",
    "Here you can see two solution for it."
   ]
  },
  {
   "cell_type": "code",
   "execution_count": 15,
   "id": "058040ff-fc71-4145-a997-885ecc0e2d29",
   "metadata": {},
   "outputs": [],
   "source": [
    "def word_search(s):\n",
    "    s = s.upper()\n",
    "    if s.find('DOG')!=-1:\n",
    "        return True\n",
    "    else: \n",
    "        return False"
   ]
  },
  {
   "cell_type": "code",
   "execution_count": 27,
   "id": "20b6cc67-3144-4aee-b562-329299686c95",
   "metadata": {},
   "outputs": [],
   "source": [
    "s='I love my Dog Dog'"
   ]
  },
  {
   "cell_type": "code",
   "execution_count": 29,
   "id": "a6aaca19-282c-4bfa-ac24-b82e2ff9ee0d",
   "metadata": {},
   "outputs": [
    {
     "name": "stdout",
     "output_type": "stream",
     "text": [
      "True\n"
     ]
    }
   ],
   "source": [
    "print(word_search(s))"
   ]
  },
  {
   "cell_type": "code",
   "execution_count": 9,
   "id": "62bcf5ff-6078-4719-bdb8-1cf6ef98a976",
   "metadata": {},
   "outputs": [],
   "source": [
    "x=s.find('DOG')"
   ]
  },
  {
   "cell_type": "code",
   "execution_count": 37,
   "id": "00860121-6dcc-48be-830a-22b194cfc257",
   "metadata": {},
   "outputs": [],
   "source": [
    "def contains_dog(string):\n",
    "    return 'dog' in string.lower().split()"
   ]
  },
  {
   "cell_type": "code",
   "execution_count": 39,
   "id": "7b94ce0a-3fe7-4009-a850-2dd2fab207d7",
   "metadata": {},
   "outputs": [
    {
     "name": "stdout",
     "output_type": "stream",
     "text": [
      "False\n",
      "False\n",
      "True\n"
     ]
    }
   ],
   "source": [
    "print(contains_dog(\"My neighbor has a Dog.\")) \n",
    "print(contains_dog(\"I have a cat.\"))         \n",
    "print(contains_dog(\"DOG is my favorite animal.\")) "
   ]
  },
  {
   "cell_type": "markdown",
   "id": "582e1ac1-afb5-43a1-8321-f6c389558435",
   "metadata": {},
   "source": [
    "**Create a function that counts the number of times the word \"dog\" occurs in a string. Again ignore edge cases.**"
   ]
  },
  {
   "cell_type": "code",
   "execution_count": 116,
   "id": "e8fd3518-a360-462b-9b77-6395137c0c62",
   "metadata": {},
   "outputs": [],
   "source": [
    "def dog_counter(s):\n",
    "    x = 0\n",
    "    my_list=s.lower().replace('.', '').split()\n",
    "    for i in range(len(my_list)):\n",
    "        if my_list[i]=='dog':\n",
    "            x+=1\n",
    "    return x"
   ]
  },
  {
   "cell_type": "code",
   "execution_count": 124,
   "id": "9bd07654-17bc-4753-a1cc-a1bbf2c2c553",
   "metadata": {},
   "outputs": [
    {
     "name": "stdout",
     "output_type": "stream",
     "text": [
      "The number of word dog in this sentence: 2\n"
     ]
    }
   ],
   "source": [
    "s=\"My Dog neighbor has a Dog.\"\n",
    "print(f\"The number of word dog in this sentence:\",dog_counter(s))"
   ]
  },
  {
   "cell_type": "code",
   "execution_count": 110,
   "id": "e7778b4d-672d-4229-ac94-45aa825e044f",
   "metadata": {},
   "outputs": [],
   "source": [
    "z=len(my_list)"
   ]
  },
  {
   "cell_type": "code",
   "execution_count": 112,
   "id": "99debd5a-e378-4286-86bf-31ced08e962f",
   "metadata": {},
   "outputs": [
    {
     "name": "stdout",
     "output_type": "stream",
     "text": [
      "dog\n",
      "dog\n"
     ]
    }
   ],
   "source": [
    "for i in range(z):\n",
    "    if my_list[i]=='dog':\n",
    "        print(my_list[i])"
   ]
  },
  {
   "cell_type": "code",
   "execution_count": null,
   "id": "c91cdf0f-3e68-4949-9bcd-c1863e743f88",
   "metadata": {},
   "outputs": [],
   "source": [
    "def dog_counter(s):\n",
    "    x = 0\n",
    "    for i in s.lower().replace('.', '').split():\n",
    "        if i == 'dog':\n",
    "            x += 1\n",
    "    return x"
   ]
  },
  {
   "cell_type": "code",
   "execution_count": null,
   "id": "a80aad97-be55-45cb-915d-7fc15e16d4ed",
   "metadata": {},
   "outputs": [],
   "source": [
    "s=\"My Dog neighbor has a Dog.\"\n",
    "print(f\"The number of word dog in this sentence:\",dog_counter(s))"
   ]
  },
  {
   "cell_type": "code",
   "execution_count": 126,
   "id": "8d9e28a0-1da5-4068-9d45-b88db7395e4f",
   "metadata": {},
   "outputs": [
    {
     "data": {
      "text/plain": [
       "['my', 'dog', 'neighbor', 'has', 'a', 'dog']"
      ]
     },
     "execution_count": 126,
     "metadata": {},
     "output_type": "execute_result"
    }
   ],
   "source": []
  },
  {
   "cell_type": "code",
   "execution_count": null,
   "id": "407203f5-3ab1-4574-b52c-52f699042238",
   "metadata": {},
   "outputs": [],
   "source": []
  }
 ],
 "metadata": {
  "kernelspec": {
   "display_name": "Python 3 (ipykernel)",
   "language": "python",
   "name": "python3"
  },
  "language_info": {
   "codemirror_mode": {
    "name": "ipython",
    "version": 3
   },
   "file_extension": ".py",
   "mimetype": "text/x-python",
   "name": "python",
   "nbconvert_exporter": "python",
   "pygments_lexer": "ipython3",
   "version": "3.12.7"
  }
 },
 "nbformat": 4,
 "nbformat_minor": 5
}
