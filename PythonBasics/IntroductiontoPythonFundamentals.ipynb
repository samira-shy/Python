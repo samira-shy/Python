{
 "cells": [
  {
   "cell_type": "markdown",
   "id": "d9f10573-10a3-431a-9175-02fec26e6f43",
   "metadata": {},
   "source": [
    "# Python Basics: A Comprehensive Overview  \n",
    "\n",
    "Welcome to this notebook on **Python Basics**! This notebook is designed to provide a foundational understanding of Python by covering its core topics step by step. Whether you're a beginner or need a quick refresher, this guide will walk you through essential concepts with examples and explanations.  \n",
    "\n",
    "### Topics Covered:  \n",
    "1. **Data Types**  \n",
    "    - Numbers  \n",
    "    - Strings  \n",
    "    - Printing  \n",
    "    - Lists  \n",
    "    - Dictionaries  \n",
    "    - Booleans  \n",
    "    - Tuples  \n",
    "    - Sets  \n",
    "2. **Comparison Operators**  \n",
    "3. **Control Flow Statements**  \n",
    "    - `if`, `elif`, `else` Statements  \n",
    "4. **Loops**  \n",
    "    - `for` Loops  \n",
    "    - `while` Loops  \n",
    "5. **Useful Functions**  \n",
    "    - `range()`  \n",
    "    - List Comprehension  \n",
    "6. **Functions and Expressions**  \n",
    "    - Defining Functions  \n",
    "    - Lambda Expressions  \n",
    "    - Using `map()` and `filter()`  \n",
    "7. **Methods**  \n",
    "\n",
    "By the end of this notebook, you will have a solid understanding of these topics and be ready to move on to more advanced Python concepts. Let's get started! 🚀\n"
   ]
  },
  {
   "cell_type": "markdown",
   "id": "d0af10f0-989b-4b07-90d8-d85507c4dfbb",
   "metadata": {},
   "source": [
    "**Basic operartions**"
   ]
  },
  {
   "cell_type": "code",
   "execution_count": 2,
   "id": "cd537547-5d42-4f0b-a8cc-3d040cc0e985",
   "metadata": {},
   "outputs": [
    {
     "data": {
      "text/plain": [
       "2"
      ]
     },
     "execution_count": 2,
     "metadata": {},
     "output_type": "execute_result"
    }
   ],
   "source": [
    "1+1"
   ]
  },
  {
   "cell_type": "code",
   "execution_count": 4,
   "id": "d23d766b-1e0e-409c-bfd7-bda6fe9bfd37",
   "metadata": {},
   "outputs": [
    {
     "data": {
      "text/plain": [
       "0"
      ]
     },
     "execution_count": 4,
     "metadata": {},
     "output_type": "execute_result"
    }
   ],
   "source": [
    "1-1"
   ]
  },
  {
   "cell_type": "code",
   "execution_count": 6,
   "id": "b11fdce1-ea85-477e-aa52-8692c23ab6cd",
   "metadata": {},
   "outputs": [
    {
     "data": {
      "text/plain": [
       "2"
      ]
     },
     "execution_count": 6,
     "metadata": {},
     "output_type": "execute_result"
    }
   ],
   "source": [
    "1*2"
   ]
  },
  {
   "cell_type": "code",
   "execution_count": 8,
   "id": "65aa22eb-5220-494d-bc0d-d5f121a3ff2d",
   "metadata": {},
   "outputs": [
    {
     "data": {
      "text/plain": [
       "2.0"
      ]
     },
     "execution_count": 8,
     "metadata": {},
     "output_type": "execute_result"
    }
   ],
   "source": [
    "2/1"
   ]
  },
  {
   "cell_type": "code",
   "execution_count": 10,
   "id": "416e40b1-be91-46a2-8931-28a031c22fe3",
   "metadata": {},
   "outputs": [
    {
     "data": {
      "text/plain": [
       "0"
      ]
     },
     "execution_count": 10,
     "metadata": {},
     "output_type": "execute_result"
    }
   ],
   "source": [
    "2%1"
   ]
  },
  {
   "cell_type": "code",
   "execution_count": 15,
   "id": "4a25b7d3-123d-45fa-a3ee-7d5731aab347",
   "metadata": {},
   "outputs": [
    {
     "data": {
      "text/plain": [
       "8"
      ]
     },
     "execution_count": 15,
     "metadata": {},
     "output_type": "execute_result"
    }
   ],
   "source": [
    "# Power\n",
    "2**3"
   ]
  },
  {
   "cell_type": "code",
   "execution_count": 21,
   "id": "c67ad50b-c784-4fa2-947e-3efe28777079",
   "metadata": {},
   "outputs": [
    {
     "data": {
      "text/plain": [
       "10.0"
      ]
     },
     "execution_count": 21,
     "metadata": {},
     "output_type": "execute_result"
    }
   ],
   "source": [
    "# Default operation order by python / your own operation order using Parentheses\n",
    "2+15/5*2+2"
   ]
  },
  {
   "cell_type": "code",
   "execution_count": 23,
   "id": "749fb874-51a5-4234-8577-aa8a07b53b9d",
   "metadata": {},
   "outputs": [
    {
     "data": {
      "text/plain": [
       "-12"
      ]
     },
     "execution_count": 23,
     "metadata": {},
     "output_type": "execute_result"
    }
   ],
   "source": [
    "(2-4)*(2+4)"
   ]
  },
  {
   "cell_type": "markdown",
   "id": "6872e39d-b159-4f2f-816d-dee514d638a1",
   "metadata": {},
   "source": [
    "## Variables  \n",
    "\n",
    "In this section, we will cover how to assign values to variables and the rules for naming them properly.  \n",
    "\n",
    "### Rules for Variable Names:  \n",
    "- **Start with a lowercase letter:** Always begin variable names with a lowercase letter.  \n",
    "- **Use underscores to separate words:** For multi-word variable names, use underscores (e.g., `my_variable`) to improve readability.  \n",
    "- **Do not start with numbers:** Variable names cannot start with numbers. Python will raise an `invalid decimal literal` error if you try.  \n",
    "- **Avoid special symbols:** Variable names cannot begin with special symbols (e.g., `@`, `#`, `$`). Python will raise an `invalid syntax` error in such cases.  \n",
    "\n",
    "Below, you’ll see examples of valid and invalid variable names.\n"
   ]
  },
  {
   "cell_type": "code",
   "execution_count": 29,
   "id": "82913507-fee0-463d-b710-9b9b3aff09f1",
   "metadata": {},
   "outputs": [],
   "source": [
    "var =3"
   ]
  },
  {
   "cell_type": "code",
   "execution_count": 41,
   "id": "95adc1e0-aac3-4720-ba96-b483a8ec6ba1",
   "metadata": {},
   "outputs": [],
   "source": [
    "x = 2\n",
    "y=4"
   ]
  },
  {
   "cell_type": "code",
   "execution_count": 43,
   "id": "735cabfe-9a93-455c-aae8-5dbb9c972eaa",
   "metadata": {},
   "outputs": [
    {
     "data": {
      "text/plain": [
       "6"
      ]
     },
     "execution_count": 43,
     "metadata": {},
     "output_type": "execute_result"
    }
   ],
   "source": [
    "x+y"
   ]
  },
  {
   "cell_type": "code",
   "execution_count": 49,
   "id": "33656ebb-4e64-400b-b206-af52b7af5c92",
   "metadata": {},
   "outputs": [],
   "source": [
    "# Assign and reassign\n",
    "x = x+x"
   ]
  },
  {
   "cell_type": "code",
   "execution_count": 51,
   "id": "d68be4d9-af48-4847-b7a5-80bd9a05ddf1",
   "metadata": {},
   "outputs": [
    {
     "data": {
      "text/plain": [
       "8"
      ]
     },
     "execution_count": 51,
     "metadata": {},
     "output_type": "execute_result"
    }
   ],
   "source": [
    "x"
   ]
  },
  {
   "cell_type": "code",
   "execution_count": 63,
   "id": "3f63e278-b0af-4a5d-ab23-a0b74efb206c",
   "metadata": {},
   "outputs": [],
   "source": [
    "my_variable = 121"
   ]
  },
  {
   "cell_type": "code",
   "execution_count": 65,
   "id": "a646d2a8-4f91-4685-b6a8-c0df61f37b44",
   "metadata": {},
   "outputs": [
    {
     "ename": "SyntaxError",
     "evalue": "invalid decimal literal (1221657576.py, line 1)",
     "output_type": "error",
     "traceback": [
      "\u001b[0;36m  Cell \u001b[0;32mIn[65], line 1\u001b[0;36m\u001b[0m\n\u001b[0;31m    111var = 33\u001b[0m\n\u001b[0m      ^\u001b[0m\n\u001b[0;31mSyntaxError\u001b[0m\u001b[0;31m:\u001b[0m invalid decimal literal\n"
     ]
    }
   ],
   "source": [
    "111var = 33"
   ]
  },
  {
   "cell_type": "code",
   "execution_count": 67,
   "id": "f9c0bef2-bf0c-4f9a-8de7-50509bb551cd",
   "metadata": {},
   "outputs": [
    {
     "ename": "SyntaxError",
     "evalue": "invalid syntax (2537844640.py, line 1)",
     "output_type": "error",
     "traceback": [
      "\u001b[0;36m  Cell \u001b[0;32mIn[67], line 1\u001b[0;36m\u001b[0m\n\u001b[0;31m    `var = 33\u001b[0m\n\u001b[0m    ^\u001b[0m\n\u001b[0;31mSyntaxError\u001b[0m\u001b[0;31m:\u001b[0m invalid syntax\n"
     ]
    }
   ],
   "source": [
    "`var = 33"
   ]
  },
  {
   "cell_type": "code",
   "execution_count": null,
   "id": "91c2878a-a268-4b3e-89de-dabb88ec028e",
   "metadata": {},
   "outputs": [],
   "source": []
  }
 ],
 "metadata": {
  "kernelspec": {
   "display_name": "Python 3 (ipykernel)",
   "language": "python",
   "name": "python3"
  },
  "language_info": {
   "codemirror_mode": {
    "name": "ipython",
    "version": 3
   },
   "file_extension": ".py",
   "mimetype": "text/x-python",
   "name": "python",
   "nbconvert_exporter": "python",
   "pygments_lexer": "ipython3",
   "version": "3.12.7"
  }
 },
 "nbformat": 4,
 "nbformat_minor": 5
}
