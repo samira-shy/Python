{
 "cells": [
  {
   "cell_type": "code",
   "execution_count": null,
   "id": "ae39f6b1-98cc-411b-8c68-d29a19a57fab",
   "metadata": {},
   "outputs": [],
   "source": [
    "# ## 2. Reading Data from a CSV File\n",
    "#\n",
    "# Pandas can read data from various file formats, including CSV.\n",
    "# The following code reads a CSV file into a DataFrame.\n",
    "# Uncomment the line below and replace 'your_file.csv' with the actual file path.\n",
    "\n",
    "# df = pd.read_csv('your_file.csv')\n",
    "\n",
    "# ## 3. Accessing Data\n",
    "#\n",
    "# You can access specific columns, rows, or values in a DataFrame.\n",
    "\n",
    "# Access a single column\n",
    "display(df['Name'])\n",
    "\n",
    "# Access multiple columns\n",
    "display(df[['Name', 'Salary']])\n",
    "\n",
    "# Access a specific row by index\n",
    "display(df.iloc[1])\n",
    "\n",
    "# ## 4. Filtering Data\n",
    "#\n",
    "# Filtering is used to select specific rows based on conditions.\n",
    "\n",
    "# Select rows where Age is greater than 30\n",
    "filtered_df = df[df['Age'] > 30]\n",
    "display(filtered_df)\n",
    "\n",
    "# ## 5. Adding and Modifying Columns\n",
    "#\n",
    "# You can add new columns or modify existing ones.\n",
    "\n",
    "df['Experience'] = [2, 5, 7, 10]  # Adding a new column\n",
    "df['Salary'] = df['Salary'] * 1.05  # Increasing salary by 5%\n",
    "display(df)\n",
    "\n",
    "# ## 6. Handling Missing Values\n",
    "#\n",
    "# Missing values in a DataFrame can be filled or removed.\n",
    "\n",
    "# Creating a DataFrame with missing values\n",
    "data_with_nan = {\n",
    "    'Name': ['Alice', 'Bob', None, 'David'],\n",
    "    'Age': [25, None, 35, 40],\n",
    "    'Salary': [50000, 60000, 70000, None]\n",
    "}\n",
    "df_nan = pd.DataFrame(data_with_nan)\n",
    "display(df_nan)\n",
    "\n",
    "# Fill missing values\n",
    "df_nan_filled = df_nan.fillna({'Name': 'Unknown', 'Age': df_nan['Age'].mean(), 'Salary': df_nan['Salary'].median()})\n",
    "display(df_nan_filled)\n",
    "\n",
    "# ## 7. Grouping and Aggregation\n",
    "#\n",
    "# Pandas allows grouping of data to perform aggregate functions.\n",
    "\n",
    "grouped = df.groupby('Experience').mean()\n",
    "display(grouped)\n",
    "\n",
    "# ## 8. Exporting Data\n",
    "#\n",
    "# You can export a DataFrame to various formats such as CSV or Excel.\n",
    "\n",
    "# Export to CSV\n",
    "df.to_csv('output.csv', index=False)\n",
    "\n",
    "# Export to Excel\n",
    "df.to_excel('output.xlsx', index=False)\n",
    "\n",
    "# ## 9. Summary Statistics\n",
    "#\n",
    "# You can quickly get insights into the data using summary functions.\n",
    "\n",
    "display(df.describe())\n"
   ]
  },
  {
   "cell_type": "markdown",
   "id": "d78d4d28-8ac0-4de5-8817-1ed8c0b7c7a8",
   "metadata": {},
   "source": [
    "# Pandas Data Frames\n",
    "## 1. Creating a Pandas DataFrame\n",
    "A DataFrame is a two-dimensional, labeled data structure in Pandas.\n",
    "It is similar to an Excel spreadsheet or SQL table."
   ]
  },
  {
   "cell_type": "code",
   "execution_count": 35,
   "id": "21bfcadb-82f8-4a5b-8cc6-49d7f5822b43",
   "metadata": {},
   "outputs": [],
   "source": [
    "import numpy as np\n",
    "import pandas as pd"
   ]
  },
  {
   "cell_type": "code",
   "execution_count": 95,
   "id": "3e0207fa-5d6b-4c09-8aed-21911897cfdc",
   "metadata": {},
   "outputs": [],
   "source": [
    "from numpy.random import randn\n",
    "np.random.seed(101)"
   ]
  },
  {
   "cell_type": "code",
   "execution_count": 97,
   "id": "53df38a3-97d6-4473-b6e0-1160feb0de75",
   "metadata": {},
   "outputs": [],
   "source": [
    "# Creating \n",
    "df_rnd=pd.DataFrame(data=randn(5,4),index=['A','B','C','D','E'],columns=['W','X','Y','Z'])"
   ]
  },
  {
   "cell_type": "code",
   "execution_count": 99,
   "id": "9407902a-11b3-46fc-b2ed-ea7e37b39735",
   "metadata": {},
   "outputs": [
    {
     "data": {
      "text/html": [
       "<div>\n",
       "<style scoped>\n",
       "    .dataframe tbody tr th:only-of-type {\n",
       "        vertical-align: middle;\n",
       "    }\n",
       "\n",
       "    .dataframe tbody tr th {\n",
       "        vertical-align: top;\n",
       "    }\n",
       "\n",
       "    .dataframe thead th {\n",
       "        text-align: right;\n",
       "    }\n",
       "</style>\n",
       "<table border=\"1\" class=\"dataframe\">\n",
       "  <thead>\n",
       "    <tr style=\"text-align: right;\">\n",
       "      <th></th>\n",
       "      <th>W</th>\n",
       "      <th>X</th>\n",
       "      <th>Y</th>\n",
       "      <th>Z</th>\n",
       "    </tr>\n",
       "  </thead>\n",
       "  <tbody>\n",
       "    <tr>\n",
       "      <th>A</th>\n",
       "      <td>2.706850</td>\n",
       "      <td>0.628133</td>\n",
       "      <td>0.907969</td>\n",
       "      <td>0.503826</td>\n",
       "    </tr>\n",
       "    <tr>\n",
       "      <th>B</th>\n",
       "      <td>0.651118</td>\n",
       "      <td>-0.319318</td>\n",
       "      <td>-0.848077</td>\n",
       "      <td>0.605965</td>\n",
       "    </tr>\n",
       "    <tr>\n",
       "      <th>C</th>\n",
       "      <td>-2.018168</td>\n",
       "      <td>0.740122</td>\n",
       "      <td>0.528813</td>\n",
       "      <td>-0.589001</td>\n",
       "    </tr>\n",
       "    <tr>\n",
       "      <th>D</th>\n",
       "      <td>0.188695</td>\n",
       "      <td>-0.758872</td>\n",
       "      <td>-0.933237</td>\n",
       "      <td>0.955057</td>\n",
       "    </tr>\n",
       "    <tr>\n",
       "      <th>E</th>\n",
       "      <td>0.190794</td>\n",
       "      <td>1.978757</td>\n",
       "      <td>2.605967</td>\n",
       "      <td>0.683509</td>\n",
       "    </tr>\n",
       "  </tbody>\n",
       "</table>\n",
       "</div>"
      ],
      "text/plain": [
       "          W         X         Y         Z\n",
       "A  2.706850  0.628133  0.907969  0.503826\n",
       "B  0.651118 -0.319318 -0.848077  0.605965\n",
       "C -2.018168  0.740122  0.528813 -0.589001\n",
       "D  0.188695 -0.758872 -0.933237  0.955057\n",
       "E  0.190794  1.978757  2.605967  0.683509"
      ]
     },
     "execution_count": 99,
     "metadata": {},
     "output_type": "execute_result"
    }
   ],
   "source": [
    "df_rnd"
   ]
  },
  {
   "cell_type": "markdown",
   "id": "a600c2fe-9070-49c3-9c17-3159a9abd22b",
   "metadata": {},
   "source": [
    "## Creating a DataFrame from a dictionary\n",
    "We create dataframe using a dictionary with scalar (single) values and a dictionary of lists."
   ]
  },
  {
   "cell_type": "code",
   "execution_count": null,
   "id": "88e599aa-48a3-4007-9a1b-5b1570251b86",
   "metadata": {},
   "outputs": [],
   "source": [
    "data = {\n",
    "    'Name': ['Alice', 'Bob', 'Charlie', 'David'],\n",
    "    'Age': [25, 30, 35, 40],\n",
    "    'Salary': [50000, 60000, 70000, 80000]\n",
    "}\n",
    "df = pd.DataFrame(data)\n"
   ]
  },
  {
   "cell_type": "code",
   "execution_count": 72,
   "id": "caaf6fbf-8672-4599-8f25-44ca8c7f8687",
   "metadata": {},
   "outputs": [],
   "source": [
    "my_dict={\"Name\":\"Sam\",\"Age\":40,\"Salary\":10000}"
   ]
  },
  {
   "cell_type": "code",
   "execution_count": 74,
   "id": "2993b924-8e56-4bef-a7cc-2f8f466361d0",
   "metadata": {},
   "outputs": [],
   "source": [
    "df=pd.DataFrame(data=my_dict,index=[0])"
   ]
  },
  {
   "cell_type": "code",
   "execution_count": 76,
   "id": "10fb160c-71df-4741-909c-eef7780d3422",
   "metadata": {},
   "outputs": [
    {
     "data": {
      "text/html": [
       "<div>\n",
       "<style scoped>\n",
       "    .dataframe tbody tr th:only-of-type {\n",
       "        vertical-align: middle;\n",
       "    }\n",
       "\n",
       "    .dataframe tbody tr th {\n",
       "        vertical-align: top;\n",
       "    }\n",
       "\n",
       "    .dataframe thead th {\n",
       "        text-align: right;\n",
       "    }\n",
       "</style>\n",
       "<table border=\"1\" class=\"dataframe\">\n",
       "  <thead>\n",
       "    <tr style=\"text-align: right;\">\n",
       "      <th></th>\n",
       "      <th>Name</th>\n",
       "      <th>Age</th>\n",
       "      <th>Salary</th>\n",
       "    </tr>\n",
       "  </thead>\n",
       "  <tbody>\n",
       "    <tr>\n",
       "      <th>0</th>\n",
       "      <td>Sam</td>\n",
       "      <td>40</td>\n",
       "      <td>10000</td>\n",
       "    </tr>\n",
       "  </tbody>\n",
       "</table>\n",
       "</div>"
      ],
      "text/plain": [
       "  Name  Age  Salary\n",
       "0  Sam   40   10000"
      ]
     },
     "execution_count": 76,
     "metadata": {},
     "output_type": "execute_result"
    }
   ],
   "source": [
    "df"
   ]
  },
  {
   "cell_type": "code",
   "execution_count": 78,
   "id": "8c243c08-2d86-4e9b-96ba-b21e0cbae34c",
   "metadata": {},
   "outputs": [],
   "source": [
    "my_dict={'Name':['Beryl','Kath','Sam','Mandy'],\n",
    "        'Age':[25,30,40,23],\n",
    "        'Salary':[10000,20000,35000,12000],}"
   ]
  },
  {
   "cell_type": "code",
   "execution_count": 80,
   "id": "3c7c8a3f-1201-491f-9f69-25b126ee1490",
   "metadata": {},
   "outputs": [],
   "source": [
    "df=pd.DataFrame(data=my_dict)"
   ]
  },
  {
   "cell_type": "code",
   "execution_count": 82,
   "id": "2e944d97-8f55-4bda-8390-6850e0265e73",
   "metadata": {},
   "outputs": [
    {
     "data": {
      "text/html": [
       "<div>\n",
       "<style scoped>\n",
       "    .dataframe tbody tr th:only-of-type {\n",
       "        vertical-align: middle;\n",
       "    }\n",
       "\n",
       "    .dataframe tbody tr th {\n",
       "        vertical-align: top;\n",
       "    }\n",
       "\n",
       "    .dataframe thead th {\n",
       "        text-align: right;\n",
       "    }\n",
       "</style>\n",
       "<table border=\"1\" class=\"dataframe\">\n",
       "  <thead>\n",
       "    <tr style=\"text-align: right;\">\n",
       "      <th></th>\n",
       "      <th>Name</th>\n",
       "      <th>Age</th>\n",
       "      <th>Salary</th>\n",
       "    </tr>\n",
       "  </thead>\n",
       "  <tbody>\n",
       "    <tr>\n",
       "      <th>0</th>\n",
       "      <td>Beryl</td>\n",
       "      <td>25</td>\n",
       "      <td>10000</td>\n",
       "    </tr>\n",
       "    <tr>\n",
       "      <th>1</th>\n",
       "      <td>Kath</td>\n",
       "      <td>30</td>\n",
       "      <td>20000</td>\n",
       "    </tr>\n",
       "    <tr>\n",
       "      <th>2</th>\n",
       "      <td>Sam</td>\n",
       "      <td>40</td>\n",
       "      <td>35000</td>\n",
       "    </tr>\n",
       "    <tr>\n",
       "      <th>3</th>\n",
       "      <td>Mandy</td>\n",
       "      <td>23</td>\n",
       "      <td>12000</td>\n",
       "    </tr>\n",
       "  </tbody>\n",
       "</table>\n",
       "</div>"
      ],
      "text/plain": [
       "    Name  Age  Salary\n",
       "0  Beryl   25   10000\n",
       "1   Kath   30   20000\n",
       "2    Sam   40   35000\n",
       "3  Mandy   23   12000"
      ]
     },
     "execution_count": 82,
     "metadata": {},
     "output_type": "execute_result"
    }
   ],
   "source": [
    "df"
   ]
  },
  {
   "cell_type": "code",
   "execution_count": 84,
   "id": "6a355fe8-40ca-4c8e-afdc-c4273b1fcb75",
   "metadata": {},
   "outputs": [
    {
     "data": {
      "text/html": [
       "<div>\n",
       "<style scoped>\n",
       "    .dataframe tbody tr th:only-of-type {\n",
       "        vertical-align: middle;\n",
       "    }\n",
       "\n",
       "    .dataframe tbody tr th {\n",
       "        vertical-align: top;\n",
       "    }\n",
       "\n",
       "    .dataframe thead th {\n",
       "        text-align: right;\n",
       "    }\n",
       "</style>\n",
       "<table border=\"1\" class=\"dataframe\">\n",
       "  <thead>\n",
       "    <tr style=\"text-align: right;\">\n",
       "      <th></th>\n",
       "      <th>Name</th>\n",
       "      <th>Age</th>\n",
       "      <th>Salary</th>\n",
       "    </tr>\n",
       "  </thead>\n",
       "  <tbody>\n",
       "    <tr>\n",
       "      <th>0</th>\n",
       "      <td>Beryl</td>\n",
       "      <td>25</td>\n",
       "      <td>10000</td>\n",
       "    </tr>\n",
       "    <tr>\n",
       "      <th>1</th>\n",
       "      <td>Kath</td>\n",
       "      <td>30</td>\n",
       "      <td>20000</td>\n",
       "    </tr>\n",
       "    <tr>\n",
       "      <th>2</th>\n",
       "      <td>Sam</td>\n",
       "      <td>40</td>\n",
       "      <td>35000</td>\n",
       "    </tr>\n",
       "    <tr>\n",
       "      <th>3</th>\n",
       "      <td>Mandy</td>\n",
       "      <td>23</td>\n",
       "      <td>12000</td>\n",
       "    </tr>\n",
       "  </tbody>\n",
       "</table>\n",
       "</div>"
      ],
      "text/plain": [
       "    Name  Age  Salary\n",
       "0  Beryl   25   10000\n",
       "1   Kath   30   20000\n",
       "2    Sam   40   35000\n",
       "3  Mandy   23   12000"
      ]
     },
     "metadata": {},
     "output_type": "display_data"
    }
   ],
   "source": [
    "# Display the DataFrame\n",
    "\n",
    "display(df)"
   ]
  },
  {
   "cell_type": "markdown",
   "id": "7e8fc272-5f91-4279-b0cf-d4d2446bffab",
   "metadata": {},
   "source": [
    "## Selection and Indexing"
   ]
  },
  {
   "cell_type": "code",
   "execution_count": 104,
   "id": "536ee34a-ed57-4eb7-b07f-e8696b1d3e9e",
   "metadata": {},
   "outputs": [
    {
     "data": {
      "text/plain": [
       "A    2.706850\n",
       "B    0.651118\n",
       "C   -2.018168\n",
       "D    0.188695\n",
       "E    0.190794\n",
       "Name: W, dtype: float64"
      ]
     },
     "execution_count": 104,
     "metadata": {},
     "output_type": "execute_result"
    }
   ],
   "source": [
    "# Grabbing a column\n",
    "df_rnd['W']"
   ]
  },
  {
   "cell_type": "code",
   "execution_count": 108,
   "id": "bc74efff-f323-468e-acf0-e4840f8f451b",
   "metadata": {},
   "outputs": [
    {
     "data": {
      "text/plain": [
       "pandas.core.series.Series"
      ]
     },
     "execution_count": 108,
     "metadata": {},
     "output_type": "execute_result"
    }
   ],
   "source": [
    "type(df_rnd['W'])"
   ]
  },
  {
   "cell_type": "code",
   "execution_count": 110,
   "id": "7fc03458-9190-4541-b42d-d4a19e31b185",
   "metadata": {},
   "outputs": [
    {
     "data": {
      "text/plain": [
       "pandas.core.frame.DataFrame"
      ]
     },
     "execution_count": 110,
     "metadata": {},
     "output_type": "execute_result"
    }
   ],
   "source": [
    "type(df)"
   ]
  },
  {
   "cell_type": "code",
   "execution_count": 112,
   "id": "12d9ff32-86c7-4c7f-bda0-240fa06ad68b",
   "metadata": {},
   "outputs": [
    {
     "data": {
      "text/plain": [
       "A    2.706850\n",
       "B    0.651118\n",
       "C   -2.018168\n",
       "D    0.188695\n",
       "E    0.190794\n",
       "Name: W, dtype: float64"
      ]
     },
     "execution_count": 112,
     "metadata": {},
     "output_type": "execute_result"
    }
   ],
   "source": [
    "df_rnd.W"
   ]
  },
  {
   "cell_type": "code",
   "execution_count": null,
   "id": "64d4939c-a08d-4888-be19-515649b85dee",
   "metadata": {},
   "outputs": [],
   "source": []
  }
 ],
 "metadata": {
  "kernelspec": {
   "display_name": "Python 3 (ipykernel)",
   "language": "python",
   "name": "python3"
  },
  "language_info": {
   "codemirror_mode": {
    "name": "ipython",
    "version": 3
   },
   "file_extension": ".py",
   "mimetype": "text/x-python",
   "name": "python",
   "nbconvert_exporter": "python",
   "pygments_lexer": "ipython3",
   "version": "3.12.7"
  }
 },
 "nbformat": 4,
 "nbformat_minor": 5
}
