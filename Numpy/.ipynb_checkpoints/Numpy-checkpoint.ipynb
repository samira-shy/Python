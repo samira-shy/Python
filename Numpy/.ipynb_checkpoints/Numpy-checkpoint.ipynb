{
 "cells": [
  {
   "cell_type": "markdown",
   "id": "f8ff6c4a-38af-47d2-b4e4-105d41a6ece8",
   "metadata": {},
   "source": [
    "# Numpy\n",
    "NumPy (or Numpy) is a Linear Algebra Library for Python, the reason it is so important for Data Science with Python is that almost all of the libraries in the PyData Ecosystem rely on NumPy as one of their main building blocks.\n",
    "* Numpy is also incredibly fast, as it has bindings to C libraries.\n",
    "\n",
    "It is highly recommended you install Python using the Anaconda distribution to make sure all underlying dependencies (such as Linear Algebra libraries) all sync up with the use of a conda install.\n",
    "* If you have Anaconda, install NumPy by going to your terminal or command prompt and typing:\n",
    "\n",
    "conda install numpy \n",
    "pip install numpy\n",
    "\n",
    "We are gonna work with Numpy arrays mainly throught tutorial :\n",
    "NumPy arrays are the main way we will use Numpy throughout the course.\n",
    "* Numpy arrays essentially come in two flavors: vectors and matrices.\n",
    "* Vectors are strictly 1-d arrays and matrices are 2-d (but you should note a matrix can still have only one row or one column).\n",
    "Various ways to create a Numpy array using Numpy"
   ]
  },
  {
   "cell_type": "code",
   "execution_count": 2,
   "id": "79676af4-cad8-44bd-a02a-607b71b44920",
   "metadata": {},
   "outputs": [],
   "source": [
    "import numpy as np"
   ]
  },
  {
   "cell_type": "code",
   "execution_count": 10,
   "id": "b294e64d-ce90-41aa-9f47-d028a393e4d8",
   "metadata": {},
   "outputs": [],
   "source": [
    "my_list=[1,2,3]"
   ]
  },
  {
   "cell_type": "code",
   "execution_count": 14,
   "id": "59e6fc5a-3cc0-4f5d-bd12-ab06c250e697",
   "metadata": {},
   "outputs": [],
   "source": [
    "# Casting a list as an array:\n",
    "arr = np.array(my_list)"
   ]
  },
  {
   "cell_type": "code",
   "execution_count": 18,
   "id": "65d0a881-2c90-4dd4-ba08-95ce1c943074",
   "metadata": {},
   "outputs": [
    {
     "data": {
      "text/plain": [
       "array([1, 2, 3])"
      ]
     },
     "execution_count": 18,
     "metadata": {},
     "output_type": "execute_result"
    }
   ],
   "source": [
    "# it will return a 1-d array\n",
    "arr"
   ]
  },
  {
   "cell_type": "code",
   "execution_count": 20,
   "id": "e42c05af-f1e0-4460-9ea2-495bd32f42cf",
   "metadata": {},
   "outputs": [],
   "source": [
    "# A 2-d array by casting a list of list\n",
    "\n",
    "# Creating a list of list\n",
    "my_mat=[[1,2,3],[4,5,6],[7,8,9]]"
   ]
  },
  {
   "cell_type": "code",
   "execution_count": 22,
   "id": "0b50a38a-0c67-4149-a031-332045071bb8",
   "metadata": {},
   "outputs": [
    {
     "data": {
      "text/plain": [
       "[[1, 2, 3], [4, 5, 6], [7, 8, 9]]"
      ]
     },
     "execution_count": 22,
     "metadata": {},
     "output_type": "execute_result"
    }
   ],
   "source": [
    "my_mat"
   ]
  },
  {
   "cell_type": "code",
   "execution_count": 24,
   "id": "49951791-36a2-4a46-b068-c6be89dac5fb",
   "metadata": {},
   "outputs": [],
   "source": [
    "# Casting my_mat to no.array I will  get back a 2 dimensional array\n",
    "mat_arr = np.array(my_mat)"
   ]
  },
  {
   "cell_type": "markdown",
   "id": "3521e193-00c1-4e29-9ea1-7ec6d8243131",
   "metadata": {},
   "source": [
    "It has 3 rows and 3 columns"
   ]
  },
  {
   "cell_type": "code",
   "execution_count": 26,
   "id": "796acf0a-9498-4a8e-b93e-a67f268d6f10",
   "metadata": {},
   "outputs": [
    {
     "data": {
      "text/plain": [
       "array([[1, 2, 3],\n",
       "       [4, 5, 6],\n",
       "       [7, 8, 9]])"
      ]
     },
     "execution_count": 26,
     "metadata": {},
     "output_type": "execute_result"
    }
   ],
   "source": [
    "mat_arr"
   ]
  },
  {
   "cell_type": "markdown",
   "id": "ffe5c07e-d95f-48bf-99bc-d0d0141d7148",
   "metadata": {},
   "source": [
    "Most common ways to create a Numpy array\n",
    "* start and stop(up to but not including like python range)\n",
    "   np.arange()\n",
    "* by adding a third argument (step size)"
   ]
  },
  {
   "cell_type": "code",
   "execution_count": 30,
   "id": "b231b6cf-f65e-4a39-ac9f-73baef4b59a5",
   "metadata": {},
   "outputs": [
    {
     "data": {
      "text/plain": [
       "array([0, 1, 2, 3, 4, 5, 6, 7, 8, 9])"
      ]
     },
     "execution_count": 30,
     "metadata": {},
     "output_type": "execute_result"
    }
   ],
   "source": [
    "# start and stop(up to but not inclusing)\n",
    "np.arange(0,10)"
   ]
  },
  {
   "cell_type": "code",
   "execution_count": 32,
   "id": "804c5203-3191-469a-bd08-5a471c006c9e",
   "metadata": {},
   "outputs": [
    {
     "data": {
      "text/plain": [
       "array([ 0,  2,  4,  6,  8, 10])"
      ]
     },
     "execution_count": 32,
     "metadata": {},
     "output_type": "execute_result"
    }
   ],
   "source": [
    "# steps\n",
    "np.arange(0,11,2)"
   ]
  },
  {
   "cell_type": "markdown",
   "id": "e1a5f59b-16fe-486e-a646-51ea1e87d79a",
   "metadata": {},
   "source": [
    "Specific types of array:\n",
    "1. generating array of all zeros:\n",
    "    * np.zeros() by passing a single digit to creat a 1-d array\n",
    "    * np.zeros() by passing a tuple to creat a 2-d array"
   ]
  },
  {
   "cell_type": "code",
   "execution_count": 34,
   "id": "9d5d4a9a-7a24-49f1-a2e3-aa78c64226e6",
   "metadata": {},
   "outputs": [
    {
     "data": {
      "text/plain": [
       "array([0., 0., 0.])"
      ]
     },
     "execution_count": 34,
     "metadata": {},
     "output_type": "execute_result"
    }
   ],
   "source": [
    "np.zeros(3)"
   ]
  },
  {
   "cell_type": "code",
   "execution_count": 37,
   "id": "fa812e27-a9aa-4388-ad25-6cf1f31a4992",
   "metadata": {},
   "outputs": [
    {
     "data": {
      "text/plain": [
       "array([[0., 0., 0., 0.],\n",
       "       [0., 0., 0., 0.],\n",
       "       [0., 0., 0., 0.],\n",
       "       [0., 0., 0., 0.]])"
      ]
     },
     "execution_count": 37,
     "metadata": {},
     "output_type": "execute_result"
    }
   ],
   "source": [
    "np.zeros((4,4))"
   ]
  },
  {
   "cell_type": "code",
   "execution_count": null,
   "id": "e54902e7-c476-418f-b2d3-dda72d457938",
   "metadata": {},
   "outputs": [],
   "source": []
  }
 ],
 "metadata": {
  "kernelspec": {
   "display_name": "Python 3 (ipykernel)",
   "language": "python",
   "name": "python3"
  },
  "language_info": {
   "codemirror_mode": {
    "name": "ipython",
    "version": 3
   },
   "file_extension": ".py",
   "mimetype": "text/x-python",
   "name": "python",
   "nbconvert_exporter": "python",
   "pygments_lexer": "ipython3",
   "version": "3.12.7"
  }
 },
 "nbformat": 4,
 "nbformat_minor": 5
}
