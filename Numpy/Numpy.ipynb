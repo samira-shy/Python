{
 "cells": [
  {
   "cell_type": "markdown",
   "id": "f8ff6c4a-38af-47d2-b4e4-105d41a6ece8",
   "metadata": {},
   "source": [
    "# Numpy\n",
    "NumPy (or Numpy) is a Linear Algebra Library for Python, the reason it is so important for Data Science with Python is that almost all of the libraries in the PyData Ecosystem rely on NumPy as one of their main building blocks.\n",
    "* Numpy is also incredibly fast, as it has bindings to C libraries.\n",
    "\n",
    "It is highly recommended you install Python using the Anaconda distribution to make sure all underlying dependencies (such as Linear Algebra libraries) all sync up with the use of a conda install.\n",
    "* If you have Anaconda, install NumPy by going to your terminal or command prompt and typing:\n",
    "\n",
    "conda install numpy \n",
    "pip install numpy\n",
    "\n",
    "We are gonna work with Numpy arrays mainly"
   ]
  },
  {
   "cell_type": "code",
   "execution_count": 2,
   "id": "79676af4-cad8-44bd-a02a-607b71b44920",
   "metadata": {},
   "outputs": [],
   "source": [
    "import numpy as np"
   ]
  },
  {
   "cell_type": "code",
   "execution_count": null,
   "id": "b294e64d-ce90-41aa-9f47-d028a393e4d8",
   "metadata": {},
   "outputs": [],
   "source": []
  }
 ],
 "metadata": {
  "kernelspec": {
   "display_name": "Python 3 (ipykernel)",
   "language": "python",
   "name": "python3"
  },
  "language_info": {
   "codemirror_mode": {
    "name": "ipython",
    "version": 3
   },
   "file_extension": ".py",
   "mimetype": "text/x-python",
   "name": "python",
   "nbconvert_exporter": "python",
   "pygments_lexer": "ipython3",
   "version": "3.12.7"
  }
 },
 "nbformat": 4,
 "nbformat_minor": 5
}
