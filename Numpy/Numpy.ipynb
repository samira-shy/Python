{
 "cells": [
  {
   "cell_type": "markdown",
   "id": "f8ff6c4a-38af-47d2-b4e4-105d41a6ece8",
   "metadata": {},
   "source": [
    "# Numpy\n",
    "NumPy (or Numpy) is a Linear Algebra Library for Python, the reason it is so important for Data Science with Python is that almost all of the libraries in the PyData Ecosystem rely on NumPy as one of their main building blocks.\n",
    "* Numpy is also incredibly fast, as it has bindings to C libraries.\n",
    "\n",
    "It is highly recommended you install Python using the Anaconda distribution to make sure all underlying dependencies (such as Linear Algebra libraries) all sync up with the use of a conda install.\n",
    "* If you have Anaconda, install NumPy by going to your terminal or command prompt and typing:\n",
    "\n",
    "conda install numpy \n",
    "pip install numpy\n",
    "\n",
    "We are gonna work with Numpy arrays mainly throught tutorial :\n",
    "NumPy arrays are the main way we will use Numpy throughout the course.\n",
    "* Numpy arrays essentially come in two flavors: vectors and matrices.\n",
    "* Vectors are strictly 1-d arrays and matrices are 2-d (but you should note a matrix can still have only one row or one column).\n",
    "Various ways to create a Numpy array using Numpy"
   ]
  },
  {
   "cell_type": "code",
   "execution_count": 2,
   "id": "79676af4-cad8-44bd-a02a-607b71b44920",
   "metadata": {},
   "outputs": [],
   "source": [
    "import numpy as np"
   ]
  },
  {
   "cell_type": "code",
   "execution_count": 3,
   "id": "b294e64d-ce90-41aa-9f47-d028a393e4d8",
   "metadata": {},
   "outputs": [],
   "source": [
    "my_list=[1,2,3]"
   ]
  },
  {
   "cell_type": "code",
   "execution_count": 4,
   "id": "59e6fc5a-3cc0-4f5d-bd12-ab06c250e697",
   "metadata": {},
   "outputs": [],
   "source": [
    "# Casting a list as an array:\n",
    "arr = np.array(my_list)"
   ]
  },
  {
   "cell_type": "code",
   "execution_count": 5,
   "id": "65d0a881-2c90-4dd4-ba08-95ce1c943074",
   "metadata": {},
   "outputs": [
    {
     "data": {
      "text/plain": [
       "array([1, 2, 3])"
      ]
     },
     "execution_count": 5,
     "metadata": {},
     "output_type": "execute_result"
    }
   ],
   "source": [
    "# it will return a 1-d array\n",
    "arr"
   ]
  },
  {
   "cell_type": "code",
   "execution_count": 6,
   "id": "e42c05af-f1e0-4460-9ea2-495bd32f42cf",
   "metadata": {},
   "outputs": [],
   "source": [
    "# A 2-d array by casting a list of list\n",
    "\n",
    "# Creating a list of list\n",
    "my_mat=[[1,2,3],[4,5,6],[7,8,9]]"
   ]
  },
  {
   "cell_type": "code",
   "execution_count": 7,
   "id": "0b50a38a-0c67-4149-a031-332045071bb8",
   "metadata": {},
   "outputs": [
    {
     "data": {
      "text/plain": [
       "[[1, 2, 3], [4, 5, 6], [7, 8, 9]]"
      ]
     },
     "execution_count": 7,
     "metadata": {},
     "output_type": "execute_result"
    }
   ],
   "source": [
    "my_mat"
   ]
  },
  {
   "cell_type": "code",
   "execution_count": 8,
   "id": "49951791-36a2-4a46-b068-c6be89dac5fb",
   "metadata": {},
   "outputs": [],
   "source": [
    "# Casting my_mat to no.array I will  get back a 2 dimensional array\n",
    "mat_arr = np.array(my_mat)"
   ]
  },
  {
   "cell_type": "markdown",
   "id": "3521e193-00c1-4e29-9ea1-7ec6d8243131",
   "metadata": {},
   "source": [
    "It has 3 rows and 3 columns"
   ]
  },
  {
   "cell_type": "code",
   "execution_count": 10,
   "id": "796acf0a-9498-4a8e-b93e-a67f268d6f10",
   "metadata": {},
   "outputs": [
    {
     "data": {
      "text/plain": [
       "array([[1, 2, 3],\n",
       "       [4, 5, 6],\n",
       "       [7, 8, 9]])"
      ]
     },
     "execution_count": 10,
     "metadata": {},
     "output_type": "execute_result"
    }
   ],
   "source": [
    "mat_arr"
   ]
  },
  {
   "cell_type": "markdown",
   "id": "ffe5c07e-d95f-48bf-99bc-d0d0141d7148",
   "metadata": {},
   "source": [
    "Most common ways to create a Numpy array\n",
    "* start and stop(up to but not including like python range)\n",
    "   np.arange()\n",
    "* by adding a third argument (step size)"
   ]
  },
  {
   "cell_type": "code",
   "execution_count": 12,
   "id": "b231b6cf-f65e-4a39-ac9f-73baef4b59a5",
   "metadata": {},
   "outputs": [
    {
     "data": {
      "text/plain": [
       "array([0, 1, 2, 3, 4, 5, 6, 7, 8, 9])"
      ]
     },
     "execution_count": 12,
     "metadata": {},
     "output_type": "execute_result"
    }
   ],
   "source": [
    "# start and stop(up to but not inclusing)\n",
    "np.arange(0,10)"
   ]
  },
  {
   "cell_type": "code",
   "execution_count": 13,
   "id": "804c5203-3191-469a-bd08-5a471c006c9e",
   "metadata": {},
   "outputs": [
    {
     "data": {
      "text/plain": [
       "array([ 0,  2,  4,  6,  8, 10])"
      ]
     },
     "execution_count": 13,
     "metadata": {},
     "output_type": "execute_result"
    }
   ],
   "source": [
    "# steps\n",
    "np.arange(0,11,2)"
   ]
  },
  {
   "cell_type": "markdown",
   "id": "e1a5f59b-16fe-486e-a646-51ea1e87d79a",
   "metadata": {},
   "source": [
    "Specific types of array:\n",
    "1. generating array of all zeros:\n",
    "    * np.zeros() by passing a single digit to creat a 1-d array\n",
    "    * np.zeros() by passing a tuple to creat a 2-d array"
   ]
  },
  {
   "cell_type": "code",
   "execution_count": 15,
   "id": "9d5d4a9a-7a24-49f1-a2e3-aa78c64226e6",
   "metadata": {},
   "outputs": [
    {
     "data": {
      "text/plain": [
       "array([0., 0., 0.])"
      ]
     },
     "execution_count": 15,
     "metadata": {},
     "output_type": "execute_result"
    }
   ],
   "source": [
    " # creating an array of 3 zeros\n",
    "np.zeros(3)"
   ]
  },
  {
   "cell_type": "code",
   "execution_count": 16,
   "id": "fa812e27-a9aa-4388-ad25-6cf1f31a4992",
   "metadata": {},
   "outputs": [
    {
     "data": {
      "text/plain": [
       "array([[0., 0., 0., 0.],\n",
       "       [0., 0., 0., 0.],\n",
       "       [0., 0., 0., 0.],\n",
       "       [0., 0., 0., 0.]])"
      ]
     },
     "execution_count": 16,
     "metadata": {},
     "output_type": "execute_result"
    }
   ],
   "source": [
    "np.zeros((4,4))"
   ]
  },
  {
   "cell_type": "markdown",
   "id": "30ede73d-4690-40da-8eb9-f4432fdc17da",
   "metadata": {},
   "source": [
    "Array of all ones"
   ]
  },
  {
   "cell_type": "code",
   "execution_count": 18,
   "id": "19101d22-4b01-47ac-92a8-7ff33071809c",
   "metadata": {},
   "outputs": [
    {
     "data": {
      "text/plain": [
       "array([1., 1., 1., 1., 1.])"
      ]
     },
     "execution_count": 18,
     "metadata": {},
     "output_type": "execute_result"
    }
   ],
   "source": [
    "np.ones(5)"
   ]
  },
  {
   "cell_type": "markdown",
   "id": "6a9cd3a1-b4fa-4b71-8114-064e6ec75c31",
   "metadata": {},
   "source": [
    "**creating an array of 5 integer fives**"
   ]
  },
  {
   "cell_type": "code",
   "execution_count": 335,
   "id": "dce00f91-b285-455e-87dc-545b2f0ea69a",
   "metadata": {},
   "outputs": [
    {
     "data": {
      "text/plain": [
       "array([5, 5, 5, 5, 5])"
      ]
     },
     "execution_count": 335,
     "metadata": {},
     "output_type": "execute_result"
    }
   ],
   "source": [
    "np.ones(5,int)*5"
   ]
  },
  {
   "cell_type": "code",
   "execution_count": 337,
   "id": "415bffbd-858a-4f05-a3e7-a4a2114548da",
   "metadata": {},
   "outputs": [
    {
     "data": {
      "text/plain": [
       "array([5., 5., 5., 5., 5.])"
      ]
     },
     "execution_count": 337,
     "metadata": {},
     "output_type": "execute_result"
    }
   ],
   "source": [
    "np.zeros(5)+5"
   ]
  },
  {
   "cell_type": "markdown",
   "id": "7641461c-b421-4778-a91a-4ac2adb3c062",
   "metadata": {},
   "source": [
    "**creating an array of integer from 10 to 30**"
   ]
  },
  {
   "cell_type": "code",
   "execution_count": 343,
   "id": "ce78ace4-b164-4933-9fef-81026a764541",
   "metadata": {},
   "outputs": [
    {
     "data": {
      "text/plain": [
       "array([10, 11, 12, 13, 14, 15, 16, 17, 18, 19, 20, 21, 22, 23, 24, 25, 26,\n",
       "       27, 28, 29])"
      ]
     },
     "execution_count": 343,
     "metadata": {},
     "output_type": "execute_result"
    }
   ],
   "source": [
    "np.arange(10,30)"
   ]
  },
  {
   "cell_type": "markdown",
   "id": "d9501d7c-455b-474b-a5dd-77eb7ed8ac46",
   "metadata": {},
   "source": [
    "**create an array of integers from 10 to 30 with only even values**"
   ]
  },
  {
   "cell_type": "code",
   "execution_count": 363,
   "id": "4bbc2a3b-e09c-4d8f-83d2-e98f72e39321",
   "metadata": {},
   "outputs": [
    {
     "data": {
      "text/plain": [
       "array([10, 12, 14, 16, 18, 20, 22, 24, 26, 28, 30])"
      ]
     },
     "execution_count": 363,
     "metadata": {},
     "output_type": "execute_result"
    }
   ],
   "source": [
    "np.arange(10,31,2)"
   ]
  },
  {
   "cell_type": "markdown",
   "id": "50ada633-9001-4b11-9996-5ab998c51aef",
   "metadata": {},
   "source": [
    "**create an array of integers from 10 to 30 with only odd values**"
   ]
  },
  {
   "cell_type": "code",
   "execution_count": 351,
   "id": "b38ca850-b220-44ba-85a2-ba18db8e6880",
   "metadata": {},
   "outputs": [
    {
     "data": {
      "text/plain": [
       "array([11, 13, 15, 17, 19, 21, 23, 25, 27, 29])"
      ]
     },
     "execution_count": 351,
     "metadata": {},
     "output_type": "execute_result"
    }
   ],
   "source": [
    "np.arange(11,31,2)"
   ]
  },
  {
   "cell_type": "code",
   "execution_count": 19,
   "id": "b1ba4205-2664-4925-b1cc-ea8f346fa529",
   "metadata": {},
   "outputs": [
    {
     "data": {
      "text/plain": [
       "array([[1., 1., 1., 1.],\n",
       "       [1., 1., 1., 1.],\n",
       "       [1., 1., 1., 1.],\n",
       "       [1., 1., 1., 1.]])"
      ]
     },
     "execution_count": 19,
     "metadata": {},
     "output_type": "execute_result"
    }
   ],
   "source": [
    "# 2-d ones matrix\n",
    "np.ones((4,4))"
   ]
  },
  {
   "cell_type": "markdown",
   "id": "fd329ead-edad-480d-97d0-648a2231f2fe",
   "metadata": {},
   "source": [
    "## `linspace()`\n",
    "The `numpy.linspace()` function generates evenly spaced numbers over a specified interval. Unlike `arange()`, which uses a step size, `linspace()` is defined by the number of points you want between the start and stop values.\n",
    "\n",
    "## Syntax\n",
    "```python\n",
    "numpy.linspace(start, stop, num, endpoint=True, retstep=False, dtype=None, axis=0)\n",
    "```\n",
    "### Parameters:\n",
    "- `start`: The starting value of the sequence.\n",
    "- `stop`: The end value of the sequence.\n",
    "- `num`: The number of evenly spaced samples to generate.\n",
    "- `endpoint` (default: `True`): If `True`, `stop` is included in the sequence. If `False`, `stop` is not included.\n",
    "- `retstep` (default: `False`): If `True`, returns the step size in addition to the array.\n",
    "- `dtype`: The data type of the output array.\n",
    "- `axis`: The axis in the result along which the values are stored (default: `0`).\n",
    "\n",
    "## Key Differences Between `linspace()` and `arange()`\n",
    "- `arange(start, stop, step)` generates values based on a specified step size.\n",
    "- `linspace(start, stop, num)` generates a fixed number of points between `start` and `stop`.\n",
    "- `arange()` returns values based on step increments, while `linspace()` guarantees an exact number of elements.\n",
    "\n",
    "\n",
    "---\n",
    "\n",
    "## Conclusion\n",
    "- Use `linspace()` when you need a specific number of points between two values.\n",
    "- Use `arange()` when you want values based on a step size.\n",
    "- `linspace()` is useful in graph plotting, signal processing, and numerical computations requiring fixed intervals.\n"
   ]
  },
  {
   "cell_type": "code",
   "execution_count": 21,
   "id": "3e5aa700-fc67-4feb-a6d0-da4044fe1eb7",
   "metadata": {},
   "outputs": [
    {
     "data": {
      "text/plain": [
       "array([ 1.  ,  3.25,  5.5 ,  7.75, 10.  ])"
      ]
     },
     "execution_count": 21,
     "metadata": {},
     "output_type": "execute_result"
    }
   ],
   "source": [
    "np.linspace(1,10,5)"
   ]
  },
  {
   "cell_type": "markdown",
   "id": "93f7c1dd-4c65-4a0e-b5b1-3532ee8c1ad8",
   "metadata": {},
   "source": [
    "### Example: Excluding the Endpoint"
   ]
  },
  {
   "cell_type": "code",
   "execution_count": 23,
   "id": "a44c7c28-9a72-4633-a45f-df752952603b",
   "metadata": {},
   "outputs": [
    {
     "name": "stdout",
     "output_type": "stream",
     "text": [
      "[0. 2. 4. 6. 8.]\n"
     ]
    }
   ],
   "source": [
    "arr = np.linspace(0, 10, 5, endpoint=False)\n",
    "print(arr)"
   ]
  },
  {
   "cell_type": "markdown",
   "id": "99ce9b9e-8505-48b2-80b3-e97adfeec39a",
   "metadata": {},
   "source": [
    "### Example: Returning Step Size"
   ]
  },
  {
   "cell_type": "code",
   "execution_count": 25,
   "id": "81ea9a97-6ba5-41b9-be5b-851c51c11470",
   "metadata": {},
   "outputs": [
    {
     "name": "stdout",
     "output_type": "stream",
     "text": [
      "Array: [ 0.   2.5  5.   7.5 10. ]\n",
      "Step size: 2.5\n"
     ]
    }
   ],
   "source": [
    "arr, step = np.linspace(0, 10, 5, retstep=True)\n",
    "print(\"Array:\", arr)\n",
    "print(\"Step size:\", step)"
   ]
  },
  {
   "cell_type": "code",
   "execution_count": 408,
   "id": "01a7ca83-6314-4a4e-a850-60e86ae2f727",
   "metadata": {},
   "outputs": [
    {
     "data": {
      "text/plain": [
       "array([[0.01, 0.02, 0.03, 0.04, 0.05, 0.06, 0.07, 0.08, 0.09, 0.1 ],\n",
       "       [0.11, 0.12, 0.13, 0.14, 0.15, 0.16, 0.17, 0.18, 0.19, 0.2 ],\n",
       "       [0.21, 0.22, 0.23, 0.24, 0.25, 0.26, 0.27, 0.28, 0.29, 0.3 ],\n",
       "       [0.31, 0.32, 0.33, 0.34, 0.35, 0.36, 0.37, 0.38, 0.39, 0.4 ],\n",
       "       [0.41, 0.42, 0.43, 0.44, 0.45, 0.46, 0.47, 0.48, 0.49, 0.5 ],\n",
       "       [0.51, 0.52, 0.53, 0.54, 0.55, 0.56, 0.57, 0.58, 0.59, 0.6 ],\n",
       "       [0.61, 0.62, 0.63, 0.64, 0.65, 0.66, 0.67, 0.68, 0.69, 0.7 ],\n",
       "       [0.71, 0.72, 0.73, 0.74, 0.75, 0.76, 0.77, 0.78, 0.79, 0.8 ],\n",
       "       [0.81, 0.82, 0.83, 0.84, 0.85, 0.86, 0.87, 0.88, 0.89, 0.9 ],\n",
       "       [0.91, 0.92, 0.93, 0.94, 0.95, 0.96, 0.97, 0.98, 0.99, 1.  ]])"
      ]
     },
     "execution_count": 408,
     "metadata": {},
     "output_type": "execute_result"
    }
   ],
   "source": [
    "np.linspace(0.01,1,100).reshape(10,10)"
   ]
  },
  {
   "cell_type": "markdown",
   "id": "851e78b2-1a46-42d0-ab72-62d135140f71",
   "metadata": {},
   "source": [
    "**Create an array of 20 linearly spaced points between 0 and 1:**"
   ]
  },
  {
   "cell_type": "code",
   "execution_count": 406,
   "id": "7b788aa2-4c43-4371-98d5-0fcca6636fc3",
   "metadata": {},
   "outputs": [
    {
     "name": "stdout",
     "output_type": "stream",
     "text": [
      "The array is:\n",
      " [0.         0.05263158 0.10526316 0.15789474 0.21052632 0.26315789\n",
      " 0.31578947 0.36842105 0.42105263 0.47368421 0.52631579 0.57894737\n",
      " 0.63157895 0.68421053 0.73684211 0.78947368 0.84210526 0.89473684\n",
      " 0.94736842 1.        ]\n",
      "\n",
      " The step size is :0.05263157894736842\n"
     ]
    }
   ],
   "source": [
    "arr, step_size = np.linspace(0,1,num=20,retstep=True)\n",
    "\n",
    "print('The array is:\\n {}\\n\\n The step size is :{}'.format(arr,step_size))"
   ]
  },
  {
   "cell_type": "markdown",
   "id": "09e4937e-c31a-4d52-8a11-cd8b63901c3d",
   "metadata": {},
   "source": [
    "### Using `linspace()` for Sine Wave Generation\n",
    "`x = np.linspace(0, 2*np.pi, 100)`\n",
    "* np.linspace(start, stop, num_points) generates an array of evenly spaced values between start and stop.\n",
    "\n",
    "* 0 is the starting point (0 radians).\n",
    "* 2*np.pi is the stopping point (approximately 6.28 radians, which is one full cycle of a sine wave).\n",
    "* 100 specifies that the array will contain 100 equally spaced values between 0 and 2π.\n",
    "\n",
    "`y = np.sin(x)`\n",
    "* This applies the sine function to each element of the array x (which contains values between 0   and 2π).\n",
    "* np.sin(x) returns the sine of each value in x, generating the corresponding y-values for the sine wave."
   ]
  },
  {
   "cell_type": "code",
   "execution_count": 27,
   "id": "756a684e-8f42-49fd-a196-1d589b5582a1",
   "metadata": {},
   "outputs": [
    {
     "data": {
      "image/png": "[encoded data removed]",
      "text/plain": [
       "<Figure size 640x480 with 1 Axes>"
      ]
     },
     "metadata": {},
     "output_type": "display_data"
    }
   ],
   "source": [
    "import matplotlib.pyplot as plt\n",
    "\n",
    "x = np.linspace(0, 2*np.pi, 100)\n",
    "y = np.sin(x)\n",
    "\n",
    "plt.plot(x, y)\n",
    "plt.title(\"Sine Wave\")\n",
    "plt.xlabel(\"x\")\n",
    "plt.ylabel(\"sin(x)\")\n",
    "plt.show()"
   ]
  },
  {
   "cell_type": "markdown",
   "id": "8e071d54-8adb-4f14-bfd7-d7d007fb96eb",
   "metadata": {},
   "source": [
    "## Identity Matrix"
   ]
  },
  {
   "cell_type": "code",
   "execution_count": 29,
   "id": "0c05796c-4f14-4f76-925f-605489957566",
   "metadata": {},
   "outputs": [
    {
     "data": {
      "text/plain": [
       "array([[1., 0., 0., 0.],\n",
       "       [0., 1., 0., 0.],\n",
       "       [0., 0., 1., 0.],\n",
       "       [0., 0., 0., 1.]])"
      ]
     },
     "execution_count": 29,
     "metadata": {},
     "output_type": "execute_result"
    }
   ],
   "source": [
    "np.eye(4)"
   ]
  },
  {
   "cell_type": "markdown",
   "id": "1a684ed6-6ad5-422e-8e50-cf86b0b2a340",
   "metadata": {},
   "source": [
    "## Generating Arrays of Random Numbers with NumPy\n",
    "* np.random.rand() is a function in NumPy that generates random numbers from a uniform distribution over the interval [0, 1). This means that it generates numbers that are equally likely to be any value between 0 (inclusive) and 1 (exclusive).\n",
    "\n",
    "### Generating a 2D array of random numbers\n",
    "You can also generate multi-dimensional arrays by passing multiple arguments to np.random.rand(). By passing dimensions as separate arguments, instead of tuples\n",
    "\n",
    "### Generating a 3D array"
   ]
  },
  {
   "cell_type": "code",
   "execution_count": 31,
   "id": "41d41a90-8d75-4656-94dc-d93cd572ac46",
   "metadata": {},
   "outputs": [
    {
     "data": {
      "text/plain": [
       "array([0.58724365, 0.95685507, 0.744577  ])"
      ]
     },
     "execution_count": 31,
     "metadata": {},
     "output_type": "execute_result"
    }
   ],
   "source": [
    "np.random.rand(3)"
   ]
  },
  {
   "cell_type": "code",
   "execution_count": 369,
   "id": "268ee7fa-1e3d-4a5b-95fe-37f55355be89",
   "metadata": {},
   "outputs": [
    {
     "data": {
      "text/plain": [
       "array([0.89123785])"
      ]
     },
     "execution_count": 369,
     "metadata": {},
     "output_type": "execute_result"
    }
   ],
   "source": [
    "# Generate a random number\n",
    "np.random.rand(1)"
   ]
  },
  {
   "cell_type": "code",
   "execution_count": 32,
   "id": "ec8e9978-6a6b-4ee9-9ca2-7f3ea5eb9f89",
   "metadata": {},
   "outputs": [
    {
     "name": "stdout",
     "output_type": "stream",
     "text": [
      "[[0.10971563 0.36882834 0.21407863]\n",
      " [0.38475384 0.21944202 0.68916634]]\n"
     ]
    }
   ],
   "source": [
    "# Generate a 2D array with 2 rows and 3 columns\n",
    "random_array = np.random.rand(2, 3)\n",
    "print(random_array)\n"
   ]
  },
  {
   "cell_type": "code",
   "execution_count": 33,
   "id": "1b36b624-70e2-40cc-854c-8baf39fe3e09",
   "metadata": {},
   "outputs": [
    {
     "name": "stdout",
     "output_type": "stream",
     "text": [
      "[[[0.47064073 0.48914627 0.32633007 0.74142335]\n",
      "  [0.8940008  0.3135499  0.42285568 0.3853065 ]\n",
      "  [0.54379502 0.80160346 0.3705194  0.06168487]]\n",
      "\n",
      " [[0.29330901 0.33122239 0.01989716 0.97277736]\n",
      "  [0.89583833 0.88832759 0.22818091 0.67741181]\n",
      "  [0.16781141 0.25700425 0.8349621  0.69353873]]]\n"
     ]
    }
   ],
   "source": [
    "# Generate a 3D array with dimensions 2x3x4\n",
    "random_3d_array = np.random.rand(2, 3, 4)\n",
    "print(random_3d_array)\n"
   ]
  },
  {
   "cell_type": "markdown",
   "id": "61d0001f-4f46-4a7f-95d5-83c3e8b6b3cb",
   "metadata": {},
   "source": [
    "## np.random.randn()\n",
    "\n",
    "### 1-D\n",
    "The function np.random.randn() in NumPy generates an array of random numbers sampled from a standard normal distribution (also known as a Gaussian distribution), which has a mean of 0 and a standard deviation of 1. Unlike np.random.rand(), which generates numbers between 0 and 1, np.random.randn() can return both positive and negative numbers.\n",
    "\n",
    "### Key Points:\n",
    "Standard Normal Distribution: This means the numbers are distributed such that (Empirical Rule):\n",
    "* Around 68% of the values will fall between -1 and 1.\n",
    "* Around 95% will fall between -2 and 2.\n",
    "* Around 99.7% will fall between -3 and 3.\n",
    "The numbers are not constrained between 0 and 1, unlike np.random.rand().\n",
    "This is useful when you need data that is centered around zero and has a unit variance (for example, in machine learning algorithms, statistical modeling, etc.).\n",
    "\n",
    "The 68-95-99.7 rule refers to the percentage of data that falls within certain ranges around the mean in a normal distribution (also called a Gaussian distribution). It’s important to understand that these percentages are cumulative ranges.\n",
    "\n",
    "**clarifying:**\n",
    "\n",
    "* 68% of the values lie within 1 standard deviation of the mean (from -1 to +1).\n",
    "* 95% of the values lie within 2 standard deviations of the mean (from -2 to +2).\n",
    "* 99.7% of the values lie within 3 standard deviations of the mean (from -3 to +3).\n",
    "\n",
    "So, when we look at the range for each of these percentages, we’re essentially looking at overlapping regions of the distribution.\n",
    "\n",
    "How It Works:\n",
    "68% of the values fall within the first range (-1 to 1).\n",
    "But then, the next 27% of the values (95% - 68%) fall within the second range (-2 to 2).\n",
    "And the next 4.7% of the values (99.7% - 95%) fall within the third range (-3 to 3).\n",
    "Now, here’s where the confusion can arise: These percentages do not represent disjoint sections but are cumulative, so the numbers within each range are adding up incrementally.\n",
    "\n",
    "Visualizing It:\n",
    "Let’s break it down into a cumulative form:\n",
    "\n",
    "-1 to +1: 68% of the data.\n",
    "-2 to +2: 95% of the data (includes the previous 68% plus an additional 27%).\n",
    "-3 to +3: 99.7% of the data (includes the previous 95% plus an additional 4.7%).\n",
    "This is why the 68%, 95%, and 99.7% don't add up to 100%—they are cumulative values across overlapping sections of the distribution.\n",
    "\n",
    "Each category is describing the range of values, and they overlap. So, the 68% is just the range from -1 to +1, the 27% is the range from -2 to -1 and +1 to +2, and the 4.7% is the range from -3 to -2 and +2 to +3. All together, they sum up to 99.7%, but they are cumulative ranges, not separate, independent percentages.\n",
    "\n",
    "\n",
    "The 68%, 95%, and 99.7% are cumulative percentages.\n",
    "They represent ranges around the mean, with each successive range including the previous range's values.\n",
    "These values don’t add up to 100%, because the ranges overlap.\n",
    "\n",
    "### 2-D\n",
    "\n",
    "\n",
    "\n"
   ]
  },
  {
   "cell_type": "markdown",
   "id": "61deeb80-e36e-4900-9b5d-297d597ae593",
   "metadata": {},
   "source": [
    "**Generate an array of 5 random numbers sampled from a standard normal distribution¶**"
   ]
  },
  {
   "cell_type": "code",
   "execution_count": 375,
   "id": "aeaa5efc-9760-4ac0-8b87-882a0dceef4e",
   "metadata": {},
   "outputs": [
    {
     "data": {
      "text/plain": [
       "array([-0.34661653,  1.31833716,  0.41507217,  0.58306809, -2.07009088])"
      ]
     },
     "execution_count": 375,
     "metadata": {},
     "output_type": "execute_result"
    }
   ],
   "source": [
    "np.random.randn(5)"
   ]
  },
  {
   "cell_type": "code",
   "execution_count": 35,
   "id": "b88d9770-0dc4-48f0-871e-b958516af288",
   "metadata": {},
   "outputs": [
    {
     "data": {
      "text/plain": [
       "array([ 0.78928005, -1.27195377,  0.82527997])"
      ]
     },
     "execution_count": 35,
     "metadata": {},
     "output_type": "execute_result"
    }
   ],
   "source": [
    "np.random.randn(3)"
   ]
  },
  {
   "cell_type": "code",
   "execution_count": 36,
   "id": "71cc9ef4-1e47-45d8-b283-30dd7d9fabfc",
   "metadata": {},
   "outputs": [
    {
     "data": {
      "text/plain": [
       "array([[-2.90589081e+00,  5.89512356e-01,  1.31808080e+00,\n",
       "         4.68480434e-01],\n",
       "       [ 9.55154917e-01, -8.96801445e-01, -1.48402707e-04,\n",
       "         6.85081423e-01],\n",
       "       [-1.57747313e+00, -9.09274609e-02,  1.46309055e-01,\n",
       "        -2.56649346e+00]])"
      ]
     },
     "execution_count": 36,
     "metadata": {},
     "output_type": "execute_result"
    }
   ],
   "source": [
    "np.random.randn(3,4)"
   ]
  },
  {
   "cell_type": "code",
   "execution_count": 383,
   "id": "35730805-3d97-450a-a31d-3a15814f2cc9",
   "metadata": {},
   "outputs": [
    {
     "data": {
      "text/plain": [
       "array([[0.01, 0.02, 0.03, 0.04, 0.05, 0.06, 0.07, 0.08, 0.09, 0.1 ],\n",
       "       [0.11, 0.12, 0.13, 0.14, 0.15, 0.16, 0.17, 0.18, 0.19, 0.2 ],\n",
       "       [0.21, 0.22, 0.23, 0.24, 0.25, 0.26, 0.27, 0.28, 0.29, 0.3 ],\n",
       "       [0.31, 0.32, 0.33, 0.34, 0.35, 0.36, 0.37, 0.38, 0.39, 0.4 ],\n",
       "       [0.41, 0.42, 0.43, 0.44, 0.45, 0.46, 0.47, 0.48, 0.49, 0.5 ],\n",
       "       [0.51, 0.52, 0.53, 0.54, 0.55, 0.56, 0.57, 0.58, 0.59, 0.6 ],\n",
       "       [0.61, 0.62, 0.63, 0.64, 0.65, 0.66, 0.67, 0.68, 0.69, 0.7 ],\n",
       "       [0.71, 0.72, 0.73, 0.74, 0.75, 0.76, 0.77, 0.78, 0.79, 0.8 ],\n",
       "       [0.81, 0.82, 0.83, 0.84, 0.85, 0.86, 0.87, 0.88, 0.89, 0.9 ],\n",
       "       [0.91, 0.92, 0.93, 0.94, 0.95, 0.96, 0.97, 0.98, 0.99, 1.  ]])"
      ]
     },
     "execution_count": 383,
     "metadata": {},
     "output_type": "execute_result"
    }
   ],
   "source": [
    "np.arange(1,101).reshape(10,10)/100"
   ]
  },
  {
   "cell_type": "markdown",
   "id": "7acce47c-6571-4b01-b7b7-90ab5721062c",
   "metadata": {},
   "source": [
    "\n",
    "## Generating Random Integers with `np.random.randint()`\n",
    "\n",
    "The `np.random.randint()` function in NumPy generates random integers from a specified range. The integers are uniformly distributed.\n",
    "\n",
    "## Syntax\n",
    "```python\n",
    "np.random.randint(low, high=None, size=None, dtype=int)\n",
    "```\n",
    "* `low`: Lowest integer (inclusive).\n",
    "* `high`: Highest integer (exclusive).\n",
    "* `size`: Shape of the output array.\n",
    "* `dtype`: Data type of the output array.\n",
    "\n",
    "Generate a single random integer between 0 and 10 (exclusive)"
   ]
  },
  {
   "cell_type": "code",
   "execution_count": 38,
   "id": "cb67e592-f69f-4560-99eb-88f47106dcd0",
   "metadata": {},
   "outputs": [
    {
     "data": {
      "text/plain": [
       "22"
      ]
     },
     "execution_count": 38,
     "metadata": {},
     "output_type": "execute_result"
    }
   ],
   "source": [
    "np.random.randint(1,100)"
   ]
  },
  {
   "cell_type": "markdown",
   "id": "3d458583-606b-4666-94b2-9e33fa68a46e",
   "metadata": {},
   "source": [
    "Generate 5 random integers between 0 and 100"
   ]
  },
  {
   "cell_type": "code",
   "execution_count": 40,
   "id": "7f636da6-45c2-4fe4-8ae7-5279ab5568d3",
   "metadata": {},
   "outputs": [
    {
     "name": "stdout",
     "output_type": "stream",
     "text": [
      "[64 85 90 17 73]\n"
     ]
    }
   ],
   "source": [
    "random_integers = np.random.randint(0, 100, size=5)\n",
    "print(random_integers)"
   ]
  },
  {
   "cell_type": "markdown",
   "id": "db65ceb2-3625-4428-914d-a640416607c1",
   "metadata": {},
   "source": [
    "Generate 4 random integers with dtype=np.int64"
   ]
  },
  {
   "cell_type": "code",
   "execution_count": 42,
   "id": "61b200c5-b7b2-4073-9085-f86c7a2294bc",
   "metadata": {},
   "outputs": [
    {
     "name": "stdout",
     "output_type": "stream",
     "text": [
      "[17 34 84 94]\n"
     ]
    }
   ],
   "source": [
    "random_array_dtype = np.random.randint(10, 100, size=4, dtype=np.int64)\n",
    "print(random_array_dtype)"
   ]
  },
  {
   "cell_type": "markdown",
   "id": "980002ed-8dbd-47b8-a184-11eb82033737",
   "metadata": {},
   "source": [
    "Generate random integers with negative values"
   ]
  },
  {
   "cell_type": "code",
   "execution_count": 44,
   "id": "e577d977-47ea-47ce-a971-ca8ea09c056d",
   "metadata": {},
   "outputs": [
    {
     "name": "stdout",
     "output_type": "stream",
     "text": [
      "[-9 -3  2 -7]\n"
     ]
    }
   ],
   "source": [
    "random_array_negative = np.random.randint(-10, 10, size=4)\n",
    "print(random_array_negative)"
   ]
  },
  {
   "cell_type": "markdown",
   "id": "0ebcb1dc-5f17-4ccf-8a6a-5e7ec703bb58",
   "metadata": {},
   "source": [
    "## Some Attributes of Arrays\n",
    "\n",
    "### 1. **Reshape Method**:\n",
    "The `reshape()` method returns a new array containing the same data, but with a different shape. You pass the new dimensions as arguments.\n",
    "\n",
    "---\n",
    "\n",
    "### 2. **Flatten Method**:\n",
    "The `flatten()` method converts a multi-dimensional array into a 1D array. It returns a new array that is a copy of the original array, flattened.\n",
    "\n",
    "\n",
    "---\n",
    "\n",
    "### 3. **Transpose Method**:\n",
    "The `transpose()` method reverses the axes of a multi-dimensional array, swapping rows and columns for 2D arrays.\n",
    "\n",
    "\n",
    "---\n",
    "\n",
    "### 4. **Sum Method**:\n",
    "The `sum()` method calculates the sum of array elements along a specified axis or for the entire array if no axis is specified.\n",
    "\n",
    "\n",
    "---\n",
    "\n",
    "### 5. **Mean Method**:\n",
    "The `mean()` method calculates the arithmetic mean of the array's elements, either globally or along a specific axis.\n",
    "\n",
    "\n",
    "---\n",
    "\n",
    "### 6. **Max/Min Methods**:\n",
    "The `max()` and `min()` methods return the maximum and minimum values in the array, respectively. You can also specify an axis to find the maximum or minimum along that axis.\n",
    "\n",
    "\n",
    "---\n",
    "\n",
    "### 7. **Argmax/Argmin Methods**:\n",
    "The `argmax()` and `argmin()` methods return the indices of the maximum and minimum values in the array, respectively.\n",
    "\n",
    "\n",
    "---\n",
    "\n",
    "### 8. **Unique Method**:\n",
    "The `unique()` method returns the sorted unique elements of an array. It’s useful for removing duplicates.\n",
    "\n",
    "\n",
    "---\n",
    "\n",
    "### 9. **Concatenate Method**:\n",
    "The `concatenate()` method joins two or more arrays along a specified axis.\n",
    "\n",
    "\n",
    "---\n",
    "\n",
    "### 10. **Split Method**:\n",
    "The `split()` method splits an array into multiple sub-arrays along a specified axis.\n",
    "\n",
    "\n",
    "---\n",
    "\n",
    "### 11. **Indexing and Slicing**:\n",
    "You can access specific elements of an array or slice an array into subarrays using indexing and slicing.\n",
    "\n",
    "---\n",
    "### 12. **Shape Attribute (`arr.shape`)**:\n",
    "The `shape` attribute of a NumPy array returns a tuple representing the dimensions of the array. It shows the size of the array along each axis.\n",
    "\n",
    "---\n",
    "\n",
    "### 13. **Data Type Attribute (`arr.dtype`)**:\n",
    "The `dtype` attribute of a NumPy array returns the data type of the elements in the array. This helps you understand the type of data the array holds (e.g., integers, floats, etc.).\n",
    "\n",
    "---\n",
    "\n",
    "### Summary:\n",
    "- `reshape()` changes the shape of the array.\n",
    "- `flatten()` converts a multi-dimensional array to 1D.\n",
    "- `transpose()` swaps axes for multi-dimensional arrays.\n",
    "- `sum()`, `mean()`, `max()`, `min()`, `argmax()`, and `argmin()` provide statistical operations.\n",
    "- `unique()` finds unique elements in an array.\n",
    "- `concatenate()` and `split()` help combine or divide arrays.\n",
    "- `shape` returns the dimension of the array\n",
    "- `arr.dtype` gives the data type of the elements in the array (e.g., int32, float64).\n",
    "\n",
    "\n",
    "These methods and attributes help you manipulate and analyze data efficiently in NumPy."
   ]
  },
  {
   "cell_type": "code",
   "execution_count": 46,
   "id": "f8af4b53-a5c7-4dee-a9f2-6c020de03129",
   "metadata": {},
   "outputs": [],
   "source": [
    "arr=np.arange(16)"
   ]
  },
  {
   "cell_type": "code",
   "execution_count": 47,
   "id": "9baa67c3-1697-479c-8743-cb141fdf033d",
   "metadata": {},
   "outputs": [
    {
     "data": {
      "text/plain": [
       "array([ 0,  1,  2,  3,  4,  5,  6,  7,  8,  9, 10, 11, 12, 13, 14, 15])"
      ]
     },
     "execution_count": 47,
     "metadata": {},
     "output_type": "execute_result"
    }
   ],
   "source": [
    "arr"
   ]
  },
  {
   "cell_type": "code",
   "execution_count": 48,
   "id": "986dd2b8-6738-4aa2-9dbd-2ea61506c037",
   "metadata": {},
   "outputs": [],
   "source": [
    "ranarr=np.random.randint(0,50,10)"
   ]
  },
  {
   "cell_type": "code",
   "execution_count": 49,
   "id": "c9f3069f-cb0e-4ec6-9a1d-7d5cdccd2b56",
   "metadata": {},
   "outputs": [
    {
     "data": {
      "text/plain": [
       "array([25, 11, 48,  5, 31, 11, 15, 18,  3, 42])"
      ]
     },
     "execution_count": 49,
     "metadata": {},
     "output_type": "execute_result"
    }
   ],
   "source": [
    "ranarr"
   ]
  },
  {
   "cell_type": "markdown",
   "id": "d0daaa57-3353-4c5c-8689-5b4e4d632d0e",
   "metadata": {},
   "source": [
    "Reshape methods:"
   ]
  },
  {
   "cell_type": "code",
   "execution_count": 51,
   "id": "c5ecf6cb-3c79-4f16-a239-aa1a81d3a117",
   "metadata": {},
   "outputs": [],
   "source": [
    "reshaped_arr=arr.reshape(4,4)"
   ]
  },
  {
   "cell_type": "code",
   "execution_count": 52,
   "id": "ffb26295-7cbc-4d19-8e8a-c083019e10d6",
   "metadata": {},
   "outputs": [
    {
     "data": {
      "text/plain": [
       "array([[ 0,  1,  2,  3],\n",
       "       [ 4,  5,  6,  7],\n",
       "       [ 8,  9, 10, 11],\n",
       "       [12, 13, 14, 15]])"
      ]
     },
     "execution_count": 52,
     "metadata": {},
     "output_type": "execute_result"
    }
   ],
   "source": [
    "reshaped_arr"
   ]
  },
  {
   "cell_type": "markdown",
   "id": "b93ebcf2-6980-4738-854c-f85b3045026e",
   "metadata": {},
   "source": [
    "**Create a 3x3 matrix with values ranging from 0 to 8**"
   ]
  },
  {
   "cell_type": "code",
   "execution_count": 366,
   "id": "0a4d2083-84ac-4835-ba0e-078758344549",
   "metadata": {},
   "outputs": [
    {
     "data": {
      "text/plain": [
       "array([[0, 1, 2],\n",
       "       [3, 4, 5],\n",
       "       [6, 7, 8]])"
      ]
     },
     "execution_count": 366,
     "metadata": {},
     "output_type": "execute_result"
    }
   ],
   "source": [
    "np.arange(9).reshape(3,3)"
   ]
  },
  {
   "cell_type": "code",
   "execution_count": 53,
   "id": "6b95fd5b-a468-4cb5-b83b-6f9d02d6fb91",
   "metadata": {},
   "outputs": [
    {
     "ename": "ValueError",
     "evalue": "cannot reshape array of size 16 into shape (4,3)",
     "output_type": "error",
     "traceback": [
      "\u001b[0;31m---------------------------------------------------------------------------\u001b[0m",
      "\u001b[0;31mValueError\u001b[0m                                Traceback (most recent call last)",
      "Cell \u001b[0;32mIn[53], line 3\u001b[0m\n\u001b[1;32m      1\u001b[0m \u001b[38;5;66;03m# we will get an error if don't fill-up that matrix completely\u001b[39;00m\n\u001b[1;32m      2\u001b[0m \u001b[38;5;66;03m# For example we 12 element to fill new array\u001b[39;00m\n\u001b[0;32m----> 3\u001b[0m arr\u001b[38;5;241m.\u001b[39mreshape(\u001b[38;5;241m4\u001b[39m,\u001b[38;5;241m3\u001b[39m)\n",
      "\u001b[0;31mValueError\u001b[0m: cannot reshape array of size 16 into shape (4,3)"
     ]
    }
   ],
   "source": [
    "# we will get an error if don't fill-up that matrix completely\n",
    "# For example we 12 element to fill new array\n",
    "arr.reshape(4,3)"
   ]
  },
  {
   "cell_type": "code",
   "execution_count": 107,
   "id": "ed85f28b-ee0d-44cf-86ea-83bc2da5aa27",
   "metadata": {},
   "outputs": [
    {
     "name": "stdout",
     "output_type": "stream",
     "text": [
      "[ 0  1  2  3  4  5  6  7  8  9 10 11 12 13 14 15]\n"
     ]
    }
   ],
   "source": [
    "# Flatten the reshaped array\n",
    "flattened_arr = reshaped_arr.flatten()\n",
    "print(flattened_arr)"
   ]
  },
  {
   "cell_type": "code",
   "execution_count": 109,
   "id": "8bc7102c-4166-4116-bd27-0c938fdfbcfa",
   "metadata": {},
   "outputs": [
    {
     "name": "stdout",
     "output_type": "stream",
     "text": [
      "[[ 0  4  8 12]\n",
      " [ 1  5  9 13]\n",
      " [ 2  6 10 14]\n",
      " [ 3  7 11 15]]\n"
     ]
    }
   ],
   "source": [
    "# Transpose the reshaped array (swap rows and columns)\n",
    "transposed_arr = reshaped_arr.transpose()\n",
    "print(transposed_arr)\n"
   ]
  },
  {
   "cell_type": "code",
   "execution_count": 111,
   "id": "b4465a92-479e-4502-b7b7-16c3975c2f78",
   "metadata": {},
   "outputs": [
    {
     "name": "stdout",
     "output_type": "stream",
     "text": [
      "Total Sum: 120\n"
     ]
    }
   ],
   "source": [
    "# Sum all elements in the array\n",
    "total_sum = arr.sum()\n",
    "print(\"Total Sum:\", total_sum)\n"
   ]
  },
  {
   "cell_type": "code",
   "execution_count": 112,
   "id": "c992277e-b586-42c4-93d7-990dba8be5c7",
   "metadata": {},
   "outputs": [
    {
     "name": "stdout",
     "output_type": "stream",
     "text": [
      "Column-wise Sum: [24 28 32 36]\n"
     ]
    }
   ],
   "source": [
    "# Sum along a specific axis (axis 0 - column-wise sum)\n",
    "column_sum = reshaped_arr.sum(axis=0)\n",
    "print(\"Column-wise Sum:\", column_sum)"
   ]
  },
  {
   "cell_type": "code",
   "execution_count": 113,
   "id": "03c18916-8606-4741-be02-08b843e84632",
   "metadata": {},
   "outputs": [
    {
     "name": "stdout",
     "output_type": "stream",
     "text": [
      "Mean of array: 7.5\n"
     ]
    }
   ],
   "source": [
    "# Calculate the mean of all elements\n",
    "mean_val = arr.mean()\n",
    "print(\"Mean of array:\", mean_val)"
   ]
  },
  {
   "cell_type": "code",
   "execution_count": 115,
   "id": "72e09517-2054-43e5-a1a8-e7be02a91a41",
   "metadata": {},
   "outputs": [
    {
     "name": "stdout",
     "output_type": "stream",
     "text": [
      "Row-wise Mean: [ 1.5  5.5  9.5 13.5]\n"
     ]
    }
   ],
   "source": [
    "\n",
    "# Calculate the mean along a specific axis (axis 1 - row-wise mean)\n",
    "row_mean = reshaped_arr.mean(axis=1)\n",
    "print(\"Row-wise Mean:\", row_mean)"
   ]
  },
  {
   "cell_type": "code",
   "execution_count": 117,
   "id": "cc4cb44f-7479-465c-9adb-ce56c46812ff",
   "metadata": {},
   "outputs": [
    {
     "name": "stdout",
     "output_type": "stream",
     "text": [
      "[ 0  1  2  3  4  5  6  7  8  9 10 11 12 13 14 15]\n",
      "max value:  15\n",
      "min value:  0\n"
     ]
    }
   ],
   "source": [
    "print(arr)\n",
    "max_val = arr.max()\n",
    "min_val = arr.min()\n",
    "print('max value: ',max_val)\n",
    "print('min value: ',min_val)"
   ]
  },
  {
   "cell_type": "code",
   "execution_count": 118,
   "id": "2b4a4684-2963-464c-a006-c3668b12d160",
   "metadata": {},
   "outputs": [
    {
     "name": "stdout",
     "output_type": "stream",
     "text": [
      "Row-wise Max: [ 3  7 11 15]\n"
     ]
    }
   ],
   "source": [
    "# Find the maximum values along a specific axis (axis 1 - row-wise max)\n",
    "row_max = reshaped_arr.max(axis=1)\n",
    "print(\"Row-wise Max:\", row_max)"
   ]
  },
  {
   "cell_type": "code",
   "execution_count": 119,
   "id": "053768a1-41ef-4cf4-9efe-ceaeaf4f7292",
   "metadata": {},
   "outputs": [
    {
     "name": "stdout",
     "output_type": "stream",
     "text": [
      "Index of max value: 15\n"
     ]
    }
   ],
   "source": [
    "# Get the index of the maximum value in the array\n",
    "max_index = arr.argmax()\n",
    "print(\"Index of max value:\", max_index)"
   ]
  },
  {
   "cell_type": "code",
   "execution_count": 122,
   "id": "c7c40e40-788b-4dee-bed7-8e36705487a2",
   "metadata": {},
   "outputs": [
    {
     "name": "stdout",
     "output_type": "stream",
     "text": [
      "Index of min value: 0\n"
     ]
    }
   ],
   "source": [
    "# Get the index of the minimum value in the array\n",
    "min_index = arr.argmin()\n",
    "print(\"Index of min value:\", min_index)"
   ]
  },
  {
   "cell_type": "code",
   "execution_count": 123,
   "id": "f393ed8f-2363-4cac-a30f-4d1e5c0e9c86",
   "metadata": {},
   "outputs": [],
   "source": [
    "# Create an array with duplicates\n",
    "arr_with_duplicates = np.array([1, 2, 2, 3, 4, 4, 5])"
   ]
  },
  {
   "cell_type": "code",
   "execution_count": 124,
   "id": "14188056-248b-4b84-b824-dcec40fed19c",
   "metadata": {},
   "outputs": [
    {
     "name": "stdout",
     "output_type": "stream",
     "text": [
      "Unique elements: [1 2 3 4 5]\n"
     ]
    }
   ],
   "source": [
    "# Get unique elements\n",
    "unique_elements = np.unique(arr_with_duplicates)\n",
    "print(\"Unique elements:\", unique_elements)"
   ]
  },
  {
   "cell_type": "code",
   "execution_count": 127,
   "id": "e183a447-c7fb-4276-ab70-c17f2b0b5339",
   "metadata": {},
   "outputs": [
    {
     "name": "stdout",
     "output_type": "stream",
     "text": [
      "Concatenated Array: [1 2 3 4 5 6]\n"
     ]
    }
   ],
   "source": [
    "# Concatenate two arrays\n",
    "arr1 = np.array([1, 2, 3])\n",
    "arr2 = np.array([4, 5, 6])\n",
    "concatenated_arr = np.concatenate([arr1, arr2])\n",
    "print(\"Concatenated Array:\", concatenated_arr)"
   ]
  },
  {
   "cell_type": "code",
   "execution_count": 129,
   "id": "ce2599f8-2726-4f1f-b486-d65b14711963",
   "metadata": {},
   "outputs": [
    {
     "name": "stdout",
     "output_type": "stream",
     "text": [
      "[1 2 3 4 5 6]\n",
      "Split Arrays: [array([1, 2]), array([3, 4]), array([5, 6])]\n"
     ]
    }
   ],
   "source": [
    "# Split an array into 3 equal parts\n",
    "arr_to_split = np.array([1, 2, 3, 4, 5, 6])\n",
    "print(arr_to_split)\n",
    "split_arr = np.split(arr_to_split, 3)\n",
    "print(\"Split Arrays:\", split_arr)"
   ]
  },
  {
   "cell_type": "code",
   "execution_count": 130,
   "id": "45fb474a-a33d-4349-a796-733df72071bb",
   "metadata": {},
   "outputs": [
    {
     "name": "stdout",
     "output_type": "stream",
     "text": [
      "Second element: 1\n"
     ]
    }
   ],
   "source": [
    "# Indexing: Access the second element\n",
    "second_element = arr[1]\n",
    "print(\"Second element:\", second_element)"
   ]
  },
  {
   "cell_type": "code",
   "execution_count": 133,
   "id": "2ad77f2a-60ad-418f-94f4-d9be8965d7c2",
   "metadata": {},
   "outputs": [
    {
     "name": "stdout",
     "output_type": "stream",
     "text": [
      "First three elements: [0 1 2]\n"
     ]
    }
   ],
   "source": [
    "# Slicing: Get the first 3 elements\n",
    "first_three_elements = arr[:3]\n",
    "print(\"First three elements:\", first_three_elements)"
   ]
  },
  {
   "cell_type": "code",
   "execution_count": 134,
   "id": "3dd995fd-d5ba-4816-957c-54bbfcb15897",
   "metadata": {},
   "outputs": [
    {
     "data": {
      "text/plain": [
       "(16,)"
      ]
     },
     "execution_count": 134,
     "metadata": {},
     "output_type": "execute_result"
    }
   ],
   "source": [
    "# 1-d array\n",
    "arr.shape"
   ]
  },
  {
   "cell_type": "code",
   "execution_count": 136,
   "id": "dcd95f88-3486-49c3-a08f-5524466ae414",
   "metadata": {},
   "outputs": [
    {
     "data": {
      "text/plain": [
       "(4, 4)"
      ]
     },
     "execution_count": 136,
     "metadata": {},
     "output_type": "execute_result"
    }
   ],
   "source": [
    "# 2-d array\n",
    "transposed_arr.shape"
   ]
  },
  {
   "cell_type": "code",
   "execution_count": 138,
   "id": "6886c203-96f5-404b-aaa4-f3c2e400b0b1",
   "metadata": {},
   "outputs": [
    {
     "data": {
      "text/plain": [
       "dtype('int64')"
      ]
     },
     "execution_count": 138,
     "metadata": {},
     "output_type": "execute_result"
    }
   ],
   "source": [
    "# data type of the array\n",
    "arr.dtype"
   ]
  },
  {
   "cell_type": "markdown",
   "id": "03ab29b9-9434-4e2f-b5fb-527a846bd15f",
   "metadata": {},
   "source": [
    "## How to select elements or group elements from a Numpy array:"
   ]
  },
  {
   "cell_type": "code",
   "execution_count": 140,
   "id": "62a1f620-a073-4de8-b925-8835c9d350fd",
   "metadata": {},
   "outputs": [],
   "source": [
    "arr=np.arange(0,10)"
   ]
  },
  {
   "cell_type": "code",
   "execution_count": 142,
   "id": "1459ab66-928a-47dd-b5f1-c0e24511007c",
   "metadata": {},
   "outputs": [
    {
     "data": {
      "text/plain": [
       "array([0, 1, 2, 3, 4, 5, 6, 7, 8, 9])"
      ]
     },
     "execution_count": 142,
     "metadata": {},
     "output_type": "execute_result"
    }
   ],
   "source": [
    "arr"
   ]
  },
  {
   "cell_type": "code",
   "execution_count": 143,
   "id": "888de6c2-05e4-4923-89bd-85db1eae7ae0",
   "metadata": {},
   "outputs": [
    {
     "data": {
      "text/plain": [
       "0"
      ]
     },
     "execution_count": 143,
     "metadata": {},
     "output_type": "execute_result"
    }
   ],
   "source": [
    "# using brackets and slice notation\n",
    "arr[0]"
   ]
  },
  {
   "cell_type": "code",
   "execution_count": 145,
   "id": "f9aac488-8b25-4298-a855-192f5679f668",
   "metadata": {},
   "outputs": [
    {
     "data": {
      "text/plain": [
       "array([0, 1, 2, 3])"
      ]
     },
     "execution_count": 145,
     "metadata": {},
     "output_type": "execute_result"
    }
   ],
   "source": [
    "# values in a range, by start and stop index\n",
    "arr[0:4]"
   ]
  },
  {
   "cell_type": "code",
   "execution_count": 146,
   "id": "c39cd87b-de25-4047-af34-f006eca12a15",
   "metadata": {},
   "outputs": [
    {
     "data": {
      "text/plain": [
       "array([1, 2, 3])"
      ]
     },
     "execution_count": 146,
     "metadata": {},
     "output_type": "execute_result"
    }
   ],
   "source": [
    "arr[1:4]"
   ]
  },
  {
   "cell_type": "code",
   "execution_count": 149,
   "id": "a8ebffcf-f1a4-4843-bcf6-3655a6ad3123",
   "metadata": {},
   "outputs": [
    {
     "data": {
      "text/plain": [
       "array([0, 1, 2, 3, 4, 5, 6])"
      ]
     },
     "execution_count": 149,
     "metadata": {},
     "output_type": "execute_result"
    }
   ],
   "source": [
    "# everything up to some index\n",
    "arr[:7]"
   ]
  },
  {
   "cell_type": "code",
   "execution_count": 150,
   "id": "7309f00f-45ec-4d27-b38c-468d72a6542f",
   "metadata": {},
   "outputs": [
    {
     "data": {
      "text/plain": [
       "array([7, 8, 9])"
      ]
     },
     "execution_count": 150,
     "metadata": {},
     "output_type": "execute_result"
    }
   ],
   "source": [
    "# everything from some index up to the end the array\n",
    "arr[7:]"
   ]
  },
  {
   "cell_type": "code",
   "execution_count": 151,
   "id": "821ec658-4269-4026-bf73-33aa68d5eace",
   "metadata": {},
   "outputs": [
    {
     "data": {
      "text/plain": [
       "array([0, 1, 2, 3, 4, 5, 6, 7, 8, 9])"
      ]
     },
     "execution_count": 151,
     "metadata": {},
     "output_type": "execute_result"
    }
   ],
   "source": [
    "# everything\n",
    "arr[:]"
   ]
  },
  {
   "cell_type": "markdown",
   "id": "0b675b58-3723-4dc7-afad-38698a129ec9",
   "metadata": {},
   "source": [
    "Broadcasting value to some elements"
   ]
  },
  {
   "cell_type": "code",
   "execution_count": 155,
   "id": "33f67784-8560-4395-8dad-38e720ef29cd",
   "metadata": {},
   "outputs": [],
   "source": [
    "arr[0:5] = 100"
   ]
  },
  {
   "cell_type": "code",
   "execution_count": 157,
   "id": "e5d94993-b642-47af-978a-51740a1e5c29",
   "metadata": {},
   "outputs": [
    {
     "data": {
      "text/plain": [
       "array([100, 100, 100, 100, 100,   5,   6,   7,   8,   9])"
      ]
     },
     "execution_count": 157,
     "metadata": {},
     "output_type": "execute_result"
    }
   ],
   "source": [
    "arr"
   ]
  },
  {
   "cell_type": "code",
   "execution_count": 158,
   "id": "e752ba00-cc9d-436f-8f37-6146c5751668",
   "metadata": {},
   "outputs": [],
   "source": [
    "arr = np.arange(0,10)"
   ]
  },
  {
   "cell_type": "code",
   "execution_count": 160,
   "id": "c9860731-93db-45ad-9a08-a99ebb919a67",
   "metadata": {},
   "outputs": [
    {
     "name": "stdout",
     "output_type": "stream",
     "text": [
      "[0 1 2 3 4 5 6 7 8 9]\n"
     ]
    }
   ],
   "source": [
    "print(arr)"
   ]
  },
  {
   "cell_type": "code",
   "execution_count": 163,
   "id": "05c79f2f-2042-401f-b4a5-459366bc5b86",
   "metadata": {},
   "outputs": [],
   "source": [
    "slice_of_arr=arr[0:6]"
   ]
  },
  {
   "cell_type": "code",
   "execution_count": 164,
   "id": "c0ccbae6-10e3-4345-9905-d088d0e13d92",
   "metadata": {},
   "outputs": [
    {
     "data": {
      "text/plain": [
       "array([0, 1, 2, 3, 4, 5])"
      ]
     },
     "execution_count": 164,
     "metadata": {},
     "output_type": "execute_result"
    }
   ],
   "source": [
    "slice_of_arr"
   ]
  },
  {
   "cell_type": "code",
   "execution_count": 165,
   "id": "f63b6bf1-65b1-4809-9df8-2ba6a90e31f1",
   "metadata": {},
   "outputs": [],
   "source": [
    "slice_of_arr[:]=23"
   ]
  },
  {
   "cell_type": "code",
   "execution_count": 166,
   "id": "600183c2-8b1c-47b8-ad30-85faf9169ddc",
   "metadata": {},
   "outputs": [
    {
     "data": {
      "text/plain": [
       "array([23, 23, 23, 23, 23, 23])"
      ]
     },
     "execution_count": 166,
     "metadata": {},
     "output_type": "execute_result"
    }
   ],
   "source": [
    "slice_of_arr"
   ]
  },
  {
   "cell_type": "markdown",
   "id": "8bd63465-1592-4332-ae8f-2d9e5cfbbcc5",
   "metadata": {},
   "source": [
    "**If we look back to arr, it actually changed original array as well. As data is not just copied but it is a view of the array**\n",
    "*The reason Numpy does that, is to avoid memory issues in very large arrays*\n",
    "As Numpy doesn't automatically set copies of arrays, if you actually want a copy and not a reference to the array, you can specifically, specify COPY"
   ]
  },
  {
   "cell_type": "code",
   "execution_count": 169,
   "id": "c29b5ebe-14d4-40af-b8b2-a676d75584f8",
   "metadata": {},
   "outputs": [
    {
     "data": {
      "text/plain": [
       "array([23, 23, 23, 23, 23, 23,  6,  7,  8,  9])"
      ]
     },
     "execution_count": 169,
     "metadata": {},
     "output_type": "execute_result"
    }
   ],
   "source": [
    "arr"
   ]
  },
  {
   "cell_type": "code",
   "execution_count": 170,
   "id": "259c05a7-d699-4c5b-8346-0876a7a2d75a",
   "metadata": {},
   "outputs": [],
   "source": [
    "arr_copy = arr.copy()"
   ]
  },
  {
   "cell_type": "code",
   "execution_count": 171,
   "id": "8919716f-0bfe-473e-ae22-d6c0395c292d",
   "metadata": {},
   "outputs": [
    {
     "data": {
      "text/plain": [
       "array([23, 23, 23, 23, 23, 23,  6,  7,  8,  9])"
      ]
     },
     "execution_count": 171,
     "metadata": {},
     "output_type": "execute_result"
    }
   ],
   "source": [
    "arr_copy"
   ]
  },
  {
   "cell_type": "code",
   "execution_count": 186,
   "id": "a8347c8d-c43d-4e31-9191-a5be457cbca7",
   "metadata": {},
   "outputs": [],
   "source": [
    "arr_copy[:]=23"
   ]
  },
  {
   "cell_type": "code",
   "execution_count": 188,
   "id": "e540e862-82f6-4074-8f00-70448cf2ca69",
   "metadata": {},
   "outputs": [
    {
     "data": {
      "text/plain": [
       "array([23, 23, 23, 23, 23, 23,  6,  7,  8,  9])"
      ]
     },
     "execution_count": 188,
     "metadata": {},
     "output_type": "execute_result"
    }
   ],
   "source": [
    "arr"
   ]
  },
  {
   "cell_type": "code",
   "execution_count": 190,
   "id": "23a2a0ed-3358-410c-b0e9-e77c51d6b804",
   "metadata": {},
   "outputs": [
    {
     "data": {
      "text/plain": [
       "array([23, 23, 23, 23, 23, 23, 23, 23, 23, 23])"
      ]
     },
     "execution_count": 190,
     "metadata": {},
     "output_type": "execute_result"
    }
   ],
   "source": [
    "arr_copy"
   ]
  },
  {
   "cell_type": "code",
   "execution_count": 191,
   "id": "8f2ae86c-6241-4237-967f-7fb414f2a1c6",
   "metadata": {},
   "outputs": [],
   "source": [
    "# Copy a slice of an array\n",
    "slice_arr_copy= arr_copy[:4].copy()"
   ]
  },
  {
   "cell_type": "code",
   "execution_count": 193,
   "id": "0765220d-7cbc-4709-8719-3f6c58e63ed7",
   "metadata": {},
   "outputs": [
    {
     "data": {
      "text/plain": [
       "array([23, 23, 23, 23])"
      ]
     },
     "execution_count": 193,
     "metadata": {},
     "output_type": "execute_result"
    }
   ],
   "source": [
    "slice_arr_copy"
   ]
  },
  {
   "cell_type": "markdown",
   "id": "f1b022d8-6750-4157-b2db-d9f316214506",
   "metadata": {},
   "source": [
    "## Indexing 2-d array"
   ]
  },
  {
   "cell_type": "code",
   "execution_count": 196,
   "id": "a5322df0-c4e9-43e4-9d8b-0627088be596",
   "metadata": {},
   "outputs": [],
   "source": [
    "arr_2d=np.array([[5,10,15],[20,25,30],[35,40,45]])"
   ]
  },
  {
   "cell_type": "code",
   "execution_count": 197,
   "id": "15c76cdb-f770-48bd-9346-1f6287c4f1e9",
   "metadata": {},
   "outputs": [
    {
     "data": {
      "text/plain": [
       "array([[ 5, 10, 15],\n",
       "       [20, 25, 30],\n",
       "       [35, 40, 45]])"
      ]
     },
     "execution_count": 197,
     "metadata": {},
     "output_type": "execute_result"
    }
   ],
   "source": [
    "arr_2d"
   ]
  },
  {
   "cell_type": "markdown",
   "id": "2196389f-499a-4936-9a28-89e3b0c91279",
   "metadata": {},
   "source": [
    "Grabbing elements from 2-d array"
   ]
  },
  {
   "cell_type": "code",
   "execution_count": 200,
   "id": "4123ef5a-ea2b-48ce-a43e-7651e64b7239",
   "metadata": {},
   "outputs": [
    {
     "data": {
      "text/plain": [
       "5"
      ]
     },
     "execution_count": 200,
     "metadata": {},
     "output_type": "execute_result"
    }
   ],
   "source": [
    "# Double bracket format\n",
    "# grabbing digit 5\n",
    "arr_2d[0][0]"
   ]
  },
  {
   "cell_type": "code",
   "execution_count": 201,
   "id": "b7c0fb15-dd2b-48f2-a72d-4c6986861bc9",
   "metadata": {},
   "outputs": [
    {
     "data": {
      "text/plain": [
       "array([ 5, 10, 15])"
      ]
     },
     "execution_count": 201,
     "metadata": {},
     "output_type": "execute_result"
    }
   ],
   "source": [
    "arr_2d[0]"
   ]
  },
  {
   "cell_type": "code",
   "execution_count": 202,
   "id": "fdec23e2-10d0-4c5f-893b-3e6c2bde76dc",
   "metadata": {},
   "outputs": [
    {
     "data": {
      "text/plain": [
       "5"
      ]
     },
     "execution_count": 202,
     "metadata": {},
     "output_type": "execute_result"
    }
   ],
   "source": [
    "# Single bracket format passing arr_2d[row,column]\n",
    "arr_2d[0,0]"
   ]
  },
  {
   "cell_type": "markdown",
   "id": "985eab5b-90e5-484a-9985-df3436ba4128",
   "metadata": {},
   "source": [
    "Let's grab the following using slicing\n",
    "\n",
    "[10,15]\n",
    "\n",
    "[25,30]\n"
   ]
  },
  {
   "cell_type": "code",
   "execution_count": 204,
   "id": "238b314c-f887-48bd-bd15-573d81dee692",
   "metadata": {},
   "outputs": [
    {
     "data": {
      "text/plain": [
       "array([[10, 15],\n",
       "       [25, 30]])"
      ]
     },
     "execution_count": 204,
     "metadata": {},
     "output_type": "execute_result"
    }
   ],
   "source": [
    "# :2 everything but not including row two only zero and one\n",
    "# 1: grab everything from column one all the way to the end\n",
    "arr_2d[0:2,1:]"
   ]
  },
  {
   "cell_type": "code",
   "execution_count": 207,
   "id": "66fcaaa0-340b-4ca8-b6e0-b8e9065ca1dc",
   "metadata": {},
   "outputs": [
    {
     "data": {
      "text/plain": [
       "array([[20, 25, 30],\n",
       "       [35, 40, 45]])"
      ]
     },
     "execution_count": 207,
     "metadata": {},
     "output_type": "execute_result"
    }
   ],
   "source": [
    "arr_2d[1:,:]"
   ]
  },
  {
   "cell_type": "code",
   "execution_count": 208,
   "id": "76900623-7e38-4534-9bdd-8c44c317be96",
   "metadata": {},
   "outputs": [
    {
     "data": {
      "text/plain": [
       "array([35, 40, 45])"
      ]
     },
     "execution_count": 208,
     "metadata": {},
     "output_type": "execute_result"
    }
   ],
   "source": [
    "#Shape bottom row\n",
    "arr_2d[2]"
   ]
  },
  {
   "cell_type": "code",
   "execution_count": 209,
   "id": "4c085129-f628-4d74-9b31-92ed4d092cf1",
   "metadata": {},
   "outputs": [
    {
     "data": {
      "text/plain": [
       "array([35, 40, 45])"
      ]
     },
     "execution_count": 209,
     "metadata": {},
     "output_type": "execute_result"
    }
   ],
   "source": [
    "#Shape bottom row\n",
    "arr_2d[2,:]"
   ]
  },
  {
   "cell_type": "markdown",
   "id": "4fe43dad-dd80-4e5e-b618-d72df3db8475",
   "metadata": {},
   "source": [
    "## Fancy Indexing\n",
    "\n",
    "Fancy indexing in NumPy allows you to access multiple elements of an array at once using arrays or lists of indices."
   ]
  },
  {
   "cell_type": "code",
   "execution_count": 213,
   "id": "827770e6-67be-416c-8213-5d08928e17f9",
   "metadata": {},
   "outputs": [
    {
     "name": "stdout",
     "output_type": "stream",
     "text": [
      "[20 40 50]\n"
     ]
    }
   ],
   "source": [
    "# Create an array\n",
    "arr = np.array([10, 20, 30, 40, 50])\n",
    "\n",
    "# Select elements at index 1, 3, and 4\n",
    "selected = arr[[1, 3, 4]]\n",
    "\n",
    "print(selected)  \n"
   ]
  },
  {
   "cell_type": "code",
   "execution_count": 215,
   "id": "2b72190a-7ea1-4b98-adf1-1c9df02cda2c",
   "metadata": {},
   "outputs": [],
   "source": [
    "#Set up matrix\n",
    "arr2d = np.zeros((10,10))"
   ]
  },
  {
   "cell_type": "code",
   "execution_count": 216,
   "id": "2e4f7911-8b8a-46d7-86bc-12bd4f79bbb5",
   "metadata": {},
   "outputs": [
    {
     "data": {
      "text/plain": [
       "array([[0., 0., 0., 0., 0., 0., 0., 0., 0., 0.],\n",
       "       [0., 0., 0., 0., 0., 0., 0., 0., 0., 0.],\n",
       "       [0., 0., 0., 0., 0., 0., 0., 0., 0., 0.],\n",
       "       [0., 0., 0., 0., 0., 0., 0., 0., 0., 0.],\n",
       "       [0., 0., 0., 0., 0., 0., 0., 0., 0., 0.],\n",
       "       [0., 0., 0., 0., 0., 0., 0., 0., 0., 0.],\n",
       "       [0., 0., 0., 0., 0., 0., 0., 0., 0., 0.],\n",
       "       [0., 0., 0., 0., 0., 0., 0., 0., 0., 0.],\n",
       "       [0., 0., 0., 0., 0., 0., 0., 0., 0., 0.],\n",
       "       [0., 0., 0., 0., 0., 0., 0., 0., 0., 0.]])"
      ]
     },
     "execution_count": 216,
     "metadata": {},
     "output_type": "execute_result"
    }
   ],
   "source": [
    "arr2d"
   ]
  },
  {
   "cell_type": "code",
   "execution_count": 218,
   "id": "062c2532-e56e-4221-9fad-29d9089cae70",
   "metadata": {},
   "outputs": [],
   "source": [
    "#Length of array\n",
    "arr_length = arr2d.shape[1]"
   ]
  },
  {
   "cell_type": "code",
   "execution_count": 219,
   "id": "7583a33c-2359-43e2-bfd9-55edb95bb674",
   "metadata": {},
   "outputs": [
    {
     "data": {
      "text/plain": [
       "10"
      ]
     },
     "execution_count": 219,
     "metadata": {},
     "output_type": "execute_result"
    }
   ],
   "source": [
    "arr_length"
   ]
  },
  {
   "cell_type": "code",
   "execution_count": 223,
   "id": "4c2ac2fb-8f14-4717-9cc1-8cf7aa70efc0",
   "metadata": {},
   "outputs": [
    {
     "data": {
      "text/plain": [
       "array([[0., 0., 0., 0., 0., 0., 0., 0., 0., 0.],\n",
       "       [1., 1., 1., 1., 1., 1., 1., 1., 1., 1.],\n",
       "       [2., 2., 2., 2., 2., 2., 2., 2., 2., 2.],\n",
       "       [3., 3., 3., 3., 3., 3., 3., 3., 3., 3.],\n",
       "       [4., 4., 4., 4., 4., 4., 4., 4., 4., 4.],\n",
       "       [5., 5., 5., 5., 5., 5., 5., 5., 5., 5.],\n",
       "       [6., 6., 6., 6., 6., 6., 6., 6., 6., 6.],\n",
       "       [7., 7., 7., 7., 7., 7., 7., 7., 7., 7.],\n",
       "       [8., 8., 8., 8., 8., 8., 8., 8., 8., 8.],\n",
       "       [9., 9., 9., 9., 9., 9., 9., 9., 9., 9.]])"
      ]
     },
     "execution_count": 223,
     "metadata": {},
     "output_type": "execute_result"
    }
   ],
   "source": [
    "#Set up array\n",
    "\n",
    "for i in range(arr_length):\n",
    "    arr2d[i] = i\n",
    "    \n",
    "arr2d"
   ]
  },
  {
   "cell_type": "code",
   "execution_count": 224,
   "id": "315a11b4-c128-428d-b9e9-233037b12f71",
   "metadata": {},
   "outputs": [
    {
     "data": {
      "text/plain": [
       "array([[2., 2., 2., 2., 2., 2., 2., 2., 2., 2.],\n",
       "       [3., 3., 3., 3., 3., 3., 3., 3., 3., 3.],\n",
       "       [6., 6., 6., 6., 6., 6., 6., 6., 6., 6.],\n",
       "       [7., 7., 7., 7., 7., 7., 7., 7., 7., 7.]])"
      ]
     },
     "execution_count": 224,
     "metadata": {},
     "output_type": "execute_result"
    }
   ],
   "source": [
    "arr2d[[2,3,6,7]]"
   ]
  },
  {
   "cell_type": "code",
   "execution_count": 225,
   "id": "0f5a210b-366e-4aba-b1ff-e4d96238c042",
   "metadata": {},
   "outputs": [
    {
     "data": {
      "text/plain": [
       "array([[6., 6., 6., 6., 6., 6., 6., 6., 6., 6.],\n",
       "       [4., 4., 4., 4., 4., 4., 4., 4., 4., 4.],\n",
       "       [1., 1., 1., 1., 1., 1., 1., 1., 1., 1.],\n",
       "       [5., 5., 5., 5., 5., 5., 5., 5., 5., 5.]])"
      ]
     },
     "execution_count": 225,
     "metadata": {},
     "output_type": "execute_result"
    }
   ],
   "source": [
    "#Allows in any order\n",
    "arr2d[[6,4,1,5]]"
   ]
  },
  {
   "cell_type": "code",
   "execution_count": 226,
   "id": "073569ae-33cc-400d-8ccd-52f84e07dde3",
   "metadata": {},
   "outputs": [
    {
     "name": "stdout",
     "output_type": "stream",
     "text": [
      "[2 6 7]\n"
     ]
    }
   ],
   "source": [
    "matrix = np.array([[1, 2, 3],\n",
    "                   [4, 5, 6],\n",
    "                   [7, 8, 9]])\n",
    "\n",
    "# Select elements at (0,1), (1,2), and (2,0)\n",
    "selected = matrix[[0, 1, 2], [1, 2, 0]]\n",
    "\n",
    "print(selected)"
   ]
  },
  {
   "cell_type": "markdown",
   "id": "fcd8266b-1706-4054-a25f-47bdffadb8a7",
   "metadata": {},
   "source": [
    "## Conditional Selection\n",
    "\n",
    "NumPy allows us to perform element-wise comparisons and extract elements based on conditions. Returns a boolean array\n",
    "\n",
    "### Summary:\n",
    "- `arr > 5` creates a boolean mask.\n",
    "- `arr[arr > 5]` filters elements.\n",
    "- `&` (AND) and `|` (OR) combine conditions.\n",
    "- `np.where()` finds indices or replaces values."
   ]
  },
  {
   "cell_type": "code",
   "execution_count": 229,
   "id": "68a83411-f3dc-4759-8830-085f27204b91",
   "metadata": {},
   "outputs": [],
   "source": [
    "arr = np.arange(1,10)"
   ]
  },
  {
   "cell_type": "code",
   "execution_count": 233,
   "id": "165c1b38-0bbf-4c56-b5eb-e160182806c3",
   "metadata": {},
   "outputs": [
    {
     "data": {
      "text/plain": [
       "array([1, 2, 3, 4, 5, 6, 7, 8, 9])"
      ]
     },
     "execution_count": 233,
     "metadata": {},
     "output_type": "execute_result"
    }
   ],
   "source": [
    "arr"
   ]
  },
  {
   "cell_type": "code",
   "execution_count": 234,
   "id": "061185ec-183b-4e98-9eb0-eb34f892c0a9",
   "metadata": {},
   "outputs": [
    {
     "data": {
      "text/plain": [
       "array([False, False, False, False, False,  True,  True,  True,  True])"
      ]
     },
     "execution_count": 234,
     "metadata": {},
     "output_type": "execute_result"
    }
   ],
   "source": [
    "#  We can apply conditions directly to the array.\n",
    "\n",
    "# Returns a boolean array\n",
    "arr>5"
   ]
  },
  {
   "cell_type": "markdown",
   "id": "75794735-5d2f-4325-8f88-11cd4a1ebb28",
   "metadata": {},
   "source": [
    "### Using Boolean Masks:\n",
    "We can use this boolean array to extract values that satisfy the condition."
   ]
  },
  {
   "cell_type": "code",
   "execution_count": 237,
   "id": "a23bcec6-b5af-440e-88c1-c1b4b3028dc6",
   "metadata": {},
   "outputs": [
    {
     "data": {
      "text/plain": [
       "array([6, 7, 8, 9])"
      ]
     },
     "execution_count": 237,
     "metadata": {},
     "output_type": "execute_result"
    }
   ],
   "source": [
    "arr[arr > 5]  # Returns elements greater than 5"
   ]
  },
  {
   "cell_type": "markdown",
   "id": "8b1422f6-b605-4048-a03b-05f1afd3694d",
   "metadata": {},
   "source": [
    "### Multiple Conditions:\n",
    "We can combine multiple conditions using `&` (AND) and `|` (OR)."
   ]
  },
  {
   "cell_type": "code",
   "execution_count": 240,
   "id": "ccf9f94a-ac2f-41e0-996d-0c1cfd152013",
   "metadata": {},
   "outputs": [
    {
     "data": {
      "text/plain": [
       "array([4, 5, 6, 7])"
      ]
     },
     "execution_count": 240,
     "metadata": {},
     "output_type": "execute_result"
    }
   ],
   "source": [
    "# Elements greater than 3 and less than 8:\n",
    "arr[(arr > 3) & (arr < 8)]"
   ]
  },
  {
   "cell_type": "code",
   "execution_count": 244,
   "id": "43ffb6b3-4ac5-441a-8c7b-e8a95026f365",
   "metadata": {},
   "outputs": [
    {
     "data": {
      "text/plain": [
       "array([1, 2, 3, 8, 9])"
      ]
     },
     "execution_count": 244,
     "metadata": {},
     "output_type": "execute_result"
    }
   ],
   "source": [
    "# Elements less than 4 or greater than 7:\n",
    "arr[(arr < 4) | (arr > 7)]"
   ]
  },
  {
   "cell_type": "markdown",
   "id": "5a9674e7-d57a-4894-90de-c74d83fbff36",
   "metadata": {},
   "source": [
    "### Using `numpy.where()`\n",
    "The `np.where()` function returns indices where a condition is met."
   ]
  },
  {
   "cell_type": "code",
   "execution_count": 246,
   "id": "6f5cc146-5d6d-4e7b-bf07-5a0486e3004a",
   "metadata": {},
   "outputs": [
    {
     "data": {
      "text/plain": [
       "(array([1, 3, 5, 7]),)"
      ]
     },
     "execution_count": 246,
     "metadata": {},
     "output_type": "execute_result"
    }
   ],
   "source": [
    "np.where(arr % 2 == 0)  # Indices of even numbers"
   ]
  },
  {
   "cell_type": "code",
   "execution_count": 247,
   "id": "528a741e-11a2-493d-81cf-9f5f3dd66aa8",
   "metadata": {},
   "outputs": [
    {
     "data": {
      "text/plain": [
       "array([2, 4, 6, 8])"
      ]
     },
     "execution_count": 247,
     "metadata": {},
     "output_type": "execute_result"
    }
   ],
   "source": [
    "# To get actual values:\n",
    "arr[np.where(arr % 2 == 0)]"
   ]
  },
  {
   "cell_type": "markdown",
   "id": "f021d141-4f75-4782-b395-a6f74df6e363",
   "metadata": {},
   "source": [
    "### Replacing Values Using `np.where()`\n",
    "We can replace elements based on conditions."
   ]
  },
  {
   "cell_type": "code",
   "execution_count": 249,
   "id": "bf150ef9-54e2-4e12-a2a4-26d1fad49094",
   "metadata": {},
   "outputs": [
    {
     "data": {
      "text/plain": [
       "array(['Smaller or Equal', 'Smaller or Equal', 'Smaller or Equal',\n",
       "       'Smaller or Equal', 'Smaller or Equal', 'Greater', 'Greater',\n",
       "       'Greater', 'Greater'], dtype='<U16')"
      ]
     },
     "execution_count": 249,
     "metadata": {},
     "output_type": "execute_result"
    }
   ],
   "source": [
    "np.where(arr > 5, \"Greater\", \"Smaller or Equal\")"
   ]
  },
  {
   "cell_type": "code",
   "execution_count": 250,
   "id": "e2936abb-0a18-440e-934b-e9743bf0299c",
   "metadata": {},
   "outputs": [],
   "source": [
    "bool_arr = arr>4"
   ]
  },
  {
   "cell_type": "code",
   "execution_count": 251,
   "id": "03d4825b-911c-47cc-9e31-f8192d2ed35c",
   "metadata": {},
   "outputs": [
    {
     "data": {
      "text/plain": [
       "array([False, False, False, False,  True,  True,  True,  True,  True])"
      ]
     },
     "execution_count": 251,
     "metadata": {},
     "output_type": "execute_result"
    }
   ],
   "source": [
    "bool_arr"
   ]
  },
  {
   "cell_type": "code",
   "execution_count": 252,
   "id": "66e69491-cdb6-4351-bf5c-0f580b9e08e3",
   "metadata": {},
   "outputs": [
    {
     "data": {
      "text/plain": [
       "array([5, 6, 7, 8, 9])"
      ]
     },
     "execution_count": 252,
     "metadata": {},
     "output_type": "execute_result"
    }
   ],
   "source": [
    "# returns values, if bool_arr is True\n",
    "arr[bool_arr]"
   ]
  },
  {
   "cell_type": "code",
   "execution_count": 253,
   "id": "c220b41e-28ee-463c-8147-395ba5d6a5e7",
   "metadata": {},
   "outputs": [
    {
     "data": {
      "text/plain": [
       "array([3, 4, 5, 6, 7, 8, 9])"
      ]
     },
     "execution_count": 253,
     "metadata": {},
     "output_type": "execute_result"
    }
   ],
   "source": [
    "# In one step\n",
    "arr[arr>2]"
   ]
  },
  {
   "cell_type": "code",
   "execution_count": 254,
   "id": "58e99043-348b-4dc2-a66f-1ea63f3dbd87",
   "metadata": {},
   "outputs": [
    {
     "data": {
      "text/plain": [
       "array([3, 4, 5, 6, 7, 8, 9])"
      ]
     },
     "execution_count": 254,
     "metadata": {},
     "output_type": "execute_result"
    }
   ],
   "source": [
    "x = 2\n",
    "arr[arr>x]"
   ]
  },
  {
   "cell_type": "code",
   "execution_count": 255,
   "id": "370eb124-15f7-4139-b3fa-b7969032e34a",
   "metadata": {},
   "outputs": [],
   "source": [
    "arr_2d=np.arange(50).reshape(5,10)"
   ]
  },
  {
   "cell_type": "code",
   "execution_count": 256,
   "id": "19c268d0-516e-47fc-ba31-4a16012637a0",
   "metadata": {},
   "outputs": [
    {
     "data": {
      "text/plain": [
       "array([[ 0,  1,  2,  3,  4,  5,  6,  7,  8,  9],\n",
       "       [10, 11, 12, 13, 14, 15, 16, 17, 18, 19],\n",
       "       [20, 21, 22, 23, 24, 25, 26, 27, 28, 29],\n",
       "       [30, 31, 32, 33, 34, 35, 36, 37, 38, 39],\n",
       "       [40, 41, 42, 43, 44, 45, 46, 47, 48, 49]])"
      ]
     },
     "execution_count": 256,
     "metadata": {},
     "output_type": "execute_result"
    }
   ],
   "source": [
    "arr_2d"
   ]
  },
  {
   "cell_type": "code",
   "execution_count": 257,
   "id": "7bf3d198-08d2-4440-94e7-153818403a36",
   "metadata": {},
   "outputs": [
    {
     "data": {
      "text/plain": [
       "array([[13, 14],\n",
       "       [23, 24]])"
      ]
     },
     "execution_count": 257,
     "metadata": {},
     "output_type": "execute_result"
    }
   ],
   "source": [
    "arr_2d[1:3,3:5]"
   ]
  },
  {
   "cell_type": "markdown",
   "id": "dc5c4ca9-9c9c-4ed5-8324-4a46f775c415",
   "metadata": {},
   "source": [
    "## NumPy Operations"
   ]
  },
  {
   "cell_type": "markdown",
   "id": "a092ef29-0412-461c-b427-1129f088bae3",
   "metadata": {},
   "source": [
    "### Arithmetic Operations in NumPy\n",
    "NumPy allows easy arithmetic operations between arrays, as well as between scalars and arrays. Here are some examples:"
   ]
  },
  {
   "cell_type": "code",
   "execution_count": 262,
   "id": "d9118577-d16d-4295-89b1-b8833508b532",
   "metadata": {},
   "outputs": [],
   "source": [
    "arr = np.arange(0,10)"
   ]
  },
  {
   "cell_type": "code",
   "execution_count": 264,
   "id": "502556be-9f9a-47dc-9faa-e4433e703b31",
   "metadata": {},
   "outputs": [
    {
     "data": {
      "text/plain": [
       "array([ 0,  2,  4,  6,  8, 10, 12, 14, 16, 18])"
      ]
     },
     "execution_count": 264,
     "metadata": {},
     "output_type": "execute_result"
    }
   ],
   "source": [
    "arr+arr"
   ]
  },
  {
   "cell_type": "code",
   "execution_count": 266,
   "id": "f37efe3a-b92f-4740-9619-97bcf9853b0c",
   "metadata": {},
   "outputs": [
    {
     "data": {
      "text/plain": [
       "array([ 0,  1,  4,  9, 16, 25, 36, 49, 64, 81])"
      ]
     },
     "execution_count": 266,
     "metadata": {},
     "output_type": "execute_result"
    }
   ],
   "source": [
    "arr*arr"
   ]
  },
  {
   "cell_type": "code",
   "execution_count": 267,
   "id": "493f3886-8f5c-467f-8720-e670999b28f3",
   "metadata": {},
   "outputs": [
    {
     "data": {
      "text/plain": [
       "array([0, 0, 0, 0, 0, 0, 0, 0, 0, 0])"
      ]
     },
     "execution_count": 267,
     "metadata": {},
     "output_type": "execute_result"
    }
   ],
   "source": [
    "arr-arr"
   ]
  },
  {
   "cell_type": "code",
   "execution_count": 285,
   "id": "4a7ad6fc-1284-4708-aef4-ea96596dda2b",
   "metadata": {},
   "outputs": [
    {
     "name": "stderr",
     "output_type": "stream",
     "text": [
      "/var/folders/z_/srqbcrjd38n00h_v2pystqp80000gn/T/ipykernel_8393/1862401812.py:1: RuntimeWarning: invalid value encountered in divide\n",
      "  arr/arr\n"
     ]
    },
    {
     "data": {
      "text/plain": [
       "array([nan,  1.,  1.,  1.,  1.,  1.,  1.,  1.,  1.,  1.])"
      ]
     },
     "execution_count": 285,
     "metadata": {},
     "output_type": "execute_result"
    }
   ],
   "source": [
    "# because of 0/0 we get a warning, but code will continue to run\n",
    "arr/arr"
   ]
  },
  {
   "cell_type": "markdown",
   "id": "bfec10ab-8720-424c-815b-c7e80afa13df",
   "metadata": {},
   "source": [
    "In the case of division by zero, `1/arr` will give us infinity (∞) warning `inf` for elements where `arr` is zero."
   ]
  },
  {
   "cell_type": "code",
   "execution_count": 302,
   "id": "6f4d2f79-b5b7-4595-b93c-67896ac5be84",
   "metadata": {},
   "outputs": [
    {
     "name": "stderr",
     "output_type": "stream",
     "text": [
      "/var/folders/z_/srqbcrjd38n00h_v2pystqp80000gn/T/ipykernel_8393/255282349.py:1: RuntimeWarning: divide by zero encountered in divide\n",
      "  1/arr\n"
     ]
    },
    {
     "data": {
      "text/plain": [
       "array([       inf, 1.        , 0.5       , 0.33333333, 0.25      ,\n",
       "       0.2       , 0.16666667, 0.14285714, 0.125     , 0.11111111])"
      ]
     },
     "execution_count": 302,
     "metadata": {},
     "output_type": "execute_result"
    }
   ],
   "source": [
    "# i ∞ \n",
    "1/arr"
   ]
  },
  {
   "cell_type": "markdown",
   "id": "3b8fa3a7-5284-4e6b-8aed-729685c479e1",
   "metadata": {},
   "source": [
    "Scaler operation: For example we can add a number to each element in the array or all other operations (*-/)"
   ]
  },
  {
   "cell_type": "code",
   "execution_count": 295,
   "id": "7ff96e12-f233-478a-9d0f-9738235b18fc",
   "metadata": {},
   "outputs": [
    {
     "data": {
      "text/plain": [
       "array([-100,  -99,  -98,  -97,  -96,  -95,  -94,  -93,  -92,  -91])"
      ]
     },
     "execution_count": 295,
     "metadata": {},
     "output_type": "execute_result"
    }
   ],
   "source": [
    "arr-100"
   ]
  },
  {
   "cell_type": "markdown",
   "id": "eb2ea80c-ad46-4f70-b866-7970e43c1c33",
   "metadata": {},
   "source": [
    "**by dividing zero we will get Runtime warning: divide by zero encountered in divide**"
   ]
  },
  {
   "cell_type": "code",
   "execution_count": 299,
   "id": "4ee4c624-da41-4ed3-8924-a4cf7c66b91a",
   "metadata": {},
   "outputs": [
    {
     "name": "stderr",
     "output_type": "stream",
     "text": [
      "/var/folders/z_/srqbcrjd38n00h_v2pystqp80000gn/T/ipykernel_8393/4291252909.py:1: RuntimeWarning: divide by zero encountered in divide\n",
      "  arr/0\n",
      "/var/folders/z_/srqbcrjd38n00h_v2pystqp80000gn/T/ipykernel_8393/4291252909.py:1: RuntimeWarning: invalid value encountered in divide\n",
      "  arr/0\n"
     ]
    },
    {
     "data": {
      "text/plain": [
       "array([nan, inf, inf, inf, inf, inf, inf, inf, inf, inf])"
      ]
     },
     "execution_count": 299,
     "metadata": {},
     "output_type": "execute_result"
    }
   ],
   "source": [
    "arr/0"
   ]
  },
  {
   "cell_type": "code",
   "execution_count": 308,
   "id": "59be1b56-fb54-42af-81fe-57a9373deac5",
   "metadata": {},
   "outputs": [
    {
     "data": {
      "text/plain": [
       "array([ 0,  1,  4,  9, 16, 25, 36, 49, 64, 81])"
      ]
     },
     "execution_count": 308,
     "metadata": {},
     "output_type": "execute_result"
    }
   ],
   "source": [
    "arr ** 2"
   ]
  },
  {
   "cell_type": "markdown",
   "id": "4280e8f7-61b2-4180-9a4c-f624aa5d1367",
   "metadata": {},
   "source": [
    "## Universal array function\n",
    "\n",
    "For more information on mathematical operations with NumPy, you can refer to the official documentation on [NumPy Ufuncs: Math Operations](https://numpy.org/doc/stable/reference/ufuncs.html#math-operations)."
   ]
  },
  {
   "cell_type": "code",
   "execution_count": 311,
   "id": "2c4a1092-9de3-492f-9cc9-046818680678",
   "metadata": {},
   "outputs": [
    {
     "data": {
      "text/plain": [
       "array([0.        , 1.        , 1.41421356, 1.73205081, 2.        ,\n",
       "       2.23606798, 2.44948974, 2.64575131, 2.82842712, 3.        ])"
      ]
     },
     "execution_count": 311,
     "metadata": {},
     "output_type": "execute_result"
    }
   ],
   "source": [
    "np.sqrt(arr)"
   ]
  },
  {
   "cell_type": "code",
   "execution_count": 313,
   "id": "95ba6b7c-8641-400a-9971-1f7ea5a64334",
   "metadata": {},
   "outputs": [
    {
     "data": {
      "text/plain": [
       "array([1.00000000e+00, 2.71828183e+00, 7.38905610e+00, 2.00855369e+01,\n",
       "       5.45981500e+01, 1.48413159e+02, 4.03428793e+02, 1.09663316e+03,\n",
       "       2.98095799e+03, 8.10308393e+03])"
      ]
     },
     "execution_count": 313,
     "metadata": {},
     "output_type": "execute_result"
    }
   ],
   "source": [
    "np.exp(arr)"
   ]
  },
  {
   "cell_type": "code",
   "execution_count": 315,
   "id": "1c4528b4-3c86-4b23-864b-72dd7d68f00b",
   "metadata": {},
   "outputs": [
    {
     "data": {
      "text/plain": [
       "9"
      ]
     },
     "execution_count": 315,
     "metadata": {},
     "output_type": "execute_result"
    }
   ],
   "source": [
    "np.max(arr)"
   ]
  },
  {
   "cell_type": "code",
   "execution_count": 317,
   "id": "d39a0a01-a20f-48ff-8fad-17a74c13bfc9",
   "metadata": {},
   "outputs": [
    {
     "data": {
      "text/plain": [
       "9"
      ]
     },
     "execution_count": 317,
     "metadata": {},
     "output_type": "execute_result"
    }
   ],
   "source": [
    "arr.max()"
   ]
  },
  {
   "cell_type": "code",
   "execution_count": 319,
   "id": "6b80d81e-24be-4c2c-85b5-dde73c8766e1",
   "metadata": {},
   "outputs": [
    {
     "data": {
      "text/plain": [
       "array([ 0.        ,  0.84147098,  0.90929743,  0.14112001, -0.7568025 ,\n",
       "       -0.95892427, -0.2794155 ,  0.6569866 ,  0.98935825,  0.41211849])"
      ]
     },
     "execution_count": 319,
     "metadata": {},
     "output_type": "execute_result"
    }
   ],
   "source": [
    "np.sin(arr)"
   ]
  },
  {
   "cell_type": "code",
   "execution_count": 323,
   "id": "1c11c4cb-612b-4f0c-84db-cf8b61b39022",
   "metadata": {},
   "outputs": [
    {
     "name": "stderr",
     "output_type": "stream",
     "text": [
      "/var/folders/z_/srqbcrjd38n00h_v2pystqp80000gn/T/ipykernel_8393/1832386464.py:2: RuntimeWarning: divide by zero encountered in log\n",
      "  np.log(arr)\n"
     ]
    },
    {
     "data": {
      "text/plain": [
       "array([      -inf, 0.        , 0.69314718, 1.09861229, 1.38629436,\n",
       "       1.60943791, 1.79175947, 1.94591015, 2.07944154, 2.19722458])"
      ]
     },
     "execution_count": 323,
     "metadata": {},
     "output_type": "execute_result"
    }
   ],
   "source": [
    "# again warning on log(0) = -∞\n",
    "np.log(arr)"
   ]
  },
  {
   "cell_type": "markdown",
   "id": "714104a3-eaa0-437b-bcfe-06c31e59e45e",
   "metadata": {},
   "source": [
    "\n",
    "np.zeros("
   ]
  },
  {
   "cell_type": "markdown",
   "id": "957204b8-5aed-402f-8ef1-81146748c2ea",
   "metadata": {},
   "source": [
    "## Some more excercies: \n",
    "### Numpy Indexing and Selection\n",
    "\n",
    "Now you will be given a few matrices, and be asked to replicate the resulting matrix outputs:"
   ]
  },
  {
   "cell_type": "code",
   "execution_count": 412,
   "id": "35dbe195-304b-40c0-99c5-335973eafe38",
   "metadata": {},
   "outputs": [
    {
     "data": {
      "text/plain": [
       "array([[ 1,  2,  3,  4,  5],\n",
       "       [ 6,  7,  8,  9, 10],\n",
       "       [11, 12, 13, 14, 15],\n",
       "       [16, 17, 18, 19, 20],\n",
       "       [21, 22, 23, 24, 25]])"
      ]
     },
     "execution_count": 412,
     "metadata": {},
     "output_type": "execute_result"
    }
   ],
   "source": [
    "mat = np.arange(1,26).reshape(5,5)\n",
    "mat"
   ]
  },
  {
   "cell_type": "markdown",
   "id": "736eb53d-feef-49e5-87bb-4d604a6e59dc",
   "metadata": {},
   "source": [
    "You are given a 5x5 NumPy array as shown above. create a new 2-dimensional array by excluding the elements from the 2nd and 4th columns of the original matrix? What code will you use to achieve this?"
   ]
  },
  {
   "cell_type": "code",
   "execution_count": 452,
   "id": "efb1f836-5cb7-4a2e-bb87-2ebcdd856092",
   "metadata": {},
   "outputs": [
    {
     "name": "stdout",
     "output_type": "stream",
     "text": [
      "[[12 13 14 15]\n",
      " [17 18 19 20]\n",
      " [22 23 24 25]]\n"
     ]
    }
   ],
   "source": [
    "arr = mat[2:,1:]\n",
    "print(arr)"
   ]
  },
  {
   "cell_type": "markdown",
   "id": "94b1738c-9366-4d24-9516-df942523922a",
   "metadata": {},
   "source": [
    "Create a 2-dimensional NumPy array with 4 rows and 3 columns. The array should contain numbers starting from 12 to 25, excluding the numbers 16 and 22. What code can you use to generate this array?"
   ]
  },
  {
   "cell_type": "code",
   "execution_count": 433,
   "id": "99228fe0-b4ab-420d-b80c-acba0f21ea14",
   "metadata": {},
   "outputs": [],
   "source": [
    "arr = np.arange(12,26)"
   ]
  },
  {
   "cell_type": "code",
   "execution_count": 435,
   "id": "52c36b5d-d34b-4d06-ad4b-5efa9ba5876e",
   "metadata": {},
   "outputs": [
    {
     "data": {
      "text/plain": [
       "array([12, 13, 14, 15, 16, 17, 18, 19, 20, 21, 22, 23, 24, 25])"
      ]
     },
     "execution_count": 435,
     "metadata": {},
     "output_type": "execute_result"
    }
   ],
   "source": [
    "arr"
   ]
  },
  {
   "cell_type": "code",
   "execution_count": 437,
   "id": "8f2b7236-fd0e-444d-9098-3717e36c1e7b",
   "metadata": {},
   "outputs": [],
   "source": [
    "arr = arr[(arr != 16) & (arr != 22)]\n"
   ]
  },
  {
   "cell_type": "code",
   "execution_count": 439,
   "id": "8dbd9e5c-d2a7-489f-ab27-16f9f0eb1a73",
   "metadata": {},
   "outputs": [
    {
     "data": {
      "text/plain": [
       "array([12, 13, 14, 15, 17, 18, 19, 20, 21, 23, 24, 25])"
      ]
     },
     "execution_count": 439,
     "metadata": {},
     "output_type": "execute_result"
    }
   ],
   "source": [
    "arr"
   ]
  },
  {
   "cell_type": "code",
   "execution_count": 443,
   "id": "d125ab63-15bc-4868-a1a0-395a1ce2828d",
   "metadata": {},
   "outputs": [
    {
     "data": {
      "text/plain": [
       "array([[12, 13, 14],\n",
       "       [15, 17, 18],\n",
       "       [19, 20, 21],\n",
       "       [23, 24, 25]])"
      ]
     },
     "execution_count": 443,
     "metadata": {},
     "output_type": "execute_result"
    }
   ],
   "source": [
    "arr.reshape(4,3)"
   ]
  },
  {
   "cell_type": "code",
   "execution_count": 457,
   "id": "b2973024-9798-4290-8a69-bbf975d758cd",
   "metadata": {},
   "outputs": [
    {
     "data": {
      "text/plain": [
       "20"
      ]
     },
     "execution_count": 457,
     "metadata": {},
     "output_type": "execute_result"
    }
   ],
   "source": [
    "mat[3,4]"
   ]
  },
  {
   "cell_type": "markdown",
   "id": "6d2f2c7c-43f3-4984-8fea-5f6bff9306b8",
   "metadata": {},
   "source": [
    "array([[ 2],   \n",
    "       [ 7],   \n",
    "       [12]])\n"
   ]
  },
  {
   "cell_type": "code",
   "execution_count": 476,
   "id": "f547b95f-c4a1-41b4-870b-04080ae0f66b",
   "metadata": {},
   "outputs": [
    {
     "data": {
      "text/plain": [
       "array([[ 2],\n",
       "       [ 7],\n",
       "       [12]])"
      ]
     },
     "execution_count": 476,
     "metadata": {},
     "output_type": "execute_result"
    }
   ],
   "source": [
    "mat[:3,1:2]"
   ]
  },
  {
   "cell_type": "markdown",
   "id": "b7ef430d-9479-446a-8212-b1114be86e14",
   "metadata": {},
   "source": [
    "array([21, 22, 23, 24, 25)\n"
   ]
  },
  {
   "cell_type": "code",
   "execution_count": 479,
   "id": "b8499dc1-4378-4d9a-9a85-5885a4c123d9",
   "metadata": {},
   "outputs": [
    {
     "data": {
      "text/plain": [
       "array([21, 22, 23, 24, 25])"
      ]
     },
     "execution_count": 479,
     "metadata": {},
     "output_type": "execute_result"
    }
   ],
   "source": [
    "mat[4,:]"
   ]
  },
  {
   "cell_type": "markdown",
   "id": "2b527409-c13b-4bc6-9446-faea7d4a7185",
   "metadata": {},
   "source": [
    "array([[16, 17, 18, 19, 20],      \n",
    "       [21, 22, 23, 24, 25]])"
   ]
  },
  {
   "cell_type": "code",
   "execution_count": null,
   "id": "18b6cf64-2956-43d3-9ba6-37a041ac4d1b",
   "metadata": {},
   "outputs": [],
   "source": [
    "mat[]"
   ]
  }
 ],
 "metadata": {
  "kernelspec": {
   "display_name": "Python 3 (ipykernel)",
   "language": "python",
   "name": "python3"
  },
  "language_info": {
   "codemirror_mode": {
    "name": "ipython",
    "version": 3
   },
   "file_extension": ".py",
   "mimetype": "text/x-python",
   "name": "python",
   "nbconvert_exporter": "python",
   "pygments_lexer": "ipython3",
   "version": "3.12.7"
  }
 },
 "nbformat": 4,
 "nbformat_minor": 5
}
