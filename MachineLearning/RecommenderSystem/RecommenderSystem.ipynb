{
 "cells": [
  {
   "cell_type": "markdown",
   "id": "af9befa5-3c9e-4a29-970d-5f059a200046",
   "metadata": {},
   "source": [
    "# Recommender System\n",
    "Comprehensive and fully implemented recommendation systems are highly intricate and require significant resources.\n",
    "\n",
    "\n",
    "The dataset you are working with is the **MovieLens dataset** (`u.data`), which is commonly used for building and testing recommendation systems.\n",
    "\n",
    "### **Dataset Description:**\n",
    "The dataset contains movie rating information from multiple users. Each row represents a single user’s rating of a specific movie, along with a timestamp indicating when the rating was given.\n",
    "\n",
    "The data is typically used for tasks such as:\n",
    "- Collaborative filtering\n",
    "- Recommendation system development\n",
    "- Exploring user preferences and behavior\n",
    "\n",
    "---\n",
    "\n",
    "### **Columns Explanation:**\n",
    "1. **`user_id`**:  \n",
    "   - **Description**: A unique identifier for each user in the dataset.  \n",
    "   - **Example**: `0`, `1`, `2`  \n",
    "   - **Purpose**: Allows us to track which user rated a particular movie.\n",
    "\n",
    "2. **`item_id`**:  \n",
    "   - **Description**: A unique identifier for each movie (or item) in the dataset.  \n",
    "   - **Example**: `50`, `133`, `31`  \n",
    "   - **Purpose**: Refers to the specific movie being rated by the user. These IDs can be mapped to actual movie titles if you have an additional dataset with item details (e.g., `u.item`).\n",
    "\n",
    "3. **`rating`**:  \n",
    "   - **Description**: The rating given by the user for the specific movie.  \n",
    "   - **Range**: Typically ranges from `1` (worst) to `5` (best).  \n",
    "   - **Example**: `5`, `4`, `1`  \n",
    "   - **Purpose**: Indicates the user’s level of preference or opinion about the movie.\n",
    "\n",
    "4. **`timestamp`**:  \n",
    "   - **Description**: The UNIX timestamp (seconds since January 1, 1970) when the rating was given.  \n",
    "   - **Example**: `881250949`  \n",
    "   - **Purpose**: Helps track when the rating was provided, which can be useful for time-based analysis or trends.  \n",
    "\n",
    "\n",
    "---\n",
    "\n",
    "### **Use Cases of the Dataset:**\n",
    "1. **Recommendation Systems**:\n",
    "   - Train collaborative filtering or content-based filtering models.\n",
    "   - Understand user preferences based on their ratings.\n",
    "   \n",
    "2. **Exploratory Data Analysis**:\n",
    "   - Analyze rating distributions.\n",
    "   - Explore the most rated or highest-rated movies.\n",
    "\n",
    "3. **Time-Based Analysis**:\n",
    "   - Study trends over time using the `timestamp` column.\n",
    "   - Analyze how user behavior changes over the years.\n",
    "\n",
    "---"
   ]
  },
  {
   "cell_type": "code",
   "execution_count": 2,
   "id": "88e460a9-08e2-4e07-b4d0-e048358e9f90",
   "metadata": {},
   "outputs": [],
   "source": [
    "import numpy as np\n",
    "import pandas as pd"
   ]
  },
  {
   "cell_type": "code",
   "execution_count": 34,
   "id": "edddc32f-efc2-4469-824f-2ca1cfac6370",
   "metadata": {},
   "outputs": [],
   "source": [
    "# df=pd.read_csv('u.data',sep=\"\\t\", header=None)\n",
    "# df=pd.read_csv('u.data',sep=\"\\t\", names=['col1','col2','col3','col4'])\n",
    "# \\t: tab separater item\n",
    "df=pd.read_csv('u.data',sep=\"\\t\", names=['user_id', 'item_id', 'rating', 'timestamp'])\n"
   ]
  },
  {
   "cell_type": "code",
   "execution_count": 36,
   "id": "7c827391-a041-4f7d-ae70-0ab001087664",
   "metadata": {},
   "outputs": [
    {
     "data": {
      "text/html": [
       "<div>\n",
       "<style scoped>\n",
       "    .dataframe tbody tr th:only-of-type {\n",
       "        vertical-align: middle;\n",
       "    }\n",
       "\n",
       "    .dataframe tbody tr th {\n",
       "        vertical-align: top;\n",
       "    }\n",
       "\n",
       "    .dataframe thead th {\n",
       "        text-align: right;\n",
       "    }\n",
       "</style>\n",
       "<table border=\"1\" class=\"dataframe\">\n",
       "  <thead>\n",
       "    <tr style=\"text-align: right;\">\n",
       "      <th></th>\n",
       "      <th>user_id</th>\n",
       "      <th>item_id</th>\n",
       "      <th>rating</th>\n",
       "      <th>timestamp</th>\n",
       "    </tr>\n",
       "  </thead>\n",
       "  <tbody>\n",
       "    <tr>\n",
       "      <th>0</th>\n",
       "      <td>0</td>\n",
       "      <td>50</td>\n",
       "      <td>5</td>\n",
       "      <td>881250949</td>\n",
       "    </tr>\n",
       "    <tr>\n",
       "      <th>1</th>\n",
       "      <td>0</td>\n",
       "      <td>172</td>\n",
       "      <td>5</td>\n",
       "      <td>881250949</td>\n",
       "    </tr>\n",
       "    <tr>\n",
       "      <th>2</th>\n",
       "      <td>0</td>\n",
       "      <td>133</td>\n",
       "      <td>1</td>\n",
       "      <td>881250949</td>\n",
       "    </tr>\n",
       "    <tr>\n",
       "      <th>3</th>\n",
       "      <td>196</td>\n",
       "      <td>242</td>\n",
       "      <td>3</td>\n",
       "      <td>881250949</td>\n",
       "    </tr>\n",
       "    <tr>\n",
       "      <th>4</th>\n",
       "      <td>186</td>\n",
       "      <td>302</td>\n",
       "      <td>3</td>\n",
       "      <td>891717742</td>\n",
       "    </tr>\n",
       "  </tbody>\n",
       "</table>\n",
       "</div>"
      ],
      "text/plain": [
       "   user_id  item_id  rating  timestamp\n",
       "0        0       50       5  881250949\n",
       "1        0      172       5  881250949\n",
       "2        0      133       1  881250949\n",
       "3      196      242       3  881250949\n",
       "4      186      302       3  891717742"
      ]
     },
     "execution_count": 36,
     "metadata": {},
     "output_type": "execute_result"
    }
   ],
   "source": [
    "df.head()"
   ]
  },
  {
   "cell_type": "code",
   "execution_count": 38,
   "id": "c673f9ec-fa49-4422-b04c-e130051c41c5",
   "metadata": {},
   "outputs": [
    {
     "name": "stdout",
     "output_type": "stream",
     "text": [
      "Index(['user_id', 'item_id', 'rating', 'timestamp'], dtype='object')\n"
     ]
    }
   ],
   "source": []
  },
  {
   "cell_type": "markdown",
   "id": "ae38d48e-7ed2-4e2e-b9d4-864a40eebc3c",
   "metadata": {},
   "source": [
    "### Dataset Analysis"
   ]
  }
 ],
 "metadata": {
  "kernelspec": {
   "display_name": "Python 3 (ipykernel)",
   "language": "python",
   "name": "python3"
  },
  "language_info": {
   "codemirror_mode": {
    "name": "ipython",
    "version": 3
   },
   "file_extension": ".py",
   "mimetype": "text/x-python",
   "name": "python",
   "nbconvert_exporter": "python",
   "pygments_lexer": "ipython3",
   "version": "3.12.7"
  }
 },
 "nbformat": 4,
 "nbformat_minor": 5
}
