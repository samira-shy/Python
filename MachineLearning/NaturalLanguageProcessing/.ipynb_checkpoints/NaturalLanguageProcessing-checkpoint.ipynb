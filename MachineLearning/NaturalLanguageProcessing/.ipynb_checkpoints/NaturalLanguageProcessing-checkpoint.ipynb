{
 "cells": [
  {
   "cell_type": "markdown",
   "id": "2110d473-79b7-43eb-814b-fa1c5bf4b9f3",
   "metadata": {},
   "source": [
    "# Natural Language Processing\n",
    "\n",
    "### Understanding TF-IDF (Term Frequency-Inverse Document Frequency)\n",
    "\n",
    "TF-IDF is a statistical measure used in Natural Language Processing (NLP) to determine the importance of a word (term) in a document relative to a collection of documents (corpus). It helps identify words that are important for distinguishing one document from others.\n",
    "\n",
    "#### Formula:\n",
    "The TF-IDF score for a term \\(x\\) in a document \\(y\\) is calculated as:\n",
    "\n",
    "\\[\n",
    "W_{x,y} = TF_{x,y} \\cdot \\log\\left(\\frac{N}{DF_x}\\right)\n",
    "\\]\n",
    "\n",
    "Where:\n",
    "- \\(W_{x,y}\\): TF-IDF score of term \\(x\\) in document \\(y\\)\n",
    "- \\(TF_{x,y}\\): **Term Frequency** — how often the term \\(x\\) appears in document \\(y\\)\n",
    "- \\(N\\): Total number of documents in the corpus\n",
    "- \\(DF_x\\): **Document Frequency** — the number of documents containing the term \\(x\\)\n",
    "\n",
    "---\n",
    "\n",
    "#### Components:\n",
    "1. **Term Frequency (TF):**\n",
    "   Measures the frequency of the term in the document:\n",
    "   \\[\n",
    "   TF_{x,y} = \\frac{\\text{Frequency of } x \\text{ in } y}{\\text{Total terms in document } y}\n",
    "   \\]\n",
    "\n",
    "2. **Inverse Document Frequency (IDF):**\n",
    "   Penalizes common terms that appear across many documents. Rarer terms are given higher weight:\n",
    "   \\[\n",
    "   IDF_x = \\log\\left(\\frac{N}{DF_x}\\right)\n",
    "   \\]\n",
    "\n",
    "---\n",
    "\n",
    "#### Why This Formula Works:\n",
    "1. **TF measures local importance**:\n",
    "   Words that occur frequently in a document are likely important for that specific document.\n",
    "\n",
    "2. **IDF measures global importance**:\n",
    "   Common words (e.g., \"the\", \"is\", \"and\") appear in many documents and are less useful for distinguishing between them. IDF reduces their importance.\n",
    "\n",
    "3. **Combining TF and IDF**:\n",
    "   Multiplying \\(TF\\) and \\(IDF\\) ensures that a word is considered important only if it is frequent in a specific document and rare across the entire corpus.\n",
    "\n",
    "---\n",
    "\n",
    "#### Intuitive Example:\n",
    "Consider two words in a corpus of movie reviews: **\"great\"** and **\"movie\"**.\n",
    "- \"great\" appears frequently in a few specific reviews → **high TF, high IDF → important**.\n",
    "- \"movie\" appears in almost all reviews → **high TF, low IDF → less important**.\n",
    "\n",
    "TF-IDF ensures that \"great\" is assigned a higher weight because it is unique to certain documents, while \"movie\" gets a lower weight because it is common to all documents.\n",
    "\n",
    "---\n",
    "\n",
    "TF-IDF is widely used in:\n",
    "- Keyword extraction\n",
    "- Text classification\n",
    "- Document similarity\n",
    "- Information retrieval\n"
   ]
  },
  {
   "cell_type": "code",
   "execution_count": 2,
   "id": "7e9ad3de-e9ca-436b-a57c-a4b949d57a37",
   "metadata": {},
   "outputs": [],
   "source": [
    "import numpy as np\n",
    "import pandas as pd"
   ]
  },
  {
   "cell_type": "code",
   "execution_count": null,
   "id": "8a2c7a24-286d-41ff-9d8a-06df3deedc4e",
   "metadata": {},
   "outputs": [],
   "source": []
  }
 ],
 "metadata": {
  "kernelspec": {
   "display_name": "Python 3 (ipykernel)",
   "language": "python",
   "name": "python3"
  },
  "language_info": {
   "codemirror_mode": {
    "name": "ipython",
    "version": 3
   },
   "file_extension": ".py",
   "mimetype": "text/x-python",
   "name": "python",
   "nbconvert_exporter": "python",
   "pygments_lexer": "ipython3",
   "version": "3.12.7"
  }
 },
 "nbformat": 4,
 "nbformat_minor": 5
}
